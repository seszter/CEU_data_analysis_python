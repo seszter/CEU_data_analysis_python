{
 "cells": [
  {
   "cell_type": "code",
   "execution_count": 1,
   "metadata": {
    "collapsed": true
   },
   "outputs": [],
   "source": [
    "import pandas as pd\n",
    "import numpy as np\n",
    "import matplotlib.pyplot as plt\n",
    "%matplotlib inline"
   ]
  },
  {
   "cell_type": "markdown",
   "metadata": {},
   "source": [
    "#### Loading dictinary from file"
   ]
  },
  {
   "cell_type": "code",
   "execution_count": 56,
   "metadata": {
    "collapsed": true
   },
   "outputs": [],
   "source": [
    "uni_dict = np.load('example_dict.npy').item()"
   ]
  },
  {
   "cell_type": "code",
   "execution_count": 57,
   "metadata": {},
   "outputs": [
    {
     "data": {
      "text/plain": [
       "{'Boston': ['Northeastern University', 'Boston University'],\n",
       " 'London': ['UCL',\n",
       "  'Kings College',\n",
       "  'Queen Mary University',\n",
       "  'Royal Holloway University'],\n",
       " 'Oxford': ['Oxford University']}"
      ]
     },
     "execution_count": 57,
     "metadata": {},
     "output_type": "execute_result"
    }
   ],
   "source": [
    "uni_dict"
   ]
  },
  {
   "cell_type": "code",
   "execution_count": 4,
   "metadata": {},
   "outputs": [
    {
     "data": {
      "text/plain": [
       "dict_keys(['Boston', 'London', 'Oxford'])"
      ]
     },
     "execution_count": 4,
     "metadata": {},
     "output_type": "execute_result"
    }
   ],
   "source": [
    "uni_dict.keys()"
   ]
  },
  {
   "cell_type": "markdown",
   "metadata": {},
   "source": [
    "#### dictionary to dataframe"
   ]
  },
  {
   "cell_type": "code",
   "execution_count": 5,
   "metadata": {},
   "outputs": [
    {
     "name": "stdout",
     "output_type": "stream",
     "text": [
      "key Boston\n",
      "value ['Northeastern University', 'Boston University']\n",
      "this will be a row:  ['Boston', 'Northeastern University']\n",
      "this will be a row:  ['Boston', 'Boston University']\n",
      "key London\n",
      "value ['UCL', 'Kings College', 'Queen Mary University', 'Royal Holloway University']\n",
      "this will be a row:  ['London', 'UCL']\n",
      "this will be a row:  ['London', 'Kings College']\n",
      "this will be a row:  ['London', 'Queen Mary University']\n",
      "this will be a row:  ['London', 'Royal Holloway University']\n",
      "key Oxford\n",
      "value ['Oxford University']\n",
      "this will be a row:  ['Oxford', 'Oxford University']\n"
     ]
    }
   ],
   "source": [
    "df_rows = []\n",
    "for k,v in uni_dict.items():\n",
    "    print('key', k)\n",
    "    print('value',v)\n",
    "    for vv in v:\n",
    "        print('this will be a row: ',[k,vv])\n",
    "        df_rows.append([k,vv])"
   ]
  },
  {
   "cell_type": "code",
   "execution_count": 6,
   "metadata": {},
   "outputs": [
    {
     "data": {
      "text/plain": [
       "[['Boston', 'Northeastern University'],\n",
       " ['Boston', 'Boston University'],\n",
       " ['London', 'UCL'],\n",
       " ['London', 'Kings College'],\n",
       " ['London', 'Queen Mary University'],\n",
       " ['London', 'Royal Holloway University'],\n",
       " ['Oxford', 'Oxford University']]"
      ]
     },
     "execution_count": 6,
     "metadata": {},
     "output_type": "execute_result"
    }
   ],
   "source": [
    "df_rows"
   ]
  },
  {
   "cell_type": "code",
   "execution_count": 7,
   "metadata": {
    "collapsed": true
   },
   "outputs": [],
   "source": [
    "uni_df = pd.DataFrame(df_rows, columns=['city','university'])"
   ]
  },
  {
   "cell_type": "code",
   "execution_count": 8,
   "metadata": {},
   "outputs": [
    {
     "data": {
      "text/html": [
       "<div>\n",
       "<style>\n",
       "    .dataframe thead tr:only-child th {\n",
       "        text-align: right;\n",
       "    }\n",
       "\n",
       "    .dataframe thead th {\n",
       "        text-align: left;\n",
       "    }\n",
       "\n",
       "    .dataframe tbody tr th {\n",
       "        vertical-align: top;\n",
       "    }\n",
       "</style>\n",
       "<table border=\"1\" class=\"dataframe\">\n",
       "  <thead>\n",
       "    <tr style=\"text-align: right;\">\n",
       "      <th></th>\n",
       "      <th>city</th>\n",
       "      <th>university</th>\n",
       "    </tr>\n",
       "  </thead>\n",
       "  <tbody>\n",
       "    <tr>\n",
       "      <th>0</th>\n",
       "      <td>Boston</td>\n",
       "      <td>Northeastern University</td>\n",
       "    </tr>\n",
       "    <tr>\n",
       "      <th>1</th>\n",
       "      <td>Boston</td>\n",
       "      <td>Boston University</td>\n",
       "    </tr>\n",
       "    <tr>\n",
       "      <th>2</th>\n",
       "      <td>London</td>\n",
       "      <td>UCL</td>\n",
       "    </tr>\n",
       "    <tr>\n",
       "      <th>3</th>\n",
       "      <td>London</td>\n",
       "      <td>Kings College</td>\n",
       "    </tr>\n",
       "    <tr>\n",
       "      <th>4</th>\n",
       "      <td>London</td>\n",
       "      <td>Queen Mary University</td>\n",
       "    </tr>\n",
       "    <tr>\n",
       "      <th>5</th>\n",
       "      <td>London</td>\n",
       "      <td>Royal Holloway University</td>\n",
       "    </tr>\n",
       "    <tr>\n",
       "      <th>6</th>\n",
       "      <td>Oxford</td>\n",
       "      <td>Oxford University</td>\n",
       "    </tr>\n",
       "  </tbody>\n",
       "</table>\n",
       "</div>"
      ],
      "text/plain": [
       "     city                 university\n",
       "0  Boston    Northeastern University\n",
       "1  Boston          Boston University\n",
       "2  London                        UCL\n",
       "3  London              Kings College\n",
       "4  London      Queen Mary University\n",
       "5  London  Royal Holloway University\n",
       "6  Oxford          Oxford University"
      ]
     },
     "execution_count": 8,
     "metadata": {},
     "output_type": "execute_result"
    }
   ],
   "source": [
    "uni_df"
   ]
  },
  {
   "cell_type": "markdown",
   "metadata": {},
   "source": [
    "#### apply function to column"
   ]
  },
  {
   "cell_type": "code",
   "execution_count": 9,
   "metadata": {},
   "outputs": [
    {
     "data": {
      "text/plain": [
       "'Northeastern University'"
      ]
     },
     "execution_count": 9,
     "metadata": {},
     "output_type": "execute_result"
    }
   ],
   "source": [
    "x = uni_df['university'].iloc[0]\n",
    "x"
   ]
  },
  {
   "cell_type": "code",
   "execution_count": 10,
   "metadata": {},
   "outputs": [
    {
     "data": {
      "text/plain": [
       "'Northeastern'"
      ]
     },
     "execution_count": 10,
     "metadata": {},
     "output_type": "execute_result"
    }
   ],
   "source": [
    "x.split(' ')[0]"
   ]
  },
  {
   "cell_type": "code",
   "execution_count": 11,
   "metadata": {},
   "outputs": [
    {
     "data": {
      "text/plain": [
       "0    Northeastern\n",
       "1          Boston\n",
       "2             UCL\n",
       "3           Kings\n",
       "4           Queen\n",
       "5           Royal\n",
       "6          Oxford\n",
       "Name: university, dtype: object"
      ]
     },
     "execution_count": 11,
     "metadata": {},
     "output_type": "execute_result"
    }
   ],
   "source": [
    "uni_df['university'].apply(lambda x: x.split(' ')[0])"
   ]
  },
  {
   "cell_type": "code",
   "execution_count": 12,
   "metadata": {},
   "outputs": [
    {
     "data": {
      "text/plain": [
       "'Royal Holloway University'"
      ]
     },
     "execution_count": 12,
     "metadata": {},
     "output_type": "execute_result"
    }
   ],
   "source": [
    "x = uni_df['university'].iloc[5]\n",
    "x"
   ]
  },
  {
   "cell_type": "code",
   "execution_count": 13,
   "metadata": {},
   "outputs": [
    {
     "data": {
      "text/plain": [
       "'Royal Holloway'"
      ]
     },
     "execution_count": 13,
     "metadata": {},
     "output_type": "execute_result"
    }
   ],
   "source": [
    "x.replace(' University','')"
   ]
  },
  {
   "cell_type": "code",
   "execution_count": 14,
   "metadata": {},
   "outputs": [
    {
     "data": {
      "text/plain": [
       "0      Northeastern\n",
       "1            Boston\n",
       "2               UCL\n",
       "3     Kings College\n",
       "4        Queen Mary\n",
       "5    Royal Holloway\n",
       "6            Oxford\n",
       "Name: university, dtype: object"
      ]
     },
     "execution_count": 14,
     "metadata": {},
     "output_type": "execute_result"
    }
   ],
   "source": [
    "uni_df['university'].apply(lambda x: x.replace(' University',''))"
   ]
  },
  {
   "cell_type": "code",
   "execution_count": 15,
   "metadata": {},
   "outputs": [
    {
     "data": {
      "text/html": [
       "<div>\n",
       "<style>\n",
       "    .dataframe thead tr:only-child th {\n",
       "        text-align: right;\n",
       "    }\n",
       "\n",
       "    .dataframe thead th {\n",
       "        text-align: left;\n",
       "    }\n",
       "\n",
       "    .dataframe tbody tr th {\n",
       "        vertical-align: top;\n",
       "    }\n",
       "</style>\n",
       "<table border=\"1\" class=\"dataframe\">\n",
       "  <thead>\n",
       "    <tr style=\"text-align: right;\">\n",
       "      <th></th>\n",
       "      <th>city</th>\n",
       "      <th>university</th>\n",
       "      <th>univeristy_name</th>\n",
       "    </tr>\n",
       "  </thead>\n",
       "  <tbody>\n",
       "    <tr>\n",
       "      <th>0</th>\n",
       "      <td>Boston</td>\n",
       "      <td>Northeastern University</td>\n",
       "      <td>Northeastern</td>\n",
       "    </tr>\n",
       "    <tr>\n",
       "      <th>1</th>\n",
       "      <td>Boston</td>\n",
       "      <td>Boston University</td>\n",
       "      <td>Boston</td>\n",
       "    </tr>\n",
       "    <tr>\n",
       "      <th>2</th>\n",
       "      <td>London</td>\n",
       "      <td>UCL</td>\n",
       "      <td>UCL</td>\n",
       "    </tr>\n",
       "    <tr>\n",
       "      <th>3</th>\n",
       "      <td>London</td>\n",
       "      <td>Kings College</td>\n",
       "      <td>Kings College</td>\n",
       "    </tr>\n",
       "    <tr>\n",
       "      <th>4</th>\n",
       "      <td>London</td>\n",
       "      <td>Queen Mary University</td>\n",
       "      <td>Queen Mary</td>\n",
       "    </tr>\n",
       "    <tr>\n",
       "      <th>5</th>\n",
       "      <td>London</td>\n",
       "      <td>Royal Holloway University</td>\n",
       "      <td>Royal Holloway</td>\n",
       "    </tr>\n",
       "    <tr>\n",
       "      <th>6</th>\n",
       "      <td>Oxford</td>\n",
       "      <td>Oxford University</td>\n",
       "      <td>Oxford</td>\n",
       "    </tr>\n",
       "  </tbody>\n",
       "</table>\n",
       "</div>"
      ],
      "text/plain": [
       "     city                 university univeristy_name\n",
       "0  Boston    Northeastern University    Northeastern\n",
       "1  Boston          Boston University          Boston\n",
       "2  London                        UCL             UCL\n",
       "3  London              Kings College   Kings College\n",
       "4  London      Queen Mary University      Queen Mary\n",
       "5  London  Royal Holloway University  Royal Holloway\n",
       "6  Oxford          Oxford University          Oxford"
      ]
     },
     "execution_count": 15,
     "metadata": {},
     "output_type": "execute_result"
    }
   ],
   "source": [
    "uni_df['univeristy_name'] = uni_df['university'].apply(lambda x: x.replace(' University',''))\n",
    "uni_df"
   ]
  },
  {
   "cell_type": "markdown",
   "metadata": {},
   "source": [
    "#### apply function to multiple columns"
   ]
  },
  {
   "cell_type": "code",
   "execution_count": 19,
   "metadata": {},
   "outputs": [
    {
     "data": {
      "text/plain": [
       "0      Boston_Northeastern University\n",
       "1            Boston_Boston University\n",
       "2                          London_UCL\n",
       "3                London_Kings College\n",
       "4        London_Queen Mary University\n",
       "5    London_Royal Holloway University\n",
       "6            Oxford_Oxford University\n",
       "dtype: object"
      ]
     },
     "execution_count": 19,
     "metadata": {},
     "output_type": "execute_result"
    }
   ],
   "source": [
    "uni_df.apply(lambda x: x.city + '_' + x.university, axis=1)"
   ]
  },
  {
   "cell_type": "code",
   "execution_count": 17,
   "metadata": {},
   "outputs": [
    {
     "data": {
      "text/html": [
       "<div>\n",
       "<style>\n",
       "    .dataframe thead tr:only-child th {\n",
       "        text-align: right;\n",
       "    }\n",
       "\n",
       "    .dataframe thead th {\n",
       "        text-align: left;\n",
       "    }\n",
       "\n",
       "    .dataframe tbody tr th {\n",
       "        vertical-align: top;\n",
       "    }\n",
       "</style>\n",
       "<table border=\"1\" class=\"dataframe\">\n",
       "  <thead>\n",
       "    <tr style=\"text-align: right;\">\n",
       "      <th></th>\n",
       "      <th>city</th>\n",
       "      <th>university</th>\n",
       "      <th>univeristy_name</th>\n",
       "      <th>city_plus_uni</th>\n",
       "    </tr>\n",
       "  </thead>\n",
       "  <tbody>\n",
       "    <tr>\n",
       "      <th>0</th>\n",
       "      <td>Boston</td>\n",
       "      <td>Northeastern University</td>\n",
       "      <td>Northeastern</td>\n",
       "      <td>Boston_Northeastern University</td>\n",
       "    </tr>\n",
       "    <tr>\n",
       "      <th>1</th>\n",
       "      <td>Boston</td>\n",
       "      <td>Boston University</td>\n",
       "      <td>Boston</td>\n",
       "      <td>Boston_Boston University</td>\n",
       "    </tr>\n",
       "    <tr>\n",
       "      <th>2</th>\n",
       "      <td>London</td>\n",
       "      <td>UCL</td>\n",
       "      <td>UCL</td>\n",
       "      <td>London_UCL</td>\n",
       "    </tr>\n",
       "    <tr>\n",
       "      <th>3</th>\n",
       "      <td>London</td>\n",
       "      <td>Kings College</td>\n",
       "      <td>Kings College</td>\n",
       "      <td>London_Kings College</td>\n",
       "    </tr>\n",
       "    <tr>\n",
       "      <th>4</th>\n",
       "      <td>London</td>\n",
       "      <td>Queen Mary University</td>\n",
       "      <td>Queen Mary</td>\n",
       "      <td>London_Queen Mary University</td>\n",
       "    </tr>\n",
       "    <tr>\n",
       "      <th>5</th>\n",
       "      <td>London</td>\n",
       "      <td>Royal Holloway University</td>\n",
       "      <td>Royal Holloway</td>\n",
       "      <td>London_Royal Holloway University</td>\n",
       "    </tr>\n",
       "    <tr>\n",
       "      <th>6</th>\n",
       "      <td>Oxford</td>\n",
       "      <td>Oxford University</td>\n",
       "      <td>Oxford</td>\n",
       "      <td>Oxford_Oxford University</td>\n",
       "    </tr>\n",
       "  </tbody>\n",
       "</table>\n",
       "</div>"
      ],
      "text/plain": [
       "     city                 university univeristy_name  \\\n",
       "0  Boston    Northeastern University    Northeastern   \n",
       "1  Boston          Boston University          Boston   \n",
       "2  London                        UCL             UCL   \n",
       "3  London              Kings College   Kings College   \n",
       "4  London      Queen Mary University      Queen Mary   \n",
       "5  London  Royal Holloway University  Royal Holloway   \n",
       "6  Oxford          Oxford University          Oxford   \n",
       "\n",
       "                      city_plus_uni  \n",
       "0    Boston_Northeastern University  \n",
       "1          Boston_Boston University  \n",
       "2                        London_UCL  \n",
       "3              London_Kings College  \n",
       "4      London_Queen Mary University  \n",
       "5  London_Royal Holloway University  \n",
       "6          Oxford_Oxford University  "
      ]
     },
     "execution_count": 17,
     "metadata": {},
     "output_type": "execute_result"
    }
   ],
   "source": [
    "uni_df['city_plus_uni'] = uni_df.apply(lambda x: x.city + '_' + x.university, axis=1)\n",
    "uni_df"
   ]
  },
  {
   "cell_type": "markdown",
   "metadata": {},
   "source": [
    "#### merging \n"
   ]
  },
  {
   "cell_type": "code",
   "execution_count": 20,
   "metadata": {
    "collapsed": true
   },
   "outputs": [],
   "source": [
    "df_x = uni_df[['city', 'university']].copy()\n",
    "df_y = pd.DataFrame({'city':['London', 'Boston','New York'],\n",
    "                    'country':['UK','USA','USA']})"
   ]
  },
  {
   "cell_type": "code",
   "execution_count": 21,
   "metadata": {},
   "outputs": [
    {
     "data": {
      "text/html": [
       "<div>\n",
       "<style>\n",
       "    .dataframe thead tr:only-child th {\n",
       "        text-align: right;\n",
       "    }\n",
       "\n",
       "    .dataframe thead th {\n",
       "        text-align: left;\n",
       "    }\n",
       "\n",
       "    .dataframe tbody tr th {\n",
       "        vertical-align: top;\n",
       "    }\n",
       "</style>\n",
       "<table border=\"1\" class=\"dataframe\">\n",
       "  <thead>\n",
       "    <tr style=\"text-align: right;\">\n",
       "      <th></th>\n",
       "      <th>city</th>\n",
       "      <th>university</th>\n",
       "    </tr>\n",
       "  </thead>\n",
       "  <tbody>\n",
       "    <tr>\n",
       "      <th>0</th>\n",
       "      <td>Boston</td>\n",
       "      <td>Northeastern University</td>\n",
       "    </tr>\n",
       "    <tr>\n",
       "      <th>1</th>\n",
       "      <td>Boston</td>\n",
       "      <td>Boston University</td>\n",
       "    </tr>\n",
       "    <tr>\n",
       "      <th>2</th>\n",
       "      <td>London</td>\n",
       "      <td>UCL</td>\n",
       "    </tr>\n",
       "    <tr>\n",
       "      <th>3</th>\n",
       "      <td>London</td>\n",
       "      <td>Kings College</td>\n",
       "    </tr>\n",
       "    <tr>\n",
       "      <th>4</th>\n",
       "      <td>London</td>\n",
       "      <td>Queen Mary University</td>\n",
       "    </tr>\n",
       "    <tr>\n",
       "      <th>5</th>\n",
       "      <td>London</td>\n",
       "      <td>Royal Holloway University</td>\n",
       "    </tr>\n",
       "    <tr>\n",
       "      <th>6</th>\n",
       "      <td>Oxford</td>\n",
       "      <td>Oxford University</td>\n",
       "    </tr>\n",
       "  </tbody>\n",
       "</table>\n",
       "</div>"
      ],
      "text/plain": [
       "     city                 university\n",
       "0  Boston    Northeastern University\n",
       "1  Boston          Boston University\n",
       "2  London                        UCL\n",
       "3  London              Kings College\n",
       "4  London      Queen Mary University\n",
       "5  London  Royal Holloway University\n",
       "6  Oxford          Oxford University"
      ]
     },
     "execution_count": 21,
     "metadata": {},
     "output_type": "execute_result"
    }
   ],
   "source": [
    "df_x"
   ]
  },
  {
   "cell_type": "code",
   "execution_count": 22,
   "metadata": {},
   "outputs": [
    {
     "data": {
      "text/html": [
       "<div>\n",
       "<style>\n",
       "    .dataframe thead tr:only-child th {\n",
       "        text-align: right;\n",
       "    }\n",
       "\n",
       "    .dataframe thead th {\n",
       "        text-align: left;\n",
       "    }\n",
       "\n",
       "    .dataframe tbody tr th {\n",
       "        vertical-align: top;\n",
       "    }\n",
       "</style>\n",
       "<table border=\"1\" class=\"dataframe\">\n",
       "  <thead>\n",
       "    <tr style=\"text-align: right;\">\n",
       "      <th></th>\n",
       "      <th>city</th>\n",
       "      <th>country</th>\n",
       "    </tr>\n",
       "  </thead>\n",
       "  <tbody>\n",
       "    <tr>\n",
       "      <th>0</th>\n",
       "      <td>London</td>\n",
       "      <td>UK</td>\n",
       "    </tr>\n",
       "    <tr>\n",
       "      <th>1</th>\n",
       "      <td>Boston</td>\n",
       "      <td>USA</td>\n",
       "    </tr>\n",
       "    <tr>\n",
       "      <th>2</th>\n",
       "      <td>New York</td>\n",
       "      <td>USA</td>\n",
       "    </tr>\n",
       "  </tbody>\n",
       "</table>\n",
       "</div>"
      ],
      "text/plain": [
       "       city country\n",
       "0    London      UK\n",
       "1    Boston     USA\n",
       "2  New York     USA"
      ]
     },
     "execution_count": 22,
     "metadata": {},
     "output_type": "execute_result"
    }
   ],
   "source": [
    "df_y"
   ]
  },
  {
   "cell_type": "markdown",
   "metadata": {},
   "source": [
    "<img src=\"join.png\">"
   ]
  },
  {
   "cell_type": "code",
   "execution_count": 23,
   "metadata": {},
   "outputs": [
    {
     "data": {
      "text/html": [
       "<div>\n",
       "<style>\n",
       "    .dataframe thead tr:only-child th {\n",
       "        text-align: right;\n",
       "    }\n",
       "\n",
       "    .dataframe thead th {\n",
       "        text-align: left;\n",
       "    }\n",
       "\n",
       "    .dataframe tbody tr th {\n",
       "        vertical-align: top;\n",
       "    }\n",
       "</style>\n",
       "<table border=\"1\" class=\"dataframe\">\n",
       "  <thead>\n",
       "    <tr style=\"text-align: right;\">\n",
       "      <th></th>\n",
       "      <th>city</th>\n",
       "      <th>university</th>\n",
       "      <th>country</th>\n",
       "    </tr>\n",
       "  </thead>\n",
       "  <tbody>\n",
       "    <tr>\n",
       "      <th>0</th>\n",
       "      <td>Boston</td>\n",
       "      <td>Northeastern University</td>\n",
       "      <td>USA</td>\n",
       "    </tr>\n",
       "    <tr>\n",
       "      <th>1</th>\n",
       "      <td>Boston</td>\n",
       "      <td>Boston University</td>\n",
       "      <td>USA</td>\n",
       "    </tr>\n",
       "    <tr>\n",
       "      <th>2</th>\n",
       "      <td>London</td>\n",
       "      <td>UCL</td>\n",
       "      <td>UK</td>\n",
       "    </tr>\n",
       "    <tr>\n",
       "      <th>3</th>\n",
       "      <td>London</td>\n",
       "      <td>Kings College</td>\n",
       "      <td>UK</td>\n",
       "    </tr>\n",
       "    <tr>\n",
       "      <th>4</th>\n",
       "      <td>London</td>\n",
       "      <td>Queen Mary University</td>\n",
       "      <td>UK</td>\n",
       "    </tr>\n",
       "    <tr>\n",
       "      <th>5</th>\n",
       "      <td>London</td>\n",
       "      <td>Royal Holloway University</td>\n",
       "      <td>UK</td>\n",
       "    </tr>\n",
       "  </tbody>\n",
       "</table>\n",
       "</div>"
      ],
      "text/plain": [
       "     city                 university country\n",
       "0  Boston    Northeastern University     USA\n",
       "1  Boston          Boston University     USA\n",
       "2  London                        UCL      UK\n",
       "3  London              Kings College      UK\n",
       "4  London      Queen Mary University      UK\n",
       "5  London  Royal Holloway University      UK"
      ]
     },
     "execution_count": 23,
     "metadata": {},
     "output_type": "execute_result"
    }
   ],
   "source": [
    "pd.merge(df_x, df_y, how='inner')"
   ]
  },
  {
   "cell_type": "code",
   "execution_count": 24,
   "metadata": {},
   "outputs": [
    {
     "data": {
      "text/html": [
       "<div>\n",
       "<style>\n",
       "    .dataframe thead tr:only-child th {\n",
       "        text-align: right;\n",
       "    }\n",
       "\n",
       "    .dataframe thead th {\n",
       "        text-align: left;\n",
       "    }\n",
       "\n",
       "    .dataframe tbody tr th {\n",
       "        vertical-align: top;\n",
       "    }\n",
       "</style>\n",
       "<table border=\"1\" class=\"dataframe\">\n",
       "  <thead>\n",
       "    <tr style=\"text-align: right;\">\n",
       "      <th></th>\n",
       "      <th>city</th>\n",
       "      <th>university</th>\n",
       "      <th>country</th>\n",
       "    </tr>\n",
       "  </thead>\n",
       "  <tbody>\n",
       "    <tr>\n",
       "      <th>0</th>\n",
       "      <td>Boston</td>\n",
       "      <td>Northeastern University</td>\n",
       "      <td>USA</td>\n",
       "    </tr>\n",
       "    <tr>\n",
       "      <th>1</th>\n",
       "      <td>Boston</td>\n",
       "      <td>Boston University</td>\n",
       "      <td>USA</td>\n",
       "    </tr>\n",
       "    <tr>\n",
       "      <th>2</th>\n",
       "      <td>London</td>\n",
       "      <td>UCL</td>\n",
       "      <td>UK</td>\n",
       "    </tr>\n",
       "    <tr>\n",
       "      <th>3</th>\n",
       "      <td>London</td>\n",
       "      <td>Kings College</td>\n",
       "      <td>UK</td>\n",
       "    </tr>\n",
       "    <tr>\n",
       "      <th>4</th>\n",
       "      <td>London</td>\n",
       "      <td>Queen Mary University</td>\n",
       "      <td>UK</td>\n",
       "    </tr>\n",
       "    <tr>\n",
       "      <th>5</th>\n",
       "      <td>London</td>\n",
       "      <td>Royal Holloway University</td>\n",
       "      <td>UK</td>\n",
       "    </tr>\n",
       "    <tr>\n",
       "      <th>6</th>\n",
       "      <td>Oxford</td>\n",
       "      <td>Oxford University</td>\n",
       "      <td>NaN</td>\n",
       "    </tr>\n",
       "    <tr>\n",
       "      <th>7</th>\n",
       "      <td>New York</td>\n",
       "      <td>NaN</td>\n",
       "      <td>USA</td>\n",
       "    </tr>\n",
       "  </tbody>\n",
       "</table>\n",
       "</div>"
      ],
      "text/plain": [
       "       city                 university country\n",
       "0    Boston    Northeastern University     USA\n",
       "1    Boston          Boston University     USA\n",
       "2    London                        UCL      UK\n",
       "3    London              Kings College      UK\n",
       "4    London      Queen Mary University      UK\n",
       "5    London  Royal Holloway University      UK\n",
       "6    Oxford          Oxford University     NaN\n",
       "7  New York                        NaN     USA"
      ]
     },
     "execution_count": 24,
     "metadata": {},
     "output_type": "execute_result"
    }
   ],
   "source": [
    "pd.merge(df_x, df_y, how='outer')"
   ]
  },
  {
   "cell_type": "code",
   "execution_count": 25,
   "metadata": {},
   "outputs": [
    {
     "data": {
      "text/html": [
       "<div>\n",
       "<style>\n",
       "    .dataframe thead tr:only-child th {\n",
       "        text-align: right;\n",
       "    }\n",
       "\n",
       "    .dataframe thead th {\n",
       "        text-align: left;\n",
       "    }\n",
       "\n",
       "    .dataframe tbody tr th {\n",
       "        vertical-align: top;\n",
       "    }\n",
       "</style>\n",
       "<table border=\"1\" class=\"dataframe\">\n",
       "  <thead>\n",
       "    <tr style=\"text-align: right;\">\n",
       "      <th></th>\n",
       "      <th>city</th>\n",
       "      <th>university</th>\n",
       "      <th>country</th>\n",
       "    </tr>\n",
       "  </thead>\n",
       "  <tbody>\n",
       "    <tr>\n",
       "      <th>0</th>\n",
       "      <td>Boston</td>\n",
       "      <td>Northeastern University</td>\n",
       "      <td>USA</td>\n",
       "    </tr>\n",
       "    <tr>\n",
       "      <th>1</th>\n",
       "      <td>Boston</td>\n",
       "      <td>Boston University</td>\n",
       "      <td>USA</td>\n",
       "    </tr>\n",
       "    <tr>\n",
       "      <th>2</th>\n",
       "      <td>London</td>\n",
       "      <td>UCL</td>\n",
       "      <td>UK</td>\n",
       "    </tr>\n",
       "    <tr>\n",
       "      <th>3</th>\n",
       "      <td>London</td>\n",
       "      <td>Kings College</td>\n",
       "      <td>UK</td>\n",
       "    </tr>\n",
       "    <tr>\n",
       "      <th>4</th>\n",
       "      <td>London</td>\n",
       "      <td>Queen Mary University</td>\n",
       "      <td>UK</td>\n",
       "    </tr>\n",
       "    <tr>\n",
       "      <th>5</th>\n",
       "      <td>London</td>\n",
       "      <td>Royal Holloway University</td>\n",
       "      <td>UK</td>\n",
       "    </tr>\n",
       "    <tr>\n",
       "      <th>6</th>\n",
       "      <td>Oxford</td>\n",
       "      <td>Oxford University</td>\n",
       "      <td>NaN</td>\n",
       "    </tr>\n",
       "  </tbody>\n",
       "</table>\n",
       "</div>"
      ],
      "text/plain": [
       "     city                 university country\n",
       "0  Boston    Northeastern University     USA\n",
       "1  Boston          Boston University     USA\n",
       "2  London                        UCL      UK\n",
       "3  London              Kings College      UK\n",
       "4  London      Queen Mary University      UK\n",
       "5  London  Royal Holloway University      UK\n",
       "6  Oxford          Oxford University     NaN"
      ]
     },
     "execution_count": 25,
     "metadata": {},
     "output_type": "execute_result"
    }
   ],
   "source": [
    "pd.merge(df_x, df_y, how='left')"
   ]
  },
  {
   "cell_type": "code",
   "execution_count": 26,
   "metadata": {},
   "outputs": [
    {
     "data": {
      "text/html": [
       "<div>\n",
       "<style>\n",
       "    .dataframe thead tr:only-child th {\n",
       "        text-align: right;\n",
       "    }\n",
       "\n",
       "    .dataframe thead th {\n",
       "        text-align: left;\n",
       "    }\n",
       "\n",
       "    .dataframe tbody tr th {\n",
       "        vertical-align: top;\n",
       "    }\n",
       "</style>\n",
       "<table border=\"1\" class=\"dataframe\">\n",
       "  <thead>\n",
       "    <tr style=\"text-align: right;\">\n",
       "      <th></th>\n",
       "      <th>city</th>\n",
       "      <th>university</th>\n",
       "      <th>country</th>\n",
       "    </tr>\n",
       "  </thead>\n",
       "  <tbody>\n",
       "    <tr>\n",
       "      <th>0</th>\n",
       "      <td>Boston</td>\n",
       "      <td>Northeastern University</td>\n",
       "      <td>USA</td>\n",
       "    </tr>\n",
       "    <tr>\n",
       "      <th>1</th>\n",
       "      <td>Boston</td>\n",
       "      <td>Boston University</td>\n",
       "      <td>USA</td>\n",
       "    </tr>\n",
       "    <tr>\n",
       "      <th>2</th>\n",
       "      <td>London</td>\n",
       "      <td>UCL</td>\n",
       "      <td>UK</td>\n",
       "    </tr>\n",
       "    <tr>\n",
       "      <th>3</th>\n",
       "      <td>London</td>\n",
       "      <td>Kings College</td>\n",
       "      <td>UK</td>\n",
       "    </tr>\n",
       "    <tr>\n",
       "      <th>4</th>\n",
       "      <td>London</td>\n",
       "      <td>Queen Mary University</td>\n",
       "      <td>UK</td>\n",
       "    </tr>\n",
       "    <tr>\n",
       "      <th>5</th>\n",
       "      <td>London</td>\n",
       "      <td>Royal Holloway University</td>\n",
       "      <td>UK</td>\n",
       "    </tr>\n",
       "    <tr>\n",
       "      <th>6</th>\n",
       "      <td>New York</td>\n",
       "      <td>NaN</td>\n",
       "      <td>USA</td>\n",
       "    </tr>\n",
       "  </tbody>\n",
       "</table>\n",
       "</div>"
      ],
      "text/plain": [
       "       city                 university country\n",
       "0    Boston    Northeastern University     USA\n",
       "1    Boston          Boston University     USA\n",
       "2    London                        UCL      UK\n",
       "3    London              Kings College      UK\n",
       "4    London      Queen Mary University      UK\n",
       "5    London  Royal Holloway University      UK\n",
       "6  New York                        NaN     USA"
      ]
     },
     "execution_count": 26,
     "metadata": {},
     "output_type": "execute_result"
    }
   ],
   "source": [
    "pd.merge(df_x, df_y, how='right')"
   ]
  },
  {
   "cell_type": "code",
   "execution_count": 28,
   "metadata": {},
   "outputs": [
    {
     "data": {
      "text/html": [
       "<div>\n",
       "<style>\n",
       "    .dataframe thead tr:only-child th {\n",
       "        text-align: right;\n",
       "    }\n",
       "\n",
       "    .dataframe thead th {\n",
       "        text-align: left;\n",
       "    }\n",
       "\n",
       "    .dataframe tbody tr th {\n",
       "        vertical-align: top;\n",
       "    }\n",
       "</style>\n",
       "<table border=\"1\" class=\"dataframe\">\n",
       "  <thead>\n",
       "    <tr style=\"text-align: right;\">\n",
       "      <th></th>\n",
       "      <th>city_name</th>\n",
       "      <th>country</th>\n",
       "    </tr>\n",
       "  </thead>\n",
       "  <tbody>\n",
       "    <tr>\n",
       "      <th>0</th>\n",
       "      <td>London</td>\n",
       "      <td>UK</td>\n",
       "    </tr>\n",
       "    <tr>\n",
       "      <th>1</th>\n",
       "      <td>Boston</td>\n",
       "      <td>USA</td>\n",
       "    </tr>\n",
       "    <tr>\n",
       "      <th>2</th>\n",
       "      <td>New York</td>\n",
       "      <td>USA</td>\n",
       "    </tr>\n",
       "  </tbody>\n",
       "</table>\n",
       "</div>"
      ],
      "text/plain": [
       "  city_name country\n",
       "0    London      UK\n",
       "1    Boston     USA\n",
       "2  New York     USA"
      ]
     },
     "execution_count": 28,
     "metadata": {},
     "output_type": "execute_result"
    }
   ],
   "source": [
    "df_y = pd.DataFrame({'city_name':['London', 'Boston','New York'],\n",
    "                    'country':['UK','USA','USA']})\n",
    "df_y"
   ]
  },
  {
   "cell_type": "code",
   "execution_count": 29,
   "metadata": {},
   "outputs": [
    {
     "ename": "MergeError",
     "evalue": "No common columns to perform merge on",
     "output_type": "error",
     "traceback": [
      "\u001b[0;31m---------------------------------------------------------------------------\u001b[0m",
      "\u001b[0;31mMergeError\u001b[0m                                Traceback (most recent call last)",
      "\u001b[0;32m<ipython-input-29-53f86e66b73e>\u001b[0m in \u001b[0;36m<module>\u001b[0;34m()\u001b[0m\n\u001b[0;32m----> 1\u001b[0;31m \u001b[0mpd\u001b[0m\u001b[0;34m.\u001b[0m\u001b[0mmerge\u001b[0m\u001b[0;34m(\u001b[0m\u001b[0mdf_x\u001b[0m\u001b[0;34m,\u001b[0m \u001b[0mdf_y\u001b[0m\u001b[0;34m,\u001b[0m \u001b[0mhow\u001b[0m\u001b[0;34m=\u001b[0m\u001b[0;34m'left'\u001b[0m\u001b[0;34m)\u001b[0m\u001b[0;34m\u001b[0m\u001b[0m\n\u001b[0m",
      "\u001b[0;32m~/anaconda3/lib/python3.6/site-packages/pandas/core/reshape/merge.py\u001b[0m in \u001b[0;36mmerge\u001b[0;34m(left, right, how, on, left_on, right_on, left_index, right_index, sort, suffixes, copy, indicator)\u001b[0m\n\u001b[1;32m     51\u001b[0m                          \u001b[0mright_on\u001b[0m\u001b[0;34m=\u001b[0m\u001b[0mright_on\u001b[0m\u001b[0;34m,\u001b[0m \u001b[0mleft_index\u001b[0m\u001b[0;34m=\u001b[0m\u001b[0mleft_index\u001b[0m\u001b[0;34m,\u001b[0m\u001b[0;34m\u001b[0m\u001b[0m\n\u001b[1;32m     52\u001b[0m                          \u001b[0mright_index\u001b[0m\u001b[0;34m=\u001b[0m\u001b[0mright_index\u001b[0m\u001b[0;34m,\u001b[0m \u001b[0msort\u001b[0m\u001b[0;34m=\u001b[0m\u001b[0msort\u001b[0m\u001b[0;34m,\u001b[0m \u001b[0msuffixes\u001b[0m\u001b[0;34m=\u001b[0m\u001b[0msuffixes\u001b[0m\u001b[0;34m,\u001b[0m\u001b[0;34m\u001b[0m\u001b[0m\n\u001b[0;32m---> 53\u001b[0;31m                          copy=copy, indicator=indicator)\n\u001b[0m\u001b[1;32m     54\u001b[0m     \u001b[0;32mreturn\u001b[0m \u001b[0mop\u001b[0m\u001b[0;34m.\u001b[0m\u001b[0mget_result\u001b[0m\u001b[0;34m(\u001b[0m\u001b[0;34m)\u001b[0m\u001b[0;34m\u001b[0m\u001b[0m\n\u001b[1;32m     55\u001b[0m \u001b[0;34m\u001b[0m\u001b[0m\n",
      "\u001b[0;32m~/anaconda3/lib/python3.6/site-packages/pandas/core/reshape/merge.py\u001b[0m in \u001b[0;36m__init__\u001b[0;34m(self, left, right, how, on, left_on, right_on, axis, left_index, right_index, sort, suffixes, copy, indicator)\u001b[0m\n\u001b[1;32m    551\u001b[0m             \u001b[0mwarnings\u001b[0m\u001b[0;34m.\u001b[0m\u001b[0mwarn\u001b[0m\u001b[0;34m(\u001b[0m\u001b[0mmsg\u001b[0m\u001b[0;34m,\u001b[0m \u001b[0mUserWarning\u001b[0m\u001b[0;34m)\u001b[0m\u001b[0;34m\u001b[0m\u001b[0m\n\u001b[1;32m    552\u001b[0m \u001b[0;34m\u001b[0m\u001b[0m\n\u001b[0;32m--> 553\u001b[0;31m         \u001b[0mself\u001b[0m\u001b[0;34m.\u001b[0m\u001b[0m_validate_specification\u001b[0m\u001b[0;34m(\u001b[0m\u001b[0;34m)\u001b[0m\u001b[0;34m\u001b[0m\u001b[0m\n\u001b[0m\u001b[1;32m    554\u001b[0m \u001b[0;34m\u001b[0m\u001b[0m\n\u001b[1;32m    555\u001b[0m         \u001b[0;31m# note this function has side effects\u001b[0m\u001b[0;34m\u001b[0m\u001b[0;34m\u001b[0m\u001b[0m\n",
      "\u001b[0;32m~/anaconda3/lib/python3.6/site-packages/pandas/core/reshape/merge.py\u001b[0m in \u001b[0;36m_validate_specification\u001b[0;34m(self)\u001b[0m\n\u001b[1;32m    926\u001b[0m                     self.right.columns)\n\u001b[1;32m    927\u001b[0m                 \u001b[0;32mif\u001b[0m \u001b[0mlen\u001b[0m\u001b[0;34m(\u001b[0m\u001b[0mcommon_cols\u001b[0m\u001b[0;34m)\u001b[0m \u001b[0;34m==\u001b[0m \u001b[0;36m0\u001b[0m\u001b[0;34m:\u001b[0m\u001b[0;34m\u001b[0m\u001b[0m\n\u001b[0;32m--> 928\u001b[0;31m                     \u001b[0;32mraise\u001b[0m \u001b[0mMergeError\u001b[0m\u001b[0;34m(\u001b[0m\u001b[0;34m'No common columns to perform merge on'\u001b[0m\u001b[0;34m)\u001b[0m\u001b[0;34m\u001b[0m\u001b[0m\n\u001b[0m\u001b[1;32m    929\u001b[0m                 \u001b[0;32mif\u001b[0m \u001b[0;32mnot\u001b[0m \u001b[0mcommon_cols\u001b[0m\u001b[0;34m.\u001b[0m\u001b[0mis_unique\u001b[0m\u001b[0;34m:\u001b[0m\u001b[0;34m\u001b[0m\u001b[0m\n\u001b[1;32m    930\u001b[0m                     raise MergeError(\"Data columns not unique: %s\"\n",
      "\u001b[0;31mMergeError\u001b[0m: No common columns to perform merge on"
     ]
    }
   ],
   "source": [
    "pd.merge(df_x, df_y, how='left')"
   ]
  },
  {
   "cell_type": "code",
   "execution_count": 30,
   "metadata": {
    "collapsed": true
   },
   "outputs": [],
   "source": [
    "uni_with_location = pd.merge(df_x, df_y, how='left', left_on='city', right_on='city_name')"
   ]
  },
  {
   "cell_type": "code",
   "execution_count": 31,
   "metadata": {},
   "outputs": [
    {
     "data": {
      "text/html": [
       "<div>\n",
       "<style>\n",
       "    .dataframe thead tr:only-child th {\n",
       "        text-align: right;\n",
       "    }\n",
       "\n",
       "    .dataframe thead th {\n",
       "        text-align: left;\n",
       "    }\n",
       "\n",
       "    .dataframe tbody tr th {\n",
       "        vertical-align: top;\n",
       "    }\n",
       "</style>\n",
       "<table border=\"1\" class=\"dataframe\">\n",
       "  <thead>\n",
       "    <tr style=\"text-align: right;\">\n",
       "      <th></th>\n",
       "      <th>city</th>\n",
       "      <th>university</th>\n",
       "      <th>city_name</th>\n",
       "      <th>country</th>\n",
       "    </tr>\n",
       "  </thead>\n",
       "  <tbody>\n",
       "    <tr>\n",
       "      <th>0</th>\n",
       "      <td>Boston</td>\n",
       "      <td>Northeastern University</td>\n",
       "      <td>Boston</td>\n",
       "      <td>USA</td>\n",
       "    </tr>\n",
       "    <tr>\n",
       "      <th>1</th>\n",
       "      <td>Boston</td>\n",
       "      <td>Boston University</td>\n",
       "      <td>Boston</td>\n",
       "      <td>USA</td>\n",
       "    </tr>\n",
       "    <tr>\n",
       "      <th>2</th>\n",
       "      <td>London</td>\n",
       "      <td>UCL</td>\n",
       "      <td>London</td>\n",
       "      <td>UK</td>\n",
       "    </tr>\n",
       "    <tr>\n",
       "      <th>3</th>\n",
       "      <td>London</td>\n",
       "      <td>Kings College</td>\n",
       "      <td>London</td>\n",
       "      <td>UK</td>\n",
       "    </tr>\n",
       "    <tr>\n",
       "      <th>4</th>\n",
       "      <td>London</td>\n",
       "      <td>Queen Mary University</td>\n",
       "      <td>London</td>\n",
       "      <td>UK</td>\n",
       "    </tr>\n",
       "    <tr>\n",
       "      <th>5</th>\n",
       "      <td>London</td>\n",
       "      <td>Royal Holloway University</td>\n",
       "      <td>London</td>\n",
       "      <td>UK</td>\n",
       "    </tr>\n",
       "    <tr>\n",
       "      <th>6</th>\n",
       "      <td>Oxford</td>\n",
       "      <td>Oxford University</td>\n",
       "      <td>NaN</td>\n",
       "      <td>NaN</td>\n",
       "    </tr>\n",
       "  </tbody>\n",
       "</table>\n",
       "</div>"
      ],
      "text/plain": [
       "     city                 university city_name country\n",
       "0  Boston    Northeastern University    Boston     USA\n",
       "1  Boston          Boston University    Boston     USA\n",
       "2  London                        UCL    London      UK\n",
       "3  London              Kings College    London      UK\n",
       "4  London      Queen Mary University    London      UK\n",
       "5  London  Royal Holloway University    London      UK\n",
       "6  Oxford          Oxford University       NaN     NaN"
      ]
     },
     "execution_count": 31,
     "metadata": {},
     "output_type": "execute_result"
    }
   ],
   "source": [
    "uni_with_location"
   ]
  },
  {
   "cell_type": "markdown",
   "metadata": {},
   "source": [
    "#### merging on multiple columns"
   ]
  },
  {
   "cell_type": "code",
   "execution_count": 32,
   "metadata": {
    "collapsed": true
   },
   "outputs": [],
   "source": [
    "gdp = pd.DataFrame({'city':['London','London','Boston','Boston','New York','New York'],\n",
    "                    'year':[2017,2018,2017,2018,2017,2018],\n",
    "                    'GDP':[1,2,3,4,5,6]})\n",
    "scholarship = pd.DataFrame({'university':['Queen Mary University','Royal Holloway University','Boston University', 'Queen Mary University','Royal Holloway University','Boston University'],\n",
    "                    'year':[2017,2017,2017,2018,2018,2018],\n",
    "                    'scholarship_avg':[1,2,3,4,5,6]})"
   ]
  },
  {
   "cell_type": "code",
   "execution_count": 33,
   "metadata": {},
   "outputs": [
    {
     "data": {
      "text/html": [
       "<div>\n",
       "<style>\n",
       "    .dataframe thead tr:only-child th {\n",
       "        text-align: right;\n",
       "    }\n",
       "\n",
       "    .dataframe thead th {\n",
       "        text-align: left;\n",
       "    }\n",
       "\n",
       "    .dataframe tbody tr th {\n",
       "        vertical-align: top;\n",
       "    }\n",
       "</style>\n",
       "<table border=\"1\" class=\"dataframe\">\n",
       "  <thead>\n",
       "    <tr style=\"text-align: right;\">\n",
       "      <th></th>\n",
       "      <th>GDP</th>\n",
       "      <th>city</th>\n",
       "      <th>year</th>\n",
       "    </tr>\n",
       "  </thead>\n",
       "  <tbody>\n",
       "    <tr>\n",
       "      <th>0</th>\n",
       "      <td>1</td>\n",
       "      <td>London</td>\n",
       "      <td>2017</td>\n",
       "    </tr>\n",
       "    <tr>\n",
       "      <th>1</th>\n",
       "      <td>2</td>\n",
       "      <td>London</td>\n",
       "      <td>2018</td>\n",
       "    </tr>\n",
       "    <tr>\n",
       "      <th>2</th>\n",
       "      <td>3</td>\n",
       "      <td>Boston</td>\n",
       "      <td>2017</td>\n",
       "    </tr>\n",
       "    <tr>\n",
       "      <th>3</th>\n",
       "      <td>4</td>\n",
       "      <td>Boston</td>\n",
       "      <td>2018</td>\n",
       "    </tr>\n",
       "    <tr>\n",
       "      <th>4</th>\n",
       "      <td>5</td>\n",
       "      <td>New York</td>\n",
       "      <td>2017</td>\n",
       "    </tr>\n",
       "    <tr>\n",
       "      <th>5</th>\n",
       "      <td>6</td>\n",
       "      <td>New York</td>\n",
       "      <td>2018</td>\n",
       "    </tr>\n",
       "  </tbody>\n",
       "</table>\n",
       "</div>"
      ],
      "text/plain": [
       "   GDP      city  year\n",
       "0    1    London  2017\n",
       "1    2    London  2018\n",
       "2    3    Boston  2017\n",
       "3    4    Boston  2018\n",
       "4    5  New York  2017\n",
       "5    6  New York  2018"
      ]
     },
     "execution_count": 33,
     "metadata": {},
     "output_type": "execute_result"
    }
   ],
   "source": [
    "gdp"
   ]
  },
  {
   "cell_type": "code",
   "execution_count": 34,
   "metadata": {},
   "outputs": [
    {
     "data": {
      "text/html": [
       "<div>\n",
       "<style>\n",
       "    .dataframe thead tr:only-child th {\n",
       "        text-align: right;\n",
       "    }\n",
       "\n",
       "    .dataframe thead th {\n",
       "        text-align: left;\n",
       "    }\n",
       "\n",
       "    .dataframe tbody tr th {\n",
       "        vertical-align: top;\n",
       "    }\n",
       "</style>\n",
       "<table border=\"1\" class=\"dataframe\">\n",
       "  <thead>\n",
       "    <tr style=\"text-align: right;\">\n",
       "      <th></th>\n",
       "      <th>scholarship_avg</th>\n",
       "      <th>university</th>\n",
       "      <th>year</th>\n",
       "    </tr>\n",
       "  </thead>\n",
       "  <tbody>\n",
       "    <tr>\n",
       "      <th>0</th>\n",
       "      <td>1</td>\n",
       "      <td>Queen Mary University</td>\n",
       "      <td>2017</td>\n",
       "    </tr>\n",
       "    <tr>\n",
       "      <th>1</th>\n",
       "      <td>2</td>\n",
       "      <td>Royal Holloway University</td>\n",
       "      <td>2017</td>\n",
       "    </tr>\n",
       "    <tr>\n",
       "      <th>2</th>\n",
       "      <td>3</td>\n",
       "      <td>Boston University</td>\n",
       "      <td>2017</td>\n",
       "    </tr>\n",
       "    <tr>\n",
       "      <th>3</th>\n",
       "      <td>4</td>\n",
       "      <td>Queen Mary University</td>\n",
       "      <td>2018</td>\n",
       "    </tr>\n",
       "    <tr>\n",
       "      <th>4</th>\n",
       "      <td>5</td>\n",
       "      <td>Royal Holloway University</td>\n",
       "      <td>2018</td>\n",
       "    </tr>\n",
       "    <tr>\n",
       "      <th>5</th>\n",
       "      <td>6</td>\n",
       "      <td>Boston University</td>\n",
       "      <td>2018</td>\n",
       "    </tr>\n",
       "  </tbody>\n",
       "</table>\n",
       "</div>"
      ],
      "text/plain": [
       "   scholarship_avg                 university  year\n",
       "0                1      Queen Mary University  2017\n",
       "1                2  Royal Holloway University  2017\n",
       "2                3          Boston University  2017\n",
       "3                4      Queen Mary University  2018\n",
       "4                5  Royal Holloway University  2018\n",
       "5                6          Boston University  2018"
      ]
     },
     "execution_count": 34,
     "metadata": {},
     "output_type": "execute_result"
    }
   ],
   "source": [
    "scholarship"
   ]
  },
  {
   "cell_type": "code",
   "execution_count": 35,
   "metadata": {},
   "outputs": [
    {
     "data": {
      "text/html": [
       "<div>\n",
       "<style>\n",
       "    .dataframe thead tr:only-child th {\n",
       "        text-align: right;\n",
       "    }\n",
       "\n",
       "    .dataframe thead th {\n",
       "        text-align: left;\n",
       "    }\n",
       "\n",
       "    .dataframe tbody tr th {\n",
       "        vertical-align: top;\n",
       "    }\n",
       "</style>\n",
       "<table border=\"1\" class=\"dataframe\">\n",
       "  <thead>\n",
       "    <tr style=\"text-align: right;\">\n",
       "      <th></th>\n",
       "      <th>city</th>\n",
       "      <th>university</th>\n",
       "      <th>city_name</th>\n",
       "      <th>country</th>\n",
       "    </tr>\n",
       "  </thead>\n",
       "  <tbody>\n",
       "    <tr>\n",
       "      <th>0</th>\n",
       "      <td>Boston</td>\n",
       "      <td>Northeastern University</td>\n",
       "      <td>Boston</td>\n",
       "      <td>USA</td>\n",
       "    </tr>\n",
       "    <tr>\n",
       "      <th>1</th>\n",
       "      <td>Boston</td>\n",
       "      <td>Boston University</td>\n",
       "      <td>Boston</td>\n",
       "      <td>USA</td>\n",
       "    </tr>\n",
       "    <tr>\n",
       "      <th>2</th>\n",
       "      <td>London</td>\n",
       "      <td>UCL</td>\n",
       "      <td>London</td>\n",
       "      <td>UK</td>\n",
       "    </tr>\n",
       "    <tr>\n",
       "      <th>3</th>\n",
       "      <td>London</td>\n",
       "      <td>Kings College</td>\n",
       "      <td>London</td>\n",
       "      <td>UK</td>\n",
       "    </tr>\n",
       "    <tr>\n",
       "      <th>4</th>\n",
       "      <td>London</td>\n",
       "      <td>Queen Mary University</td>\n",
       "      <td>London</td>\n",
       "      <td>UK</td>\n",
       "    </tr>\n",
       "    <tr>\n",
       "      <th>5</th>\n",
       "      <td>London</td>\n",
       "      <td>Royal Holloway University</td>\n",
       "      <td>London</td>\n",
       "      <td>UK</td>\n",
       "    </tr>\n",
       "    <tr>\n",
       "      <th>6</th>\n",
       "      <td>Oxford</td>\n",
       "      <td>Oxford University</td>\n",
       "      <td>NaN</td>\n",
       "      <td>NaN</td>\n",
       "    </tr>\n",
       "  </tbody>\n",
       "</table>\n",
       "</div>"
      ],
      "text/plain": [
       "     city                 university city_name country\n",
       "0  Boston    Northeastern University    Boston     USA\n",
       "1  Boston          Boston University    Boston     USA\n",
       "2  London                        UCL    London      UK\n",
       "3  London              Kings College    London      UK\n",
       "4  London      Queen Mary University    London      UK\n",
       "5  London  Royal Holloway University    London      UK\n",
       "6  Oxford          Oxford University       NaN     NaN"
      ]
     },
     "execution_count": 35,
     "metadata": {},
     "output_type": "execute_result"
    }
   ],
   "source": [
    "uni_with_location"
   ]
  },
  {
   "cell_type": "code",
   "execution_count": 36,
   "metadata": {},
   "outputs": [
    {
     "data": {
      "text/html": [
       "<div>\n",
       "<style>\n",
       "    .dataframe thead tr:only-child th {\n",
       "        text-align: right;\n",
       "    }\n",
       "\n",
       "    .dataframe thead th {\n",
       "        text-align: left;\n",
       "    }\n",
       "\n",
       "    .dataframe tbody tr th {\n",
       "        vertical-align: top;\n",
       "    }\n",
       "</style>\n",
       "<table border=\"1\" class=\"dataframe\">\n",
       "  <thead>\n",
       "    <tr style=\"text-align: right;\">\n",
       "      <th></th>\n",
       "      <th>scholarship_avg</th>\n",
       "      <th>university</th>\n",
       "      <th>year</th>\n",
       "      <th>city</th>\n",
       "    </tr>\n",
       "  </thead>\n",
       "  <tbody>\n",
       "    <tr>\n",
       "      <th>0</th>\n",
       "      <td>1</td>\n",
       "      <td>Queen Mary University</td>\n",
       "      <td>2017</td>\n",
       "      <td>London</td>\n",
       "    </tr>\n",
       "    <tr>\n",
       "      <th>1</th>\n",
       "      <td>2</td>\n",
       "      <td>Royal Holloway University</td>\n",
       "      <td>2017</td>\n",
       "      <td>London</td>\n",
       "    </tr>\n",
       "    <tr>\n",
       "      <th>2</th>\n",
       "      <td>3</td>\n",
       "      <td>Boston University</td>\n",
       "      <td>2017</td>\n",
       "      <td>Boston</td>\n",
       "    </tr>\n",
       "    <tr>\n",
       "      <th>3</th>\n",
       "      <td>4</td>\n",
       "      <td>Queen Mary University</td>\n",
       "      <td>2018</td>\n",
       "      <td>London</td>\n",
       "    </tr>\n",
       "    <tr>\n",
       "      <th>4</th>\n",
       "      <td>5</td>\n",
       "      <td>Royal Holloway University</td>\n",
       "      <td>2018</td>\n",
       "      <td>London</td>\n",
       "    </tr>\n",
       "    <tr>\n",
       "      <th>5</th>\n",
       "      <td>6</td>\n",
       "      <td>Boston University</td>\n",
       "      <td>2018</td>\n",
       "      <td>Boston</td>\n",
       "    </tr>\n",
       "  </tbody>\n",
       "</table>\n",
       "</div>"
      ],
      "text/plain": [
       "   scholarship_avg                 university  year    city\n",
       "0                1      Queen Mary University  2017  London\n",
       "1                2  Royal Holloway University  2017  London\n",
       "2                3          Boston University  2017  Boston\n",
       "3                4      Queen Mary University  2018  London\n",
       "4                5  Royal Holloway University  2018  London\n",
       "5                6          Boston University  2018  Boston"
      ]
     },
     "execution_count": 36,
     "metadata": {},
     "output_type": "execute_result"
    }
   ],
   "source": [
    "scholarship_with_city = pd.merge(scholarship, uni_with_location[['university','city']],\n",
    "                                how='left')\n",
    "scholarship_with_city"
   ]
  },
  {
   "cell_type": "code",
   "execution_count": 37,
   "metadata": {},
   "outputs": [
    {
     "data": {
      "text/html": [
       "<div>\n",
       "<style>\n",
       "    .dataframe thead tr:only-child th {\n",
       "        text-align: right;\n",
       "    }\n",
       "\n",
       "    .dataframe thead th {\n",
       "        text-align: left;\n",
       "    }\n",
       "\n",
       "    .dataframe tbody tr th {\n",
       "        vertical-align: top;\n",
       "    }\n",
       "</style>\n",
       "<table border=\"1\" class=\"dataframe\">\n",
       "  <thead>\n",
       "    <tr style=\"text-align: right;\">\n",
       "      <th></th>\n",
       "      <th>scholarship_avg</th>\n",
       "      <th>university</th>\n",
       "      <th>year</th>\n",
       "      <th>city</th>\n",
       "      <th>GDP</th>\n",
       "    </tr>\n",
       "  </thead>\n",
       "  <tbody>\n",
       "    <tr>\n",
       "      <th>0</th>\n",
       "      <td>1</td>\n",
       "      <td>Queen Mary University</td>\n",
       "      <td>2017</td>\n",
       "      <td>London</td>\n",
       "      <td>1</td>\n",
       "    </tr>\n",
       "    <tr>\n",
       "      <th>1</th>\n",
       "      <td>2</td>\n",
       "      <td>Royal Holloway University</td>\n",
       "      <td>2017</td>\n",
       "      <td>London</td>\n",
       "      <td>1</td>\n",
       "    </tr>\n",
       "    <tr>\n",
       "      <th>2</th>\n",
       "      <td>3</td>\n",
       "      <td>Boston University</td>\n",
       "      <td>2017</td>\n",
       "      <td>Boston</td>\n",
       "      <td>3</td>\n",
       "    </tr>\n",
       "    <tr>\n",
       "      <th>3</th>\n",
       "      <td>4</td>\n",
       "      <td>Queen Mary University</td>\n",
       "      <td>2018</td>\n",
       "      <td>London</td>\n",
       "      <td>2</td>\n",
       "    </tr>\n",
       "    <tr>\n",
       "      <th>4</th>\n",
       "      <td>5</td>\n",
       "      <td>Royal Holloway University</td>\n",
       "      <td>2018</td>\n",
       "      <td>London</td>\n",
       "      <td>2</td>\n",
       "    </tr>\n",
       "    <tr>\n",
       "      <th>5</th>\n",
       "      <td>6</td>\n",
       "      <td>Boston University</td>\n",
       "      <td>2018</td>\n",
       "      <td>Boston</td>\n",
       "      <td>4</td>\n",
       "    </tr>\n",
       "  </tbody>\n",
       "</table>\n",
       "</div>"
      ],
      "text/plain": [
       "   scholarship_avg                 university  year    city  GDP\n",
       "0                1      Queen Mary University  2017  London    1\n",
       "1                2  Royal Holloway University  2017  London    1\n",
       "2                3          Boston University  2017  Boston    3\n",
       "3                4      Queen Mary University  2018  London    2\n",
       "4                5  Royal Holloway University  2018  London    2\n",
       "5                6          Boston University  2018  Boston    4"
      ]
     },
     "execution_count": 37,
     "metadata": {},
     "output_type": "execute_result"
    }
   ],
   "source": [
    "scholarship_with_city_GDP = pd.merge(scholarship_with_city, gdp,\n",
    "                                    how='left', on=['city','year'])\n",
    "scholarship_with_city_GDP"
   ]
  },
  {
   "cell_type": "markdown",
   "metadata": {},
   "source": [
    "#### seaborn plots"
   ]
  },
  {
   "cell_type": "code",
   "execution_count": 38,
   "metadata": {
    "collapsed": true
   },
   "outputs": [],
   "source": [
    "import seaborn as sns\n",
    "#https://seaborn.pydata.org/examples/index.html"
   ]
  },
  {
   "cell_type": "code",
   "execution_count": 39,
   "metadata": {},
   "outputs": [
    {
     "data": {
      "text/plain": [
       "<matplotlib.axes._subplots.AxesSubplot at 0x7fb985590358>"
      ]
     },
     "execution_count": 39,
     "metadata": {},
     "output_type": "execute_result"
    },
    {
     "data": {
      "image/png": "[encoded data removed]",
      "text/plain": [
       "<matplotlib.figure.Figure at 0x7fb98d614b00>"
      ]
     },
     "metadata": {},
     "output_type": "display_data"
    }
   ],
   "source": [
    "scholarship_with_city_GDP.boxplot('GDP')"
   ]
  },
  {
   "cell_type": "code",
   "execution_count": 40,
   "metadata": {},
   "outputs": [
    {
     "data": {
      "text/plain": [
       "<matplotlib.axes._subplots.AxesSubplot at 0x7fb98553fcc0>"
      ]
     },
     "execution_count": 40,
     "metadata": {},
     "output_type": "execute_result"
    },
    {
     "data": {
      "image/png": "[encoded data removed]",
      "text/plain": [
       "<matplotlib.figure.Figure at 0x7fb9855ae438>"
      ]
     },
     "metadata": {},
     "output_type": "display_data"
    }
   ],
   "source": [
    "sns.boxplot(data=scholarship_with_city_GDP, x='GDP', orient='v')"
   ]
  },
  {
   "cell_type": "code",
   "execution_count": 41,
   "metadata": {},
   "outputs": [
    {
     "data": {
      "text/plain": [
       "<matplotlib.axes._subplots.AxesSubplot at 0x7fb9854c39b0>"
      ]
     },
     "execution_count": 41,
     "metadata": {},
     "output_type": "execute_result"
    },
    {
     "data": {
      "image/png": "[encoded data removed]",
      "text/plain": [
       "<matplotlib.figure.Figure at 0x7fb98543fef0>"
      ]
     },
     "metadata": {},
     "output_type": "display_data"
    }
   ],
   "source": [
    "scholarship_with_city_GDP.plot.bar(x='city',y='GDP')"
   ]
  },
  {
   "cell_type": "code",
   "execution_count": 42,
   "metadata": {},
   "outputs": [
    {
     "data": {
      "text/plain": [
       "<matplotlib.axes._subplots.AxesSubplot at 0x7fb985362be0>"
      ]
     },
     "execution_count": 42,
     "metadata": {},
     "output_type": "execute_result"
    },
    {
     "data": {
      "image/png": "[encoded data removed]",
      "text/plain": [
       "<matplotlib.figure.Figure at 0x7fb9853caba8>"
      ]
     },
     "metadata": {},
     "output_type": "display_data"
    }
   ],
   "source": [
    "sns.barplot(data=scholarship_with_city_GDP, x='city', y='GDP')"
   ]
  },
  {
   "cell_type": "code",
   "execution_count": 43,
   "metadata": {},
   "outputs": [
    {
     "data": {
      "text/plain": [
       "array([[<matplotlib.axes._subplots.AxesSubplot object at 0x7fb985348940>]], dtype=object)"
      ]
     },
     "execution_count": 43,
     "metadata": {},
     "output_type": "execute_result"
    },
    {
     "data": {
      "image/png": "[encoded data removed]",
      "text/plain": [
       "<matplotlib.figure.Figure at 0x7fb9852b4d30>"
      ]
     },
     "metadata": {},
     "output_type": "display_data"
    }
   ],
   "source": [
    "scholarship_with_city_GDP[['GDP']].hist()"
   ]
  },
  {
   "cell_type": "code",
   "execution_count": 44,
   "metadata": {},
   "outputs": [
    {
     "data": {
      "text/plain": [
       "<matplotlib.axes._subplots.AxesSubplot at 0x7fb985221dd8>"
      ]
     },
     "execution_count": 44,
     "metadata": {},
     "output_type": "execute_result"
    },
    {
     "data": {
      "image/png": "[encoded data removed]",
      "text/plain": [
       "<matplotlib.figure.Figure at 0x7fb985246ef0>"
      ]
     },
     "metadata": {},
     "output_type": "display_data"
    }
   ],
   "source": [
    "sns.distplot(scholarship_with_city_GDP['GDP'])"
   ]
  },
  {
   "cell_type": "code",
   "execution_count": 45,
   "metadata": {},
   "outputs": [
    {
     "data": {
      "text/plain": [
       "<matplotlib.axes._subplots.AxesSubplot at 0x7fb9851575c0>"
      ]
     },
     "execution_count": 45,
     "metadata": {},
     "output_type": "execute_result"
    },
    {
     "data": {
      "image/png": "[encoded data removed]",
      "text/plain": [
       "<matplotlib.figure.Figure at 0x7fb985141470>"
      ]
     },
     "metadata": {},
     "output_type": "display_data"
    }
   ],
   "source": [
    "scholarship_with_city_GDP.plot.scatter(x='scholarship_avg',y='GDP')"
   ]
  },
  {
   "cell_type": "code",
   "execution_count": 46,
   "metadata": {},
   "outputs": [
    {
     "data": {
      "text/plain": [
       "<seaborn.axisgrid.JointGrid at 0x7fb98549ffd0>"
      ]
     },
     "execution_count": 46,
     "metadata": {},
     "output_type": "execute_result"
    },
    {
     "data": {
      "image/png": "[encoded data removed]",
      "text/plain": [
       "<matplotlib.figure.Figure at 0x7fb9850be898>"
      ]
     },
     "metadata": {},
     "output_type": "display_data"
    }
   ],
   "source": [
    "sns.jointplot(data=scholarship_with_city_GDP, x='scholarship_avg',y='GDP')"
   ]
  },
  {
   "cell_type": "code",
   "execution_count": 47,
   "metadata": {},
   "outputs": [
    {
     "data": {
      "text/plain": [
       "<seaborn.axisgrid.FacetGrid at 0x7fb984ef7c18>"
      ]
     },
     "execution_count": 47,
     "metadata": {},
     "output_type": "execute_result"
    },
    {
     "data": {
      "image/png": "[encoded data removed]",
      "text/plain": [
       "<matplotlib.figure.Figure at 0x7fb984ef7cf8>"
      ]
     },
     "metadata": {},
     "output_type": "display_data"
    }
   ],
   "source": [
    "sns.lmplot(data=scholarship_with_city_GDP, x='scholarship_avg',y='GDP')"
   ]
  },
  {
   "cell_type": "code",
   "execution_count": 48,
   "metadata": {},
   "outputs": [
    {
     "data": {
      "text/plain": [
       "<seaborn.axisgrid.FacetGrid at 0x7fb984e5aa58>"
      ]
     },
     "execution_count": 48,
     "metadata": {},
     "output_type": "execute_result"
    },
    {
     "data": {
      "image/png": "[encoded data removed]",
      "text/plain": [
       "<matplotlib.figure.Figure at 0x7fb984e142b0>"
      ]
     },
     "metadata": {},
     "output_type": "display_data"
    }
   ],
   "source": [
    "sns.lmplot(data=scholarship_with_city_GDP, x='scholarship_avg',y='GDP', hue='city')"
   ]
  },
  {
   "cell_type": "markdown",
   "metadata": {},
   "source": [
    "#### interactive plotting with bokeh"
   ]
  },
  {
   "cell_type": "code",
   "execution_count": 49,
   "metadata": {},
   "outputs": [
    {
     "data": {
      "text/html": [
       "\n",
       "    <div class=\"bk-root\">\n",
       "        <a href=\"https://bokeh.pydata.org\" target=\"_blank\" class=\"bk-logo bk-logo-small bk-logo-notebook\"></a>\n",
       "        <span id=\"ca190af4-45af-4247-99e8-4034e66d1674\">Loading BokehJS ...</span>\n",
       "    </div>"
      ]
     },
     "metadata": {},
     "output_type": "display_data"
    },
    {
     "data": {
      "application/javascript": [
       "\n",
       "(function(root) {\n",
       "  function now() {\n",
       "    return new Date();\n",
       "  }\n",
       "\n",
       "  var force = true;\n",
       "\n",
       "  if (typeof (root._bokeh_onload_callbacks) === \"undefined\" || force === true) {\n",
       "    root._bokeh_onload_callbacks = [];\n",
       "    root._bokeh_is_loading = undefined;\n",
       "  }\n",
       "\n",
       "\n",
       "  \n",
       "  if (typeof (root._bokeh_timeout) === \"undefined\" || force === true) {\n",
       "    root._bokeh_timeout = Date.now() + 5000;\n",
       "    root._bokeh_failed_load = false;\n",
       "  }\n",
       "\n",
       "  var NB_LOAD_WARNING = {'data': {'text/html':\n",
       "     \"<div style='background-color: #fdd'>\\n\"+\n",
       "     \"<p>\\n\"+\n",
       "     \"BokehJS does not appear to have successfully loaded. If loading BokehJS from CDN, this \\n\"+\n",
       "     \"may be due to a slow or bad network connection. Possible fixes:\\n\"+\n",
       "     \"</p>\\n\"+\n",
       "     \"<ul>\\n\"+\n",
       "     \"<li>re-rerun `output_notebook()` to attempt to load from CDN again, or</li>\\n\"+\n",
       "     \"<li>use INLINE resources instead, as so:</li>\\n\"+\n",
       "     \"</ul>\\n\"+\n",
       "     \"<code>\\n\"+\n",
       "     \"from bokeh.resources import INLINE\\n\"+\n",
       "     \"output_notebook(resources=INLINE)\\n\"+\n",
       "     \"</code>\\n\"+\n",
       "     \"</div>\"}};\n",
       "\n",
       "  function display_loaded() {\n",
       "    if (root.Bokeh !== undefined) {\n",
       "      var el = document.getElementById(\"ca190af4-45af-4247-99e8-4034e66d1674\");\n",
       "      if (el != null) {\n",
       "        el.textContent = \"BokehJS \" + Bokeh.version + \" successfully loaded.\";\n",
       "      }\n",
       "    } else if (Date.now() < root._bokeh_timeout) {\n",
       "      setTimeout(display_loaded, 100)\n",
       "    }\n",
       "  }\n",
       "\n",
       "\n",
       "  function run_callbacks() {\n",
       "    try {\n",
       "      root._bokeh_onload_callbacks.forEach(function(callback) { callback() });\n",
       "    }\n",
       "    finally {\n",
       "      delete root._bokeh_onload_callbacks\n",
       "    }\n",
       "    console.info(\"Bokeh: all callbacks have finished\");\n",
       "  }\n",
       "\n",
       "  function load_libs(js_urls, callback) {\n",
       "    root._bokeh_onload_callbacks.push(callback);\n",
       "    if (root._bokeh_is_loading > 0) {\n",
       "      console.log(\"Bokeh: BokehJS is being loaded, scheduling callback at\", now());\n",
       "      return null;\n",
       "    }\n",
       "    if (js_urls == null || js_urls.length === 0) {\n",
       "      run_callbacks();\n",
       "      return null;\n",
       "    }\n",
       "    console.log(\"Bokeh: BokehJS not loaded, scheduling load and callback at\", now());\n",
       "    root._bokeh_is_loading = js_urls.length;\n",
       "    for (var i = 0; i < js_urls.length; i++) {\n",
       "      var url = js_urls[i];\n",
       "      var s = document.createElement('script');\n",
       "      s.src = url;\n",
       "      s.async = false;\n",
       "      s.onreadystatechange = s.onload = function() {\n",
       "        root._bokeh_is_loading--;\n",
       "        if (root._bokeh_is_loading === 0) {\n",
       "          console.log(\"Bokeh: all BokehJS libraries loaded\");\n",
       "          run_callbacks()\n",
       "        }\n",
       "      };\n",
       "      s.onerror = function() {\n",
       "        console.warn(\"failed to load library \" + url);\n",
       "      };\n",
       "      console.log(\"Bokeh: injecting script tag for BokehJS library: \", url);\n",
       "      document.getElementsByTagName(\"head\")[0].appendChild(s);\n",
       "    }\n",
       "  };var element = document.getElementById(\"ca190af4-45af-4247-99e8-4034e66d1674\");\n",
       "  if (element == null) {\n",
       "    console.log(\"Bokeh: ERROR: autoload.js configured with elementid 'ca190af4-45af-4247-99e8-4034e66d1674' but no matching script tag was found. \")\n",
       "    return false;\n",
       "  }\n",
       "\n",
       "  var js_urls = [\"https://cdn.pydata.org/bokeh/release/bokeh-0.12.7.min.js\", \"https://cdn.pydata.org/bokeh/release/bokeh-widgets-0.12.7.min.js\", \"https://cdn.pydata.org/bokeh/release/bokeh-tables-0.12.7.min.js\", \"https://cdn.pydata.org/bokeh/release/bokeh-gl-0.12.7.min.js\"];\n",
       "\n",
       "  var inline_js = [\n",
       "    function(Bokeh) {\n",
       "      Bokeh.set_log_level(\"info\");\n",
       "    },\n",
       "    \n",
       "    function(Bokeh) {\n",
       "      \n",
       "    },\n",
       "    \n",
       "    function(Bokeh) {\n",
       "      \n",
       "      document.getElementById(\"ca190af4-45af-4247-99e8-4034e66d1674\").textContent = \"BokehJS is loading...\";\n",
       "    },\n",
       "    function(Bokeh) {\n",
       "      console.log(\"Bokeh: injecting CSS: https://cdn.pydata.org/bokeh/release/bokeh-0.12.7.min.css\");\n",
       "      Bokeh.embed.inject_css(\"https://cdn.pydata.org/bokeh/release/bokeh-0.12.7.min.css\");\n",
       "      console.log(\"Bokeh: injecting CSS: https://cdn.pydata.org/bokeh/release/bokeh-widgets-0.12.7.min.css\");\n",
       "      Bokeh.embed.inject_css(\"https://cdn.pydata.org/bokeh/release/bokeh-widgets-0.12.7.min.css\");\n",
       "      console.log(\"Bokeh: injecting CSS: https://cdn.pydata.org/bokeh/release/bokeh-tables-0.12.7.min.css\");\n",
       "      Bokeh.embed.inject_css(\"https://cdn.pydata.org/bokeh/release/bokeh-tables-0.12.7.min.css\");\n",
       "    }\n",
       "  ];\n",
       "\n",
       "  function run_inline_js() {\n",
       "    \n",
       "    if ((root.Bokeh !== undefined) || (force === true)) {\n",
       "      for (var i = 0; i < inline_js.length; i++) {\n",
       "        inline_js[i].call(root, root.Bokeh);\n",
       "      }if (force === true) {\n",
       "        display_loaded();\n",
       "      }} else if (Date.now() < root._bokeh_timeout) {\n",
       "      setTimeout(run_inline_js, 100);\n",
       "    } else if (!root._bokeh_failed_load) {\n",
       "      console.log(\"Bokeh: BokehJS failed to load within specified timeout.\");\n",
       "      root._bokeh_failed_load = true;\n",
       "    } else if (force !== true) {\n",
       "      var cell = $(document.getElementById(\"ca190af4-45af-4247-99e8-4034e66d1674\")).parents('.cell').data().cell;\n",
       "      cell.output_area.append_execute_result(NB_LOAD_WARNING)\n",
       "    }\n",
       "\n",
       "  }\n",
       "\n",
       "  if (root._bokeh_is_loading === 0) {\n",
       "    console.log(\"Bokeh: BokehJS loaded, going straight to plotting\");\n",
       "    run_inline_js();\n",
       "  } else {\n",
       "    load_libs(js_urls, function() {\n",
       "      console.log(\"Bokeh: BokehJS plotting callback run at\", now());\n",
       "      run_inline_js();\n",
       "    });\n",
       "  }\n",
       "}(window));"
      ]
     },
     "metadata": {},
     "output_type": "display_data"
    }
   ],
   "source": [
    "import bokeh\n",
    "from bokeh.io import show, output_notebook\n",
    "from bokeh.plotting import figure, ColumnDataSource\n",
    "from bokeh.models import HoverTool\n",
    "output_notebook()"
   ]
  },
  {
   "cell_type": "code",
   "execution_count": 50,
   "metadata": {},
   "outputs": [
    {
     "data": {
      "text/html": [
       "\n",
       "\n",
       "    <div class=\"bk-root\">\n",
       "        <div class=\"bk-plotdiv\" id=\"05504448-3ed2-4d08-8edb-e106dc11d82f\"></div>\n",
       "    </div>\n",
       "<script type=\"text/javascript\">\n",
       "  \n",
       "  (function(root) {\n",
       "    function now() {\n",
       "      return new Date();\n",
       "    }\n",
       "  \n",
       "    var force = false;\n",
       "  \n",
       "    if (typeof (root._bokeh_onload_callbacks) === \"undefined\" || force === true) {\n",
       "      root._bokeh_onload_callbacks = [];\n",
       "      root._bokeh_is_loading = undefined;\n",
       "    }\n",
       "  \n",
       "  \n",
       "    \n",
       "    if (typeof (root._bokeh_timeout) === \"undefined\" || force === true) {\n",
       "      root._bokeh_timeout = Date.now() + 0;\n",
       "      root._bokeh_failed_load = false;\n",
       "    }\n",
       "  \n",
       "    var NB_LOAD_WARNING = {'data': {'text/html':\n",
       "       \"<div style='background-color: #fdd'>\\n\"+\n",
       "       \"<p>\\n\"+\n",
       "       \"BokehJS does not appear to have successfully loaded. If loading BokehJS from CDN, this \\n\"+\n",
       "       \"may be due to a slow or bad network connection. Possible fixes:\\n\"+\n",
       "       \"</p>\\n\"+\n",
       "       \"<ul>\\n\"+\n",
       "       \"<li>re-rerun `output_notebook()` to attempt to load from CDN again, or</li>\\n\"+\n",
       "       \"<li>use INLINE resources instead, as so:</li>\\n\"+\n",
       "       \"</ul>\\n\"+\n",
       "       \"<code>\\n\"+\n",
       "       \"from bokeh.resources import INLINE\\n\"+\n",
       "       \"output_notebook(resources=INLINE)\\n\"+\n",
       "       \"</code>\\n\"+\n",
       "       \"</div>\"}};\n",
       "  \n",
       "    function display_loaded() {\n",
       "      if (root.Bokeh !== undefined) {\n",
       "        var el = document.getElementById(\"05504448-3ed2-4d08-8edb-e106dc11d82f\");\n",
       "        if (el != null) {\n",
       "          el.textContent = \"BokehJS \" + Bokeh.version + \" successfully loaded.\";\n",
       "        }\n",
       "      } else if (Date.now() < root._bokeh_timeout) {\n",
       "        setTimeout(display_loaded, 100)\n",
       "      }\n",
       "    }\n",
       "  \n",
       "  \n",
       "    function run_callbacks() {\n",
       "      try {\n",
       "        root._bokeh_onload_callbacks.forEach(function(callback) { callback() });\n",
       "      }\n",
       "      finally {\n",
       "        delete root._bokeh_onload_callbacks\n",
       "      }\n",
       "      console.info(\"Bokeh: all callbacks have finished\");\n",
       "    }\n",
       "  \n",
       "    function load_libs(js_urls, callback) {\n",
       "      root._bokeh_onload_callbacks.push(callback);\n",
       "      if (root._bokeh_is_loading > 0) {\n",
       "        console.log(\"Bokeh: BokehJS is being loaded, scheduling callback at\", now());\n",
       "        return null;\n",
       "      }\n",
       "      if (js_urls == null || js_urls.length === 0) {\n",
       "        run_callbacks();\n",
       "        return null;\n",
       "      }\n",
       "      console.log(\"Bokeh: BokehJS not loaded, scheduling load and callback at\", now());\n",
       "      root._bokeh_is_loading = js_urls.length;\n",
       "      for (var i = 0; i < js_urls.length; i++) {\n",
       "        var url = js_urls[i];\n",
       "        var s = document.createElement('script');\n",
       "        s.src = url;\n",
       "        s.async = false;\n",
       "        s.onreadystatechange = s.onload = function() {\n",
       "          root._bokeh_is_loading--;\n",
       "          if (root._bokeh_is_loading === 0) {\n",
       "            console.log(\"Bokeh: all BokehJS libraries loaded\");\n",
       "            run_callbacks()\n",
       "          }\n",
       "        };\n",
       "        s.onerror = function() {\n",
       "          console.warn(\"failed to load library \" + url);\n",
       "        };\n",
       "        console.log(\"Bokeh: injecting script tag for BokehJS library: \", url);\n",
       "        document.getElementsByTagName(\"head\")[0].appendChild(s);\n",
       "      }\n",
       "    };var element = document.getElementById(\"05504448-3ed2-4d08-8edb-e106dc11d82f\");\n",
       "    if (element == null) {\n",
       "      console.log(\"Bokeh: ERROR: autoload.js configured with elementid '05504448-3ed2-4d08-8edb-e106dc11d82f' but no matching script tag was found. \")\n",
       "      return false;\n",
       "    }\n",
       "  \n",
       "    var js_urls = [];\n",
       "  \n",
       "    var inline_js = [\n",
       "      function(Bokeh) {\n",
       "        (function() {\n",
       "          var fn = function() {\n",
       "            var docs_json = {\"7b31fa0f-ecc2-4068-a4a0-b5f5071cef9d\":{\"roots\":{\"references\":[{\"attributes\":{\"label\":{\"value\":\"London\"},\"renderers\":[{\"id\":\"39ebdf51-2b6d-424a-879e-080d201ae0f0\",\"type\":\"GlyphRenderer\"}]},\"id\":\"6a537b94-a27a-4229-a35e-9634cfff6f52\",\"type\":\"LegendItem\"},{\"attributes\":{\"source\":{\"id\":\"5918327f-b96c-41ce-bbaf-951686ae81e4\",\"type\":\"ColumnDataSource\"}},\"id\":\"1936dd10-dbf4-4425-8618-f526aa580ce7\",\"type\":\"CDSView\"},{\"attributes\":{},\"id\":\"ce18cf53-b7c6-4175-b5e8-4e642dbbe7e7\",\"type\":\"WheelZoomTool\"},{\"attributes\":{\"overlay\":{\"id\":\"afc0d602-603d-47db-a372-e2a5b705d83f\",\"type\":\"BoxAnnotation\"}},\"id\":\"f041deaa-3f2f-44d5-a676-239b0c1cf835\",\"type\":\"BoxZoomTool\"},{\"attributes\":{},\"id\":\"a0607ef8-c680-448b-b96e-4deb13d9f42e\",\"type\":\"SaveTool\"},{\"attributes\":{\"data_source\":{\"id\":\"5918327f-b96c-41ce-bbaf-951686ae81e4\",\"type\":\"ColumnDataSource\"},\"glyph\":{\"id\":\"0d866baa-9fa7-4d00-9c9f-312378413dd2\",\"type\":\"Circle\"},\"hover_glyph\":null,\"muted_glyph\":null,\"nonselection_glyph\":{\"id\":\"387c5cd9-8854-4e78-8659-f0b6c74afa81\",\"type\":\"Circle\"},\"selection_glyph\":null,\"view\":{\"id\":\"1936dd10-dbf4-4425-8618-f526aa580ce7\",\"type\":\"CDSView\"}},\"id\":\"39ebdf51-2b6d-424a-879e-080d201ae0f0\",\"type\":\"GlyphRenderer\"},{\"attributes\":{},\"id\":\"f6bf3b25-5a3a-491e-8385-229381abe058\",\"type\":\"ResetTool\"},{\"attributes\":{\"plot\":null,\"text\":\"\"},\"id\":\"5961b69c-04e3-4363-b5ad-a68dcfb660f9\",\"type\":\"Title\"},{\"attributes\":{},\"id\":\"64f98635-db35-483f-b011-6bdee1aefc39\",\"type\":\"HelpTool\"},{\"attributes\":{\"fill_alpha\":{\"value\":0.1},\"fill_color\":{\"value\":\"#1f77b4\"},\"line_alpha\":{\"value\":0.1},\"line_color\":{\"value\":\"#1f77b4\"},\"size\":{\"units\":\"screen\",\"value\":15},\"x\":{\"field\":\"x\"},\"y\":{\"field\":\"y\"}},\"id\":\"f3304211-ffb6-4a28-9b2e-e8f87a3f4232\",\"type\":\"Circle\"},{\"attributes\":{},\"id\":\"72c5682d-fc10-4c8e-bb13-70079344fe52\",\"type\":\"BasicTickFormatter\"},{\"attributes\":{\"items\":[{\"id\":\"6a537b94-a27a-4229-a35e-9634cfff6f52\",\"type\":\"LegendItem\"},{\"id\":\"cfd2589e-0162-42f4-a3f8-35f6fce20b11\",\"type\":\"LegendItem\"}],\"location\":\"top_left\",\"plot\":{\"id\":\"ca9a34a9-5239-4dc4-a6d4-2909cfef3066\",\"subtype\":\"Figure\",\"type\":\"Plot\"}},\"id\":\"99de4420-29d6-4f7d-a235-b64d319c7a1c\",\"type\":\"Legend\"},{\"attributes\":{\"fill_alpha\":{\"value\":0.8},\"fill_color\":{\"value\":\"lime\"},\"line_alpha\":{\"value\":0.8},\"line_color\":{\"value\":\"lime\"},\"size\":{\"units\":\"screen\",\"value\":15},\"x\":{\"field\":\"x\"},\"y\":{\"field\":\"y\"}},\"id\":\"0d866baa-9fa7-4d00-9c9f-312378413dd2\",\"type\":\"Circle\"},{\"attributes\":{},\"id\":\"116fb4fc-f401-4d88-97a5-fe035037c1bb\",\"type\":\"BasicTickFormatter\"},{\"attributes\":{\"below\":[{\"id\":\"21bbe44c-eba0-4f99-8d1c-36183cfd1192\",\"type\":\"LinearAxis\"}],\"left\":[{\"id\":\"d36d57ea-84ad-4a22-bee0-50200a59beff\",\"type\":\"LinearAxis\"}],\"plot_height\":400,\"renderers\":[{\"id\":\"21bbe44c-eba0-4f99-8d1c-36183cfd1192\",\"type\":\"LinearAxis\"},{\"id\":\"4a78f039-2ff2-41cc-80e6-5b3bba5d3ad5\",\"type\":\"Grid\"},{\"id\":\"d36d57ea-84ad-4a22-bee0-50200a59beff\",\"type\":\"LinearAxis\"},{\"id\":\"658a9d35-355f-4d02-97d1-72f12199504a\",\"type\":\"Grid\"},{\"id\":\"afc0d602-603d-47db-a372-e2a5b705d83f\",\"type\":\"BoxAnnotation\"},{\"id\":\"99de4420-29d6-4f7d-a235-b64d319c7a1c\",\"type\":\"Legend\"},{\"id\":\"39ebdf51-2b6d-424a-879e-080d201ae0f0\",\"type\":\"GlyphRenderer\"},{\"id\":\"97e8ef04-a938-42e8-9ad4-48a49dabee0b\",\"type\":\"GlyphRenderer\"}],\"title\":{\"id\":\"5961b69c-04e3-4363-b5ad-a68dcfb660f9\",\"type\":\"Title\"},\"toolbar\":{\"id\":\"3fb073eb-4bb1-48ed-8233-f11c1f6e883d\",\"type\":\"Toolbar\"},\"x_range\":{\"id\":\"7f25fb19-6e39-4ef7-b9eb-885e1904f09f\",\"type\":\"DataRange1d\"},\"x_scale\":{\"id\":\"209e2b6a-71fe-457e-91b8-4474f563b311\",\"type\":\"LinearScale\"},\"y_range\":{\"id\":\"72108d99-8246-4a66-bb5b-73d83ce8f4d7\",\"type\":\"DataRange1d\"},\"y_scale\":{\"id\":\"b1372d7f-1060-4b0e-a907-768f98976c6d\",\"type\":\"LinearScale\"}},\"id\":\"ca9a34a9-5239-4dc4-a6d4-2909cfef3066\",\"subtype\":\"Figure\",\"type\":\"Plot\"},{\"attributes\":{\"fill_alpha\":{\"value\":0.8},\"fill_color\":{\"value\":\"purple\"},\"line_alpha\":{\"value\":0.8},\"line_color\":{\"value\":\"purple\"},\"size\":{\"units\":\"screen\",\"value\":15},\"x\":{\"field\":\"x\"},\"y\":{\"field\":\"y\"}},\"id\":\"605aff5f-677e-42a8-be31-24b936b225a9\",\"type\":\"Circle\"},{\"attributes\":{\"active_drag\":\"auto\",\"active_inspect\":\"auto\",\"active_scroll\":\"auto\",\"active_tap\":\"auto\",\"tools\":[{\"id\":\"00073b14-e3a9-498b-a188-7566be52f441\",\"type\":\"PanTool\"},{\"id\":\"ce18cf53-b7c6-4175-b5e8-4e642dbbe7e7\",\"type\":\"WheelZoomTool\"},{\"id\":\"f041deaa-3f2f-44d5-a676-239b0c1cf835\",\"type\":\"BoxZoomTool\"},{\"id\":\"a0607ef8-c680-448b-b96e-4deb13d9f42e\",\"type\":\"SaveTool\"},{\"id\":\"f6bf3b25-5a3a-491e-8385-229381abe058\",\"type\":\"ResetTool\"},{\"id\":\"64f98635-db35-483f-b011-6bdee1aefc39\",\"type\":\"HelpTool\"}]},\"id\":\"3fb073eb-4bb1-48ed-8233-f11c1f6e883d\",\"type\":\"Toolbar\"},{\"attributes\":{\"data_source\":{\"id\":\"0c31738a-7aac-4797-a316-c048ea6a7293\",\"type\":\"ColumnDataSource\"},\"glyph\":{\"id\":\"605aff5f-677e-42a8-be31-24b936b225a9\",\"type\":\"Circle\"},\"hover_glyph\":null,\"muted_glyph\":null,\"nonselection_glyph\":{\"id\":\"f3304211-ffb6-4a28-9b2e-e8f87a3f4232\",\"type\":\"Circle\"},\"selection_glyph\":null,\"view\":{\"id\":\"17c9ac47-4a1a-42a7-a8bd-208fa296a6df\",\"type\":\"CDSView\"}},\"id\":\"97e8ef04-a938-42e8-9ad4-48a49dabee0b\",\"type\":\"GlyphRenderer\"},{\"attributes\":{\"callback\":null},\"id\":\"7f25fb19-6e39-4ef7-b9eb-885e1904f09f\",\"type\":\"DataRange1d\"},{\"attributes\":{\"callback\":null,\"column_names\":[\"x\",\"y\"],\"data\":{\"x\":[3,6],\"y\":[3,4]}},\"id\":\"0c31738a-7aac-4797-a316-c048ea6a7293\",\"type\":\"ColumnDataSource\"},{\"attributes\":{\"source\":{\"id\":\"0c31738a-7aac-4797-a316-c048ea6a7293\",\"type\":\"ColumnDataSource\"}},\"id\":\"17c9ac47-4a1a-42a7-a8bd-208fa296a6df\",\"type\":\"CDSView\"},{\"attributes\":{\"label\":{\"value\":\"Boston\"},\"renderers\":[{\"id\":\"97e8ef04-a938-42e8-9ad4-48a49dabee0b\",\"type\":\"GlyphRenderer\"}]},\"id\":\"cfd2589e-0162-42f4-a3f8-35f6fce20b11\",\"type\":\"LegendItem\"},{\"attributes\":{\"callback\":null},\"id\":\"72108d99-8246-4a66-bb5b-73d83ce8f4d7\",\"type\":\"DataRange1d\"},{\"attributes\":{\"fill_alpha\":{\"value\":0.1},\"fill_color\":{\"value\":\"#1f77b4\"},\"line_alpha\":{\"value\":0.1},\"line_color\":{\"value\":\"#1f77b4\"},\"size\":{\"units\":\"screen\",\"value\":15},\"x\":{\"field\":\"x\"},\"y\":{\"field\":\"y\"}},\"id\":\"387c5cd9-8854-4e78-8659-f0b6c74afa81\",\"type\":\"Circle\"},{\"attributes\":{},\"id\":\"209e2b6a-71fe-457e-91b8-4474f563b311\",\"type\":\"LinearScale\"},{\"attributes\":{},\"id\":\"b1372d7f-1060-4b0e-a907-768f98976c6d\",\"type\":\"LinearScale\"},{\"attributes\":{\"formatter\":{\"id\":\"72c5682d-fc10-4c8e-bb13-70079344fe52\",\"type\":\"BasicTickFormatter\"},\"plot\":{\"id\":\"ca9a34a9-5239-4dc4-a6d4-2909cfef3066\",\"subtype\":\"Figure\",\"type\":\"Plot\"},\"ticker\":{\"id\":\"548e4f33-e5cf-4b07-a85f-f1e6050b5724\",\"type\":\"BasicTicker\"}},\"id\":\"21bbe44c-eba0-4f99-8d1c-36183cfd1192\",\"type\":\"LinearAxis\"},{\"attributes\":{},\"id\":\"548e4f33-e5cf-4b07-a85f-f1e6050b5724\",\"type\":\"BasicTicker\"},{\"attributes\":{\"plot\":{\"id\":\"ca9a34a9-5239-4dc4-a6d4-2909cfef3066\",\"subtype\":\"Figure\",\"type\":\"Plot\"},\"ticker\":{\"id\":\"548e4f33-e5cf-4b07-a85f-f1e6050b5724\",\"type\":\"BasicTicker\"}},\"id\":\"4a78f039-2ff2-41cc-80e6-5b3bba5d3ad5\",\"type\":\"Grid\"},{\"attributes\":{\"formatter\":{\"id\":\"116fb4fc-f401-4d88-97a5-fe035037c1bb\",\"type\":\"BasicTickFormatter\"},\"plot\":{\"id\":\"ca9a34a9-5239-4dc4-a6d4-2909cfef3066\",\"subtype\":\"Figure\",\"type\":\"Plot\"},\"ticker\":{\"id\":\"0c89e9fb-7a07-4daa-8fa4-52db8e4534a9\",\"type\":\"BasicTicker\"}},\"id\":\"d36d57ea-84ad-4a22-bee0-50200a59beff\",\"type\":\"LinearAxis\"},{\"attributes\":{},\"id\":\"0c89e9fb-7a07-4daa-8fa4-52db8e4534a9\",\"type\":\"BasicTicker\"},{\"attributes\":{\"dimension\":1,\"plot\":{\"id\":\"ca9a34a9-5239-4dc4-a6d4-2909cfef3066\",\"subtype\":\"Figure\",\"type\":\"Plot\"},\"ticker\":{\"id\":\"0c89e9fb-7a07-4daa-8fa4-52db8e4534a9\",\"type\":\"BasicTicker\"}},\"id\":\"658a9d35-355f-4d02-97d1-72f12199504a\",\"type\":\"Grid\"},{\"attributes\":{\"bottom_units\":\"screen\",\"fill_alpha\":{\"value\":0.5},\"fill_color\":{\"value\":\"lightgrey\"},\"left_units\":\"screen\",\"level\":\"overlay\",\"line_alpha\":{\"value\":1.0},\"line_color\":{\"value\":\"black\"},\"line_dash\":[4,4],\"line_width\":{\"value\":2},\"plot\":null,\"render_mode\":\"css\",\"right_units\":\"screen\",\"top_units\":\"screen\"},\"id\":\"afc0d602-603d-47db-a372-e2a5b705d83f\",\"type\":\"BoxAnnotation\"},{\"attributes\":{\"callback\":null,\"column_names\":[\"x\",\"y\"],\"data\":{\"x\":[1,2,4,5],\"y\":[1,1,2,2]}},\"id\":\"5918327f-b96c-41ce-bbaf-951686ae81e4\",\"type\":\"ColumnDataSource\"},{\"attributes\":{},\"id\":\"00073b14-e3a9-498b-a188-7566be52f441\",\"type\":\"PanTool\"}],\"root_ids\":[\"ca9a34a9-5239-4dc4-a6d4-2909cfef3066\"]},\"title\":\"Bokeh Application\",\"version\":\"0.12.7\"}};\n",
       "            var render_items = [{\"docid\":\"7b31fa0f-ecc2-4068-a4a0-b5f5071cef9d\",\"elementid\":\"05504448-3ed2-4d08-8edb-e106dc11d82f\",\"modelid\":\"ca9a34a9-5239-4dc4-a6d4-2909cfef3066\"}];\n",
       "            \n",
       "            Bokeh.embed.embed_items(docs_json, render_items);\n",
       "          };\n",
       "          if (document.readyState != \"loading\") fn();\n",
       "          else document.addEventListener(\"DOMContentLoaded\", fn);\n",
       "        })();\n",
       "      },\n",
       "      function(Bokeh) {\n",
       "      }\n",
       "    ];\n",
       "  \n",
       "    function run_inline_js() {\n",
       "      \n",
       "      if ((root.Bokeh !== undefined) || (force === true)) {\n",
       "        for (var i = 0; i < inline_js.length; i++) {\n",
       "          inline_js[i].call(root, root.Bokeh);\n",
       "        }if (force === true) {\n",
       "          display_loaded();\n",
       "        }} else if (Date.now() < root._bokeh_timeout) {\n",
       "        setTimeout(run_inline_js, 100);\n",
       "      } else if (!root._bokeh_failed_load) {\n",
       "        console.log(\"Bokeh: BokehJS failed to load within specified timeout.\");\n",
       "        root._bokeh_failed_load = true;\n",
       "      } else if (force !== true) {\n",
       "        var cell = $(document.getElementById(\"05504448-3ed2-4d08-8edb-e106dc11d82f\")).parents('.cell').data().cell;\n",
       "        cell.output_area.append_execute_result(NB_LOAD_WARNING)\n",
       "      }\n",
       "  \n",
       "    }\n",
       "  \n",
       "    if (root._bokeh_is_loading === 0) {\n",
       "      console.log(\"Bokeh: BokehJS loaded, going straight to plotting\");\n",
       "      run_inline_js();\n",
       "    } else {\n",
       "      load_libs(js_urls, function() {\n",
       "        console.log(\"Bokeh: BokehJS plotting callback run at\", now());\n",
       "        run_inline_js();\n",
       "      });\n",
       "    }\n",
       "  }(window));\n",
       "</script>"
      ]
     },
     "metadata": {},
     "output_type": "display_data"
    }
   ],
   "source": [
    "p = figure( plot_width=600, plot_height=400)\n",
    "p.scatter(x= scholarship_with_city_GDP[scholarship_with_city_GDP['city']=='London']['scholarship_avg'],\n",
    "           y=scholarship_with_city_GDP[scholarship_with_city_GDP['city']=='London']['GDP'],\n",
    "          color='lime', alpha=0.8, legend='London',\n",
    "          marker='circle', size=15)\n",
    "p.scatter(x= scholarship_with_city_GDP[scholarship_with_city_GDP['city']=='Boston']['scholarship_avg'],\n",
    "           y=scholarship_with_city_GDP[scholarship_with_city_GDP['city']=='Boston']['GDP'],\n",
    "          color='purple', alpha=0.8, legend='Boston',\n",
    "         marker='circle', size=15)\n",
    "p.legend.location = \"top_left\"\n",
    "show(p)"
   ]
  },
  {
   "cell_type": "code",
   "execution_count": 52,
   "metadata": {},
   "outputs": [
    {
     "data": {
      "text/html": [
       "\n",
       "\n",
       "    <div class=\"bk-root\">\n",
       "        <div class=\"bk-plotdiv\" id=\"0d3267bb-892f-480a-a11e-031230c4ed2a\"></div>\n",
       "    </div>\n",
       "<script type=\"text/javascript\">\n",
       "  \n",
       "  (function(root) {\n",
       "    function now() {\n",
       "      return new Date();\n",
       "    }\n",
       "  \n",
       "    var force = false;\n",
       "  \n",
       "    if (typeof (root._bokeh_onload_callbacks) === \"undefined\" || force === true) {\n",
       "      root._bokeh_onload_callbacks = [];\n",
       "      root._bokeh_is_loading = undefined;\n",
       "    }\n",
       "  \n",
       "  \n",
       "    \n",
       "    if (typeof (root._bokeh_timeout) === \"undefined\" || force === true) {\n",
       "      root._bokeh_timeout = Date.now() + 0;\n",
       "      root._bokeh_failed_load = false;\n",
       "    }\n",
       "  \n",
       "    var NB_LOAD_WARNING = {'data': {'text/html':\n",
       "       \"<div style='background-color: #fdd'>\\n\"+\n",
       "       \"<p>\\n\"+\n",
       "       \"BokehJS does not appear to have successfully loaded. If loading BokehJS from CDN, this \\n\"+\n",
       "       \"may be due to a slow or bad network connection. Possible fixes:\\n\"+\n",
       "       \"</p>\\n\"+\n",
       "       \"<ul>\\n\"+\n",
       "       \"<li>re-rerun `output_notebook()` to attempt to load from CDN again, or</li>\\n\"+\n",
       "       \"<li>use INLINE resources instead, as so:</li>\\n\"+\n",
       "       \"</ul>\\n\"+\n",
       "       \"<code>\\n\"+\n",
       "       \"from bokeh.resources import INLINE\\n\"+\n",
       "       \"output_notebook(resources=INLINE)\\n\"+\n",
       "       \"</code>\\n\"+\n",
       "       \"</div>\"}};\n",
       "  \n",
       "    function display_loaded() {\n",
       "      if (root.Bokeh !== undefined) {\n",
       "        var el = document.getElementById(\"0d3267bb-892f-480a-a11e-031230c4ed2a\");\n",
       "        if (el != null) {\n",
       "          el.textContent = \"BokehJS \" + Bokeh.version + \" successfully loaded.\";\n",
       "        }\n",
       "      } else if (Date.now() < root._bokeh_timeout) {\n",
       "        setTimeout(display_loaded, 100)\n",
       "      }\n",
       "    }\n",
       "  \n",
       "  \n",
       "    function run_callbacks() {\n",
       "      try {\n",
       "        root._bokeh_onload_callbacks.forEach(function(callback) { callback() });\n",
       "      }\n",
       "      finally {\n",
       "        delete root._bokeh_onload_callbacks\n",
       "      }\n",
       "      console.info(\"Bokeh: all callbacks have finished\");\n",
       "    }\n",
       "  \n",
       "    function load_libs(js_urls, callback) {\n",
       "      root._bokeh_onload_callbacks.push(callback);\n",
       "      if (root._bokeh_is_loading > 0) {\n",
       "        console.log(\"Bokeh: BokehJS is being loaded, scheduling callback at\", now());\n",
       "        return null;\n",
       "      }\n",
       "      if (js_urls == null || js_urls.length === 0) {\n",
       "        run_callbacks();\n",
       "        return null;\n",
       "      }\n",
       "      console.log(\"Bokeh: BokehJS not loaded, scheduling load and callback at\", now());\n",
       "      root._bokeh_is_loading = js_urls.length;\n",
       "      for (var i = 0; i < js_urls.length; i++) {\n",
       "        var url = js_urls[i];\n",
       "        var s = document.createElement('script');\n",
       "        s.src = url;\n",
       "        s.async = false;\n",
       "        s.onreadystatechange = s.onload = function() {\n",
       "          root._bokeh_is_loading--;\n",
       "          if (root._bokeh_is_loading === 0) {\n",
       "            console.log(\"Bokeh: all BokehJS libraries loaded\");\n",
       "            run_callbacks()\n",
       "          }\n",
       "        };\n",
       "        s.onerror = function() {\n",
       "          console.warn(\"failed to load library \" + url);\n",
       "        };\n",
       "        console.log(\"Bokeh: injecting script tag for BokehJS library: \", url);\n",
       "        document.getElementsByTagName(\"head\")[0].appendChild(s);\n",
       "      }\n",
       "    };var element = document.getElementById(\"0d3267bb-892f-480a-a11e-031230c4ed2a\");\n",
       "    if (element == null) {\n",
       "      console.log(\"Bokeh: ERROR: autoload.js configured with elementid '0d3267bb-892f-480a-a11e-031230c4ed2a' but no matching script tag was found. \")\n",
       "      return false;\n",
       "    }\n",
       "  \n",
       "    var js_urls = [];\n",
       "  \n",
       "    var inline_js = [\n",
       "      function(Bokeh) {\n",
       "        (function() {\n",
       "          var fn = function() {\n",
       "            var docs_json = {\"1e3d5caa-1cad-4b36-b319-77a7676d9d0c\":{\"roots\":{\"references\":[{\"attributes\":{},\"id\":\"b7eeeb53-d54b-4a9d-84dc-68845eedbd69\",\"type\":\"BasicTickFormatter\"},{\"attributes\":{\"fill_alpha\":{\"value\":0.1},\"fill_color\":{\"value\":\"#1f77b4\"},\"line_alpha\":{\"value\":0.1},\"line_color\":{\"value\":\"#1f77b4\"},\"size\":{\"units\":\"screen\",\"value\":15},\"x\":{\"field\":\"x\"},\"y\":{\"field\":\"y\"}},\"id\":\"41cb5715-6788-4a51-8d8d-fa4cdb3d0d30\",\"type\":\"Circle\"},{\"attributes\":{\"callback\":null,\"column_names\":[\"x\",\"y\"],\"data\":{\"x\":[3,6],\"y\":[3,4]}},\"id\":\"aa117a65-73d9-4d27-9525-9bf4cd9bf96a\",\"type\":\"ColumnDataSource\"},{\"attributes\":{\"callback\":null,\"column_names\":[\"x\",\"y\"],\"data\":{\"x\":[1,2,4,5],\"y\":[1,1,2,2]}},\"id\":\"fd4389be-afb7-4bf6-b886-e3f951959bc0\",\"type\":\"ColumnDataSource\"},{\"attributes\":{\"source\":{\"id\":\"aa117a65-73d9-4d27-9525-9bf4cd9bf96a\",\"type\":\"ColumnDataSource\"}},\"id\":\"1ead33c3-2c4f-45a5-b3e1-d6f0deb8c6b9\",\"type\":\"CDSView\"},{\"attributes\":{\"label\":{\"value\":\"Boston\"},\"renderers\":[{\"id\":\"ea2ba7d9-39cc-471c-8a79-108510a1a535\",\"type\":\"GlyphRenderer\"}]},\"id\":\"4f475bcd-419c-4d25-8bbc-73896495ab63\",\"type\":\"LegendItem\"},{\"attributes\":{},\"id\":\"c15f444e-acba-4a3f-bc72-22de5c30a141\",\"type\":\"WheelZoomTool\"},{\"attributes\":{},\"id\":\"d613bffd-af75-4971-a459-f2ad86999444\",\"type\":\"LinearScale\"},{\"attributes\":{},\"id\":\"08484983-5d3e-41c8-b0d5-972547464a03\",\"type\":\"BasicTickFormatter\"},{\"attributes\":{\"below\":[{\"id\":\"54d96f80-9ef3-4c40-8267-74a705e3cb24\",\"type\":\"LinearAxis\"}],\"left\":[{\"id\":\"cfd5bfe3-f9a3-434d-b340-f81e8098c977\",\"type\":\"LinearAxis\"}],\"plot_height\":400,\"renderers\":[{\"id\":\"54d96f80-9ef3-4c40-8267-74a705e3cb24\",\"type\":\"LinearAxis\"},{\"id\":\"966a8584-3f22-4907-8045-c416faee664f\",\"type\":\"Grid\"},{\"id\":\"cfd5bfe3-f9a3-434d-b340-f81e8098c977\",\"type\":\"LinearAxis\"},{\"id\":\"237e0384-39bd-41e6-acf7-f687fe6f93c5\",\"type\":\"Grid\"},{\"id\":\"6f00dfa5-b48a-4968-bbaf-b555013312ac\",\"type\":\"BoxAnnotation\"},{\"id\":\"0e006301-9801-4da7-a3e2-1c833f38a5dc\",\"type\":\"Legend\"},{\"id\":\"6f342f1b-4dda-4491-833b-eba709d2c5db\",\"type\":\"GlyphRenderer\"},{\"id\":\"ea2ba7d9-39cc-471c-8a79-108510a1a535\",\"type\":\"GlyphRenderer\"}],\"title\":{\"id\":\"efc66480-5bae-4237-86c6-4a63c362a54d\",\"type\":\"Title\"},\"toolbar\":{\"id\":\"6f1fc14b-d327-4306-b2cc-82878cf8512b\",\"type\":\"Toolbar\"},\"x_range\":{\"id\":\"d7845571-a7f5-402a-b895-d91bcf6c4a24\",\"type\":\"DataRange1d\"},\"x_scale\":{\"id\":\"d613bffd-af75-4971-a459-f2ad86999444\",\"type\":\"LinearScale\"},\"y_range\":{\"id\":\"b1e30455-8978-4662-b9bb-c5c2a51a8a1d\",\"type\":\"DataRange1d\"},\"y_scale\":{\"id\":\"516714ee-9219-474b-a521-7a27d5d73a23\",\"type\":\"LinearScale\"}},\"id\":\"2c35a4db-cd93-4a6c-b426-983bb53ec96a\",\"subtype\":\"Figure\",\"type\":\"Plot\"},{\"attributes\":{\"fill_alpha\":{\"value\":0.2},\"fill_color\":{\"value\":\"purple\"},\"line_alpha\":{\"value\":0.2},\"line_color\":{\"value\":\"purple\"},\"size\":{\"units\":\"screen\",\"value\":15},\"x\":{\"field\":\"x\"},\"y\":{\"field\":\"y\"}},\"id\":\"b31e7d35-fdb3-436b-9d9d-a1d3115caf17\",\"type\":\"Circle\"},{\"attributes\":{\"overlay\":{\"id\":\"6f00dfa5-b48a-4968-bbaf-b555013312ac\",\"type\":\"BoxAnnotation\"}},\"id\":\"689c7a86-f434-4a71-ad41-21eaeb35981f\",\"type\":\"BoxZoomTool\"},{\"attributes\":{},\"id\":\"516714ee-9219-474b-a521-7a27d5d73a23\",\"type\":\"LinearScale\"},{\"attributes\":{\"callback\":null},\"id\":\"b1e30455-8978-4662-b9bb-c5c2a51a8a1d\",\"type\":\"DataRange1d\"},{\"attributes\":{\"label\":{\"value\":\"London\"},\"renderers\":[{\"id\":\"6f342f1b-4dda-4491-833b-eba709d2c5db\",\"type\":\"GlyphRenderer\"}]},\"id\":\"b4b7a71f-a244-4c99-bf85-e420a3ddab4c\",\"type\":\"LegendItem\"},{\"attributes\":{\"callback\":null},\"id\":\"d7845571-a7f5-402a-b895-d91bcf6c4a24\",\"type\":\"DataRange1d\"},{\"attributes\":{\"active_drag\":\"auto\",\"active_inspect\":\"auto\",\"active_scroll\":\"auto\",\"active_tap\":\"auto\",\"tools\":[{\"id\":\"b37904b5-53fd-4649-ba9a-5c1a636537d7\",\"type\":\"PanTool\"},{\"id\":\"c15f444e-acba-4a3f-bc72-22de5c30a141\",\"type\":\"WheelZoomTool\"},{\"id\":\"689c7a86-f434-4a71-ad41-21eaeb35981f\",\"type\":\"BoxZoomTool\"},{\"id\":\"b0b66e0c-5345-43f4-ae3d-40da641c64f7\",\"type\":\"SaveTool\"},{\"id\":\"02bd5280-1e2e-407c-8dd5-73545af3c614\",\"type\":\"ResetTool\"},{\"id\":\"e78fd865-4dd6-4b9f-b94e-b6d07ac96c4d\",\"type\":\"HelpTool\"}]},\"id\":\"6f1fc14b-d327-4306-b2cc-82878cf8512b\",\"type\":\"Toolbar\"},{\"attributes\":{\"data_source\":{\"id\":\"aa117a65-73d9-4d27-9525-9bf4cd9bf96a\",\"type\":\"ColumnDataSource\"},\"glyph\":{\"id\":\"cc5fdaf3-d627-441e-96f4-3e2f81ea3a30\",\"type\":\"Circle\"},\"hover_glyph\":null,\"muted_glyph\":{\"id\":\"b31e7d35-fdb3-436b-9d9d-a1d3115caf17\",\"type\":\"Circle\"},\"nonselection_glyph\":{\"id\":\"41cb5715-6788-4a51-8d8d-fa4cdb3d0d30\",\"type\":\"Circle\"},\"selection_glyph\":null,\"view\":{\"id\":\"1ead33c3-2c4f-45a5-b3e1-d6f0deb8c6b9\",\"type\":\"CDSView\"}},\"id\":\"ea2ba7d9-39cc-471c-8a79-108510a1a535\",\"type\":\"GlyphRenderer\"},{\"attributes\":{\"plot\":null,\"text\":\"Click on legend entries to hide the corresponding lines\"},\"id\":\"efc66480-5bae-4237-86c6-4a63c362a54d\",\"type\":\"Title\"},{\"attributes\":{\"plot\":{\"id\":\"2c35a4db-cd93-4a6c-b426-983bb53ec96a\",\"subtype\":\"Figure\",\"type\":\"Plot\"},\"ticker\":{\"id\":\"90af5e07-cd5f-4cc0-87a8-4066cd1f32de\",\"type\":\"BasicTicker\"}},\"id\":\"966a8584-3f22-4907-8045-c416faee664f\",\"type\":\"Grid\"},{\"attributes\":{},\"id\":\"90af5e07-cd5f-4cc0-87a8-4066cd1f32de\",\"type\":\"BasicTicker\"},{\"attributes\":{\"fill_alpha\":{\"value\":0.8},\"fill_color\":{\"value\":\"purple\"},\"line_alpha\":{\"value\":0.8},\"line_color\":{\"value\":\"purple\"},\"size\":{\"units\":\"screen\",\"value\":15},\"x\":{\"field\":\"x\"},\"y\":{\"field\":\"y\"}},\"id\":\"cc5fdaf3-d627-441e-96f4-3e2f81ea3a30\",\"type\":\"Circle\"},{\"attributes\":{\"formatter\":{\"id\":\"b7eeeb53-d54b-4a9d-84dc-68845eedbd69\",\"type\":\"BasicTickFormatter\"},\"plot\":{\"id\":\"2c35a4db-cd93-4a6c-b426-983bb53ec96a\",\"subtype\":\"Figure\",\"type\":\"Plot\"},\"ticker\":{\"id\":\"90af5e07-cd5f-4cc0-87a8-4066cd1f32de\",\"type\":\"BasicTicker\"}},\"id\":\"54d96f80-9ef3-4c40-8267-74a705e3cb24\",\"type\":\"LinearAxis\"},{\"attributes\":{\"bottom_units\":\"screen\",\"fill_alpha\":{\"value\":0.5},\"fill_color\":{\"value\":\"lightgrey\"},\"left_units\":\"screen\",\"level\":\"overlay\",\"line_alpha\":{\"value\":1.0},\"line_color\":{\"value\":\"black\"},\"line_dash\":[4,4],\"line_width\":{\"value\":2},\"plot\":null,\"render_mode\":\"css\",\"right_units\":\"screen\",\"top_units\":\"screen\"},\"id\":\"6f00dfa5-b48a-4968-bbaf-b555013312ac\",\"type\":\"BoxAnnotation\"},{\"attributes\":{\"dimension\":1,\"plot\":{\"id\":\"2c35a4db-cd93-4a6c-b426-983bb53ec96a\",\"subtype\":\"Figure\",\"type\":\"Plot\"},\"ticker\":{\"id\":\"f99a1104-68a1-460a-b551-fe09def9b678\",\"type\":\"BasicTicker\"}},\"id\":\"237e0384-39bd-41e6-acf7-f687fe6f93c5\",\"type\":\"Grid\"},{\"attributes\":{\"click_policy\":\"hide\",\"items\":[{\"id\":\"b4b7a71f-a244-4c99-bf85-e420a3ddab4c\",\"type\":\"LegendItem\"},{\"id\":\"4f475bcd-419c-4d25-8bbc-73896495ab63\",\"type\":\"LegendItem\"}],\"location\":\"top_left\",\"plot\":{\"id\":\"2c35a4db-cd93-4a6c-b426-983bb53ec96a\",\"subtype\":\"Figure\",\"type\":\"Plot\"}},\"id\":\"0e006301-9801-4da7-a3e2-1c833f38a5dc\",\"type\":\"Legend\"},{\"attributes\":{\"fill_alpha\":{\"value\":0.1},\"fill_color\":{\"value\":\"#1f77b4\"},\"line_alpha\":{\"value\":0.1},\"line_color\":{\"value\":\"#1f77b4\"},\"size\":{\"units\":\"screen\",\"value\":15},\"x\":{\"field\":\"x\"},\"y\":{\"field\":\"y\"}},\"id\":\"4b2dd858-182a-443a-ab64-28f74dd264a7\",\"type\":\"Circle\"},{\"attributes\":{},\"id\":\"f99a1104-68a1-460a-b551-fe09def9b678\",\"type\":\"BasicTicker\"},{\"attributes\":{\"data_source\":{\"id\":\"fd4389be-afb7-4bf6-b886-e3f951959bc0\",\"type\":\"ColumnDataSource\"},\"glyph\":{\"id\":\"cff8f6fe-eeb4-4d2b-82eb-7b18541e4bfa\",\"type\":\"Circle\"},\"hover_glyph\":null,\"muted_glyph\":{\"id\":\"25ed4d51-5e61-4042-8b1c-25c37a5e9b8c\",\"type\":\"Circle\"},\"nonselection_glyph\":{\"id\":\"4b2dd858-182a-443a-ab64-28f74dd264a7\",\"type\":\"Circle\"},\"selection_glyph\":null,\"view\":{\"id\":\"3ad64f67-0b64-465f-895b-a58aada94071\",\"type\":\"CDSView\"}},\"id\":\"6f342f1b-4dda-4491-833b-eba709d2c5db\",\"type\":\"GlyphRenderer\"},{\"attributes\":{\"formatter\":{\"id\":\"08484983-5d3e-41c8-b0d5-972547464a03\",\"type\":\"BasicTickFormatter\"},\"plot\":{\"id\":\"2c35a4db-cd93-4a6c-b426-983bb53ec96a\",\"subtype\":\"Figure\",\"type\":\"Plot\"},\"ticker\":{\"id\":\"f99a1104-68a1-460a-b551-fe09def9b678\",\"type\":\"BasicTicker\"}},\"id\":\"cfd5bfe3-f9a3-434d-b340-f81e8098c977\",\"type\":\"LinearAxis\"},{\"attributes\":{\"fill_alpha\":{\"value\":0.2},\"fill_color\":{\"value\":\"lime\"},\"line_alpha\":{\"value\":0.2},\"line_color\":{\"value\":\"lime\"},\"size\":{\"units\":\"screen\",\"value\":15},\"x\":{\"field\":\"x\"},\"y\":{\"field\":\"y\"}},\"id\":\"25ed4d51-5e61-4042-8b1c-25c37a5e9b8c\",\"type\":\"Circle\"},{\"attributes\":{},\"id\":\"b0b66e0c-5345-43f4-ae3d-40da641c64f7\",\"type\":\"SaveTool\"},{\"attributes\":{\"source\":{\"id\":\"fd4389be-afb7-4bf6-b886-e3f951959bc0\",\"type\":\"ColumnDataSource\"}},\"id\":\"3ad64f67-0b64-465f-895b-a58aada94071\",\"type\":\"CDSView\"},{\"attributes\":{\"fill_alpha\":{\"value\":0.8},\"fill_color\":{\"value\":\"lime\"},\"line_alpha\":{\"value\":0.8},\"line_color\":{\"value\":\"lime\"},\"size\":{\"units\":\"screen\",\"value\":15},\"x\":{\"field\":\"x\"},\"y\":{\"field\":\"y\"}},\"id\":\"cff8f6fe-eeb4-4d2b-82eb-7b18541e4bfa\",\"type\":\"Circle\"},{\"attributes\":{},\"id\":\"b37904b5-53fd-4649-ba9a-5c1a636537d7\",\"type\":\"PanTool\"},{\"attributes\":{},\"id\":\"e78fd865-4dd6-4b9f-b94e-b6d07ac96c4d\",\"type\":\"HelpTool\"},{\"attributes\":{},\"id\":\"02bd5280-1e2e-407c-8dd5-73545af3c614\",\"type\":\"ResetTool\"}],\"root_ids\":[\"2c35a4db-cd93-4a6c-b426-983bb53ec96a\"]},\"title\":\"Bokeh Application\",\"version\":\"0.12.7\"}};\n",
       "            var render_items = [{\"docid\":\"1e3d5caa-1cad-4b36-b319-77a7676d9d0c\",\"elementid\":\"0d3267bb-892f-480a-a11e-031230c4ed2a\",\"modelid\":\"2c35a4db-cd93-4a6c-b426-983bb53ec96a\"}];\n",
       "            \n",
       "            Bokeh.embed.embed_items(docs_json, render_items);\n",
       "          };\n",
       "          if (document.readyState != \"loading\") fn();\n",
       "          else document.addEventListener(\"DOMContentLoaded\", fn);\n",
       "        })();\n",
       "      },\n",
       "      function(Bokeh) {\n",
       "      }\n",
       "    ];\n",
       "  \n",
       "    function run_inline_js() {\n",
       "      \n",
       "      if ((root.Bokeh !== undefined) || (force === true)) {\n",
       "        for (var i = 0; i < inline_js.length; i++) {\n",
       "          inline_js[i].call(root, root.Bokeh);\n",
       "        }if (force === true) {\n",
       "          display_loaded();\n",
       "        }} else if (Date.now() < root._bokeh_timeout) {\n",
       "        setTimeout(run_inline_js, 100);\n",
       "      } else if (!root._bokeh_failed_load) {\n",
       "        console.log(\"Bokeh: BokehJS failed to load within specified timeout.\");\n",
       "        root._bokeh_failed_load = true;\n",
       "      } else if (force !== true) {\n",
       "        var cell = $(document.getElementById(\"0d3267bb-892f-480a-a11e-031230c4ed2a\")).parents('.cell').data().cell;\n",
       "        cell.output_area.append_execute_result(NB_LOAD_WARNING)\n",
       "      }\n",
       "  \n",
       "    }\n",
       "  \n",
       "    if (root._bokeh_is_loading === 0) {\n",
       "      console.log(\"Bokeh: BokehJS loaded, going straight to plotting\");\n",
       "      run_inline_js();\n",
       "    } else {\n",
       "      load_libs(js_urls, function() {\n",
       "        console.log(\"Bokeh: BokehJS plotting callback run at\", now());\n",
       "        run_inline_js();\n",
       "      });\n",
       "    }\n",
       "  }(window));\n",
       "</script>"
      ]
     },
     "metadata": {},
     "output_type": "display_data"
    }
   ],
   "source": [
    "\n",
    "p = figure( plot_width=600, plot_height=400)\n",
    "p.title.text = 'Click on legend entries to hide the corresponding lines'\n",
    "\n",
    "p.scatter(x= scholarship_with_city_GDP[scholarship_with_city_GDP['city']=='London']['scholarship_avg'],\n",
    "           y=scholarship_with_city_GDP[scholarship_with_city_GDP['city']=='London']['GDP'],\n",
    "          color='lime', alpha=0.8, legend='London',\n",
    "          muted_color='lime', muted_alpha=0.2,\n",
    "          marker='circle', size=15)\n",
    "p.scatter(x= scholarship_with_city_GDP[scholarship_with_city_GDP['city']=='Boston']['scholarship_avg'],\n",
    "           y=scholarship_with_city_GDP[scholarship_with_city_GDP['city']=='Boston']['GDP'],\n",
    "          color='purple', alpha=0.8, legend='Boston',\n",
    "          muted_color='purple', muted_alpha=0.2,\n",
    "         marker='circle', size=15)\n",
    "\n",
    "\n",
    "p.legend.location = \"top_left\"\n",
    "p.legend.click_policy=\"hide\"\n",
    "\n",
    "show(p)"
   ]
  },
  {
   "cell_type": "code",
   "execution_count": 53,
   "metadata": {},
   "outputs": [
    {
     "data": {
      "text/html": [
       "\n",
       "\n",
       "    <div class=\"bk-root\">\n",
       "        <div class=\"bk-plotdiv\" id=\"5fab4d8a-8b76-4b1a-aafd-84e085ae2084\"></div>\n",
       "    </div>\n",
       "<script type=\"text/javascript\">\n",
       "  \n",
       "  (function(root) {\n",
       "    function now() {\n",
       "      return new Date();\n",
       "    }\n",
       "  \n",
       "    var force = false;\n",
       "  \n",
       "    if (typeof (root._bokeh_onload_callbacks) === \"undefined\" || force === true) {\n",
       "      root._bokeh_onload_callbacks = [];\n",
       "      root._bokeh_is_loading = undefined;\n",
       "    }\n",
       "  \n",
       "  \n",
       "    \n",
       "    if (typeof (root._bokeh_timeout) === \"undefined\" || force === true) {\n",
       "      root._bokeh_timeout = Date.now() + 0;\n",
       "      root._bokeh_failed_load = false;\n",
       "    }\n",
       "  \n",
       "    var NB_LOAD_WARNING = {'data': {'text/html':\n",
       "       \"<div style='background-color: #fdd'>\\n\"+\n",
       "       \"<p>\\n\"+\n",
       "       \"BokehJS does not appear to have successfully loaded. If loading BokehJS from CDN, this \\n\"+\n",
       "       \"may be due to a slow or bad network connection. Possible fixes:\\n\"+\n",
       "       \"</p>\\n\"+\n",
       "       \"<ul>\\n\"+\n",
       "       \"<li>re-rerun `output_notebook()` to attempt to load from CDN again, or</li>\\n\"+\n",
       "       \"<li>use INLINE resources instead, as so:</li>\\n\"+\n",
       "       \"</ul>\\n\"+\n",
       "       \"<code>\\n\"+\n",
       "       \"from bokeh.resources import INLINE\\n\"+\n",
       "       \"output_notebook(resources=INLINE)\\n\"+\n",
       "       \"</code>\\n\"+\n",
       "       \"</div>\"}};\n",
       "  \n",
       "    function display_loaded() {\n",
       "      if (root.Bokeh !== undefined) {\n",
       "        var el = document.getElementById(\"5fab4d8a-8b76-4b1a-aafd-84e085ae2084\");\n",
       "        if (el != null) {\n",
       "          el.textContent = \"BokehJS \" + Bokeh.version + \" successfully loaded.\";\n",
       "        }\n",
       "      } else if (Date.now() < root._bokeh_timeout) {\n",
       "        setTimeout(display_loaded, 100)\n",
       "      }\n",
       "    }\n",
       "  \n",
       "  \n",
       "    function run_callbacks() {\n",
       "      try {\n",
       "        root._bokeh_onload_callbacks.forEach(function(callback) { callback() });\n",
       "      }\n",
       "      finally {\n",
       "        delete root._bokeh_onload_callbacks\n",
       "      }\n",
       "      console.info(\"Bokeh: all callbacks have finished\");\n",
       "    }\n",
       "  \n",
       "    function load_libs(js_urls, callback) {\n",
       "      root._bokeh_onload_callbacks.push(callback);\n",
       "      if (root._bokeh_is_loading > 0) {\n",
       "        console.log(\"Bokeh: BokehJS is being loaded, scheduling callback at\", now());\n",
       "        return null;\n",
       "      }\n",
       "      if (js_urls == null || js_urls.length === 0) {\n",
       "        run_callbacks();\n",
       "        return null;\n",
       "      }\n",
       "      console.log(\"Bokeh: BokehJS not loaded, scheduling load and callback at\", now());\n",
       "      root._bokeh_is_loading = js_urls.length;\n",
       "      for (var i = 0; i < js_urls.length; i++) {\n",
       "        var url = js_urls[i];\n",
       "        var s = document.createElement('script');\n",
       "        s.src = url;\n",
       "        s.async = false;\n",
       "        s.onreadystatechange = s.onload = function() {\n",
       "          root._bokeh_is_loading--;\n",
       "          if (root._bokeh_is_loading === 0) {\n",
       "            console.log(\"Bokeh: all BokehJS libraries loaded\");\n",
       "            run_callbacks()\n",
       "          }\n",
       "        };\n",
       "        s.onerror = function() {\n",
       "          console.warn(\"failed to load library \" + url);\n",
       "        };\n",
       "        console.log(\"Bokeh: injecting script tag for BokehJS library: \", url);\n",
       "        document.getElementsByTagName(\"head\")[0].appendChild(s);\n",
       "      }\n",
       "    };var element = document.getElementById(\"5fab4d8a-8b76-4b1a-aafd-84e085ae2084\");\n",
       "    if (element == null) {\n",
       "      console.log(\"Bokeh: ERROR: autoload.js configured with elementid '5fab4d8a-8b76-4b1a-aafd-84e085ae2084' but no matching script tag was found. \")\n",
       "      return false;\n",
       "    }\n",
       "  \n",
       "    var js_urls = [];\n",
       "  \n",
       "    var inline_js = [\n",
       "      function(Bokeh) {\n",
       "        (function() {\n",
       "          var fn = function() {\n",
       "            var docs_json = {\"709a612a-af16-489b-9da9-36f76287b38a\":{\"roots\":{\"references\":[{\"attributes\":{\"label\":{\"value\":\"London\"},\"renderers\":[{\"id\":\"58913726-ffd9-4c01-bf26-671c5509b1b4\",\"type\":\"GlyphRenderer\"}]},\"id\":\"5d1c627c-f9a9-47cb-9327-c922718fd1a4\",\"type\":\"LegendItem\"},{\"attributes\":{\"source\":{\"id\":\"a95a81d8-9e63-47e7-8bad-5aca3e956ac1\",\"type\":\"ColumnDataSource\"}},\"id\":\"a27c3658-b8b2-43c6-b7a3-d91ace968f38\",\"type\":\"CDSView\"},{\"attributes\":{\"data_source\":{\"id\":\"9258e4a2-8c31-4fc9-82d4-5e463ebe87a4\",\"type\":\"ColumnDataSource\"},\"glyph\":{\"id\":\"32e5962c-f010-47c4-b560-2b0ecba77d6b\",\"type\":\"Circle\"},\"hover_glyph\":null,\"muted_glyph\":{\"id\":\"40bb6aea-02e9-44ff-bb76-bc503008742b\",\"type\":\"Circle\"},\"nonselection_glyph\":{\"id\":\"cd990f4c-5ef5-45cd-b170-cac862124986\",\"type\":\"Circle\"},\"selection_glyph\":null,\"view\":{\"id\":\"96931ba7-a77d-4a1a-9536-19062ea59e36\",\"type\":\"CDSView\"}},\"id\":\"a391749f-624d-49f8-9280-467ace690809\",\"type\":\"GlyphRenderer\"},{\"attributes\":{\"plot\":null,\"text\":\"Mouse over the dots\"},\"id\":\"17938547-7da8-4f44-bb6a-888ad9ba479f\",\"type\":\"Title\"},{\"attributes\":{},\"id\":\"f23690fa-6d4c-4bdb-94e0-7b9ab03bad59\",\"type\":\"BasicTickFormatter\"},{\"attributes\":{\"fill_alpha\":{\"value\":0.8},\"fill_color\":{\"value\":\"purple\"},\"line_alpha\":{\"value\":0.8},\"line_color\":{\"value\":\"purple\"},\"size\":{\"units\":\"screen\",\"value\":15},\"x\":{\"field\":\"scholarship_avg\"},\"y\":{\"field\":\"GDP\"}},\"id\":\"32e5962c-f010-47c4-b560-2b0ecba77d6b\",\"type\":\"Circle\"},{\"attributes\":{\"fill_alpha\":{\"value\":0.8},\"fill_color\":{\"value\":\"lime\"},\"line_alpha\":{\"value\":0.8},\"line_color\":{\"value\":\"lime\"},\"size\":{\"units\":\"screen\",\"value\":15},\"x\":{\"field\":\"scholarship_avg\"},\"y\":{\"field\":\"GDP\"}},\"id\":\"a8428110-1224-40c3-9538-d871cbbf752c\",\"type\":\"Circle\"},{\"attributes\":{},\"id\":\"d854fffc-f791-496a-a9ef-a3b40a834c9e\",\"type\":\"HelpTool\"},{\"attributes\":{\"fill_alpha\":{\"value\":0.1},\"fill_color\":{\"value\":\"#1f77b4\"},\"line_alpha\":{\"value\":0.1},\"line_color\":{\"value\":\"#1f77b4\"},\"size\":{\"units\":\"screen\",\"value\":15},\"x\":{\"field\":\"scholarship_avg\"},\"y\":{\"field\":\"GDP\"}},\"id\":\"17ffb7fa-0c8d-4792-b956-5b021eb673d1\",\"type\":\"Circle\"},{\"attributes\":{\"fill_alpha\":{\"value\":0.2},\"fill_color\":{\"value\":\"lime\"},\"line_alpha\":{\"value\":0.2},\"line_color\":{\"value\":\"lime\"},\"size\":{\"units\":\"screen\",\"value\":15},\"x\":{\"field\":\"scholarship_avg\"},\"y\":{\"field\":\"GDP\"}},\"id\":\"80185106-f2b3-41cb-9809-da1920d7f101\",\"type\":\"Circle\"},{\"attributes\":{},\"id\":\"4bc3cea3-f65e-4b0b-b899-db4561f841cf\",\"type\":\"BasicTickFormatter\"},{\"attributes\":{\"fill_alpha\":{\"value\":0.1},\"fill_color\":{\"value\":\"#1f77b4\"},\"line_alpha\":{\"value\":0.1},\"line_color\":{\"value\":\"#1f77b4\"},\"size\":{\"units\":\"screen\",\"value\":15},\"x\":{\"field\":\"scholarship_avg\"},\"y\":{\"field\":\"GDP\"}},\"id\":\"cd990f4c-5ef5-45cd-b170-cac862124986\",\"type\":\"Circle\"},{\"attributes\":{\"below\":[{\"id\":\"85c573ab-59a9-486b-9e1c-d219d18ed8fb\",\"type\":\"LinearAxis\"}],\"left\":[{\"id\":\"347c4aeb-8654-4adb-991c-51e4b3a6bac4\",\"type\":\"LinearAxis\"}],\"plot_height\":400,\"renderers\":[{\"id\":\"85c573ab-59a9-486b-9e1c-d219d18ed8fb\",\"type\":\"LinearAxis\"},{\"id\":\"ff573d1e-6777-4a31-9c1e-65467bbcdc13\",\"type\":\"Grid\"},{\"id\":\"347c4aeb-8654-4adb-991c-51e4b3a6bac4\",\"type\":\"LinearAxis\"},{\"id\":\"d55d56ba-44a8-45af-b821-c4936b86f9c2\",\"type\":\"Grid\"},{\"id\":\"63d0d37d-2922-42b8-a64d-d54377a8413f\",\"type\":\"BoxAnnotation\"},{\"id\":\"22549e09-351c-4172-8a3c-6269e2ba7ef6\",\"type\":\"Legend\"},{\"id\":\"58913726-ffd9-4c01-bf26-671c5509b1b4\",\"type\":\"GlyphRenderer\"},{\"id\":\"a391749f-624d-49f8-9280-467ace690809\",\"type\":\"GlyphRenderer\"}],\"title\":{\"id\":\"17938547-7da8-4f44-bb6a-888ad9ba479f\",\"type\":\"Title\"},\"toolbar\":{\"id\":\"42e0baf7-4ce2-4beb-a3e8-642295fa1037\",\"type\":\"Toolbar\"},\"x_range\":{\"id\":\"b69e02de-6b1a-4405-aa54-ac22d3363508\",\"type\":\"DataRange1d\"},\"x_scale\":{\"id\":\"f307b780-4fb3-482e-925c-0937213222ee\",\"type\":\"LinearScale\"},\"y_range\":{\"id\":\"49bc3c98-660d-49f6-bc8b-772de8844723\",\"type\":\"DataRange1d\"},\"y_scale\":{\"id\":\"61027b7a-c315-4255-983a-175f3aac0863\",\"type\":\"LinearScale\"}},\"id\":\"67e3efe2-a4f0-4cbe-965a-e9936e0a7133\",\"subtype\":\"Figure\",\"type\":\"Plot\"},{\"attributes\":{\"callback\":null,\"column_names\":[\"scholarship_avg\",\"university\",\"year\",\"city\",\"GDP\",\"index\"],\"data\":{\"GDP\":[1,1,2,2],\"city\":[\"London\",\"London\",\"London\",\"London\"],\"index\":[0,1,3,4],\"scholarship_avg\":[1,2,4,5],\"university\":[\"Queen Mary University\",\"Royal Holloway University\",\"Queen Mary University\",\"Royal Holloway University\"],\"year\":[2017,2017,2018,2018]}},\"id\":\"a95a81d8-9e63-47e7-8bad-5aca3e956ac1\",\"type\":\"ColumnDataSource\"},{\"attributes\":{\"active_drag\":\"auto\",\"active_inspect\":\"auto\",\"active_scroll\":\"auto\",\"active_tap\":\"auto\",\"tools\":[{\"id\":\"552cf8c0-80f7-4ed3-aeed-9abfbef56009\",\"type\":\"PanTool\"},{\"id\":\"bed465c2-7956-4809-94c2-49f240cfc7ab\",\"type\":\"WheelZoomTool\"},{\"id\":\"970cb98a-2374-4244-b77b-8733a851a98e\",\"type\":\"BoxZoomTool\"},{\"id\":\"0db7d099-47a4-4417-af20-0d6d695e257f\",\"type\":\"SaveTool\"},{\"id\":\"e07be738-a179-4af8-992e-48dc0d174911\",\"type\":\"ResetTool\"},{\"id\":\"d854fffc-f791-496a-a9ef-a3b40a834c9e\",\"type\":\"HelpTool\"},{\"id\":\"17d2e08e-5d53-4aa8-86be-325729948b8a\",\"type\":\"HoverTool\"},{\"id\":\"17d2e08e-5d53-4aa8-86be-325729948b8a\",\"type\":\"HoverTool\"}]},\"id\":\"42e0baf7-4ce2-4beb-a3e8-642295fa1037\",\"type\":\"Toolbar\"},{\"attributes\":{\"callback\":null},\"id\":\"b69e02de-6b1a-4405-aa54-ac22d3363508\",\"type\":\"DataRange1d\"},{\"attributes\":{},\"id\":\"e07be738-a179-4af8-992e-48dc0d174911\",\"type\":\"ResetTool\"},{\"attributes\":{},\"id\":\"220d7bbd-76eb-42c4-9768-5b1116289a15\",\"type\":\"BasicTicker\"},{\"attributes\":{\"formatter\":{\"id\":\"4bc3cea3-f65e-4b0b-b899-db4561f841cf\",\"type\":\"BasicTickFormatter\"},\"plot\":{\"id\":\"67e3efe2-a4f0-4cbe-965a-e9936e0a7133\",\"subtype\":\"Figure\",\"type\":\"Plot\"},\"ticker\":{\"id\":\"220d7bbd-76eb-42c4-9768-5b1116289a15\",\"type\":\"BasicTicker\"}},\"id\":\"85c573ab-59a9-486b-9e1c-d219d18ed8fb\",\"type\":\"LinearAxis\"},{\"attributes\":{\"plot\":{\"id\":\"67e3efe2-a4f0-4cbe-965a-e9936e0a7133\",\"subtype\":\"Figure\",\"type\":\"Plot\"},\"ticker\":{\"id\":\"220d7bbd-76eb-42c4-9768-5b1116289a15\",\"type\":\"BasicTicker\"}},\"id\":\"ff573d1e-6777-4a31-9c1e-65467bbcdc13\",\"type\":\"Grid\"},{\"attributes\":{},\"id\":\"61027b7a-c315-4255-983a-175f3aac0863\",\"type\":\"LinearScale\"},{\"attributes\":{},\"id\":\"f307b780-4fb3-482e-925c-0937213222ee\",\"type\":\"LinearScale\"},{\"attributes\":{\"callback\":null},\"id\":\"49bc3c98-660d-49f6-bc8b-772de8844723\",\"type\":\"DataRange1d\"},{\"attributes\":{\"formatter\":{\"id\":\"f23690fa-6d4c-4bdb-94e0-7b9ab03bad59\",\"type\":\"BasicTickFormatter\"},\"plot\":{\"id\":\"67e3efe2-a4f0-4cbe-965a-e9936e0a7133\",\"subtype\":\"Figure\",\"type\":\"Plot\"},\"ticker\":{\"id\":\"1bcc852b-66d8-4e5c-a647-3483da29c99d\",\"type\":\"BasicTicker\"}},\"id\":\"347c4aeb-8654-4adb-991c-51e4b3a6bac4\",\"type\":\"LinearAxis\"},{\"attributes\":{\"data_source\":{\"id\":\"a95a81d8-9e63-47e7-8bad-5aca3e956ac1\",\"type\":\"ColumnDataSource\"},\"glyph\":{\"id\":\"a8428110-1224-40c3-9538-d871cbbf752c\",\"type\":\"Circle\"},\"hover_glyph\":null,\"muted_glyph\":{\"id\":\"80185106-f2b3-41cb-9809-da1920d7f101\",\"type\":\"Circle\"},\"nonselection_glyph\":{\"id\":\"17ffb7fa-0c8d-4792-b956-5b021eb673d1\",\"type\":\"Circle\"},\"selection_glyph\":null,\"view\":{\"id\":\"a27c3658-b8b2-43c6-b7a3-d91ace968f38\",\"type\":\"CDSView\"}},\"id\":\"58913726-ffd9-4c01-bf26-671c5509b1b4\",\"type\":\"GlyphRenderer\"},{\"attributes\":{\"dimension\":1,\"plot\":{\"id\":\"67e3efe2-a4f0-4cbe-965a-e9936e0a7133\",\"subtype\":\"Figure\",\"type\":\"Plot\"},\"ticker\":{\"id\":\"1bcc852b-66d8-4e5c-a647-3483da29c99d\",\"type\":\"BasicTicker\"}},\"id\":\"d55d56ba-44a8-45af-b821-c4936b86f9c2\",\"type\":\"Grid\"},{\"attributes\":{\"callback\":null,\"column_names\":[\"scholarship_avg\",\"university\",\"year\",\"city\",\"GDP\",\"index\"],\"data\":{\"GDP\":[3,4],\"city\":[\"Boston\",\"Boston\"],\"index\":[2,5],\"scholarship_avg\":[3,6],\"university\":[\"Boston University\",\"Boston University\"],\"year\":[2017,2018]}},\"id\":\"9258e4a2-8c31-4fc9-82d4-5e463ebe87a4\",\"type\":\"ColumnDataSource\"},{\"attributes\":{\"bottom_units\":\"screen\",\"fill_alpha\":{\"value\":0.5},\"fill_color\":{\"value\":\"lightgrey\"},\"left_units\":\"screen\",\"level\":\"overlay\",\"line_alpha\":{\"value\":1.0},\"line_color\":{\"value\":\"black\"},\"line_dash\":[4,4],\"line_width\":{\"value\":2},\"plot\":null,\"render_mode\":\"css\",\"right_units\":\"screen\",\"top_units\":\"screen\"},\"id\":\"63d0d37d-2922-42b8-a64d-d54377a8413f\",\"type\":\"BoxAnnotation\"},{\"attributes\":{},\"id\":\"1bcc852b-66d8-4e5c-a647-3483da29c99d\",\"type\":\"BasicTicker\"},{\"attributes\":{\"overlay\":{\"id\":\"63d0d37d-2922-42b8-a64d-d54377a8413f\",\"type\":\"BoxAnnotation\"}},\"id\":\"970cb98a-2374-4244-b77b-8733a851a98e\",\"type\":\"BoxZoomTool\"},{\"attributes\":{},\"id\":\"552cf8c0-80f7-4ed3-aeed-9abfbef56009\",\"type\":\"PanTool\"},{\"attributes\":{\"label\":{\"value\":\"Boston\"},\"renderers\":[{\"id\":\"a391749f-624d-49f8-9280-467ace690809\",\"type\":\"GlyphRenderer\"}]},\"id\":\"312bb71a-0155-45a2-806c-4500416dd507\",\"type\":\"LegendItem\"},{\"attributes\":{},\"id\":\"bed465c2-7956-4809-94c2-49f240cfc7ab\",\"type\":\"WheelZoomTool\"},{\"attributes\":{\"callback\":null,\"tooltips\":[[\"uni\",\"@university\"],[\"year\",\"@year\"]]},\"id\":\"17d2e08e-5d53-4aa8-86be-325729948b8a\",\"type\":\"HoverTool\"},{\"attributes\":{\"fill_alpha\":{\"value\":0.2},\"fill_color\":{\"value\":\"purple\"},\"line_alpha\":{\"value\":0.2},\"line_color\":{\"value\":\"purple\"},\"size\":{\"units\":\"screen\",\"value\":15},\"x\":{\"field\":\"scholarship_avg\"},\"y\":{\"field\":\"GDP\"}},\"id\":\"40bb6aea-02e9-44ff-bb76-bc503008742b\",\"type\":\"Circle\"},{\"attributes\":{},\"id\":\"0db7d099-47a4-4417-af20-0d6d695e257f\",\"type\":\"SaveTool\"},{\"attributes\":{\"click_policy\":\"mute\",\"items\":[{\"id\":\"5d1c627c-f9a9-47cb-9327-c922718fd1a4\",\"type\":\"LegendItem\"},{\"id\":\"312bb71a-0155-45a2-806c-4500416dd507\",\"type\":\"LegendItem\"}],\"location\":\"top_left\",\"plot\":{\"id\":\"67e3efe2-a4f0-4cbe-965a-e9936e0a7133\",\"subtype\":\"Figure\",\"type\":\"Plot\"}},\"id\":\"22549e09-351c-4172-8a3c-6269e2ba7ef6\",\"type\":\"Legend\"},{\"attributes\":{\"source\":{\"id\":\"9258e4a2-8c31-4fc9-82d4-5e463ebe87a4\",\"type\":\"ColumnDataSource\"}},\"id\":\"96931ba7-a77d-4a1a-9536-19062ea59e36\",\"type\":\"CDSView\"}],\"root_ids\":[\"67e3efe2-a4f0-4cbe-965a-e9936e0a7133\"]},\"title\":\"Bokeh Application\",\"version\":\"0.12.7\"}};\n",
       "            var render_items = [{\"docid\":\"709a612a-af16-489b-9da9-36f76287b38a\",\"elementid\":\"5fab4d8a-8b76-4b1a-aafd-84e085ae2084\",\"modelid\":\"67e3efe2-a4f0-4cbe-965a-e9936e0a7133\"}];\n",
       "            \n",
       "            Bokeh.embed.embed_items(docs_json, render_items);\n",
       "          };\n",
       "          if (document.readyState != \"loading\") fn();\n",
       "          else document.addEventListener(\"DOMContentLoaded\", fn);\n",
       "        })();\n",
       "      },\n",
       "      function(Bokeh) {\n",
       "      }\n",
       "    ];\n",
       "  \n",
       "    function run_inline_js() {\n",
       "      \n",
       "      if ((root.Bokeh !== undefined) || (force === true)) {\n",
       "        for (var i = 0; i < inline_js.length; i++) {\n",
       "          inline_js[i].call(root, root.Bokeh);\n",
       "        }if (force === true) {\n",
       "          display_loaded();\n",
       "        }} else if (Date.now() < root._bokeh_timeout) {\n",
       "        setTimeout(run_inline_js, 100);\n",
       "      } else if (!root._bokeh_failed_load) {\n",
       "        console.log(\"Bokeh: BokehJS failed to load within specified timeout.\");\n",
       "        root._bokeh_failed_load = true;\n",
       "      } else if (force !== true) {\n",
       "        var cell = $(document.getElementById(\"5fab4d8a-8b76-4b1a-aafd-84e085ae2084\")).parents('.cell').data().cell;\n",
       "        cell.output_area.append_execute_result(NB_LOAD_WARNING)\n",
       "      }\n",
       "  \n",
       "    }\n",
       "  \n",
       "    if (root._bokeh_is_loading === 0) {\n",
       "      console.log(\"Bokeh: BokehJS loaded, going straight to plotting\");\n",
       "      run_inline_js();\n",
       "    } else {\n",
       "      load_libs(js_urls, function() {\n",
       "        console.log(\"Bokeh: BokehJS plotting callback run at\", now());\n",
       "        run_inline_js();\n",
       "      });\n",
       "    }\n",
       "  }(window));\n",
       "</script>"
      ]
     },
     "metadata": {},
     "output_type": "display_data"
    }
   ],
   "source": [
    "\n",
    "p = figure( plot_width=600, plot_height=400)\n",
    "p.title.text = \"Mouse over the dots\"\n",
    "\n",
    "l_df = scholarship_with_city_GDP[scholarship_with_city_GDP['city']=='London']\n",
    "source = ColumnDataSource(l_df)\n",
    "p.scatter(x= 'scholarship_avg',\n",
    "           y='GDP',\n",
    "          color='lime', alpha=0.8, legend='London',\n",
    "          muted_color='lime', muted_alpha=0.2,\n",
    "          marker='circle', size=15,\n",
    "         source = source)\n",
    "\n",
    "hover = HoverTool(tooltips=[(\"uni\", \"@university\"),\n",
    "                            ('year', '@year')])\n",
    "p.add_tools(hover)\n",
    "\n",
    "b_df = scholarship_with_city_GDP[scholarship_with_city_GDP['city']=='Boston']\n",
    "source = ColumnDataSource(b_df)\n",
    "p.scatter(x= 'scholarship_avg',\n",
    "           y='GDP',\n",
    "          color='purple', alpha=0.8, legend='Boston',\n",
    "          muted_color='purple', muted_alpha=0.2,\n",
    "         marker='circle', size=15,\n",
    "         source = source)\n",
    "\n",
    "\n",
    "p.add_tools(hover)\n",
    "p.legend.location = \"top_left\"\n",
    "p.legend.click_policy=\"mute\"#\"hide\"\n",
    "\n",
    "show(p)"
   ]
  },
  {
   "cell_type": "markdown",
   "metadata": {},
   "source": [
    "### 1 - exercise\n",
    "\n",
    "Load the zipcode_dict.npy file into a dictionary. <br>\n",
    "Create a list (called df_rows) from the dictionary where each element looks like ['city','zipcode']. For each city there should be a row for all the corresponding zip codes."
   ]
  },
  {
   "cell_type": "code",
   "execution_count": null,
   "metadata": {
    "collapsed": true
   },
   "outputs": [],
   "source": [
    "### Your code here\n"
   ]
  },
  {
   "cell_type": "markdown",
   "metadata": {},
   "source": [
    "### 1 - check yourself"
   ]
  },
  {
   "cell_type": "code",
   "execution_count": null,
   "metadata": {},
   "outputs": [],
   "source": [
    "if len(df_rows) == 147:\n",
    "    print('Your list is correct')\n",
    "else:\n",
    "    print('Your list is NOT correct')"
   ]
  },
  {
   "cell_type": "markdown",
   "metadata": {},
   "source": [
    "### 2 - exercise\n",
    "\n",
    "- Create a dataframe from the df_rows list, where the columns are called landmark az zipcode <br>\n",
    "- Create a new column in the dataframe called zip that contains the values from the zipcode column without the ',' and converted into integer type\n",
    "- Drop the zipcode column"
   ]
  },
  {
   "cell_type": "code",
   "execution_count": null,
   "metadata": {
    "collapsed": true
   },
   "outputs": [],
   "source": [
    "### Your code here\n"
   ]
  },
  {
   "cell_type": "markdown",
   "metadata": {},
   "source": [
    "### 2 - check yourself"
   ]
  },
  {
   "cell_type": "code",
   "execution_count": null,
   "metadata": {},
   "outputs": [],
   "source": [
    "if zipdf['zip'].dtype==int and len(zipdf) == 147:\n",
    "    print('The dataframe is correct')\n",
    "else:\n",
    "    print('The dataframe is NOT correct')"
   ]
  },
  {
   "cell_type": "markdown",
   "metadata": {},
   "source": [
    "### 3 - exercise\n",
    "Load the trip, station and weather csv-s into pandas dataframes <br>\n",
    "Join them on the appropriate columns and create a final dataframe called merged_df where there is a row for each trip with the weather conditions for the corresponding day in the corresponding city (landmark)"
   ]
  },
  {
   "cell_type": "code",
   "execution_count": null,
   "metadata": {
    "collapsed": true
   },
   "outputs": [],
   "source": [
    "### Your code here\n"
   ]
  },
  {
   "cell_type": "markdown",
   "metadata": {},
   "source": [
    "### 3 - check yourself"
   ]
  },
  {
   "cell_type": "code",
   "execution_count": null,
   "metadata": {},
   "outputs": [],
   "source": [
    "if sorted(merged_df['Events'].value_counts().tolist()) == [498, 793, 10393, 11697, 120232]:\n",
    "    print('The dataframe is correct')\n",
    "else:\n",
    "    print('The dataframe is NOT correct')"
   ]
  },
  {
   "cell_type": "markdown",
   "metadata": {},
   "source": [
    "### 4 - exercise\n",
    "\n",
    "Create a new column in the merged_df called weekend where the value is True for Saturday and Sunday and False for the other days. If you want you can create helper column that contains the name of the day first"
   ]
  },
  {
   "cell_type": "code",
   "execution_count": null,
   "metadata": {
    "collapsed": true
   },
   "outputs": [],
   "source": [
    "### Your code here\n"
   ]
  },
  {
   "cell_type": "markdown",
   "metadata": {},
   "source": [
    "### 4 - check yourself"
   ]
  },
  {
   "cell_type": "code",
   "execution_count": null,
   "metadata": {},
   "outputs": [],
   "source": [
    "if sorted(merged_df['weekend'].value_counts().tolist()) == [23046, 121128]:\n",
    "    print('The weekend column is correct')\n",
    "else:\n",
    "    print('The weekend column is NOT correct')"
   ]
  },
  {
   "cell_type": "markdown",
   "metadata": {},
   "source": [
    "### 5 - exercise\n",
    "\n",
    "We would like to plot the number of trips taken by Customers/Subscribers by the different weather conditions. Let's start with the Max_Temperature_F! <br>\n",
    "Create a dataframe where we can find for each possible values of the Max_Temperature_F, how many trips were taken by Subscirption Type and weekend. It will be the easiest to plot if the dataframe is in long format: for each temperature value there are 4 rows: weekend - Customer, weeken - Subscriber, weekday - Customer, weekday - Subscriber. Name the columns containing the number of trips to num_trips."
   ]
  },
  {
   "cell_type": "code",
   "execution_count": null,
   "metadata": {
    "collapsed": true,
    "scrolled": true
   },
   "outputs": [],
   "source": [
    "### Your code here\n"
   ]
  },
  {
   "cell_type": "markdown",
   "metadata": {},
   "source": [
    "### 5 - check yourself"
   ]
  },
  {
   "cell_type": "code",
   "execution_count": null,
   "metadata": {
    "scrolled": true
   },
   "outputs": [],
   "source": [
    "if len(toplot) == 165:\n",
    "    print('The dataframe is correct')\n",
    "else:\n",
    "    print('The dataframe is NOT correct')"
   ]
  },
  {
   "cell_type": "markdown",
   "metadata": {},
   "source": [
    "### 6 - exercise\n",
    "Use seaborn to lmplot to plot the relationship between the max temperature and the number of trips taken by Customers/Subscribers! Draw two separate plots for weekends and weekdays."
   ]
  },
  {
   "cell_type": "code",
   "execution_count": null,
   "metadata": {
    "collapsed": true
   },
   "outputs": [],
   "source": [
    "### Your code here\n"
   ]
  },
  {
   "cell_type": "markdown",
   "metadata": {},
   "source": [
    "### 7 - exercise\n",
    "\n",
    "Use a for loop to draw similar charts for all numeric weather conditions!"
   ]
  },
  {
   "cell_type": "code",
   "execution_count": null,
   "metadata": {
    "scrolled": true
   },
   "outputs": [],
   "source": [
    "### Your code here\n"
   ]
  },
  {
   "cell_type": "markdown",
   "metadata": {},
   "source": [
    "### 8 - exercise\n",
    "Similarly as above, loop the numeric weather columns and draw a chart a weekend and a weekday chart for each variable. This time, calculate the customer/subscriber ratio and use the jointplot chart type to show it. You can draw a regression line on this type of chart as well. Check the documention to find the argument for it!"
   ]
  },
  {
   "cell_type": "code",
   "execution_count": null,
   "metadata": {},
   "outputs": [],
   "source": [
    "### Your code here\n"
   ]
  },
  {
   "cell_type": "code",
   "execution_count": null,
   "metadata": {
    "collapsed": true
   },
   "outputs": [],
   "source": []
  }
 ],
 "metadata": {
  "kernelspec": {
   "display_name": "Python 3",
   "language": "python",
   "name": "python3"
  },
  "language_info": {
   "codemirror_mode": {
    "name": "ipython",
    "version": 3
   },
   "file_extension": ".py",
   "mimetype": "text/x-python",
   "name": "python",
   "nbconvert_exporter": "python",
   "pygments_lexer": "ipython3",
   "version": "3.6.2"
  }
 },
 "nbformat": 4,
 "nbformat_minor": 2
}
