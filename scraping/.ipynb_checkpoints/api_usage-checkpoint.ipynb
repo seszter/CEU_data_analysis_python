{
 "cells": [
  {
   "cell_type": "markdown",
   "metadata": {},
   "source": [
    "### Using API"
   ]
  },
  {
   "cell_type": "code",
   "execution_count": null,
   "metadata": {
    "collapsed": true
   },
   "outputs": [],
   "source": [
    "#http://open-notify.org/Open-Notify-API/"
   ]
  },
  {
   "cell_type": "markdown",
   "metadata": {},
   "source": [
    "#### getting response"
   ]
  },
  {
   "cell_type": "code",
   "execution_count": 1,
   "metadata": {
    "collapsed": true
   },
   "outputs": [],
   "source": [
    "import requests"
   ]
  },
  {
   "cell_type": "code",
   "execution_count": 52,
   "metadata": {},
   "outputs": [
    {
     "data": {
      "text/plain": [
       "<Response [200]>"
      ]
     },
     "execution_count": 52,
     "metadata": {},
     "output_type": "execute_result"
    }
   ],
   "source": [
    "requests.get(\"http://api.open-notify.org/astros.json\")"
   ]
  },
  {
   "cell_type": "code",
   "execution_count": 53,
   "metadata": {},
   "outputs": [
    {
     "data": {
      "text/plain": [
       "<Response [404]>"
      ]
     },
     "execution_count": 53,
     "metadata": {},
     "output_type": "execute_result"
    }
   ],
   "source": [
    "requests.get(\"http://api.open-notify.org/astros.json+notvalid\")"
   ]
  },
  {
   "cell_type": "code",
   "execution_count": 71,
   "metadata": {},
   "outputs": [
    {
     "data": {
      "text/plain": [
       "requests.models.Response"
      ]
     },
     "execution_count": 71,
     "metadata": {},
     "output_type": "execute_result"
    }
   ],
   "source": [
    "resp = requests.get(\"http://api.open-notify.org/astros.json\")\n",
    "type(resp)"
   ]
  },
  {
   "cell_type": "code",
   "execution_count": 72,
   "metadata": {},
   "outputs": [
    {
     "data": {
      "text/plain": [
       "'{\"number\": 6, \"message\": \"success\", \"people\": [{\"name\": \"Sergey Prokopyev\", \"craft\": \"ISS\"}, {\"name\": \"Alexander Gerst\", \"craft\": \"ISS\"}, {\"name\": \"Serena Aunon-Chancellor\", \"craft\": \"ISS\"}, {\"name\": \"Oleg Kononenko\", \"craft\": \"ISS\"}, {\"name\": \"David Saint-Jacques\", \"craft\": \"ISS\"}, {\"name\": \"Anne McClain\", \"craft\": \"ISS\"}]}'"
      ]
     },
     "execution_count": 72,
     "metadata": {},
     "output_type": "execute_result"
    }
   ],
   "source": [
    "resp.text"
   ]
  },
  {
   "cell_type": "code",
   "execution_count": 75,
   "metadata": {},
   "outputs": [
    {
     "data": {
      "text/plain": [
       "str"
      ]
     },
     "execution_count": 75,
     "metadata": {},
     "output_type": "execute_result"
    }
   ],
   "source": [
    "type(resp.text)"
   ]
  },
  {
   "cell_type": "markdown",
   "metadata": {},
   "source": [
    "#### using parameters"
   ]
  },
  {
   "cell_type": "code",
   "execution_count": 80,
   "metadata": {},
   "outputs": [
    {
     "data": {
      "text/plain": [
       "'{\\n  \"message\": \"success\", \\n  \"request\": {\\n    \"altitude\": 100, \\n    \"datetime\": 1544086039, \\n    \"latitude\": 45.0, \\n    \"longitude\": -122.3, \\n    \"passes\": 5\\n  }, \\n  \"response\": [\\n    {\\n      \"duration\": 595, \\n      \"risetime\": 1544130638\\n    }, \\n    {\\n      \"duration\": 639, \\n      \"risetime\": 1544136392\\n    }, \\n    {\\n      \"duration\": 611, \\n      \"risetime\": 1544142222\\n    }, \\n    {\\n      \"duration\": 622, \\n      \"risetime\": 1544148042\\n    }, \\n    {\\n      \"duration\": 637, \\n      \"risetime\": 1544153835\\n    }\\n  ]\\n}\\n'"
      ]
     },
     "execution_count": 80,
     "metadata": {},
     "output_type": "execute_result"
    }
   ],
   "source": [
    "resp = requests.get(\"http://api.open-notify.org/iss-pass.json?lat=45.0&lon=-122.3&n=5\")\n",
    "resp.text"
   ]
  },
  {
   "cell_type": "code",
   "execution_count": 77,
   "metadata": {},
   "outputs": [
    {
     "data": {
      "text/plain": [
       "'http://api.open-notify.org/iss-pass.json?lat=47.50202&lon=19.04901&n=5'"
      ]
     },
     "execution_count": 77,
     "metadata": {},
     "output_type": "execute_result"
    }
   ],
   "source": [
    "lat_nador_st = 47.502020\n",
    "lon_nador_st = 19.049010\n",
    "\n",
    "ceu_url = \"http://api.open-notify.org/iss-pass.json?lat={}&lon={}&n=5\".format(lat_nador_st, lon_nador_st)\n",
    "ceu_url"
   ]
  },
  {
   "cell_type": "code",
   "execution_count": 78,
   "metadata": {
    "collapsed": true
   },
   "outputs": [],
   "source": [
    "resp = requests.get(ceu_url)"
   ]
  },
  {
   "cell_type": "code",
   "execution_count": 79,
   "metadata": {},
   "outputs": [
    {
     "data": {
      "text/plain": [
       "'{\\n  \"message\": \"success\", \\n  \"request\": {\\n    \"altitude\": 100, \\n    \"datetime\": 1544086574, \\n    \"latitude\": 47.50202, \\n    \"longitude\": 19.04901, \\n    \"passes\": 5\\n  }, \\n  \"response\": [\\n    {\\n      \"duration\": 570, \\n      \"risetime\": 1544097343\\n    }, \\n    {\\n      \"duration\": 641, \\n      \"risetime\": 1544103074\\n    }, \\n    {\\n      \"duration\": 631, \\n      \"risetime\": 1544108882\\n    }, \\n    {\\n      \"duration\": 636, \\n      \"risetime\": 1544114691\\n    }, \\n    {\\n      \"duration\": 627, \\n      \"risetime\": 1544120483\\n    }\\n  ]\\n}\\n'"
      ]
     },
     "execution_count": 79,
     "metadata": {},
     "output_type": "execute_result"
    }
   ],
   "source": [
    "resp.text"
   ]
  },
  {
   "cell_type": "markdown",
   "metadata": {},
   "source": [
    "#### parsing the response string"
   ]
  },
  {
   "cell_type": "code",
   "execution_count": 7,
   "metadata": {
    "collapsed": true
   },
   "outputs": [],
   "source": [
    "import json"
   ]
  },
  {
   "cell_type": "code",
   "execution_count": 81,
   "metadata": {
    "collapsed": true
   },
   "outputs": [],
   "source": [
    "resp = requests.get(\"http://api.open-notify.org/astros.json\")\n",
    "astronaut_json = json.loads(resp.text)"
   ]
  },
  {
   "cell_type": "code",
   "execution_count": 82,
   "metadata": {},
   "outputs": [
    {
     "data": {
      "text/plain": [
       "dict"
      ]
     },
     "execution_count": 82,
     "metadata": {},
     "output_type": "execute_result"
    }
   ],
   "source": [
    "type(astronaut_json)"
   ]
  },
  {
   "cell_type": "code",
   "execution_count": 83,
   "metadata": {},
   "outputs": [
    {
     "data": {
      "text/plain": [
       "{'message': 'success',\n",
       " 'number': 6,\n",
       " 'people': [{'craft': 'ISS', 'name': 'Sergey Prokopyev'},\n",
       "  {'craft': 'ISS', 'name': 'Alexander Gerst'},\n",
       "  {'craft': 'ISS', 'name': 'Serena Aunon-Chancellor'},\n",
       "  {'craft': 'ISS', 'name': 'Oleg Kononenko'},\n",
       "  {'craft': 'ISS', 'name': 'David Saint-Jacques'},\n",
       "  {'craft': 'ISS', 'name': 'Anne McClain'}]}"
      ]
     },
     "execution_count": 83,
     "metadata": {},
     "output_type": "execute_result"
    }
   ],
   "source": [
    "astronaut_json"
   ]
  },
  {
   "cell_type": "code",
   "execution_count": 60,
   "metadata": {
    "scrolled": true
   },
   "outputs": [
    {
     "data": {
      "text/plain": [
       "dict_keys(['number', 'message', 'people'])"
      ]
     },
     "execution_count": 60,
     "metadata": {},
     "output_type": "execute_result"
    }
   ],
   "source": [
    "astronaut_json.keys()"
   ]
  },
  {
   "cell_type": "code",
   "execution_count": 61,
   "metadata": {},
   "outputs": [
    {
     "data": {
      "text/plain": [
       "6"
      ]
     },
     "execution_count": 61,
     "metadata": {},
     "output_type": "execute_result"
    }
   ],
   "source": [
    "astronaut_json['number']"
   ]
  },
  {
   "cell_type": "code",
   "execution_count": 63,
   "metadata": {},
   "outputs": [
    {
     "data": {
      "text/plain": [
       "int"
      ]
     },
     "execution_count": 63,
     "metadata": {},
     "output_type": "execute_result"
    }
   ],
   "source": [
    "type(astronaut_json['number'])"
   ]
  },
  {
   "cell_type": "code",
   "execution_count": 62,
   "metadata": {},
   "outputs": [
    {
     "data": {
      "text/plain": [
       "'success'"
      ]
     },
     "execution_count": 62,
     "metadata": {},
     "output_type": "execute_result"
    }
   ],
   "source": [
    "astronaut_json['message']"
   ]
  },
  {
   "cell_type": "code",
   "execution_count": 64,
   "metadata": {},
   "outputs": [
    {
     "data": {
      "text/plain": [
       "str"
      ]
     },
     "execution_count": 64,
     "metadata": {},
     "output_type": "execute_result"
    }
   ],
   "source": [
    "type(astronaut_json['message'])"
   ]
  },
  {
   "cell_type": "code",
   "execution_count": 65,
   "metadata": {},
   "outputs": [
    {
     "data": {
      "text/plain": [
       "[{'craft': 'ISS', 'name': 'Sergey Prokopyev'},\n",
       " {'craft': 'ISS', 'name': 'Alexander Gerst'},\n",
       " {'craft': 'ISS', 'name': 'Serena Aunon-Chancellor'},\n",
       " {'craft': 'ISS', 'name': 'Oleg Kononenko'},\n",
       " {'craft': 'ISS', 'name': 'David Saint-Jacques'},\n",
       " {'craft': 'ISS', 'name': 'Anne McClain'}]"
      ]
     },
     "execution_count": 65,
     "metadata": {},
     "output_type": "execute_result"
    }
   ],
   "source": [
    "astronaut_json['people']"
   ]
  },
  {
   "cell_type": "code",
   "execution_count": 84,
   "metadata": {},
   "outputs": [
    {
     "data": {
      "text/plain": [
       "list"
      ]
     },
     "execution_count": 84,
     "metadata": {},
     "output_type": "execute_result"
    }
   ],
   "source": [
    "type(astronaut_json['people'])"
   ]
  },
  {
   "cell_type": "code",
   "execution_count": 85,
   "metadata": {
    "collapsed": true
   },
   "outputs": [],
   "source": [
    "first_item = astronaut_json['people'][0]"
   ]
  },
  {
   "cell_type": "code",
   "execution_count": 86,
   "metadata": {},
   "outputs": [
    {
     "data": {
      "text/plain": [
       "{'craft': 'ISS', 'name': 'Sergey Prokopyev'}"
      ]
     },
     "execution_count": 86,
     "metadata": {},
     "output_type": "execute_result"
    }
   ],
   "source": [
    "first_item"
   ]
  },
  {
   "cell_type": "code",
   "execution_count": 87,
   "metadata": {},
   "outputs": [
    {
     "data": {
      "text/plain": [
       "dict"
      ]
     },
     "execution_count": 87,
     "metadata": {},
     "output_type": "execute_result"
    }
   ],
   "source": [
    "type(first_item)"
   ]
  },
  {
   "cell_type": "code",
   "execution_count": 88,
   "metadata": {},
   "outputs": [
    {
     "data": {
      "text/plain": [
       "dict_keys(['name', 'craft'])"
      ]
     },
     "execution_count": 88,
     "metadata": {},
     "output_type": "execute_result"
    }
   ],
   "source": [
    "first_item.keys()"
   ]
  },
  {
   "cell_type": "code",
   "execution_count": 89,
   "metadata": {},
   "outputs": [
    {
     "data": {
      "text/plain": [
       "'Sergey Prokopyev'"
      ]
     },
     "execution_count": 89,
     "metadata": {},
     "output_type": "execute_result"
    }
   ],
   "source": [
    "first_item['name']"
   ]
  },
  {
   "cell_type": "code",
   "execution_count": 92,
   "metadata": {},
   "outputs": [
    {
     "name": "stdout",
     "output_type": "stream",
     "text": [
      "key:  number\n",
      "value:  6\n",
      "\n",
      "key:  message\n",
      "value:  success\n",
      "\n",
      "key:  people\n",
      "value:  [{'name': 'Sergey Prokopyev', 'craft': 'ISS'}, {'name': 'Alexander Gerst', 'craft': 'ISS'}, {'name': 'Serena Aunon-Chancellor', 'craft': 'ISS'}, {'name': 'Oleg Kononenko', 'craft': 'ISS'}, {'name': 'David Saint-Jacques', 'craft': 'ISS'}, {'name': 'Anne McClain', 'craft': 'ISS'}]\n",
      "\n"
     ]
    }
   ],
   "source": [
    "for key,value in astronaut_json.items():\n",
    "    print('key: ', key)\n",
    "    print('value: ', value)\n",
    "    print()"
   ]
  },
  {
   "cell_type": "code",
   "execution_count": 96,
   "metadata": {},
   "outputs": [
    {
     "name": "stdout",
     "output_type": "stream",
     "text": [
      "Sergey Prokopyev is an astronaut in ISS craft\n",
      "Alexander Gerst is an astronaut in ISS craft\n",
      "Serena Aunon-Chancellor is an astronaut in ISS craft\n",
      "Oleg Kononenko is an astronaut in ISS craft\n",
      "David Saint-Jacques is an astronaut in ISS craft\n",
      "Anne McClain is an astronaut in ISS craft\n"
     ]
    }
   ],
   "source": [
    "for astronaut in astronaut_json['people']:\n",
    "    print('{} is an astronaut in {} craft'.format(astronaut['name'], astronaut['craft']))"
   ]
  },
  {
   "cell_type": "markdown",
   "metadata": {},
   "source": [
    "#### multiple requests"
   ]
  },
  {
   "cell_type": "code",
   "execution_count": 2,
   "metadata": {},
   "outputs": [
    {
     "data": {
      "text/plain": [
       "[[47.50202, 19.04901], [40.757339, -73.985992], [51.753738, -1.26346]]"
      ]
     },
     "execution_count": 2,
     "metadata": {},
     "output_type": "execute_result"
    }
   ],
   "source": [
    "lat_nador_st = 47.502020\n",
    "lon_nador_st = 19.049010\n",
    "\n",
    "lat_times_suqare = 40.757339\n",
    "lon_times_square = -73.985992\n",
    "\n",
    "lat_oxford = 51.753738\n",
    "lon_oxford = -1.263460\n",
    "\n",
    "latlon_list = [[lat_nador_st, lon_nador_st], [lat_times_suqare, lon_times_square], [lat_oxford, lon_oxford]]\n",
    "latlon_list"
   ]
  },
  {
   "cell_type": "code",
   "execution_count": 98,
   "metadata": {},
   "outputs": [
    {
     "name": "stdout",
     "output_type": "stream",
     "text": [
      "http://api.open-notify.org/iss-pass.json?lat=47.50202&lon=19.04901&n=5\n",
      "http://api.open-notify.org/iss-pass.json?lat=40.757339&lon=-73.985992&n=5\n",
      "http://api.open-notify.org/iss-pass.json?lat=51.753738&lon=-1.26346&n=5\n"
     ]
    }
   ],
   "source": [
    "for latlon in latlon_list:\n",
    "    url = \"http://api.open-notify.org/iss-pass.json?lat={}&lon={}&n=5\".format(latlon[0], latlon[1])\n",
    "    print(url)"
   ]
  },
  {
   "cell_type": "code",
   "execution_count": 8,
   "metadata": {
    "collapsed": true
   },
   "outputs": [],
   "source": [
    "import time"
   ]
  },
  {
   "cell_type": "code",
   "execution_count": 103,
   "metadata": {},
   "outputs": [
    {
     "name": "stdout",
     "output_type": "stream",
     "text": [
      "http://api.open-notify.org/iss-pass.json?lat=47.50202&lon=19.04901&n=5\n",
      "{'message': 'success', 'request': {'altitude': 100, 'datetime': 1544110605, 'latitude': 47.50202, 'longitude': 19.04901, 'passes': 5}, 'response': [{'duration': 636, 'risetime': 1544114691}, {'duration': 627, 'risetime': 1544120483}, {'duration': 442, 'risetime': 1544126321}, {'duration': 502, 'risetime': 1544180663}, {'duration': 636, 'risetime': 1544186349}]} \n",
      "\n",
      "http://api.open-notify.org/iss-pass.json?lat=40.757339&lon=-73.985992&n=5\n",
      "{'message': 'success', 'request': {'altitude': 100, 'datetime': 1544110512, 'latitude': 40.757339, 'longitude': -73.985992, 'passes': 5}, 'response': [{'duration': 337, 'risetime': 1544113877}, {'duration': 629, 'risetime': 1544119474}, {'duration': 612, 'risetime': 1544125278}, {'duration': 547, 'risetime': 1544131151}, {'duration': 577, 'risetime': 1544136985}]} \n",
      "\n",
      "http://api.open-notify.org/iss-pass.json?lat=51.753738&lon=-1.26346&n=5\n",
      "{'message': 'success', 'request': {'altitude': 100, 'datetime': 1544110606, 'latitude': 51.753738, 'longitude': -1.26346, 'passes': 5}, 'response': [{'duration': 641, 'risetime': 1544114471}, {'duration': 637, 'risetime': 1544120260}, {'duration': 578, 'risetime': 1544126053}, {'duration': 227, 'risetime': 1544131951}, {'duration': 464, 'risetime': 1544186311}]} \n",
      "\n"
     ]
    }
   ],
   "source": [
    "resp_json_list = []\n",
    "for latlon in latlon_list:\n",
    "    url = \"http://api.open-notify.org/iss-pass.json?lat={}&lon={}&n=5\".format(latlon[0], latlon[1])\n",
    "    print(url)\n",
    "    resp = requests.get(url)\n",
    "    time.sleep(3)\n",
    "    resp_json = json.loads(resp.text)\n",
    "    print(resp_json, '\\n')\n",
    "    resp_json_list.append(resp_json)"
   ]
  },
  {
   "cell_type": "code",
   "execution_count": 104,
   "metadata": {},
   "outputs": [
    {
     "data": {
      "text/plain": [
       "{'message': 'success',\n",
       " 'request': {'altitude': 100,\n",
       "  'datetime': 1544110605,\n",
       "  'latitude': 47.50202,\n",
       "  'longitude': 19.04901,\n",
       "  'passes': 5},\n",
       " 'response': [{'duration': 636, 'risetime': 1544114691},\n",
       "  {'duration': 627, 'risetime': 1544120483},\n",
       "  {'duration': 442, 'risetime': 1544126321},\n",
       "  {'duration': 502, 'risetime': 1544180663},\n",
       "  {'duration': 636, 'risetime': 1544186349}]}"
      ]
     },
     "execution_count": 104,
     "metadata": {},
     "output_type": "execute_result"
    }
   ],
   "source": [
    "resp_json_list[0]"
   ]
  },
  {
   "cell_type": "code",
   "execution_count": 105,
   "metadata": {},
   "outputs": [
    {
     "data": {
      "text/plain": [
       "dict_keys(['message', 'request', 'response'])"
      ]
     },
     "execution_count": 105,
     "metadata": {},
     "output_type": "execute_result"
    }
   ],
   "source": [
    "nador_resp = resp_json_list[0]\n",
    "nador_resp.keys()"
   ]
  },
  {
   "cell_type": "code",
   "execution_count": 106,
   "metadata": {},
   "outputs": [
    {
     "data": {
      "text/plain": [
       "[{'duration': 636, 'risetime': 1544114691},\n",
       " {'duration': 627, 'risetime': 1544120483},\n",
       " {'duration': 442, 'risetime': 1544126321},\n",
       " {'duration': 502, 'risetime': 1544180663},\n",
       " {'duration': 636, 'risetime': 1544186349}]"
      ]
     },
     "execution_count": 106,
     "metadata": {},
     "output_type": "execute_result"
    }
   ],
   "source": [
    "nador_resp['response']"
   ]
  },
  {
   "cell_type": "code",
   "execution_count": 107,
   "metadata": {},
   "outputs": [
    {
     "name": "stdout",
     "output_type": "stream",
     "text": [
      "The first risetime above Nador street will be at 1544114691\n"
     ]
    }
   ],
   "source": [
    "print('The first risetime above Nador street will be at {}'.format(nador_resp['response'][0]['risetime']))"
   ]
  },
  {
   "cell_type": "markdown",
   "metadata": {},
   "source": [
    "#### using dictionaries for making queries and collecting response"
   ]
  },
  {
   "cell_type": "code",
   "execution_count": 17,
   "metadata": {},
   "outputs": [
    {
     "data": {
      "text/plain": [
       "{'nador_st': [47.50202, 19.04901],\n",
       " 'oxford': [51.753738, -1.26346],\n",
       " 'times_sq': [40.757339, -73.985992]}"
      ]
     },
     "execution_count": 17,
     "metadata": {},
     "output_type": "execute_result"
    }
   ],
   "source": [
    "latlon_dict = {\n",
    "    'nador_st':[lat_nador_st, lon_nador_st],\n",
    "    'times_sq':[lat_times_suqare, lon_times_square],\n",
    "    'oxford':[lat_oxford, lon_oxford]\n",
    "}\n",
    "latlon_dict"
   ]
  },
  {
   "cell_type": "code",
   "execution_count": 18,
   "metadata": {},
   "outputs": [
    {
     "data": {
      "text/plain": [
       "[51.753738, -1.26346]"
      ]
     },
     "execution_count": 18,
     "metadata": {},
     "output_type": "execute_result"
    }
   ],
   "source": [
    "latlon_dict['oxford']"
   ]
  },
  {
   "cell_type": "code",
   "execution_count": 10,
   "metadata": {},
   "outputs": [
    {
     "name": "stdout",
     "output_type": "stream",
     "text": [
      "nador_st\n",
      "http://api.open-notify.org/iss-pass.json?lat=47.50202&lon=19.04901&n=5\n",
      "times_sq\n",
      "http://api.open-notify.org/iss-pass.json?lat=40.757339&lon=-73.985992&n=5\n",
      "oxford\n",
      "http://api.open-notify.org/iss-pass.json?lat=51.753738&lon=-1.26346&n=5\n"
     ]
    }
   ],
   "source": [
    "response_dict = {}\n",
    "for place,coordinates in latlon_dict.items():\n",
    "    url = \"http://api.open-notify.org/iss-pass.json?lat={}&lon={}&n=5\".format(coordinates[0], coordinates[1])\n",
    "    print(place)\n",
    "    print(url)\n",
    "    resp = requests.get(url)\n",
    "    time.sleep(3)\n",
    "    resp_json = json.loads(resp.text)\n",
    "    response_dict[place] = resp_json"
   ]
  },
  {
   "cell_type": "code",
   "execution_count": 12,
   "metadata": {},
   "outputs": [
    {
     "data": {
      "text/plain": [
       "{'message': 'success',\n",
       " 'request': {'altitude': 100,\n",
       "  'datetime': 1544426404,\n",
       "  'latitude': 51.753738,\n",
       "  'longitude': -1.26346,\n",
       "  'passes': 5},\n",
       " 'response': [{'duration': 495, 'risetime': 1544441885},\n",
       "  {'duration': 625, 'risetime': 1544447566},\n",
       "  {'duration': 642, 'risetime': 1544453337},\n",
       "  {'duration': 639, 'risetime': 1544459126},\n",
       "  {'duration': 599, 'risetime': 1544464916}]}"
      ]
     },
     "execution_count": 12,
     "metadata": {},
     "output_type": "execute_result"
    }
   ],
   "source": [
    "response_dict['oxford']"
   ]
  },
  {
   "cell_type": "code",
   "execution_count": 14,
   "metadata": {},
   "outputs": [
    {
     "data": {
      "text/plain": [
       "[{'duration': 495, 'risetime': 1544441885},\n",
       " {'duration': 625, 'risetime': 1544447566},\n",
       " {'duration': 642, 'risetime': 1544453337},\n",
       " {'duration': 639, 'risetime': 1544459126},\n",
       " {'duration': 599, 'risetime': 1544464916}]"
      ]
     },
     "execution_count": 14,
     "metadata": {},
     "output_type": "execute_result"
    }
   ],
   "source": [
    "response_dict['oxford']['response']"
   ]
  },
  {
   "cell_type": "code",
   "execution_count": 15,
   "metadata": {},
   "outputs": [
    {
     "data": {
      "text/plain": [
       "{'duration': 495, 'risetime': 1544441885}"
      ]
     },
     "execution_count": 15,
     "metadata": {},
     "output_type": "execute_result"
    }
   ],
   "source": [
    "response_dict['oxford']['response'][0]"
   ]
  },
  {
   "cell_type": "code",
   "execution_count": 16,
   "metadata": {},
   "outputs": [
    {
     "data": {
      "text/plain": [
       "1544441885"
      ]
     },
     "execution_count": 16,
     "metadata": {},
     "output_type": "execute_result"
    }
   ],
   "source": [
    "response_dict['oxford']['response'][0]['risetime']"
   ]
  },
  {
   "cell_type": "code",
   "execution_count": 13,
   "metadata": {},
   "outputs": [
    {
     "name": "stdout",
     "output_type": "stream",
     "text": [
      "The first risetime above nador_st will be at 1544436238\n",
      "The first risetime above times_sq will be at 1544452887\n",
      "The first risetime above oxford will be at 1544441885\n"
     ]
    }
   ],
   "source": [
    "for place,resp in response_dict.items():\n",
    "    print('The first risetime above {} will be at {}'.format(place,resp['response'][0]['risetime']))"
   ]
  },
  {
   "cell_type": "markdown",
   "metadata": {},
   "source": [
    "### 1 - exercise\n",
    "\n",
    "We need the zip codes of the 5 landmarks in our data. Fortunatelly there is an API services that returns the zip codes when given a city name. <br>\n",
    "Check the documentation here: https://developer.trade.gov/ita-zip-codes.html <br>\n",
    "Try to construct an url that sends a request for San Jose! Open the url in the browser to see if it gives back meaningful result! <br>\n",
    "(you'll need an authorization key, you can use this one: 2Waaf_H7jhob76CXWbwmeW7Q)"
   ]
  },
  {
   "cell_type": "code",
   "execution_count": 55,
   "metadata": {
    "collapsed": true
   },
   "outputs": [],
   "source": [
    "### Your code here\n",
    "url = 'https://api.trade.gov/ita_zipcode_to_post/search?api_key=2Waaf_H7jhob76CXWbwmeW7Q&q={}'.format('San Jose')"
   ]
  },
  {
   "cell_type": "markdown",
   "metadata": {},
   "source": [
    "### 1 - check yourself"
   ]
  },
  {
   "cell_type": "code",
   "execution_count": 56,
   "metadata": {},
   "outputs": [
    {
     "name": "stdout",
     "output_type": "stream",
     "text": [
      "Your url is valid and the response is correct\n"
     ]
    }
   ],
   "source": [
    "response = requests.get(url)\n",
    "if response.status_code == 200:\n",
    "    if json.loads(response.text)['total'] == 139:\n",
    "        print('Your url is valid and the response is correct')\n",
    "    else:\n",
    "        print('Your url is valid but the response is not for San Jose')\n",
    "else:\n",
    "    print('Your url is NOT valid')"
   ]
  },
  {
   "cell_type": "markdown",
   "metadata": {},
   "source": [
    "### 2 - exercise\n",
    "\n",
    "Load the weather.csv into a pandas dataframe and make a variable called landmarks that contains the unique values in the landmark column!"
   ]
  },
  {
   "cell_type": "code",
   "execution_count": 126,
   "metadata": {
    "collapsed": true
   },
   "outputs": [],
   "source": [
    "### your code here\n",
    "import pandas as pd\n",
    "weather = pd.read_csv('/home/esztersomos/Documents/CEU/winter_2019/merging/weather.csv')\n",
    "\n",
    "landmarks = weather['landmark'].unique()"
   ]
  },
  {
   "cell_type": "markdown",
   "metadata": {},
   "source": [
    "### 2 - check yourself"
   ]
  },
  {
   "cell_type": "code",
   "execution_count": 127,
   "metadata": {},
   "outputs": [
    {
     "name": "stdout",
     "output_type": "stream",
     "text": [
      "The landmarks variable is correct\n"
     ]
    }
   ],
   "source": [
    "if sorted(landmarks) == sorted(['Redwood City', 'Mountain View', 'Palo Alto','San Francisco','San Jose']):\n",
    "    print('The landmarks variable is correct')\n",
    "else:\n",
    "    print('The landmarks variable is NOT correct')"
   ]
  },
  {
   "cell_type": "markdown",
   "metadata": {},
   "source": [
    "### 3 - exercise\n",
    "Create an url that calls the trade.gov API and asks for the zip codes of the first city in the landmarks array. (Don't type in the name of the city, use a variable to format the url string!) <br>\n",
    "Using the request library get a response for this url and save it into a variable called first_city_response!"
   ]
  },
  {
   "cell_type": "code",
   "execution_count": 70,
   "metadata": {
    "collapsed": true
   },
   "outputs": [],
   "source": [
    "### Your code here\n",
    "url = 'https://api.trade.gov/ita_zipcode_to_post/search?api_key=2Waaf_H7jhob76CXWbwmeW7Q&q={}'.format(landmarks[0])\n",
    "first_city_response = requests.get(url)"
   ]
  },
  {
   "cell_type": "markdown",
   "metadata": {},
   "source": [
    "### 3 - check yourself"
   ]
  },
  {
   "cell_type": "code",
   "execution_count": 73,
   "metadata": {},
   "outputs": [
    {
     "name": "stdout",
     "output_type": "stream",
     "text": [
      "Your response variable is correct\n"
     ]
    }
   ],
   "source": [
    "if first_city_response.status_code == 200:\n",
    "    print('Your response variable is correct')\n",
    "else:\n",
    "    print('Your response variable is NOT correct')"
   ]
  },
  {
   "cell_type": "markdown",
   "metadata": {},
   "source": [
    "### 4 - exercise\n",
    "Using the json package, load the text of the first_city_response into a dictionary called first_city_dict! <br>\n",
    "Look at the dictionary and find the highest level key containing the zip_code information! "
   ]
  },
  {
   "cell_type": "code",
   "execution_count": 74,
   "metadata": {
    "collapsed": true
   },
   "outputs": [],
   "source": [
    "### Your code here\n",
    "first_city_response = json.loads(first_city_response.text)"
   ]
  },
  {
   "cell_type": "code",
   "execution_count": null,
   "metadata": {
    "collapsed": true
   },
   "outputs": [],
   "source": [
    "highest_level_key = "
   ]
  },
  {
   "cell_type": "markdown",
   "metadata": {},
   "source": [
    "### 4 - check yourself"
   ]
  },
  {
   "cell_type": "code",
   "execution_count": 81,
   "metadata": {},
   "outputs": [
    {
     "name": "stdout",
     "output_type": "stream",
     "text": [
      "Your answer was correct\n"
     ]
    }
   ],
   "source": [
    "if highest_level_key == 'results':\n",
    "    print('Your answer was correct')\n",
    "else:\n",
    "    print('Your answer was NOT correct')"
   ]
  },
  {
   "cell_type": "markdown",
   "metadata": {},
   "source": [
    "### 5 - exercise\n",
    "Take the first element from the list that is the value for the key 'results'. What is the type of it?"
   ]
  },
  {
   "cell_type": "code",
   "execution_count": 86,
   "metadata": {},
   "outputs": [
    {
     "data": {
      "text/plain": [
       "dict"
      ]
     },
     "execution_count": 86,
     "metadata": {},
     "output_type": "execute_result"
    }
   ],
   "source": [
    "### Your code here\n",
    "type(first_city_response['results'][0])"
   ]
  },
  {
   "cell_type": "code",
   "execution_count": 87,
   "metadata": {
    "collapsed": true
   },
   "outputs": [],
   "source": [
    "first_result_element_type = dict"
   ]
  },
  {
   "cell_type": "markdown",
   "metadata": {},
   "source": [
    "### 5 - check yourself\n",
    "If your guess was dictionary, you are correct!"
   ]
  },
  {
   "cell_type": "markdown",
   "metadata": {},
   "source": [
    "### 6 - exercise\n",
    "Find the key that's value is the zip code! Make a variable called first_zip_code that contains the first zip code from the first_city_response!"
   ]
  },
  {
   "cell_type": "code",
   "execution_count": 92,
   "metadata": {
    "collapsed": true
   },
   "outputs": [],
   "source": [
    "### Your code here\n",
    "first_zip_code = first_city_response['results'][0]['zip_code']"
   ]
  },
  {
   "cell_type": "markdown",
   "metadata": {},
   "source": [
    "### 6 - check yourself"
   ]
  },
  {
   "cell_type": "code",
   "execution_count": 98,
   "metadata": {},
   "outputs": [
    {
     "name": "stdout",
     "output_type": "stream",
     "text": [
      "You've found the zip code\n"
     ]
    }
   ],
   "source": [
    "if first_zip_code.isdigit():\n",
    "    print(\"You've found the zip code\")\n",
    "else:\n",
    "    print(\"It's not the zip code\")"
   ]
  },
  {
   "cell_type": "markdown",
   "metadata": {},
   "source": [
    "### 7 - exercise\n",
    "Loop the results list in first_city_response, and collect the zip codes into a list called zip_codes!"
   ]
  },
  {
   "cell_type": "code",
   "execution_count": 99,
   "metadata": {
    "collapsed": true
   },
   "outputs": [],
   "source": [
    "### Your code here\n",
    "zip_codes = [x['zip_code'] for x in first_city_response['results']]"
   ]
  },
  {
   "cell_type": "markdown",
   "metadata": {},
   "source": [
    "### 7 - check yourself"
   ]
  },
  {
   "cell_type": "code",
   "execution_count": 107,
   "metadata": {},
   "outputs": [
    {
     "name": "stdout",
     "output_type": "stream",
     "text": [
      "Your list is correct\n"
     ]
    }
   ],
   "source": [
    "if sum([x.isdigit() for x in zip_codes]) == 10:\n",
    "    print('Your list is correct')\n",
    "else:\n",
    "    print('Your list is NOT correct')"
   ]
  },
  {
   "cell_type": "markdown",
   "metadata": {},
   "source": [
    "### 8 - exercise\n",
    "Make an empty dictionary called zip_codes_dict. <br>\n",
    "Loop the landmarks array and for each landmark make a list containing the zip codes for it. (Just like we did before). When you have the list of zip codes, create a key for the landmark in the zip_codes_dict and assign the list of zip codes to it as the value! <br>\n",
    "At the end the zip_codes_dict should look like something like this: <br><br>\n",
    " {'San Jose' : ['1111','1112','1113'], <br>\n",
    "  'San Francisco' : ['2221','2222','2223']}"
   ]
  },
  {
   "cell_type": "code",
   "execution_count": 111,
   "metadata": {
    "collapsed": true
   },
   "outputs": [],
   "source": [
    "### Your code here\n",
    "zip_codes_dict = {}\n",
    "for city in landmarks:\n",
    "    apiresponse = requests.get(\n",
    "        'https://api.trade.gov/ita_zipcode_to_post/search?api_key=2Waaf_H7jhob76CXWbwmeW7Q&q=' + city)\n",
    "    zipjson = json.loads(apiresponse.text)\n",
    "    zipz = []\n",
    "    for r in zipjson['results']:\n",
    "        zipz.append(r['zip_code'])\n",
    "    zip_codes_dict[city] = zipz"
   ]
  },
  {
   "cell_type": "markdown",
   "metadata": {},
   "source": [
    "### 8 - check yourself"
   ]
  },
  {
   "cell_type": "code",
   "execution_count": 121,
   "metadata": {},
   "outputs": [
    {
     "name": "stdout",
     "output_type": "stream",
     "text": [
      "You collected the zip codes succesfully\n"
     ]
    }
   ],
   "source": [
    "correct_zip_codes_dict = {\n",
    " 'Redwood City': [],\n",
    " 'Mountain View': [],\n",
    " 'Palo Alto': [],\n",
    " 'San Francisco': ['94401','94402','94608','94662','94701','94702','94703','94704','94705','94707'],\n",
    " 'San Jose': ['94303','94304','94305','94306','94309','94403','94404','94497','94536','94537']}\n",
    "\n",
    "if correct_zip_codes_dict == zip_codes_dict:\n",
    "    print('You collected the zip codes succesfully')\n",
    "else:\n",
    "    print('Your collection is not correct')"
   ]
  },
  {
   "cell_type": "markdown",
   "metadata": {},
   "source": [
    "### Hmmm, it looks like that we haven't found zip codes for 3 landmarks. This can happen when using an API service. But we wont' give up, it's a great opportunity to try a bit of scraping instead!"
   ]
  },
  {
   "cell_type": "code",
   "execution_count": null,
   "metadata": {
    "collapsed": true
   },
   "outputs": [],
   "source": []
  }
 ],
 "metadata": {
  "kernelspec": {
   "display_name": "Python 3",
   "language": "python",
   "name": "python3"
  },
  "language_info": {
   "codemirror_mode": {
    "name": "ipython",
    "version": 3
   },
   "file_extension": ".py",
   "mimetype": "text/x-python",
   "name": "python",
   "nbconvert_exporter": "python",
   "pygments_lexer": "ipython3",
   "version": "3.6.2"
  }
 },
 "nbformat": 4,
 "nbformat_minor": 2
}
