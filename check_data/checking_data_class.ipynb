{
 "cells": [
  {
   "cell_type": "markdown",
   "metadata": {},
   "source": [
    "### Loading dataframes"
   ]
  },
  {
   "cell_type": "code",
   "execution_count": null,
   "metadata": {
    "collapsed": true
   },
   "outputs": [],
   "source": [
    "import pandas as pd"
   ]
  },
  {
   "cell_type": "markdown",
   "metadata": {},
   "source": [
    "### Check for duplicates"
   ]
  },
  {
   "cell_type": "code",
   "execution_count": null,
   "metadata": {
    "collapsed": true
   },
   "outputs": [],
   "source": [
    "df = pd.DataFrame({'a':[1,1,1,2,2,3,4,5],\n",
    "                  'b':[10,10,11,20,20,30,40,50]})"
   ]
  },
  {
   "cell_type": "code",
   "execution_count": null,
   "metadata": {},
   "outputs": [],
   "source": [
    "df"
   ]
  },
  {
   "cell_type": "code",
   "execution_count": null,
   "metadata": {},
   "outputs": [],
   "source": [
    "df.duplicated()"
   ]
  },
  {
   "cell_type": "code",
   "execution_count": null,
   "metadata": {},
   "outputs": [],
   "source": [
    "df.duplicated(subset=['a'])"
   ]
  },
  {
   "cell_type": "code",
   "execution_count": null,
   "metadata": {},
   "outputs": [],
   "source": [
    "df.duplicated().sum()"
   ]
  },
  {
   "cell_type": "markdown",
   "metadata": {},
   "source": [
    "### Drop duplicated rows"
   ]
  },
  {
   "cell_type": "code",
   "execution_count": null,
   "metadata": {
    "collapsed": true
   },
   "outputs": [],
   "source": [
    "df_no_duplicates = df.drop_duplicates()"
   ]
  },
  {
   "cell_type": "code",
   "execution_count": null,
   "metadata": {},
   "outputs": [],
   "source": [
    "len(df), len(df_no_duplicates)"
   ]
  },
  {
   "cell_type": "code",
   "execution_count": null,
   "metadata": {
    "collapsed": true
   },
   "outputs": [],
   "source": [
    "df.drop_duplicates(inplace=True)"
   ]
  },
  {
   "cell_type": "code",
   "execution_count": null,
   "metadata": {},
   "outputs": [],
   "source": [
    "len(df)"
   ]
  },
  {
   "cell_type": "markdown",
   "metadata": {},
   "source": [
    "### Check for missing values"
   ]
  },
  {
   "cell_type": "code",
   "execution_count": null,
   "metadata": {
    "collapsed": true
   },
   "outputs": [],
   "source": [
    "df = pd.DataFrame({'a':[1,2,3,4],\n",
    "                  'b':[10,None,30,40],\n",
    "                  'c':[None,None,None,400]})"
   ]
  },
  {
   "cell_type": "code",
   "execution_count": null,
   "metadata": {},
   "outputs": [],
   "source": [
    "df.isnull()"
   ]
  },
  {
   "cell_type": "code",
   "execution_count": null,
   "metadata": {},
   "outputs": [],
   "source": [
    "df.isnull().any(axis=0)"
   ]
  },
  {
   "cell_type": "code",
   "execution_count": null,
   "metadata": {},
   "outputs": [],
   "source": [
    "df.isnull().any(axis=1)"
   ]
  },
  {
   "cell_type": "code",
   "execution_count": null,
   "metadata": {},
   "outputs": [],
   "source": [
    "df.isnull().sum()"
   ]
  },
  {
   "cell_type": "markdown",
   "metadata": {},
   "source": [
    "### Drop rows with missing values"
   ]
  },
  {
   "cell_type": "code",
   "execution_count": null,
   "metadata": {},
   "outputs": [],
   "source": [
    "df"
   ]
  },
  {
   "cell_type": "code",
   "execution_count": null,
   "metadata": {},
   "outputs": [],
   "source": [
    "df_only_full_rows = df.dropna()\n",
    "df_only_full_rows"
   ]
  },
  {
   "cell_type": "code",
   "execution_count": null,
   "metadata": {},
   "outputs": [],
   "source": [
    "df_rows_where_b_is_not_missing = df.dropna(subset=['b'])\n",
    "df_rows_where_b_is_not_missing"
   ]
  },
  {
   "cell_type": "markdown",
   "metadata": {},
   "source": [
    "### Replace missing values"
   ]
  },
  {
   "cell_type": "code",
   "execution_count": null,
   "metadata": {},
   "outputs": [],
   "source": [
    "df"
   ]
  },
  {
   "cell_type": "code",
   "execution_count": null,
   "metadata": {},
   "outputs": [],
   "source": [
    "mean_b = df['b'].mean()\n",
    "df_missing_b_replaced_with_mean = df.fillna(value={'b':mean_b})\n",
    "df_missing_b_replaced_with_mean"
   ]
  },
  {
   "cell_type": "code",
   "execution_count": null,
   "metadata": {},
   "outputs": [],
   "source": [
    "df_missing_b_replaced_with_mean_missing_c_replaced_with_zero = df.fillna(value={'b':mean_b,\n",
    "                                                                                'c':0})\n",
    "df_missing_b_replaced_with_mean_missing_c_replaced_with_zero"
   ]
  },
  {
   "cell_type": "code",
   "execution_count": null,
   "metadata": {},
   "outputs": [],
   "source": [
    "df.fillna('Unknown', inplace=True)\n",
    "df"
   ]
  },
  {
   "cell_type": "markdown",
   "metadata": {},
   "source": [
    "### Describing numeric data"
   ]
  },
  {
   "cell_type": "code",
   "execution_count": null,
   "metadata": {
    "collapsed": true
   },
   "outputs": [],
   "source": [
    "df = pd.DataFrame({'a':[1,1,1,2,2,3,4,5],\n",
    "                  'b':[10,10,11,20,None,None,40,50],\n",
    "                  'c':['apple','apple','plum','pear','plum','apple','apple','apple']})"
   ]
  },
  {
   "cell_type": "code",
   "execution_count": null,
   "metadata": {},
   "outputs": [],
   "source": [
    "df"
   ]
  },
  {
   "cell_type": "code",
   "execution_count": null,
   "metadata": {},
   "outputs": [],
   "source": [
    "df.describe()"
   ]
  },
  {
   "cell_type": "code",
   "execution_count": null,
   "metadata": {},
   "outputs": [],
   "source": [
    "df.max()"
   ]
  },
  {
   "cell_type": "code",
   "execution_count": null,
   "metadata": {},
   "outputs": [],
   "source": [
    "df['a'].max()"
   ]
  },
  {
   "cell_type": "markdown",
   "metadata": {},
   "source": [
    "### Describing non numeric data"
   ]
  },
  {
   "cell_type": "code",
   "execution_count": null,
   "metadata": {},
   "outputs": [],
   "source": [
    "df"
   ]
  },
  {
   "cell_type": "code",
   "execution_count": null,
   "metadata": {},
   "outputs": [],
   "source": [
    "df['c'].unique()"
   ]
  },
  {
   "cell_type": "code",
   "execution_count": null,
   "metadata": {},
   "outputs": [],
   "source": [
    "df['c'].nunique()"
   ]
  },
  {
   "cell_type": "code",
   "execution_count": null,
   "metadata": {},
   "outputs": [],
   "source": [
    "df['c'].value_counts()"
   ]
  },
  {
   "cell_type": "markdown",
   "metadata": {
    "collapsed": true
   },
   "source": [
    "## Exercise"
   ]
  },
  {
   "cell_type": "markdown",
   "metadata": {},
   "source": [
    "### 1 - exercise\n",
    "Load the datasets into pandas dataframes called trip, weather and station. (Don't forget to import the pandas library first!) <br>\n",
    "Create three variables called trip_duplicates_num, weather_duplicates_num and station_duplicatess_num that contains how many duplicated rows are in each dataframe."
   ]
  },
  {
   "cell_type": "code",
   "execution_count": null,
   "metadata": {
    "collapsed": true
   },
   "outputs": [],
   "source": [
    "### Your code here\n"
   ]
  },
  {
   "cell_type": "markdown",
   "metadata": {},
   "source": [
    "### 1 - check yourself"
   ]
  },
  {
   "cell_type": "code",
   "execution_count": null,
   "metadata": {},
   "outputs": [],
   "source": [
    "print('Length of trip dataframe should be 144115 with 100 duplicated rows.\\n\\\n",
    "The length of your dataframe is {} and you counted {} duplicated rows\\n'.format(len(trip), trip_duplicates_num))\n",
    "print('Length of weather dataframe should be 928 with 8 duplicated rows.\\n\\\n",
    "The length of your dataframe is {} and you counted {} duplicated rows\\n'.format(len(weather), weather_duplicates_num))\n",
    "print('Length of station dataframe should be 69 with 0 duplicated rows.\\n\\\n",
    "The length of your dataframe is {} and you counted {} duplicated rows\\n'.format(len(station), station_duplicates_num))"
   ]
  },
  {
   "cell_type": "markdown",
   "metadata": {},
   "source": [
    "### 2 - exercise\n",
    "For all 3 dataframes delete the duplicated rows in place (without creating a new dataframe) <br>"
   ]
  },
  {
   "cell_type": "code",
   "execution_count": null,
   "metadata": {
    "collapsed": true
   },
   "outputs": [],
   "source": [
    "### Your code here\n"
   ]
  },
  {
   "cell_type": "markdown",
   "metadata": {},
   "source": [
    "### 2 - check yourself"
   ]
  },
  {
   "cell_type": "code",
   "execution_count": null,
   "metadata": {},
   "outputs": [],
   "source": [
    "print('Length of trip dataframe should be 144015.\\n\\\n",
    "The length of your dataframe is {}\\n'.format(len(trip)))\n",
    "print('Length of weather dataframe should be 920.\\n\\\n",
    "The length of your dataframe is {}\\n'.format(len(weather)))\n",
    "print('Length of station dataframe should be 69.\\n\\\n",
    "The length of your dataframe is {}\\n'.format(len(station)))"
   ]
  },
  {
   "cell_type": "markdown",
   "metadata": {},
   "source": [
    "### 3 - exercise\n",
    "For all dataframes check if there are columns with missing values. <br>\n",
    "Create 3 lists called trip_columns_with_missing_data, weather_columns_with_missing_data, station_columns_with_missing_data that contains the names of the columns with missing values of the dataframe. <br>\n",
    "You can populate these lists by hand, or as an advanced task you can use pandas methods."
   ]
  },
  {
   "cell_type": "code",
   "execution_count": null,
   "metadata": {
    "collapsed": true
   },
   "outputs": [],
   "source": [
    "### Your code here\n"
   ]
  },
  {
   "cell_type": "markdown",
   "metadata": {},
   "source": [
    "### 3 - check yourself"
   ]
  },
  {
   "cell_type": "code",
   "execution_count": null,
   "metadata": {},
   "outputs": [],
   "source": [
    "print('Columns with missing values in the trip dataframe are:\\n \\\n",
    "Subscription Type\\n\\\n",
    "You have found:\\n {}\\n'.format(','.join(trip_columns_with_missing_data)))\n",
    "\n",
    "print('Columns with missing values in the weather dataframe are:\\n \\\n",
    "Max_Temperature_F,Mean_Temperature_F,Min_TemperatureF,Max_Gust_Speed_MPH,Events\\n\\\n",
    "You have found:\\n {}\\n'.format(','.join(weather_columns_with_missing_data)))\n",
    "\n",
    "print('Columns with missing values in the station dataframe are:\\n \\\n",
    "\\n\\\n",
    "You have found:\\n {}\\n'.format(','.join(station_columns_with_missing_data)))"
   ]
  },
  {
   "cell_type": "markdown",
   "metadata": {},
   "source": [
    "### 4 - exercise\n",
    "How many values are missing in each column with missing values in the dataframes? <br>\n",
    "Display the answer in any format you would like. As an advance task, try to display only the names of the columns that have missing values in them."
   ]
  },
  {
   "cell_type": "code",
   "execution_count": null,
   "metadata": {},
   "outputs": [],
   "source": [
    "### Your code here\n"
   ]
  },
  {
   "cell_type": "markdown",
   "metadata": {},
   "source": [
    "### 4 - check yourself\n",
    "The number of missing values in Max_Temperature_F column is 3 <br>\n",
    "The number of missing values in Mean_Temperature_F column is 3<br>\n",
    "The number of missing values in Min_TemperatureF column is 3<br>\n",
    "The number of missing values in Max_Gust_Speed_MPH column is 138<br>\n",
    "The number of missing values in Events column is 782<br>\n",
    "The number of missing values in Subscription Type column is 10<br>"
   ]
  },
  {
   "cell_type": "markdown",
   "metadata": {},
   "source": [
    "### 5 - exercise\n",
    "Before deciding how to deal with the missing values, let's get more familiar with the data! <br>\n",
    " - How many values are in the columns with missing data? As an advanced task, try to display the number of rows for only these columns, not the others.\n",
    " - Display the mean of each numeric column in the weather dataframe. Which are 2 columns with the lowest mean? As an advanced task, try to display them in descending order!\n",
    " - And what about the Events column in the weather dataframe? What are the unique values and how many times do they occur?"
   ]
  },
  {
   "cell_type": "code",
   "execution_count": null,
   "metadata": {},
   "outputs": [],
   "source": [
    "### Your code here\n"
   ]
  },
  {
   "cell_type": "markdown",
   "metadata": {},
   "source": [
    "### 5 - check yourself\n",
    "The number of rows without missing data are:\n",
    "- Max_Temperature_F column is 917\n",
    "- Mean_Temperature_F column is 917\n",
    "- Min_TemperatureF column is 917\n",
    "- Max_Gust_Speed_MPH column is 782\n",
    "- Events column is 138\n",
    "- Subscription Type column is 144005\n",
    "\n",
    "The columns with the lowest mean values are Cloud_clover and Mean_Wind_Speed_MPH <br><br>\n",
    "In the Events column there are 101 rows with Rain, 34 rows with Fog, 2 rows with rain and 1 row with Fog-Rain"
   ]
  },
  {
   "cell_type": "markdown",
   "metadata": {},
   "source": [
    "### 6 - exercise\n",
    "So let's decide what we will do with the missing data!<br>\n",
    "- In the Temperature and the Gust Speed columns, there are not too many missing data, so let's fill those cells with the mean of the column.\n",
    "- In the Events columns, the missing value means that there were no rain or fog that day. So let's fill those cells with the string 'no_event'\n",
    "- In the Subscription type column, only a few rows are missing and we can't guess the original values. Let's delete those rows from the dataframe.\n",
    "\n",
    "Create a new weather and trip dataframe called weather_filled and trip_filled where these solutions are applied!"
   ]
  },
  {
   "cell_type": "code",
   "execution_count": null,
   "metadata": {
    "collapsed": true
   },
   "outputs": [],
   "source": [
    "### Your code here\n"
   ]
  },
  {
   "cell_type": "markdown",
   "metadata": {},
   "source": [
    "### 6 - check yourself"
   ]
  },
  {
   "cell_type": "code",
   "execution_count": null,
   "metadata": {},
   "outputs": [],
   "source": [
    "print('In the weather_filled dataframe the number of missing data should be 0\\n \\\n",
    "and in your dataframe the number is {}\\n'.format(weather_filled.isnull().any().sum()))\n",
    "print('The number of rows where the replacing value is not correct in the weather_filled dataframe: \\n \\\n",
    "in column Max_Temperature_F is {} \\n \\\n",
    "in column Mean_Temperature_F is {} \\n \\\n",
    "in column Min_TemperatureF is {} \\n \\\n",
    "in column Max_Gust_Speed_MPH is {} \\n \\\n",
    "in column Events is {} \\n '.format((weather_filled[weather.Max_Temperature_F.isnull()]['Max_Temperature_F'] != weather.Max_Temperature_F.mean()).sum(),\n",
    "                                             (weather_filled[weather.Mean_Temperature_F.isnull()]['Mean_Temperature_F'] != weather.Mean_Temperature_F.mean()).sum(),\n",
    "                                             (weather_filled[weather.Min_TemperatureF.isnull()]['Min_TemperatureF'] != weather.Min_TemperatureF.mean()).sum(),\n",
    "                                             (weather_filled[weather.Max_Gust_Speed_MPH.isnull()]['Max_Gust_Speed_MPH'] != weather.Max_Gust_Speed_MPH.mean()).sum(),\n",
    "                                             (weather_filled[weather.Events.isnull()]['Events'] != 'no_event').sum()))\n",
    "print('The length of the trip_filled dataframe should be 144005\\n \\\n",
    "and in your dataframe number is {}\\n'.format(len(trip_filled)))\n"
   ]
  },
  {
   "cell_type": "markdown",
   "metadata": {},
   "source": [
    "### 7 - exercise\n",
    "Save these new dataframes into csv-s called weather_filled.csv and trip_filled.csv!"
   ]
  },
  {
   "cell_type": "code",
   "execution_count": null,
   "metadata": {
    "collapsed": true
   },
   "outputs": [],
   "source": [
    "### Your code here\n"
   ]
  },
  {
   "cell_type": "markdown",
   "metadata": {},
   "source": [
    "### 7 - check yourself"
   ]
  },
  {
   "cell_type": "code",
   "execution_count": null,
   "metadata": {},
   "outputs": [],
   "source": [
    "if 'trip_filled.csv' in os.listdir():\n",
    "    print('trip_filled.csv was successfully saved')\n",
    "else:\n",
    "    print('trip.csv was NOT successfully saved')\n",
    "if 'weather_filled.csv' in os.listdir():\n",
    "    print('weather_filled.csv was successfully saved')\n",
    "else:\n",
    "    print('weather_filled.csv was NOT successfully saved')"
   ]
  },
  {
   "cell_type": "code",
   "execution_count": null,
   "metadata": {
    "collapsed": true
   },
   "outputs": [],
   "source": []
  }
 ],
 "metadata": {
  "kernelspec": {
   "display_name": "Python 3",
   "language": "python",
   "name": "python3"
  },
  "language_info": {
   "codemirror_mode": {
    "name": "ipython",
    "version": 3
   },
   "file_extension": ".py",
   "mimetype": "text/x-python",
   "name": "python",
   "nbconvert_exporter": "python",
   "pygments_lexer": "ipython3",
   "version": "3.6.2"
  }
 },
 "nbformat": 4,
 "nbformat_minor": 2
}
