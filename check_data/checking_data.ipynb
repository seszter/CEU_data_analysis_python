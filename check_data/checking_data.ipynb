{
 "cells": [
  {
   "cell_type": "markdown",
   "metadata": {},
   "source": [
    "### Loading dataframes"
   ]
  },
  {
   "cell_type": "code",
   "execution_count": 15,
   "metadata": {
    "collapsed": true
   },
   "outputs": [],
   "source": [
    "import pandas as pd"
   ]
  },
  {
   "cell_type": "markdown",
   "metadata": {},
   "source": [
    "### Check for duplicates"
   ]
  },
  {
   "cell_type": "code",
   "execution_count": 16,
   "metadata": {
    "collapsed": true
   },
   "outputs": [],
   "source": [
    "df = pd.DataFrame({'a':[1,1,1,2,2,3,4,5],\n",
    "                  'b':[10,10,11,20,20,30,40,50]})"
   ]
  },
  {
   "cell_type": "code",
   "execution_count": 17,
   "metadata": {},
   "outputs": [
    {
     "data": {
      "text/html": [
       "<div>\n",
       "<style>\n",
       "    .dataframe thead tr:only-child th {\n",
       "        text-align: right;\n",
       "    }\n",
       "\n",
       "    .dataframe thead th {\n",
       "        text-align: left;\n",
       "    }\n",
       "\n",
       "    .dataframe tbody tr th {\n",
       "        vertical-align: top;\n",
       "    }\n",
       "</style>\n",
       "<table border=\"1\" class=\"dataframe\">\n",
       "  <thead>\n",
       "    <tr style=\"text-align: right;\">\n",
       "      <th></th>\n",
       "      <th>a</th>\n",
       "      <th>b</th>\n",
       "    </tr>\n",
       "  </thead>\n",
       "  <tbody>\n",
       "    <tr>\n",
       "      <th>0</th>\n",
       "      <td>1</td>\n",
       "      <td>10</td>\n",
       "    </tr>\n",
       "    <tr>\n",
       "      <th>1</th>\n",
       "      <td>1</td>\n",
       "      <td>10</td>\n",
       "    </tr>\n",
       "    <tr>\n",
       "      <th>2</th>\n",
       "      <td>1</td>\n",
       "      <td>11</td>\n",
       "    </tr>\n",
       "    <tr>\n",
       "      <th>3</th>\n",
       "      <td>2</td>\n",
       "      <td>20</td>\n",
       "    </tr>\n",
       "    <tr>\n",
       "      <th>4</th>\n",
       "      <td>2</td>\n",
       "      <td>20</td>\n",
       "    </tr>\n",
       "    <tr>\n",
       "      <th>5</th>\n",
       "      <td>3</td>\n",
       "      <td>30</td>\n",
       "    </tr>\n",
       "    <tr>\n",
       "      <th>6</th>\n",
       "      <td>4</td>\n",
       "      <td>40</td>\n",
       "    </tr>\n",
       "    <tr>\n",
       "      <th>7</th>\n",
       "      <td>5</td>\n",
       "      <td>50</td>\n",
       "    </tr>\n",
       "  </tbody>\n",
       "</table>\n",
       "</div>"
      ],
      "text/plain": [
       "   a   b\n",
       "0  1  10\n",
       "1  1  10\n",
       "2  1  11\n",
       "3  2  20\n",
       "4  2  20\n",
       "5  3  30\n",
       "6  4  40\n",
       "7  5  50"
      ]
     },
     "execution_count": 17,
     "metadata": {},
     "output_type": "execute_result"
    }
   ],
   "source": [
    "df"
   ]
  },
  {
   "cell_type": "code",
   "execution_count": 18,
   "metadata": {},
   "outputs": [
    {
     "data": {
      "text/plain": [
       "0    False\n",
       "1     True\n",
       "2    False\n",
       "3    False\n",
       "4     True\n",
       "5    False\n",
       "6    False\n",
       "7    False\n",
       "dtype: bool"
      ]
     },
     "execution_count": 18,
     "metadata": {},
     "output_type": "execute_result"
    }
   ],
   "source": [
    "df.duplicated()"
   ]
  },
  {
   "cell_type": "code",
   "execution_count": 19,
   "metadata": {},
   "outputs": [
    {
     "data": {
      "text/plain": [
       "0    False\n",
       "1     True\n",
       "2     True\n",
       "3    False\n",
       "4     True\n",
       "5    False\n",
       "6    False\n",
       "7    False\n",
       "dtype: bool"
      ]
     },
     "execution_count": 19,
     "metadata": {},
     "output_type": "execute_result"
    }
   ],
   "source": [
    "df.duplicated(subset=['a'])"
   ]
  },
  {
   "cell_type": "code",
   "execution_count": 20,
   "metadata": {},
   "outputs": [
    {
     "data": {
      "text/plain": [
       "2"
      ]
     },
     "execution_count": 20,
     "metadata": {},
     "output_type": "execute_result"
    }
   ],
   "source": [
    "df.duplicated().sum()"
   ]
  },
  {
   "cell_type": "markdown",
   "metadata": {},
   "source": [
    "### Drop duplicated rows"
   ]
  },
  {
   "cell_type": "code",
   "execution_count": 21,
   "metadata": {
    "collapsed": true
   },
   "outputs": [],
   "source": [
    "df_no_duplicates = df.drop_duplicates()"
   ]
  },
  {
   "cell_type": "code",
   "execution_count": 22,
   "metadata": {},
   "outputs": [
    {
     "data": {
      "text/plain": [
       "(8, 6)"
      ]
     },
     "execution_count": 22,
     "metadata": {},
     "output_type": "execute_result"
    }
   ],
   "source": [
    "len(df), len(df_no_duplicates)"
   ]
  },
  {
   "cell_type": "code",
   "execution_count": 23,
   "metadata": {
    "collapsed": true
   },
   "outputs": [],
   "source": [
    "df.drop_duplicates(inplace=True)"
   ]
  },
  {
   "cell_type": "code",
   "execution_count": 24,
   "metadata": {},
   "outputs": [
    {
     "data": {
      "text/plain": [
       "6"
      ]
     },
     "execution_count": 24,
     "metadata": {},
     "output_type": "execute_result"
    }
   ],
   "source": [
    "len(df)"
   ]
  },
  {
   "cell_type": "markdown",
   "metadata": {},
   "source": [
    "### Check for missing values"
   ]
  },
  {
   "cell_type": "code",
   "execution_count": 25,
   "metadata": {
    "collapsed": true
   },
   "outputs": [],
   "source": [
    "df = pd.DataFrame({'a':[1,2,3,4],\n",
    "                  'b':[10,None,30,40],\n",
    "                  'c':[None,None,None,400]})"
   ]
  },
  {
   "cell_type": "code",
   "execution_count": 26,
   "metadata": {},
   "outputs": [
    {
     "data": {
      "text/html": [
       "<div>\n",
       "<style>\n",
       "    .dataframe thead tr:only-child th {\n",
       "        text-align: right;\n",
       "    }\n",
       "\n",
       "    .dataframe thead th {\n",
       "        text-align: left;\n",
       "    }\n",
       "\n",
       "    .dataframe tbody tr th {\n",
       "        vertical-align: top;\n",
       "    }\n",
       "</style>\n",
       "<table border=\"1\" class=\"dataframe\">\n",
       "  <thead>\n",
       "    <tr style=\"text-align: right;\">\n",
       "      <th></th>\n",
       "      <th>a</th>\n",
       "      <th>b</th>\n",
       "      <th>c</th>\n",
       "    </tr>\n",
       "  </thead>\n",
       "  <tbody>\n",
       "    <tr>\n",
       "      <th>0</th>\n",
       "      <td>False</td>\n",
       "      <td>False</td>\n",
       "      <td>True</td>\n",
       "    </tr>\n",
       "    <tr>\n",
       "      <th>1</th>\n",
       "      <td>False</td>\n",
       "      <td>True</td>\n",
       "      <td>True</td>\n",
       "    </tr>\n",
       "    <tr>\n",
       "      <th>2</th>\n",
       "      <td>False</td>\n",
       "      <td>False</td>\n",
       "      <td>True</td>\n",
       "    </tr>\n",
       "    <tr>\n",
       "      <th>3</th>\n",
       "      <td>False</td>\n",
       "      <td>False</td>\n",
       "      <td>False</td>\n",
       "    </tr>\n",
       "  </tbody>\n",
       "</table>\n",
       "</div>"
      ],
      "text/plain": [
       "       a      b      c\n",
       "0  False  False   True\n",
       "1  False   True   True\n",
       "2  False  False   True\n",
       "3  False  False  False"
      ]
     },
     "execution_count": 26,
     "metadata": {},
     "output_type": "execute_result"
    }
   ],
   "source": [
    "df.isnull()"
   ]
  },
  {
   "cell_type": "code",
   "execution_count": 27,
   "metadata": {},
   "outputs": [
    {
     "data": {
      "text/plain": [
       "a    False\n",
       "b     True\n",
       "c     True\n",
       "dtype: bool"
      ]
     },
     "execution_count": 27,
     "metadata": {},
     "output_type": "execute_result"
    }
   ],
   "source": [
    "df.isnull().any(axis=0)"
   ]
  },
  {
   "cell_type": "code",
   "execution_count": 28,
   "metadata": {},
   "outputs": [
    {
     "data": {
      "text/plain": [
       "0     True\n",
       "1     True\n",
       "2     True\n",
       "3    False\n",
       "dtype: bool"
      ]
     },
     "execution_count": 28,
     "metadata": {},
     "output_type": "execute_result"
    }
   ],
   "source": [
    "df.isnull().any(axis=1)"
   ]
  },
  {
   "cell_type": "code",
   "execution_count": 29,
   "metadata": {},
   "outputs": [
    {
     "data": {
      "text/plain": [
       "a    0\n",
       "b    1\n",
       "c    3\n",
       "dtype: int64"
      ]
     },
     "execution_count": 29,
     "metadata": {},
     "output_type": "execute_result"
    }
   ],
   "source": [
    "df.isnull().sum()"
   ]
  },
  {
   "cell_type": "markdown",
   "metadata": {},
   "source": [
    "### Drop rows with missing values"
   ]
  },
  {
   "cell_type": "code",
   "execution_count": 30,
   "metadata": {},
   "outputs": [
    {
     "data": {
      "text/html": [
       "<div>\n",
       "<style>\n",
       "    .dataframe thead tr:only-child th {\n",
       "        text-align: right;\n",
       "    }\n",
       "\n",
       "    .dataframe thead th {\n",
       "        text-align: left;\n",
       "    }\n",
       "\n",
       "    .dataframe tbody tr th {\n",
       "        vertical-align: top;\n",
       "    }\n",
       "</style>\n",
       "<table border=\"1\" class=\"dataframe\">\n",
       "  <thead>\n",
       "    <tr style=\"text-align: right;\">\n",
       "      <th></th>\n",
       "      <th>a</th>\n",
       "      <th>b</th>\n",
       "      <th>c</th>\n",
       "    </tr>\n",
       "  </thead>\n",
       "  <tbody>\n",
       "    <tr>\n",
       "      <th>0</th>\n",
       "      <td>1</td>\n",
       "      <td>10.0</td>\n",
       "      <td>NaN</td>\n",
       "    </tr>\n",
       "    <tr>\n",
       "      <th>1</th>\n",
       "      <td>2</td>\n",
       "      <td>NaN</td>\n",
       "      <td>NaN</td>\n",
       "    </tr>\n",
       "    <tr>\n",
       "      <th>2</th>\n",
       "      <td>3</td>\n",
       "      <td>30.0</td>\n",
       "      <td>NaN</td>\n",
       "    </tr>\n",
       "    <tr>\n",
       "      <th>3</th>\n",
       "      <td>4</td>\n",
       "      <td>40.0</td>\n",
       "      <td>400.0</td>\n",
       "    </tr>\n",
       "  </tbody>\n",
       "</table>\n",
       "</div>"
      ],
      "text/plain": [
       "   a     b      c\n",
       "0  1  10.0    NaN\n",
       "1  2   NaN    NaN\n",
       "2  3  30.0    NaN\n",
       "3  4  40.0  400.0"
      ]
     },
     "execution_count": 30,
     "metadata": {},
     "output_type": "execute_result"
    }
   ],
   "source": [
    "df"
   ]
  },
  {
   "cell_type": "code",
   "execution_count": 31,
   "metadata": {},
   "outputs": [
    {
     "data": {
      "text/html": [
       "<div>\n",
       "<style>\n",
       "    .dataframe thead tr:only-child th {\n",
       "        text-align: right;\n",
       "    }\n",
       "\n",
       "    .dataframe thead th {\n",
       "        text-align: left;\n",
       "    }\n",
       "\n",
       "    .dataframe tbody tr th {\n",
       "        vertical-align: top;\n",
       "    }\n",
       "</style>\n",
       "<table border=\"1\" class=\"dataframe\">\n",
       "  <thead>\n",
       "    <tr style=\"text-align: right;\">\n",
       "      <th></th>\n",
       "      <th>a</th>\n",
       "      <th>b</th>\n",
       "      <th>c</th>\n",
       "    </tr>\n",
       "  </thead>\n",
       "  <tbody>\n",
       "    <tr>\n",
       "      <th>3</th>\n",
       "      <td>4</td>\n",
       "      <td>40.0</td>\n",
       "      <td>400.0</td>\n",
       "    </tr>\n",
       "  </tbody>\n",
       "</table>\n",
       "</div>"
      ],
      "text/plain": [
       "   a     b      c\n",
       "3  4  40.0  400.0"
      ]
     },
     "execution_count": 31,
     "metadata": {},
     "output_type": "execute_result"
    }
   ],
   "source": [
    "df_only_full_rows = df.dropna()\n",
    "df_only_full_rows"
   ]
  },
  {
   "cell_type": "code",
   "execution_count": 32,
   "metadata": {},
   "outputs": [
    {
     "data": {
      "text/html": [
       "<div>\n",
       "<style>\n",
       "    .dataframe thead tr:only-child th {\n",
       "        text-align: right;\n",
       "    }\n",
       "\n",
       "    .dataframe thead th {\n",
       "        text-align: left;\n",
       "    }\n",
       "\n",
       "    .dataframe tbody tr th {\n",
       "        vertical-align: top;\n",
       "    }\n",
       "</style>\n",
       "<table border=\"1\" class=\"dataframe\">\n",
       "  <thead>\n",
       "    <tr style=\"text-align: right;\">\n",
       "      <th></th>\n",
       "      <th>a</th>\n",
       "      <th>b</th>\n",
       "      <th>c</th>\n",
       "    </tr>\n",
       "  </thead>\n",
       "  <tbody>\n",
       "    <tr>\n",
       "      <th>0</th>\n",
       "      <td>1</td>\n",
       "      <td>10.0</td>\n",
       "      <td>NaN</td>\n",
       "    </tr>\n",
       "    <tr>\n",
       "      <th>2</th>\n",
       "      <td>3</td>\n",
       "      <td>30.0</td>\n",
       "      <td>NaN</td>\n",
       "    </tr>\n",
       "    <tr>\n",
       "      <th>3</th>\n",
       "      <td>4</td>\n",
       "      <td>40.0</td>\n",
       "      <td>400.0</td>\n",
       "    </tr>\n",
       "  </tbody>\n",
       "</table>\n",
       "</div>"
      ],
      "text/plain": [
       "   a     b      c\n",
       "0  1  10.0    NaN\n",
       "2  3  30.0    NaN\n",
       "3  4  40.0  400.0"
      ]
     },
     "execution_count": 32,
     "metadata": {},
     "output_type": "execute_result"
    }
   ],
   "source": [
    "df_rows_where_b_is_not_missing = df.dropna(subset=['b'])\n",
    "df_rows_where_b_is_not_missing"
   ]
  },
  {
   "cell_type": "markdown",
   "metadata": {},
   "source": [
    "### Replace missing values"
   ]
  },
  {
   "cell_type": "code",
   "execution_count": 33,
   "metadata": {},
   "outputs": [
    {
     "data": {
      "text/html": [
       "<div>\n",
       "<style>\n",
       "    .dataframe thead tr:only-child th {\n",
       "        text-align: right;\n",
       "    }\n",
       "\n",
       "    .dataframe thead th {\n",
       "        text-align: left;\n",
       "    }\n",
       "\n",
       "    .dataframe tbody tr th {\n",
       "        vertical-align: top;\n",
       "    }\n",
       "</style>\n",
       "<table border=\"1\" class=\"dataframe\">\n",
       "  <thead>\n",
       "    <tr style=\"text-align: right;\">\n",
       "      <th></th>\n",
       "      <th>a</th>\n",
       "      <th>b</th>\n",
       "      <th>c</th>\n",
       "    </tr>\n",
       "  </thead>\n",
       "  <tbody>\n",
       "    <tr>\n",
       "      <th>0</th>\n",
       "      <td>1</td>\n",
       "      <td>10.0</td>\n",
       "      <td>NaN</td>\n",
       "    </tr>\n",
       "    <tr>\n",
       "      <th>1</th>\n",
       "      <td>2</td>\n",
       "      <td>NaN</td>\n",
       "      <td>NaN</td>\n",
       "    </tr>\n",
       "    <tr>\n",
       "      <th>2</th>\n",
       "      <td>3</td>\n",
       "      <td>30.0</td>\n",
       "      <td>NaN</td>\n",
       "    </tr>\n",
       "    <tr>\n",
       "      <th>3</th>\n",
       "      <td>4</td>\n",
       "      <td>40.0</td>\n",
       "      <td>400.0</td>\n",
       "    </tr>\n",
       "  </tbody>\n",
       "</table>\n",
       "</div>"
      ],
      "text/plain": [
       "   a     b      c\n",
       "0  1  10.0    NaN\n",
       "1  2   NaN    NaN\n",
       "2  3  30.0    NaN\n",
       "3  4  40.0  400.0"
      ]
     },
     "execution_count": 33,
     "metadata": {},
     "output_type": "execute_result"
    }
   ],
   "source": [
    "df"
   ]
  },
  {
   "cell_type": "code",
   "execution_count": 34,
   "metadata": {},
   "outputs": [
    {
     "data": {
      "text/html": [
       "<div>\n",
       "<style>\n",
       "    .dataframe thead tr:only-child th {\n",
       "        text-align: right;\n",
       "    }\n",
       "\n",
       "    .dataframe thead th {\n",
       "        text-align: left;\n",
       "    }\n",
       "\n",
       "    .dataframe tbody tr th {\n",
       "        vertical-align: top;\n",
       "    }\n",
       "</style>\n",
       "<table border=\"1\" class=\"dataframe\">\n",
       "  <thead>\n",
       "    <tr style=\"text-align: right;\">\n",
       "      <th></th>\n",
       "      <th>a</th>\n",
       "      <th>b</th>\n",
       "      <th>c</th>\n",
       "    </tr>\n",
       "  </thead>\n",
       "  <tbody>\n",
       "    <tr>\n",
       "      <th>0</th>\n",
       "      <td>1</td>\n",
       "      <td>10.000000</td>\n",
       "      <td>NaN</td>\n",
       "    </tr>\n",
       "    <tr>\n",
       "      <th>1</th>\n",
       "      <td>2</td>\n",
       "      <td>26.666667</td>\n",
       "      <td>NaN</td>\n",
       "    </tr>\n",
       "    <tr>\n",
       "      <th>2</th>\n",
       "      <td>3</td>\n",
       "      <td>30.000000</td>\n",
       "      <td>NaN</td>\n",
       "    </tr>\n",
       "    <tr>\n",
       "      <th>3</th>\n",
       "      <td>4</td>\n",
       "      <td>40.000000</td>\n",
       "      <td>400.0</td>\n",
       "    </tr>\n",
       "  </tbody>\n",
       "</table>\n",
       "</div>"
      ],
      "text/plain": [
       "   a          b      c\n",
       "0  1  10.000000    NaN\n",
       "1  2  26.666667    NaN\n",
       "2  3  30.000000    NaN\n",
       "3  4  40.000000  400.0"
      ]
     },
     "execution_count": 34,
     "metadata": {},
     "output_type": "execute_result"
    }
   ],
   "source": [
    "mean_b = df['b'].mean()\n",
    "df_missing_b_replaced_with_mean = df.fillna(value={'b':mean_b})\n",
    "df_missing_b_replaced_with_mean"
   ]
  },
  {
   "cell_type": "code",
   "execution_count": 35,
   "metadata": {},
   "outputs": [
    {
     "data": {
      "text/html": [
       "<div>\n",
       "<style>\n",
       "    .dataframe thead tr:only-child th {\n",
       "        text-align: right;\n",
       "    }\n",
       "\n",
       "    .dataframe thead th {\n",
       "        text-align: left;\n",
       "    }\n",
       "\n",
       "    .dataframe tbody tr th {\n",
       "        vertical-align: top;\n",
       "    }\n",
       "</style>\n",
       "<table border=\"1\" class=\"dataframe\">\n",
       "  <thead>\n",
       "    <tr style=\"text-align: right;\">\n",
       "      <th></th>\n",
       "      <th>a</th>\n",
       "      <th>b</th>\n",
       "      <th>c</th>\n",
       "    </tr>\n",
       "  </thead>\n",
       "  <tbody>\n",
       "    <tr>\n",
       "      <th>0</th>\n",
       "      <td>1</td>\n",
       "      <td>10.000000</td>\n",
       "      <td>0.0</td>\n",
       "    </tr>\n",
       "    <tr>\n",
       "      <th>1</th>\n",
       "      <td>2</td>\n",
       "      <td>26.666667</td>\n",
       "      <td>0.0</td>\n",
       "    </tr>\n",
       "    <tr>\n",
       "      <th>2</th>\n",
       "      <td>3</td>\n",
       "      <td>30.000000</td>\n",
       "      <td>0.0</td>\n",
       "    </tr>\n",
       "    <tr>\n",
       "      <th>3</th>\n",
       "      <td>4</td>\n",
       "      <td>40.000000</td>\n",
       "      <td>400.0</td>\n",
       "    </tr>\n",
       "  </tbody>\n",
       "</table>\n",
       "</div>"
      ],
      "text/plain": [
       "   a          b      c\n",
       "0  1  10.000000    0.0\n",
       "1  2  26.666667    0.0\n",
       "2  3  30.000000    0.0\n",
       "3  4  40.000000  400.0"
      ]
     },
     "execution_count": 35,
     "metadata": {},
     "output_type": "execute_result"
    }
   ],
   "source": [
    "df_missing_b_replaced_with_mean_missing_c_replaced_with_zero = df.fillna(value={'b':mean_b,\n",
    "                                                                                'c':0})\n",
    "df_missing_b_replaced_with_mean_missing_c_replaced_with_zero"
   ]
  },
  {
   "cell_type": "code",
   "execution_count": 36,
   "metadata": {},
   "outputs": [
    {
     "data": {
      "text/html": [
       "<div>\n",
       "<style>\n",
       "    .dataframe thead tr:only-child th {\n",
       "        text-align: right;\n",
       "    }\n",
       "\n",
       "    .dataframe thead th {\n",
       "        text-align: left;\n",
       "    }\n",
       "\n",
       "    .dataframe tbody tr th {\n",
       "        vertical-align: top;\n",
       "    }\n",
       "</style>\n",
       "<table border=\"1\" class=\"dataframe\">\n",
       "  <thead>\n",
       "    <tr style=\"text-align: right;\">\n",
       "      <th></th>\n",
       "      <th>a</th>\n",
       "      <th>b</th>\n",
       "      <th>c</th>\n",
       "    </tr>\n",
       "  </thead>\n",
       "  <tbody>\n",
       "    <tr>\n",
       "      <th>0</th>\n",
       "      <td>1</td>\n",
       "      <td>10</td>\n",
       "      <td>Unknown</td>\n",
       "    </tr>\n",
       "    <tr>\n",
       "      <th>1</th>\n",
       "      <td>2</td>\n",
       "      <td>Unknown</td>\n",
       "      <td>Unknown</td>\n",
       "    </tr>\n",
       "    <tr>\n",
       "      <th>2</th>\n",
       "      <td>3</td>\n",
       "      <td>30</td>\n",
       "      <td>Unknown</td>\n",
       "    </tr>\n",
       "    <tr>\n",
       "      <th>3</th>\n",
       "      <td>4</td>\n",
       "      <td>40</td>\n",
       "      <td>400</td>\n",
       "    </tr>\n",
       "  </tbody>\n",
       "</table>\n",
       "</div>"
      ],
      "text/plain": [
       "   a        b        c\n",
       "0  1       10  Unknown\n",
       "1  2  Unknown  Unknown\n",
       "2  3       30  Unknown\n",
       "3  4       40      400"
      ]
     },
     "execution_count": 36,
     "metadata": {},
     "output_type": "execute_result"
    }
   ],
   "source": [
    "df.fillna('Unknown', inplace=True)\n",
    "df"
   ]
  },
  {
   "cell_type": "markdown",
   "metadata": {},
   "source": [
    "### Describing numeric data"
   ]
  },
  {
   "cell_type": "code",
   "execution_count": 57,
   "metadata": {
    "collapsed": true
   },
   "outputs": [],
   "source": [
    "df = pd.DataFrame({'a':[1,1,1,2,2,3,4,5],\n",
    "                  'b':[10,10,11,20,None,None,40,50],\n",
    "                  'c':['apple','apple','plum','pear','plum','apple','apple','apple']})"
   ]
  },
  {
   "cell_type": "code",
   "execution_count": 58,
   "metadata": {},
   "outputs": [
    {
     "data": {
      "text/html": [
       "<div>\n",
       "<style>\n",
       "    .dataframe thead tr:only-child th {\n",
       "        text-align: right;\n",
       "    }\n",
       "\n",
       "    .dataframe thead th {\n",
       "        text-align: left;\n",
       "    }\n",
       "\n",
       "    .dataframe tbody tr th {\n",
       "        vertical-align: top;\n",
       "    }\n",
       "</style>\n",
       "<table border=\"1\" class=\"dataframe\">\n",
       "  <thead>\n",
       "    <tr style=\"text-align: right;\">\n",
       "      <th></th>\n",
       "      <th>a</th>\n",
       "      <th>b</th>\n",
       "      <th>c</th>\n",
       "    </tr>\n",
       "  </thead>\n",
       "  <tbody>\n",
       "    <tr>\n",
       "      <th>0</th>\n",
       "      <td>1</td>\n",
       "      <td>10.0</td>\n",
       "      <td>apple</td>\n",
       "    </tr>\n",
       "    <tr>\n",
       "      <th>1</th>\n",
       "      <td>1</td>\n",
       "      <td>10.0</td>\n",
       "      <td>apple</td>\n",
       "    </tr>\n",
       "    <tr>\n",
       "      <th>2</th>\n",
       "      <td>1</td>\n",
       "      <td>11.0</td>\n",
       "      <td>plum</td>\n",
       "    </tr>\n",
       "    <tr>\n",
       "      <th>3</th>\n",
       "      <td>2</td>\n",
       "      <td>20.0</td>\n",
       "      <td>pear</td>\n",
       "    </tr>\n",
       "    <tr>\n",
       "      <th>4</th>\n",
       "      <td>2</td>\n",
       "      <td>NaN</td>\n",
       "      <td>plum</td>\n",
       "    </tr>\n",
       "    <tr>\n",
       "      <th>5</th>\n",
       "      <td>3</td>\n",
       "      <td>NaN</td>\n",
       "      <td>apple</td>\n",
       "    </tr>\n",
       "    <tr>\n",
       "      <th>6</th>\n",
       "      <td>4</td>\n",
       "      <td>40.0</td>\n",
       "      <td>apple</td>\n",
       "    </tr>\n",
       "    <tr>\n",
       "      <th>7</th>\n",
       "      <td>5</td>\n",
       "      <td>50.0</td>\n",
       "      <td>apple</td>\n",
       "    </tr>\n",
       "  </tbody>\n",
       "</table>\n",
       "</div>"
      ],
      "text/plain": [
       "   a     b      c\n",
       "0  1  10.0  apple\n",
       "1  1  10.0  apple\n",
       "2  1  11.0   plum\n",
       "3  2  20.0   pear\n",
       "4  2   NaN   plum\n",
       "5  3   NaN  apple\n",
       "6  4  40.0  apple\n",
       "7  5  50.0  apple"
      ]
     },
     "execution_count": 58,
     "metadata": {},
     "output_type": "execute_result"
    }
   ],
   "source": [
    "df"
   ]
  },
  {
   "cell_type": "code",
   "execution_count": 59,
   "metadata": {},
   "outputs": [
    {
     "data": {
      "text/plain": [
       "a      int64\n",
       "b    float64\n",
       "c     object\n",
       "dtype: object"
      ]
     },
     "execution_count": 59,
     "metadata": {},
     "output_type": "execute_result"
    }
   ],
   "source": [
    "df.dtypes"
   ]
  },
  {
   "cell_type": "code",
   "execution_count": 60,
   "metadata": {},
   "outputs": [
    {
     "data": {
      "text/plain": [
       "dtype('O')"
      ]
     },
     "execution_count": 60,
     "metadata": {},
     "output_type": "execute_result"
    }
   ],
   "source": [
    "df['c'].dtype"
   ]
  },
  {
   "cell_type": "code",
   "execution_count": 39,
   "metadata": {},
   "outputs": [
    {
     "data": {
      "text/html": [
       "<div>\n",
       "<style>\n",
       "    .dataframe thead tr:only-child th {\n",
       "        text-align: right;\n",
       "    }\n",
       "\n",
       "    .dataframe thead th {\n",
       "        text-align: left;\n",
       "    }\n",
       "\n",
       "    .dataframe tbody tr th {\n",
       "        vertical-align: top;\n",
       "    }\n",
       "</style>\n",
       "<table border=\"1\" class=\"dataframe\">\n",
       "  <thead>\n",
       "    <tr style=\"text-align: right;\">\n",
       "      <th></th>\n",
       "      <th>a</th>\n",
       "      <th>b</th>\n",
       "    </tr>\n",
       "  </thead>\n",
       "  <tbody>\n",
       "    <tr>\n",
       "      <th>count</th>\n",
       "      <td>8.000000</td>\n",
       "      <td>6.000000</td>\n",
       "    </tr>\n",
       "    <tr>\n",
       "      <th>mean</th>\n",
       "      <td>2.375000</td>\n",
       "      <td>23.500000</td>\n",
       "    </tr>\n",
       "    <tr>\n",
       "      <th>std</th>\n",
       "      <td>1.505941</td>\n",
       "      <td>17.363755</td>\n",
       "    </tr>\n",
       "    <tr>\n",
       "      <th>min</th>\n",
       "      <td>1.000000</td>\n",
       "      <td>10.000000</td>\n",
       "    </tr>\n",
       "    <tr>\n",
       "      <th>25%</th>\n",
       "      <td>1.000000</td>\n",
       "      <td>10.250000</td>\n",
       "    </tr>\n",
       "    <tr>\n",
       "      <th>50%</th>\n",
       "      <td>2.000000</td>\n",
       "      <td>15.500000</td>\n",
       "    </tr>\n",
       "    <tr>\n",
       "      <th>75%</th>\n",
       "      <td>3.250000</td>\n",
       "      <td>35.000000</td>\n",
       "    </tr>\n",
       "    <tr>\n",
       "      <th>max</th>\n",
       "      <td>5.000000</td>\n",
       "      <td>50.000000</td>\n",
       "    </tr>\n",
       "  </tbody>\n",
       "</table>\n",
       "</div>"
      ],
      "text/plain": [
       "              a          b\n",
       "count  8.000000   6.000000\n",
       "mean   2.375000  23.500000\n",
       "std    1.505941  17.363755\n",
       "min    1.000000  10.000000\n",
       "25%    1.000000  10.250000\n",
       "50%    2.000000  15.500000\n",
       "75%    3.250000  35.000000\n",
       "max    5.000000  50.000000"
      ]
     },
     "execution_count": 39,
     "metadata": {},
     "output_type": "execute_result"
    }
   ],
   "source": [
    "df.describe()"
   ]
  },
  {
   "cell_type": "code",
   "execution_count": 40,
   "metadata": {},
   "outputs": [
    {
     "data": {
      "text/plain": [
       "a       5\n",
       "b      50\n",
       "c    plum\n",
       "dtype: object"
      ]
     },
     "execution_count": 40,
     "metadata": {},
     "output_type": "execute_result"
    }
   ],
   "source": [
    "df.max()"
   ]
  },
  {
   "cell_type": "code",
   "execution_count": 41,
   "metadata": {},
   "outputs": [
    {
     "data": {
      "text/plain": [
       "5"
      ]
     },
     "execution_count": 41,
     "metadata": {},
     "output_type": "execute_result"
    }
   ],
   "source": [
    "df['a'].max()"
   ]
  },
  {
   "cell_type": "markdown",
   "metadata": {},
   "source": [
    "### Describing non numeric data"
   ]
  },
  {
   "cell_type": "code",
   "execution_count": 42,
   "metadata": {},
   "outputs": [
    {
     "data": {
      "text/html": [
       "<div>\n",
       "<style>\n",
       "    .dataframe thead tr:only-child th {\n",
       "        text-align: right;\n",
       "    }\n",
       "\n",
       "    .dataframe thead th {\n",
       "        text-align: left;\n",
       "    }\n",
       "\n",
       "    .dataframe tbody tr th {\n",
       "        vertical-align: top;\n",
       "    }\n",
       "</style>\n",
       "<table border=\"1\" class=\"dataframe\">\n",
       "  <thead>\n",
       "    <tr style=\"text-align: right;\">\n",
       "      <th></th>\n",
       "      <th>a</th>\n",
       "      <th>b</th>\n",
       "      <th>c</th>\n",
       "    </tr>\n",
       "  </thead>\n",
       "  <tbody>\n",
       "    <tr>\n",
       "      <th>0</th>\n",
       "      <td>1</td>\n",
       "      <td>10.0</td>\n",
       "      <td>apple</td>\n",
       "    </tr>\n",
       "    <tr>\n",
       "      <th>1</th>\n",
       "      <td>1</td>\n",
       "      <td>10.0</td>\n",
       "      <td>apple</td>\n",
       "    </tr>\n",
       "    <tr>\n",
       "      <th>2</th>\n",
       "      <td>1</td>\n",
       "      <td>11.0</td>\n",
       "      <td>plum</td>\n",
       "    </tr>\n",
       "    <tr>\n",
       "      <th>3</th>\n",
       "      <td>2</td>\n",
       "      <td>20.0</td>\n",
       "      <td>pear</td>\n",
       "    </tr>\n",
       "    <tr>\n",
       "      <th>4</th>\n",
       "      <td>2</td>\n",
       "      <td>NaN</td>\n",
       "      <td>plum</td>\n",
       "    </tr>\n",
       "    <tr>\n",
       "      <th>5</th>\n",
       "      <td>3</td>\n",
       "      <td>NaN</td>\n",
       "      <td>apple</td>\n",
       "    </tr>\n",
       "    <tr>\n",
       "      <th>6</th>\n",
       "      <td>4</td>\n",
       "      <td>40.0</td>\n",
       "      <td>apple</td>\n",
       "    </tr>\n",
       "    <tr>\n",
       "      <th>7</th>\n",
       "      <td>5</td>\n",
       "      <td>50.0</td>\n",
       "      <td>apple</td>\n",
       "    </tr>\n",
       "  </tbody>\n",
       "</table>\n",
       "</div>"
      ],
      "text/plain": [
       "   a     b      c\n",
       "0  1  10.0  apple\n",
       "1  1  10.0  apple\n",
       "2  1  11.0   plum\n",
       "3  2  20.0   pear\n",
       "4  2   NaN   plum\n",
       "5  3   NaN  apple\n",
       "6  4  40.0  apple\n",
       "7  5  50.0  apple"
      ]
     },
     "execution_count": 42,
     "metadata": {},
     "output_type": "execute_result"
    }
   ],
   "source": [
    "df"
   ]
  },
  {
   "cell_type": "code",
   "execution_count": 43,
   "metadata": {},
   "outputs": [
    {
     "data": {
      "text/plain": [
       "array(['apple', 'plum', 'pear'], dtype=object)"
      ]
     },
     "execution_count": 43,
     "metadata": {},
     "output_type": "execute_result"
    }
   ],
   "source": [
    "df['c'].unique()"
   ]
  },
  {
   "cell_type": "code",
   "execution_count": 44,
   "metadata": {},
   "outputs": [
    {
     "data": {
      "text/plain": [
       "3"
      ]
     },
     "execution_count": 44,
     "metadata": {},
     "output_type": "execute_result"
    }
   ],
   "source": [
    "df['c'].nunique()"
   ]
  },
  {
   "cell_type": "code",
   "execution_count": 45,
   "metadata": {},
   "outputs": [
    {
     "data": {
      "text/plain": [
       "apple    5\n",
       "plum     2\n",
       "pear     1\n",
       "Name: c, dtype: int64"
      ]
     },
     "execution_count": 45,
     "metadata": {},
     "output_type": "execute_result"
    }
   ],
   "source": [
    "df['c'].value_counts()"
   ]
  },
  {
   "cell_type": "markdown",
   "metadata": {
    "collapsed": true
   },
   "source": [
    "## Exercise"
   ]
  },
  {
   "cell_type": "markdown",
   "metadata": {},
   "source": [
    "### 1 - exercise\n",
    "Load the datasets into pandas dataframes called trip, weather and station. (Don't forget to import the pandas library first!) <br>\n",
    "Create three variables called trip_duplicates_num, weather_duplicates_num and station_duplicatess_num that contains how many duplicated rows are in each dataframe."
   ]
  },
  {
   "cell_type": "code",
   "execution_count": 11,
   "metadata": {
    "collapsed": true
   },
   "outputs": [],
   "source": [
    "### Your code here\n",
    "import pandas as pd\n",
    "\n",
    "weather = pd.read_csv('weather.csv')\n",
    "trip = pd.read_csv('trip.csv')\n",
    "station = pd.read_csv('station.csv')\n",
    "\n",
    "trip_duplicates_num = trip.duplicated().sum()\n",
    "station_duplicates_num = station.duplicated().sum()\n",
    "weather_duplicates_num = weather.duplicated().sum()"
   ]
  },
  {
   "cell_type": "markdown",
   "metadata": {},
   "source": [
    "### 1 - check yourself"
   ]
  },
  {
   "cell_type": "code",
   "execution_count": 34,
   "metadata": {},
   "outputs": [
    {
     "name": "stdout",
     "output_type": "stream",
     "text": [
      "Length of trip dataframe should be 144115 with 100 duplicated rows.\n",
      "The length of your dataframe is 144115 and you counted 100 duplicated rows\n",
      "\n",
      "Length of weather dataframe should be 928 with 8 duplicated rows.\n",
      "The length of your dataframe is 928 and you counted 8 duplicated rows\n",
      "\n",
      "Length of station dataframe should be 69 with 0 duplicated rows.\n",
      "The length of your dataframe is 69 and you counted 0 duplicated rows\n",
      "\n"
     ]
    }
   ],
   "source": [
    "print('Length of trip dataframe should be 144115 with 100 duplicated rows.\\n\\\n",
    "The length of your dataframe is {} and you counted {} duplicated rows\\n'.format(len(trip), trip_duplicates_num))\n",
    "print('Length of weather dataframe should be 928 with 8 duplicated rows.\\n\\\n",
    "The length of your dataframe is {} and you counted {} duplicated rows\\n'.format(len(weather), weather_duplicates_num))\n",
    "print('Length of station dataframe should be 69 with 0 duplicated rows.\\n\\\n",
    "The length of your dataframe is {} and you counted {} duplicated rows\\n'.format(len(station), station_duplicates_num))"
   ]
  },
  {
   "cell_type": "markdown",
   "metadata": {},
   "source": [
    "### 2 - exercise\n",
    "For all 3 dataframes delete the duplicated rows in place (without creating a new dataframe) <br>"
   ]
  },
  {
   "cell_type": "code",
   "execution_count": 12,
   "metadata": {
    "collapsed": true
   },
   "outputs": [],
   "source": [
    "### Your code here\n",
    "\n",
    "weather.drop_duplicates(inplace=True)\n",
    "trip.drop_duplicates(inplace=True)\n",
    "station.drop_duplicates(inplace=True)"
   ]
  },
  {
   "cell_type": "markdown",
   "metadata": {},
   "source": [
    "### 2 - check yourself"
   ]
  },
  {
   "cell_type": "code",
   "execution_count": 36,
   "metadata": {},
   "outputs": [
    {
     "name": "stdout",
     "output_type": "stream",
     "text": [
      "Length of trip dataframe should be 144015.\n",
      "The length of your dataframe is 144015\n",
      "\n",
      "Length of weather dataframe should be 920.\n",
      "The length of your dataframe is 920\n",
      "\n",
      "Length of station dataframe should be 69.\n",
      "The length of your dataframe is 69\n",
      "\n"
     ]
    }
   ],
   "source": [
    "print('Length of trip dataframe should be 144015.\\n\\\n",
    "The length of your dataframe is {}\\n'.format(len(trip)))\n",
    "print('Length of weather dataframe should be 920.\\n\\\n",
    "The length of your dataframe is {}\\n'.format(len(weather)))\n",
    "print('Length of station dataframe should be 69.\\n\\\n",
    "The length of your dataframe is {}\\n'.format(len(station)))"
   ]
  },
  {
   "cell_type": "markdown",
   "metadata": {},
   "source": [
    "### 3 - exercise\n",
    "For all dataframes check if there are columns with missing values. <br>\n",
    "Create 3 lists called trip_columns_with_missing_data, weather_columns_with_missing_data, station_columns_with_missing_data that contains the names of the columns with missing values of the dataframe. <br>\n",
    "You can populate these lists by hand, or as an advanced task you can use pandas methods."
   ]
  },
  {
   "cell_type": "code",
   "execution_count": 37,
   "metadata": {
    "collapsed": true
   },
   "outputs": [],
   "source": [
    "### Your code here\n",
    "weather_columns_with_missing_data = weather.isnull().any()[weather.isnull().any()==True].index\n",
    "trip_columns_with_missing_data = trip.isnull().any()[trip.isnull().any()==True].index\n",
    "station_columns_with_missing_data = station.isnull().any()[station.isnull().any()==True].index"
   ]
  },
  {
   "cell_type": "code",
   "execution_count": 16,
   "metadata": {},
   "outputs": [
    {
     "name": "stdout",
     "output_type": "stream",
     "text": [
      "Date\n",
      "Max_Temperature_F\n",
      "['Max_Temperature_F']\n",
      "Mean_Temperature_F\n",
      "['Max_Temperature_F', 'Mean_Temperature_F']\n",
      "Min_TemperatureF\n",
      "['Max_Temperature_F', 'Mean_Temperature_F', 'Min_TemperatureF']\n",
      "Max_Dew_Point_F\n",
      "MeanDew_Point_F\n",
      "Min_Dewpoint_F\n",
      "Max_Humidity\n",
      "Mean_Humidity \n",
      "Min_Humidity \n",
      "Max_Sea_Level_Pressure_In \n",
      "Mean_Sea_Level_Pressure_In \n",
      "Min_Sea_Level_Pressure_In \n",
      "Max_Visibility_Miles \n",
      "Mean_Visibility_Miles \n",
      "Min_Visibility_Miles \n",
      "Max_Wind_Speed_MPH \n",
      "Mean_Wind_Speed_MPH \n",
      "Max_Gust_Speed_MPH\n",
      "['Max_Temperature_F', 'Mean_Temperature_F', 'Min_TemperatureF', 'Max_Gust_Speed_MPH']\n",
      "Precipitation_In \n",
      "Cloud_Cover \n",
      "Events\n",
      "['Max_Temperature_F', 'Mean_Temperature_F', 'Min_TemperatureF', 'Max_Gust_Speed_MPH', 'Events']\n",
      "Wind_Dir_Degrees\n",
      "landmark\n"
     ]
    }
   ],
   "source": [
    "weather_columns_with_missing_data = []\n",
    "for c in weather.columns:\n",
    "    print(c)\n",
    "    if weather[c].isnull().sum() > 0:\n",
    "        weather_columns_with_missing_data.append(c)\n",
    "        print(weather_columns_with_missing_data)"
   ]
  },
  {
   "cell_type": "code",
   "execution_count": 15,
   "metadata": {},
   "outputs": [
    {
     "name": "stdout",
     "output_type": "stream",
     "text": [
      "Date 0\n",
      "Max_Temperature_F 3\n",
      "Mean_Temperature_F 3\n",
      "Min_TemperatureF 3\n",
      "Max_Dew_Point_F 0\n",
      "MeanDew_Point_F 0\n",
      "Min_Dewpoint_F 0\n",
      "Max_Humidity 0\n",
      "Mean_Humidity  0\n",
      "Min_Humidity  0\n",
      "Max_Sea_Level_Pressure_In  0\n",
      "Mean_Sea_Level_Pressure_In  0\n",
      "Min_Sea_Level_Pressure_In  0\n",
      "Max_Visibility_Miles  0\n",
      "Mean_Visibility_Miles  0\n",
      "Min_Visibility_Miles  0\n",
      "Max_Wind_Speed_MPH  0\n",
      "Mean_Wind_Speed_MPH  0\n",
      "Max_Gust_Speed_MPH 138\n",
      "Precipitation_In  0\n",
      "Cloud_Cover  0\n",
      "Events 782\n",
      "Wind_Dir_Degrees 0\n",
      "landmark 0\n"
     ]
    }
   ],
   "source": [
    "for c in weather.columns:\n",
    "    print(c, weather[c].isnull().sum())"
   ]
  },
  {
   "cell_type": "markdown",
   "metadata": {},
   "source": [
    "### 3 - check yourself"
   ]
  },
  {
   "cell_type": "code",
   "execution_count": 38,
   "metadata": {},
   "outputs": [
    {
     "name": "stdout",
     "output_type": "stream",
     "text": [
      "Columns with missing values in the trip dataframe are:\n",
      " Subscription Type\n",
      "You have found:\n",
      " Subscription Type\n",
      "\n",
      "Columns with missing values in the weather dataframe are:\n",
      " Max_Temperature_F,Mean_Temperature_F,Min_TemperatureF,Max_Gust_Speed_MPH,Events\n",
      "You have found:\n",
      " Max_Temperature_F,Mean_Temperature_F,Min_TemperatureF,Max_Gust_Speed_MPH,Events\n",
      "\n",
      "Columns with missing values in the station dataframe are:\n",
      " \n",
      "You have found:\n",
      " \n",
      "\n"
     ]
    }
   ],
   "source": [
    "print('Columns with missing values in the trip dataframe are:\\n \\\n",
    "Subscription Type\\n\\\n",
    "You have found:\\n {}\\n'.format(','.join(trip_columns_with_missing_data)))\n",
    "\n",
    "print('Columns with missing values in the weather dataframe are:\\n \\\n",
    "Max_Temperature_F,Mean_Temperature_F,Min_TemperatureF,Max_Gust_Speed_MPH,Events\\n\\\n",
    "You have found:\\n {}\\n'.format(','.join(weather_columns_with_missing_data)))\n",
    "\n",
    "print('Columns with missing values in the station dataframe are:\\n \\\n",
    "\\n\\\n",
    "You have found:\\n {}\\n'.format(','.join(station_columns_with_missing_data)))"
   ]
  },
  {
   "cell_type": "markdown",
   "metadata": {},
   "source": [
    "### 4 - exercise\n",
    "How many values are missing in each column with missing values in the dataframes? <br>\n",
    "Display the answer in any format you would like. As an advance task, try to display only the names of the columns that have missing values in them."
   ]
  },
  {
   "cell_type": "code",
   "execution_count": 39,
   "metadata": {},
   "outputs": [
    {
     "data": {
      "text/plain": [
       "Max_Temperature_F       3\n",
       "Mean_Temperature_F      3\n",
       "Min_TemperatureF        3\n",
       "Max_Gust_Speed_MPH    138\n",
       "Events                782\n",
       "dtype: int64"
      ]
     },
     "execution_count": 39,
     "metadata": {},
     "output_type": "execute_result"
    }
   ],
   "source": [
    "### Your code here\n",
    "weather.isnull().sum()[weather.isnull().any()==True]"
   ]
  },
  {
   "cell_type": "code",
   "execution_count": 40,
   "metadata": {},
   "outputs": [
    {
     "data": {
      "text/plain": [
       "Subscription Type    10\n",
       "dtype: int64"
      ]
     },
     "execution_count": 40,
     "metadata": {},
     "output_type": "execute_result"
    }
   ],
   "source": [
    "trip.isnull().sum()[trip.isnull().any()==True]"
   ]
  },
  {
   "cell_type": "code",
   "execution_count": 18,
   "metadata": {},
   "outputs": [
    {
     "name": "stdout",
     "output_type": "stream",
     "text": [
      "Subscription Type 10\n"
     ]
    }
   ],
   "source": [
    "for c in trip.columns:\n",
    "    if trip[c].isnull().sum() > 0:\n",
    "        #print('name of column {} and number of missing values {}'.format(c,trip[c].isnull().sum() ))\n",
    "        print(c, trip[c].isnull().sum())"
   ]
  },
  {
   "cell_type": "code",
   "execution_count": 19,
   "metadata": {},
   "outputs": [
    {
     "name": "stdout",
     "output_type": "stream",
     "text": [
      "Max_Temperature_F 3\n",
      "Mean_Temperature_F 3\n",
      "Min_TemperatureF 3\n",
      "Max_Gust_Speed_MPH 138\n",
      "Events 782\n"
     ]
    }
   ],
   "source": [
    "for c in weather.columns:\n",
    "    if weather[c].isnull().sum() > 0:\n",
    "        #print('name of column {} and number of missing values {}'.format(c,trip[c].isnull().sum() ))\n",
    "        print(c, weather[c].isnull().sum())"
   ]
  },
  {
   "cell_type": "markdown",
   "metadata": {},
   "source": [
    "### 4 - check yourself\n",
    "The number of missing values in Max_Temperature_F column is 3 <br>\n",
    "The number of missing values in Mean_Temperature_F column is 3<br>\n",
    "The number of missing values in Min_TemperatureF column is 3<br>\n",
    "The number of missing values in Max_Gust_Speed_MPH column is 138<br>\n",
    "The number of missing values in Events column is 782<br>\n",
    "The number of missing values in Subscription Type column is 10<br>"
   ]
  },
  {
   "cell_type": "markdown",
   "metadata": {},
   "source": [
    "### 5 - exercise\n",
    "Before deciding how to deal with the missing values, let's get more familiar with the data! <br>\n",
    " - How many values are in the columns with missing data? As an advanced task, try to display the number of rows for only these columns, not the others.\n",
    " - Display the mean of each numeric column in the weather dataframe. Which are 2 columns with the lowest mean? As an advanced task, try to display them in descending order!\n",
    " - And what about the Events column in the weather dataframe? What are the unique values and how many times do they occur?"
   ]
  },
  {
   "cell_type": "code",
   "execution_count": 41,
   "metadata": {},
   "outputs": [
    {
     "data": {
      "text/plain": [
       "Max_Temperature_F     917\n",
       "Mean_Temperature_F    917\n",
       "Min_TemperatureF      917\n",
       "Max_Gust_Speed_MPH    782\n",
       "Events                138\n",
       "dtype: int64"
      ]
     },
     "execution_count": 41,
     "metadata": {},
     "output_type": "execute_result"
    }
   ],
   "source": [
    "weather[['Max_Temperature_F','Mean_Temperature_F','Min_TemperatureF','Max_Gust_Speed_MPH','Events']].count()"
   ]
  },
  {
   "cell_type": "code",
   "execution_count": 22,
   "metadata": {},
   "outputs": [
    {
     "data": {
      "text/html": [
       "<div>\n",
       "<style>\n",
       "    .dataframe thead tr:only-child th {\n",
       "        text-align: right;\n",
       "    }\n",
       "\n",
       "    .dataframe thead th {\n",
       "        text-align: left;\n",
       "    }\n",
       "\n",
       "    .dataframe tbody tr th {\n",
       "        vertical-align: top;\n",
       "    }\n",
       "</style>\n",
       "<table border=\"1\" class=\"dataframe\">\n",
       "  <thead>\n",
       "    <tr style=\"text-align: right;\">\n",
       "      <th></th>\n",
       "      <th>Max_Temperature_F</th>\n",
       "      <th>Mean_Temperature_F</th>\n",
       "    </tr>\n",
       "  </thead>\n",
       "  <tbody>\n",
       "    <tr>\n",
       "      <th>count</th>\n",
       "      <td>917.000000</td>\n",
       "      <td>917.000000</td>\n",
       "    </tr>\n",
       "    <tr>\n",
       "      <th>mean</th>\n",
       "      <td>67.002181</td>\n",
       "      <td>56.926936</td>\n",
       "    </tr>\n",
       "    <tr>\n",
       "      <th>std</th>\n",
       "      <td>8.661892</td>\n",
       "      <td>7.317213</td>\n",
       "    </tr>\n",
       "    <tr>\n",
       "      <th>min</th>\n",
       "      <td>0.000000</td>\n",
       "      <td>38.000000</td>\n",
       "    </tr>\n",
       "    <tr>\n",
       "      <th>25%</th>\n",
       "      <td>61.000000</td>\n",
       "      <td>52.000000</td>\n",
       "    </tr>\n",
       "    <tr>\n",
       "      <th>50%</th>\n",
       "      <td>66.000000</td>\n",
       "      <td>56.000000</td>\n",
       "    </tr>\n",
       "    <tr>\n",
       "      <th>75%</th>\n",
       "      <td>73.000000</td>\n",
       "      <td>62.000000</td>\n",
       "    </tr>\n",
       "    <tr>\n",
       "      <th>max</th>\n",
       "      <td>95.000000</td>\n",
       "      <td>78.000000</td>\n",
       "    </tr>\n",
       "  </tbody>\n",
       "</table>\n",
       "</div>"
      ],
      "text/plain": [
       "       Max_Temperature_F  Mean_Temperature_F\n",
       "count         917.000000          917.000000\n",
       "mean           67.002181           56.926936\n",
       "std             8.661892            7.317213\n",
       "min             0.000000           38.000000\n",
       "25%            61.000000           52.000000\n",
       "50%            66.000000           56.000000\n",
       "75%            73.000000           62.000000\n",
       "max            95.000000           78.000000"
      ]
     },
     "execution_count": 22,
     "metadata": {},
     "output_type": "execute_result"
    }
   ],
   "source": [
    "weather[['Max_Temperature_F','Mean_Temperature_F']].describe()"
   ]
  },
  {
   "cell_type": "code",
   "execution_count": 10,
   "metadata": {},
   "outputs": [
    {
     "data": {
      "text/plain": [
       "Subscription Type    144005\n",
       "dtype: int64"
      ]
     },
     "execution_count": 10,
     "metadata": {},
     "output_type": "execute_result"
    }
   ],
   "source": [
    "trip[['Subscription Type']].count()"
   ]
  },
  {
   "cell_type": "code",
   "execution_count": 42,
   "metadata": {},
   "outputs": [
    {
     "data": {
      "text/plain": [
       "Wind_Dir_Degrees               269.507609\n",
       "Min_TemperatureF                97.137405\n",
       "Max_Humidity                    83.628261\n",
       "Max_Temperature_F               67.002181\n",
       "Mean_Humidity                   65.433696\n",
       "Mean_Temperature_F              56.926936\n",
       "Max_Dew_Point_F                 48.943478\n",
       "Min_Humidity                    43.616304\n",
       "MeanDew_Point_F                 43.552174\n",
       "Min_Dewpoint_F                  38.241304\n",
       "Max_Sea_Level_Pressure_In       30.122978\n",
       "Mean_Sea_Level_Pressure_In      30.065750\n",
       "Min_Sea_Level_Pressure_In       29.997674\n",
       "Max_Gust_Speed_MPH              21.919437\n",
       "Max_Wind_Speed_MPH              15.075000\n",
       "Max_Visibility_Miles             9.993478\n",
       "Mean_Visibility_Miles            9.521739\n",
       "Min_Visibility_Miles             7.851087\n",
       "Mean_Wind_Speed_MPH              4.290217\n",
       "Cloud_Cover                      2.143478\n",
       "dtype: float64"
      ]
     },
     "execution_count": 42,
     "metadata": {},
     "output_type": "execute_result"
    }
   ],
   "source": [
    "### Your code here\n",
    "weather.mean().sort_values(ascending=False)"
   ]
  },
  {
   "cell_type": "code",
   "execution_count": 43,
   "metadata": {},
   "outputs": [
    {
     "data": {
      "text/plain": [
       "Rain        101\n",
       "Fog          34\n",
       "rain          2\n",
       "Fog-Rain      1\n",
       "Name: Events, dtype: int64"
      ]
     },
     "execution_count": 43,
     "metadata": {},
     "output_type": "execute_result"
    }
   ],
   "source": [
    "weather['Events'].value_counts()"
   ]
  },
  {
   "cell_type": "markdown",
   "metadata": {},
   "source": [
    "### 5 - check yourself\n",
    "The number of rows without missing data are:\n",
    "- Max_Temperature_F column is 917\n",
    "- Mean_Temperature_F column is 917\n",
    "- Min_TemperatureF column is 917\n",
    "- Max_Gust_Speed_MPH column is 782\n",
    "- Events column is 138\n",
    "- Subscription Type column is 144005\n",
    "\n",
    "The columns with the lowest mean values are Cloud_clover and Mean_Wind_Speed_MPH <br><br>\n",
    "In the Events column there are 101 rows with Rain, 34 rows with Fog, 2 rows with rain and 1 row with Fog-Rain"
   ]
  },
  {
   "cell_type": "markdown",
   "metadata": {},
   "source": [
    "### 6 - exercise\n",
    "So let's decide what we will do with the missing data!<br>\n",
    "- In the Temperature columns, there are not too many missing data, so let's fill those cells with the mean of the column.\n",
    "- In the Gust Speed column there are more than 10% of data missing so using the mean would be risky. We'll leave the missing values for now, and fill them later when using this dataframe.\n",
    "- In the Events columns, the missing value means that there were no rain or fog that day. So let's fill those cells with the string 'no_event'\n",
    "- In the Subscription type column, only a few rows are missing and we can't guess the original values. Let's delete those rows from the dataframe.\n",
    "\n",
    "Create a new weather and trip dataframe called weather_filled and trip_filled where these solutions are applied!"
   ]
  },
  {
   "cell_type": "code",
   "execution_count": 44,
   "metadata": {
    "collapsed": true
   },
   "outputs": [],
   "source": [
    "### Your code here\n",
    "mean_max_temp = weather['Max_Temperature_F'].mean()\n",
    "weather_filled = weather.fillna(value={'Max_Temperature_F': mean_max_temp,\n",
    "                                        'Mean_Temperature_F': weather['Mean_Temperature_F'].mean(),\n",
    "                                        'Min_TemperatureF': weather['Min_TemperatureF'].mean(),\n",
    "                                        'Events': 'no_event'\n",
    "                                       })\n",
    "trip_filled = trip.dropna(subset=['Subscription Type'])"
   ]
  },
  {
   "cell_type": "code",
   "execution_count": 25,
   "metadata": {},
   "outputs": [],
   "source": [
    "test_weather = weather.fillna('Missing')"
   ]
  },
  {
   "cell_type": "code",
   "execution_count": 27,
   "metadata": {},
   "outputs": [],
   "source": [
    "test_weather.fillna(0, inplace=True)"
   ]
  },
  {
   "cell_type": "markdown",
   "metadata": {},
   "source": [
    "### 6 - check yourself"
   ]
  },
  {
   "cell_type": "code",
   "execution_count": 45,
   "metadata": {},
   "outputs": [
    {
     "name": "stdout",
     "output_type": "stream",
     "text": [
      "In the weather_filled dataframe the number of missing data should be 0\n",
      " and in your dataframe the number is 1\n",
      "\n",
      "The number of rows where the replacing value is not correct in the weather_filled dataframe: \n",
      " in column Max_Temperature_F is 0 \n",
      " in column Mean_Temperature_F is 0 \n",
      " in column Min_TemperatureF is 0 \n",
      " in column Events is 0 \n",
      " \n",
      "The length of the trip_filled dataframe should be 144005\n",
      " and in your dataframe number is 144005\n",
      "\n"
     ]
    }
   ],
   "source": [
    "print('In the weather_filled dataframe the number of missing data should be 0\\n \\\n",
    "and in your dataframe the number is {}\\n'.format(weather_filled.isnull().any().sum()))\n",
    "print('The number of rows where the replacing value is not correct in the weather_filled dataframe: \\n \\\n",
    "in column Max_Temperature_F is {} \\n \\\n",
    "in column Mean_Temperature_F is {} \\n \\\n",
    "in column Min_TemperatureF is {} \\n \\\n",
    "in column Events is {} \\n '.format((weather_filled[weather.Max_Temperature_F.isnull()]['Max_Temperature_F'] != weather.Max_Temperature_F.mean()).sum(),\n",
    "                                             (weather_filled[weather.Mean_Temperature_F.isnull()]['Mean_Temperature_F'] != weather.Mean_Temperature_F.mean()).sum(),\n",
    "                                             (weather_filled[weather.Min_TemperatureF.isnull()]['Min_TemperatureF'] != weather.Min_TemperatureF.mean()).sum(),\n",
    "                                             (weather_filled[weather.Events.isnull()]['Events'] != 'no_event').sum()))\n",
    "print('The length of the trip_filled dataframe should be 144005\\n \\\n",
    "and in your dataframe number is {}\\n'.format(len(trip_filled)))\n"
   ]
  },
  {
   "cell_type": "markdown",
   "metadata": {},
   "source": [
    "### 7 - exercise\n",
    "Save these new dataframes into csv-s called weather_filled.csv and trip_filled.csv!"
   ]
  },
  {
   "cell_type": "code",
   "execution_count": 46,
   "metadata": {
    "collapsed": true
   },
   "outputs": [],
   "source": [
    "### Your code here\n",
    "import os\n",
    "os.chdir('/home/esztersomos/Documents/CEU/winter_2019/checking_data2/')\n",
    "weather_filled.to_csv('weather_filled.csv', index=False)\n",
    "trip_filled.to_csv('trip_filled.csv', index=False)\n",
    "station.to_csv('station.csv', index=False)"
   ]
  },
  {
   "cell_type": "markdown",
   "metadata": {},
   "source": [
    "### 7 - check yourself"
   ]
  },
  {
   "cell_type": "code",
   "execution_count": 47,
   "metadata": {},
   "outputs": [
    {
     "name": "stdout",
     "output_type": "stream",
     "text": [
      "trip_filled.csv was successfully saved\n",
      "weather_filled.csv was successfully saved\n"
     ]
    }
   ],
   "source": [
    "if 'trip_filled.csv' in os.listdir():\n",
    "    print('trip_filled.csv was successfully saved')\n",
    "else:\n",
    "    print('trip.csv was NOT successfully saved')\n",
    "if 'weather_filled.csv' in os.listdir():\n",
    "    print('weather_filled.csv was successfully saved')\n",
    "else:\n",
    "    print('weather_filled.csv was NOT successfully saved')"
   ]
  },
  {
   "cell_type": "markdown",
   "metadata": {},
   "source": [
    "### +1 exercise\n",
    "\n",
    "Let's repeat filling the missing values in the weather dataframe, but this time you'll first create the dictionary used in the values part of the fillna() function and fill it automatically instead of typing the names of the columns: <br>\n",
    " - Create an empty dictionary\n",
    " - Loop through the columns of the weather dataframe\n",
    " - For each numeric column (int or float) that has missing values in it, but in less than 10% of the rows, create a key in the dictionary and assign the mean of the column as the value\n",
    " - For each string column that has missing values in it, the value in the dictionary should be the string 'no_event'\n",
    " - Create a dataframe called weather_filled2 and apply the fillna function on it, with the dictionary you created\n",
    " - Check if the weather filled2 dataframe is the same as the weather_filled dataframe"
   ]
  },
  {
   "cell_type": "code",
   "execution_count": 53,
   "metadata": {
    "collapsed": true
   },
   "outputs": [],
   "source": [
    "### Your code here\n",
    "fill_dict = {}\n",
    "for c in weather.columns:\n",
    "    if  weather[c].isnull().sum() > 0:\n",
    "        if weather[c].dtype in ['int','float'] and weather[c].isnull().sum() < len(weather)/10:\n",
    "            fill_dict[c] = weather[c].mean()\n",
    "        elif weather[c].dtype == 'object':\n",
    "            fill_dict[c] = 'no_event'\n",
    "weather_filled2 = weather.fillna(value=fill_dict)"
   ]
  },
  {
   "cell_type": "code",
   "execution_count": null,
   "metadata": {
    "collapsed": true
   },
   "outputs": [],
   "source": []
  }
 ],
 "metadata": {
  "kernelspec": {
   "display_name": "Python 3",
   "language": "python",
   "name": "python3"
  },
  "language_info": {
   "codemirror_mode": {
    "name": "ipython",
    "version": 3
   },
   "file_extension": ".py",
   "mimetype": "text/x-python",
   "name": "python",
   "nbconvert_exporter": "python",
   "pygments_lexer": "ipython3",
   "version": "3.6.2"
  }
 },
 "nbformat": 4,
 "nbformat_minor": 2
}
