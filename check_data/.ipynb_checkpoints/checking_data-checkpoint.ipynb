{
 "cells": [
  {
   "cell_type": "markdown",
   "metadata": {},
   "source": [
    "### Loading dataframes"
   ]
  },
  {
   "cell_type": "code",
   "execution_count": null,
   "metadata": {
    "collapsed": true
   },
   "outputs": [],
   "source": [
    "### majd ez alapjan kell joinilni\n",
    "landmark_dict = {94107:'San Francisco',\n",
    "                 94063:'Redwood City',\n",
    "                 94301:'Palo Alto', \n",
    "                 94041:'Mountain View', \n",
    "                 95113:'San Jose'}\n",
    "weather_df['landmark'] = weather_df['zip'].map(lambda x: landmark_dict[x])"
   ]
  },
  {
   "cell_type": "code",
   "execution_count": 1,
   "metadata": {
    "collapsed": true
   },
   "outputs": [],
   "source": [
    "import pandas as pd"
   ]
  },
  {
   "cell_type": "code",
   "execution_count": 15,
   "metadata": {
    "collapsed": true
   },
   "outputs": [],
   "source": [
    "weather = pd.read_csv('weather.csv')"
   ]
  },
  {
   "cell_type": "code",
   "execution_count": 14,
   "metadata": {},
   "outputs": [
    {
     "data": {
      "text/plain": [
       "928"
      ]
     },
     "execution_count": 14,
     "metadata": {},
     "output_type": "execute_result"
    }
   ],
   "source": [
    "len(weather)"
   ]
  },
  {
   "cell_type": "markdown",
   "metadata": {},
   "source": [
    "### Check for duplicates"
   ]
  },
  {
   "cell_type": "markdown",
   "metadata": {},
   "source": [
    "### Check for NaN valus"
   ]
  },
  {
   "cell_type": "markdown",
   "metadata": {},
   "source": [
    "### Check for unrealistic values\n",
    "for this understand the data"
   ]
  },
  {
   "cell_type": "markdown",
   "metadata": {},
   "source": [
    "### Check for outliers"
   ]
  },
  {
   "cell_type": "markdown",
   "metadata": {
    "collapsed": true
   },
   "source": [
    "## Exercise"
   ]
  },
  {
   "cell_type": "markdown",
   "metadata": {},
   "source": [
    "### 1 - exercise\n",
    "Load the datasets into pandas dataframes called trip, weather and station. (Don't forget to import the pandas library first!) <br>\n",
    "Create three variables called trip_duplicates_num, weather_duplicates_num and station_duplicatess_num that contains how many duplicated rows are in each dataframe."
   ]
  },
  {
   "cell_type": "code",
   "execution_count": 43,
   "metadata": {},
   "outputs": [
    {
     "name": "stderr",
     "output_type": "stream",
     "text": [
      "/home/esztersomos/anaconda3/lib/python3.6/site-packages/IPython/core/interactiveshell.py:2698: DtypeWarning: Columns (9) have mixed types. Specify dtype option on import or set low_memory=False.\n",
      "  interactivity=interactivity, compiler=compiler, result=result)\n"
     ]
    }
   ],
   "source": [
    "### Your code here\n",
    "import pandas as pd\n",
    "\n",
    "weather = pd.read_csv('weather.csv')\n",
    "trip = pd.read_csv('trip.csv')\n",
    "station = pd.read_csv('station.csv')\n",
    "\n",
    "trip_duplicates_num = trip.duplicated().sum()\n",
    "station_duplicates_num = station.duplicated().sum()\n",
    "weather_duplicates_num = weather.duplicated().sum()"
   ]
  },
  {
   "cell_type": "markdown",
   "metadata": {},
   "source": [
    "### 1 - check yourself"
   ]
  },
  {
   "cell_type": "code",
   "execution_count": 46,
   "metadata": {},
   "outputs": [
    {
     "name": "stdout",
     "output_type": "stream",
     "text": [
      "Length of trip dataframe should be 144115 with 100 duplicated rows.\n",
      "The length of your dataframe is 144115 and you counted 100 duplicated rows\n",
      "\n",
      "Length of weather dataframe should be 928 with 8 duplicated rows.\n",
      "The length of your dataframe is 928 and you counted 8 duplicated rows\n",
      "\n",
      "Length of station dataframe should be 69 with 0 duplicated rows.\n",
      "The length of your dataframe is 69 and you counted 0 duplicated rows\n",
      "\n"
     ]
    }
   ],
   "source": [
    "print('Length of trip dataframe should be 144115 with 100 duplicated rows.\\n\\\n",
    "The length of your dataframe is {} and you counted {} duplicated rows\\n'.format(len(trip), trip_duplicates_num))\n",
    "print('Length of weather dataframe should be 928 with 8 duplicated rows.\\n\\\n",
    "The length of your dataframe is {} and you counted {} duplicated rows\\n'.format(len(weather), weather_duplicates_num))\n",
    "print('Length of station dataframe should be 69 with 0 duplicated rows.\\n\\\n",
    "The length of your dataframe is {} and you counted {} duplicated rows\\n'.format(len(station), station_duplicates_num))"
   ]
  },
  {
   "cell_type": "markdown",
   "metadata": {},
   "source": [
    "### 2 - exercise\n",
    "For all 3 dataframes delete the duplicated rows in place (without creating a new dataframe) <br>"
   ]
  },
  {
   "cell_type": "code",
   "execution_count": 47,
   "metadata": {
    "collapsed": true
   },
   "outputs": [],
   "source": [
    "### Your code here\n",
    "\n",
    "weather.drop_duplicates(inplace=True)\n",
    "trip.drop_duplicates(inplace=True)\n",
    "station.drop_duplicates(inplace=True)"
   ]
  },
  {
   "cell_type": "markdown",
   "metadata": {},
   "source": [
    "### 2 - check yourself"
   ]
  },
  {
   "cell_type": "code",
   "execution_count": 52,
   "metadata": {},
   "outputs": [
    {
     "name": "stdout",
     "output_type": "stream",
     "text": [
      "Length of trip dataframe should be 144015.\n",
      "The length of your dataframe is 144015\n",
      "\n",
      "Length of weather dataframe should be 920.\n",
      "The length of your dataframe is 920\n",
      "\n",
      "Length of station dataframe should be 69.\n",
      "The length of your dataframe is 69\n",
      "\n"
     ]
    }
   ],
   "source": [
    "print('Length of trip dataframe should be 144015.\\n\\\n",
    "The length of your dataframe is {}\\n'.format(len(trip)))\n",
    "print('Length of weather dataframe should be 920.\\n\\\n",
    "The length of your dataframe is {}\\n'.format(len(weather)))\n",
    "print('Length of station dataframe should be 69.\\n\\\n",
    "The length of your dataframe is {}\\n'.format(len(station)))"
   ]
  },
  {
   "cell_type": "markdown",
   "metadata": {},
   "source": [
    "### 3 - exercise\n",
    "For all dataframes check if there are columns with missing values. <br>\n",
    "Create 3 lists called trip_columns_with_missing_data, weather_columns_with_missing_data, station_columns_with_missing_data that contains the names of the columns with missing values of the dataframe. <br>\n",
    "You can populate these lists by hand, or as an advanced task you can use pandas methods."
   ]
  },
  {
   "cell_type": "code",
   "execution_count": 76,
   "metadata": {},
   "outputs": [],
   "source": [
    "weather_columns_with_missing_data = weather.isnull().any()[weather.isnull().any()==True].index\n",
    "trip_columns_with_missing_data = trip.isnull().any()[trip.isnull().any()==True].index\n",
    "station_columns_with_missing_data = station.isnull().any()[station.isnull().any()==True].index"
   ]
  },
  {
   "cell_type": "markdown",
   "metadata": {},
   "source": [
    "### 3 - check yourself"
   ]
  },
  {
   "cell_type": "code",
   "execution_count": 79,
   "metadata": {},
   "outputs": [
    {
     "name": "stdout",
     "output_type": "stream",
     "text": [
      "Columns with missing values in the trip dataframe are:\n",
      " Subscription Type,Zip Code\n",
      "You have found:\n",
      " Subscription Type,Zip Code\n",
      "\n",
      "Columns with missing values in the weather dataframe are:\n",
      " Max_Temperature_F,Mean_Temperature_F,Min_TemperatureF,Max_Gust_Speed_MPH,Events\n",
      "You have found:\n",
      " Max_Temperature_F,Mean_Temperature_F,Min_TemperatureF,Max_Gust_Speed_MPH,Events\n",
      "\n",
      "Columns with missing values in the station dataframe are:\n",
      " \n",
      "You have found:\n",
      " \n",
      "\n"
     ]
    }
   ],
   "source": [
    "print('Columns with missing values in the trip dataframe are:\\n \\\n",
    "Subscription Type,Zip Code\\n\\\n",
    "You have found:\\n {}\\n'.format(','.join(trip_columns_with_missing_data)))\n",
    "\n",
    "print('Columns with missing values in the weather dataframe are:\\n \\\n",
    "Max_Temperature_F,Mean_Temperature_F,Min_TemperatureF,Max_Gust_Speed_MPH,Events\\n\\\n",
    "You have found:\\n {}\\n'.format(','.join(weather_columns_with_missing_data)))\n",
    "\n",
    "print('Columns with missing values in the station dataframe are:\\n \\\n",
    "\\n\\\n",
    "You have found:\\n {}\\n'.format(','.join(station_columns_with_missing_data)))"
   ]
  },
  {
   "cell_type": "code",
   "execution_count": null,
   "metadata": {
    "collapsed": true
   },
   "outputs": [],
   "source": []
  }
 ],
 "metadata": {
  "kernelspec": {
   "display_name": "Python 3",
   "language": "python",
   "name": "python3"
  },
  "language_info": {
   "codemirror_mode": {
    "name": "ipython",
    "version": 3
   },
   "file_extension": ".py",
   "mimetype": "text/x-python",
   "name": "python",
   "nbconvert_exporter": "python",
   "pygments_lexer": "ipython3",
   "version": "3.6.2"
  }
 },
 "nbformat": 4,
 "nbformat_minor": 2
}
