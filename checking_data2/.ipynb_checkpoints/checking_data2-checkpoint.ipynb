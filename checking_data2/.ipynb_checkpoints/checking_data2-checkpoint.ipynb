{
 "cells": [
  {
   "cell_type": "markdown",
   "metadata": {},
   "source": [
    "datetime\n",
    "sortolas hogy latszodjon milyen idointervallum az adat +head,tail\n",
    "utana hogy milyen weather a realis\n",
    "filterezes: ahol min > max\n",
    "ahol trip station name rossz\n",
    "kitolteni a hianyzo zip code-ot station name alapjan\n",
    "atteni stringrol int-re, hogy joinolni lehessen\n",
    "outlierezes (boxplot)"
   ]
  },
  {
   "cell_type": "code",
   "execution_count": null,
   "metadata": {
    "collapsed": true
   },
   "outputs": [],
   "source": [
    "### majd ez alapjan kell joinilni\n",
    "landmark_dict = {94107:'San Francisco',\n",
    "                 94063:'Redwood City',\n",
    "                 94301:'Palo Alto', \n",
    "                 94041:'Mountain View', \n",
    "                 95113:'San Jose'}\n",
    "weather_df['landmark'] = weather_df['zip'].map(lambda x: landmark_dict[x])"
   ]
  },
  {
   "cell_type": "code",
   "execution_count": null,
   "metadata": {
    "collapsed": true
   },
   "outputs": [],
   "source": []
  },
  {
   "cell_type": "code",
   "execution_count": null,
   "metadata": {
    "collapsed": true
   },
   "outputs": [],
   "source": []
  },
  {
   "cell_type": "markdown",
   "metadata": {},
   "source": [
    "### 1 - exercise\n",
    "Load the datasets into pandas dataframes called trip, weather and station.<br><br>\n",
    "In the trip dataframe create two new columns called 'start_datetime' and 'end_datetime'. These should contain the values from column 'Start Date' and 'End date' converted into datetime. <br><br>\n",
    "In the weather dataframe create a new column called 'datetime' similarly from the 'Date' column.<br><br>\n",
    "Display the datatypes of these columns to check the difference between the old and the new format."
   ]
  },
  {
   "cell_type": "code",
   "execution_count": 1,
   "metadata": {},
   "outputs": [
    {
     "name": "stderr",
     "output_type": "stream",
     "text": [
      "/home/esztersomos/anaconda3/lib/python3.6/site-packages/IPython/core/interactiveshell.py:2698: DtypeWarning: Columns (9) have mixed types. Specify dtype option on import or set low_memory=False.\n",
      "  interactivity=interactivity, compiler=compiler, result=result)\n"
     ]
    }
   ],
   "source": [
    "### Your code here\n",
    "import pandas as pd\n",
    "\n",
    "weather = pd.read_csv('weather_filled.csv')\n",
    "trip = pd.read_csv('trip_filled.csv')\n",
    "station = pd.read_csv('station.csv')\n",
    "\n",
    "trip['start_date'] = pd.to_datetime(trip['Start Date'], format='%m/%d/%Y %H:%M')\n",
    "trip['end_date'] = pd.to_datetime(trip['End Date'], format='%m/%d/%Y %H:%M')\n",
    "weather['datetime'] = pd.to_datetime(weather['Date'], format='%m/%d/%Y')"
   ]
  },
  {
   "cell_type": "markdown",
   "metadata": {},
   "source": [
    "### 1 - check yourself"
   ]
  },
  {
   "cell_type": "code",
   "execution_count": 11,
   "metadata": {},
   "outputs": [
    {
     "name": "stdout",
     "output_type": "stream",
     "text": [
      "start_date column is successfully converted\n",
      "end_date column is successfully converted\n",
      "datetime column is successfully converted\n"
     ]
    }
   ],
   "source": [
    "if (trip['Start Date'] != trip['start_date'].dt.strftime('%-m/%-d/%Y %-H:%M')).sum() == 0:\n",
    "    print('start_date column is successfully converted')\n",
    "else:\n",
    "    print('start_date column is NOT successfully converted')\n",
    "if (trip['End Date'] != trip['end_date'].dt.strftime('%-m/%-d/%Y %-H:%M')).sum() == 0:\n",
    "    print('end_date column is successfully converted')\n",
    "else:\n",
    "    print('end_date column is NOT successfully converted')\n",
    "if (weather['Date'] != weather['datetime'].dt.strftime('%-m/%-d/%Y')).sum() == 0:\n",
    "    print('datetime column is successfully converted')   \n",
    "else:\n",
    "    print('datetime column is NOT successfully converted')"
   ]
  },
  {
   "cell_type": "code",
   "execution_count": null,
   "metadata": {
    "collapsed": true
   },
   "outputs": [],
   "source": []
  }
 ],
 "metadata": {
  "kernelspec": {
   "display_name": "Python 3",
   "language": "python",
   "name": "python3"
  },
  "language_info": {
   "codemirror_mode": {
    "name": "ipython",
    "version": 3
   },
   "file_extension": ".py",
   "mimetype": "text/x-python",
   "name": "python",
   "nbconvert_exporter": "python",
   "pygments_lexer": "ipython3",
   "version": "3.6.2"
  }
 },
 "nbformat": 4,
 "nbformat_minor": 2
}
