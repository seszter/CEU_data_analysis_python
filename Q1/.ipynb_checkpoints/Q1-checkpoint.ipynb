{
 "cells": [
  {
   "cell_type": "code",
   "execution_count": 1,
   "metadata": {
    "collapsed": true
   },
   "outputs": [],
   "source": [
    "import pandas as pd"
   ]
  },
  {
   "cell_type": "markdown",
   "metadata": {},
   "source": [
    "#### Convert column to datetime format"
   ]
  },
  {
   "cell_type": "code",
   "execution_count": 73,
   "metadata": {},
   "outputs": [
    {
     "data": {
      "text/html": [
       "<div>\n",
       "<style>\n",
       "    .dataframe thead tr:only-child th {\n",
       "        text-align: right;\n",
       "    }\n",
       "\n",
       "    .dataframe thead th {\n",
       "        text-align: left;\n",
       "    }\n",
       "\n",
       "    .dataframe tbody tr th {\n",
       "        vertical-align: top;\n",
       "    }\n",
       "</style>\n",
       "<table border=\"1\" class=\"dataframe\">\n",
       "  <thead>\n",
       "    <tr style=\"text-align: right;\">\n",
       "      <th></th>\n",
       "      <th>a</th>\n",
       "      <th>b</th>\n",
       "    </tr>\n",
       "  </thead>\n",
       "  <tbody>\n",
       "    <tr>\n",
       "      <th>0</th>\n",
       "      <td>2019-01-01 14:13</td>\n",
       "      <td>1546351980</td>\n",
       "    </tr>\n",
       "    <tr>\n",
       "      <th>1</th>\n",
       "      <td>2019-02-01 14:13</td>\n",
       "      <td>1549030380</td>\n",
       "    </tr>\n",
       "  </tbody>\n",
       "</table>\n",
       "</div>"
      ],
      "text/plain": [
       "                  a           b\n",
       "0  2019-01-01 14:13  1546351980\n",
       "1  2019-02-01 14:13  1549030380"
      ]
     },
     "execution_count": 73,
     "metadata": {},
     "output_type": "execute_result"
    }
   ],
   "source": [
    "df = pd.DataFrame({'a':['2019-01-01 14:13', '2019-02-01 14:13'],\n",
    "                  'b':[1546351980, 1549030380]})\n",
    "df"
   ]
  },
  {
   "cell_type": "code",
   "execution_count": 74,
   "metadata": {
    "collapsed": true
   },
   "outputs": [],
   "source": [
    "df['a_asdate'] = pd.to_datetime(df['a'], format='%Y-%m-%d %H:%M')\n",
    "df['b_asdate'] = pd.to_datetime(df['b'], unit='s')"
   ]
  },
  {
   "cell_type": "code",
   "execution_count": 75,
   "metadata": {},
   "outputs": [
    {
     "data": {
      "text/html": [
       "<div>\n",
       "<style>\n",
       "    .dataframe thead tr:only-child th {\n",
       "        text-align: right;\n",
       "    }\n",
       "\n",
       "    .dataframe thead th {\n",
       "        text-align: left;\n",
       "    }\n",
       "\n",
       "    .dataframe tbody tr th {\n",
       "        vertical-align: top;\n",
       "    }\n",
       "</style>\n",
       "<table border=\"1\" class=\"dataframe\">\n",
       "  <thead>\n",
       "    <tr style=\"text-align: right;\">\n",
       "      <th></th>\n",
       "      <th>a</th>\n",
       "      <th>b</th>\n",
       "      <th>a_asdate</th>\n",
       "      <th>b_asdate</th>\n",
       "    </tr>\n",
       "  </thead>\n",
       "  <tbody>\n",
       "    <tr>\n",
       "      <th>0</th>\n",
       "      <td>2019-01-01 14:13</td>\n",
       "      <td>1546351980</td>\n",
       "      <td>2019-01-01 14:13:00</td>\n",
       "      <td>2019-01-01 14:13:00</td>\n",
       "    </tr>\n",
       "    <tr>\n",
       "      <th>1</th>\n",
       "      <td>2019-02-01 14:13</td>\n",
       "      <td>1549030380</td>\n",
       "      <td>2019-02-01 14:13:00</td>\n",
       "      <td>2019-02-01 14:13:00</td>\n",
       "    </tr>\n",
       "  </tbody>\n",
       "</table>\n",
       "</div>"
      ],
      "text/plain": [
       "                  a           b            a_asdate            b_asdate\n",
       "0  2019-01-01 14:13  1546351980 2019-01-01 14:13:00 2019-01-01 14:13:00\n",
       "1  2019-02-01 14:13  1549030380 2019-02-01 14:13:00 2019-02-01 14:13:00"
      ]
     },
     "execution_count": 75,
     "metadata": {},
     "output_type": "execute_result"
    }
   ],
   "source": [
    "df"
   ]
  },
  {
   "cell_type": "code",
   "execution_count": 76,
   "metadata": {},
   "outputs": [
    {
     "data": {
      "text/plain": [
       "a                   object\n",
       "b                    int64\n",
       "a_asdate    datetime64[ns]\n",
       "b_asdate    datetime64[ns]\n",
       "dtype: object"
      ]
     },
     "execution_count": 76,
     "metadata": {},
     "output_type": "execute_result"
    }
   ],
   "source": [
    "df.dtypes"
   ]
  },
  {
   "cell_type": "markdown",
   "metadata": {},
   "source": [
    "#### date manipulations"
   ]
  },
  {
   "cell_type": "code",
   "execution_count": 77,
   "metadata": {},
   "outputs": [
    {
     "data": {
      "text/html": [
       "<div>\n",
       "<style>\n",
       "    .dataframe thead tr:only-child th {\n",
       "        text-align: right;\n",
       "    }\n",
       "\n",
       "    .dataframe thead th {\n",
       "        text-align: left;\n",
       "    }\n",
       "\n",
       "    .dataframe tbody tr th {\n",
       "        vertical-align: top;\n",
       "    }\n",
       "</style>\n",
       "<table border=\"1\" class=\"dataframe\">\n",
       "  <thead>\n",
       "    <tr style=\"text-align: right;\">\n",
       "      <th></th>\n",
       "      <th>dates</th>\n",
       "    </tr>\n",
       "  </thead>\n",
       "  <tbody>\n",
       "    <tr>\n",
       "      <th>0</th>\n",
       "      <td>2018-01-01</td>\n",
       "    </tr>\n",
       "    <tr>\n",
       "      <th>1</th>\n",
       "      <td>2018-01-02</td>\n",
       "    </tr>\n",
       "    <tr>\n",
       "      <th>2</th>\n",
       "      <td>2018-01-03</td>\n",
       "    </tr>\n",
       "    <tr>\n",
       "      <th>3</th>\n",
       "      <td>2018-01-04</td>\n",
       "    </tr>\n",
       "    <tr>\n",
       "      <th>4</th>\n",
       "      <td>2018-01-05</td>\n",
       "    </tr>\n",
       "    <tr>\n",
       "      <th>5</th>\n",
       "      <td>2018-01-06</td>\n",
       "    </tr>\n",
       "    <tr>\n",
       "      <th>6</th>\n",
       "      <td>2018-01-07</td>\n",
       "    </tr>\n",
       "    <tr>\n",
       "      <th>7</th>\n",
       "      <td>2018-01-08</td>\n",
       "    </tr>\n",
       "  </tbody>\n",
       "</table>\n",
       "</div>"
      ],
      "text/plain": [
       "       dates\n",
       "0 2018-01-01\n",
       "1 2018-01-02\n",
       "2 2018-01-03\n",
       "3 2018-01-04\n",
       "4 2018-01-05\n",
       "5 2018-01-06\n",
       "6 2018-01-07\n",
       "7 2018-01-08"
      ]
     },
     "execution_count": 77,
     "metadata": {},
     "output_type": "execute_result"
    }
   ],
   "source": [
    "df = pd.DataFrame({'dates':pd.date_range(start='1/1/2018', end='1/8/2018')})\n",
    "df"
   ]
  },
  {
   "cell_type": "code",
   "execution_count": 78,
   "metadata": {
    "collapsed": true
   },
   "outputs": [],
   "source": [
    "df['year'] = df['dates'].dt.year\n",
    "df['month'] = df['dates'].dt.month\n",
    "df['day'] = df['dates'].dt.day\n",
    "df['dayofweek'] = df['dates'].dt.dayofweek\n",
    "df['weekday_name'] = df['dates'].dt.weekday_name\n",
    "df['is_leap_year'] = df['dates'].dt.is_leap_year\n",
    "# see more https://pandas.pydata.org/pandas-docs/version/0.21/api.html#datetimelike-properties"
   ]
  },
  {
   "cell_type": "code",
   "execution_count": 79,
   "metadata": {},
   "outputs": [
    {
     "data": {
      "text/html": [
       "<div>\n",
       "<style>\n",
       "    .dataframe thead tr:only-child th {\n",
       "        text-align: right;\n",
       "    }\n",
       "\n",
       "    .dataframe thead th {\n",
       "        text-align: left;\n",
       "    }\n",
       "\n",
       "    .dataframe tbody tr th {\n",
       "        vertical-align: top;\n",
       "    }\n",
       "</style>\n",
       "<table border=\"1\" class=\"dataframe\">\n",
       "  <thead>\n",
       "    <tr style=\"text-align: right;\">\n",
       "      <th></th>\n",
       "      <th>dates</th>\n",
       "      <th>year</th>\n",
       "      <th>month</th>\n",
       "      <th>day</th>\n",
       "      <th>dayofweek</th>\n",
       "      <th>weekday_name</th>\n",
       "      <th>is_leap_year</th>\n",
       "    </tr>\n",
       "  </thead>\n",
       "  <tbody>\n",
       "    <tr>\n",
       "      <th>0</th>\n",
       "      <td>2018-01-01</td>\n",
       "      <td>2018</td>\n",
       "      <td>1</td>\n",
       "      <td>1</td>\n",
       "      <td>0</td>\n",
       "      <td>Monday</td>\n",
       "      <td>False</td>\n",
       "    </tr>\n",
       "    <tr>\n",
       "      <th>1</th>\n",
       "      <td>2018-01-02</td>\n",
       "      <td>2018</td>\n",
       "      <td>1</td>\n",
       "      <td>2</td>\n",
       "      <td>1</td>\n",
       "      <td>Tuesday</td>\n",
       "      <td>False</td>\n",
       "    </tr>\n",
       "    <tr>\n",
       "      <th>2</th>\n",
       "      <td>2018-01-03</td>\n",
       "      <td>2018</td>\n",
       "      <td>1</td>\n",
       "      <td>3</td>\n",
       "      <td>2</td>\n",
       "      <td>Wednesday</td>\n",
       "      <td>False</td>\n",
       "    </tr>\n",
       "    <tr>\n",
       "      <th>3</th>\n",
       "      <td>2018-01-04</td>\n",
       "      <td>2018</td>\n",
       "      <td>1</td>\n",
       "      <td>4</td>\n",
       "      <td>3</td>\n",
       "      <td>Thursday</td>\n",
       "      <td>False</td>\n",
       "    </tr>\n",
       "    <tr>\n",
       "      <th>4</th>\n",
       "      <td>2018-01-05</td>\n",
       "      <td>2018</td>\n",
       "      <td>1</td>\n",
       "      <td>5</td>\n",
       "      <td>4</td>\n",
       "      <td>Friday</td>\n",
       "      <td>False</td>\n",
       "    </tr>\n",
       "    <tr>\n",
       "      <th>5</th>\n",
       "      <td>2018-01-06</td>\n",
       "      <td>2018</td>\n",
       "      <td>1</td>\n",
       "      <td>6</td>\n",
       "      <td>5</td>\n",
       "      <td>Saturday</td>\n",
       "      <td>False</td>\n",
       "    </tr>\n",
       "    <tr>\n",
       "      <th>6</th>\n",
       "      <td>2018-01-07</td>\n",
       "      <td>2018</td>\n",
       "      <td>1</td>\n",
       "      <td>7</td>\n",
       "      <td>6</td>\n",
       "      <td>Sunday</td>\n",
       "      <td>False</td>\n",
       "    </tr>\n",
       "    <tr>\n",
       "      <th>7</th>\n",
       "      <td>2018-01-08</td>\n",
       "      <td>2018</td>\n",
       "      <td>1</td>\n",
       "      <td>8</td>\n",
       "      <td>0</td>\n",
       "      <td>Monday</td>\n",
       "      <td>False</td>\n",
       "    </tr>\n",
       "  </tbody>\n",
       "</table>\n",
       "</div>"
      ],
      "text/plain": [
       "       dates  year  month  day  dayofweek weekday_name  is_leap_year\n",
       "0 2018-01-01  2018      1    1          0       Monday         False\n",
       "1 2018-01-02  2018      1    2          1      Tuesday         False\n",
       "2 2018-01-03  2018      1    3          2    Wednesday         False\n",
       "3 2018-01-04  2018      1    4          3     Thursday         False\n",
       "4 2018-01-05  2018      1    5          4       Friday         False\n",
       "5 2018-01-06  2018      1    6          5     Saturday         False\n",
       "6 2018-01-07  2018      1    7          6       Sunday         False\n",
       "7 2018-01-08  2018      1    8          0       Monday         False"
      ]
     },
     "execution_count": 79,
     "metadata": {},
     "output_type": "execute_result"
    }
   ],
   "source": [
    "df"
   ]
  },
  {
   "cell_type": "markdown",
   "metadata": {},
   "source": [
    "#### Grouping"
   ]
  },
  {
   "cell_type": "code",
   "execution_count": 59,
   "metadata": {
    "collapsed": true
   },
   "outputs": [],
   "source": [
    "movies = pd.read_csv('movies.csv')"
   ]
  },
  {
   "cell_type": "code",
   "execution_count": 60,
   "metadata": {
    "scrolled": true
   },
   "outputs": [
    {
     "data": {
      "text/plain": [
       "title\n",
       "'71 (2014)                                                        1\n",
       "10 Years (2011)                                                   1\n",
       "100 Streets (2016)                                                1\n",
       "12 Years a Slave (2013)                                          16\n",
       "13 Assassins (Jûsan-nin no shikaku) (2010)                        4\n",
       "13 Hours (2016)                                                   5\n",
       "2 Days in New York (2012)                                         1\n",
       "2 Guns (2013)                                                     3\n",
       "21 Jump Street (2012)                                            26\n",
       "21 and Over (2013)                                                4\n",
       "22 Jump Street (2014)                                            19\n",
       "3 Days to Kill (2014)                                             2\n",
       "30 Minutes or Less (2011)                                         6\n",
       "300: Rise of an Empire (2014)                                     4\n",
       "42 (2013)                                                         1\n",
       "47 Ronin (2013)                                                   7\n",
       "5 to 7 (2014)                                                     1\n",
       "50/50 (2011)                                                     19\n",
       "7 Days in Hell (2015)                                             2\n",
       "A Bad Moms Christmas (2017)                                       1\n",
       "A Dog's Purpose (2017)                                            1\n",
       "A Merry Friggin' Christmas (2014)                                 1\n",
       "A Million Ways to Die in the West (2014)                         12\n",
       "A Perfect Day (2015)                                              1\n",
       "A Pigeon Sat on a Branch Reflecting on Existence (2014)           2\n",
       "A Quiet Place (2018)                                              4\n",
       "A Street Cat Named Bob (2016)                                     1\n",
       "A Very Murray Christmas (2015)                                    1\n",
       "A-Team, The (2010)                                               17\n",
       "Abduction (2011)                                                  1\n",
       "                                                                 ..\n",
       "Woman in Gold (2015)                                              1\n",
       "Woman in Love (Rubbeldiekatz) (2011)                              1\n",
       "Women on the 6th Floor, The (Les Femmes du 6ème Étage) (2010)     1\n",
       "Wonder (2017)                                                     3\n",
       "Wonder Wheel (2017)                                               1\n",
       "Wonder Woman (2017)                                              13\n",
       "Words, The (2012)                                                 1\n",
       "World War Z (2013)                                               19\n",
       "World's End, The (2013)                                          18\n",
       "Wrath of the Titans (2012)                                        4\n",
       "Wrong (2012)                                                      1\n",
       "Wrong Cops (2013)                                                 1\n",
       "Wyrmwood (2015)                                                   1\n",
       "X-Men: Apocalypse (2016)                                         14\n",
       "X-Men: Days of Future Past (2014)                                30\n",
       "X-Men: First Class (2011)                                        43\n",
       "You Again (2010)                                                  1\n",
       "You Are the Apple of My Eye (2011)                                1\n",
       "You Will Meet a Tall Dark Stranger (2010)                         1\n",
       "Young Adult (2011)                                                2\n",
       "Your Highness (2011)                                              9\n",
       "Your Sister's Sister (2011)                                       1\n",
       "Youth (2015)                                                      4\n",
       "Zero Dark Thirty (2012)                                          14\n",
       "Zero Theorem, The (2013)                                          3\n",
       "Zipper (2015)                                                     1\n",
       "Zombeavers (2014)                                                 2\n",
       "Zookeeper (2011)                                                  4\n",
       "Zoolander 2 (2016)                                                3\n",
       "Zootopia (2016)                                                  32\n",
       "Length: 1339, dtype: int64"
      ]
     },
     "execution_count": 60,
     "metadata": {},
     "output_type": "execute_result"
    }
   ],
   "source": [
    "movies.groupby('title').size()"
   ]
  },
  {
   "cell_type": "code",
   "execution_count": 35,
   "metadata": {},
   "outputs": [
    {
     "data": {
      "text/plain": [
       "title\n",
       "Inception (2010)                 143\n",
       "Dark Knight Rises, The (2012)     76\n",
       "Interstellar (2014)               73\n",
       "Django Unchained (2012)           71\n",
       "Avengers, The (2012)              69\n",
       "dtype: int64"
      ]
     },
     "execution_count": 35,
     "metadata": {},
     "output_type": "execute_result"
    }
   ],
   "source": [
    "movies.groupby('title').size().sort_values(ascending=False).head()"
   ]
  },
  {
   "cell_type": "code",
   "execution_count": 36,
   "metadata": {},
   "outputs": [
    {
     "data": {
      "text/plain": [
       "title\n",
       "Hellbenders (2012)                                  5.0\n",
       "Bloodsucking Bastards (2015)                        5.0\n",
       "Garden of Words, The (Koto no ha no niwa) (2013)    5.0\n",
       "Dragons: Gift of the Night Fury (2011)              5.0\n",
       "Won't You Be My Neighbor? (2018)                    5.0\n",
       "Name: rating, dtype: float64"
      ]
     },
     "execution_count": 36,
     "metadata": {},
     "output_type": "execute_result"
    }
   ],
   "source": [
    "movies.groupby('title')['rating'].mean().sort_values(ascending=False).head()"
   ]
  },
  {
   "cell_type": "code",
   "execution_count": 37,
   "metadata": {
    "scrolled": true
   },
   "outputs": [
    {
     "data": {
      "text/html": [
       "<div>\n",
       "<style>\n",
       "    .dataframe thead tr:only-child th {\n",
       "        text-align: right;\n",
       "    }\n",
       "\n",
       "    .dataframe thead th {\n",
       "        text-align: left;\n",
       "    }\n",
       "\n",
       "    .dataframe tbody tr th {\n",
       "        vertical-align: top;\n",
       "    }\n",
       "</style>\n",
       "<table border=\"1\" class=\"dataframe\">\n",
       "  <thead>\n",
       "    <tr style=\"text-align: right;\">\n",
       "      <th></th>\n",
       "      <th>rating</th>\n",
       "      <th>userId</th>\n",
       "    </tr>\n",
       "    <tr>\n",
       "      <th>title</th>\n",
       "      <th></th>\n",
       "      <th></th>\n",
       "    </tr>\n",
       "  </thead>\n",
       "  <tbody>\n",
       "    <tr>\n",
       "      <th>'71 (2014)</th>\n",
       "      <td>4.000000</td>\n",
       "      <td>1</td>\n",
       "    </tr>\n",
       "    <tr>\n",
       "      <th>'Tis the Season for Love (2015)</th>\n",
       "      <td>1.500000</td>\n",
       "      <td>1</td>\n",
       "    </tr>\n",
       "    <tr>\n",
       "      <th>10 Cent Pistol (2015)</th>\n",
       "      <td>1.250000</td>\n",
       "      <td>2</td>\n",
       "    </tr>\n",
       "    <tr>\n",
       "      <th>10 Cloverfield Lane (2016)</th>\n",
       "      <td>3.678571</td>\n",
       "      <td>14</td>\n",
       "    </tr>\n",
       "    <tr>\n",
       "      <th>10 Years (2011)</th>\n",
       "      <td>3.500000</td>\n",
       "      <td>1</td>\n",
       "    </tr>\n",
       "    <tr>\n",
       "      <th>100 Streets (2016)</th>\n",
       "      <td>2.500000</td>\n",
       "      <td>1</td>\n",
       "    </tr>\n",
       "    <tr>\n",
       "      <th>12 Years a Slave (2013)</th>\n",
       "      <td>3.625000</td>\n",
       "      <td>16</td>\n",
       "    </tr>\n",
       "    <tr>\n",
       "      <th>127 Hours (2010)</th>\n",
       "      <td>3.833333</td>\n",
       "      <td>18</td>\n",
       "    </tr>\n",
       "    <tr>\n",
       "      <th>13 Assassins (Jûsan-nin no shikaku) (2010)</th>\n",
       "      <td>4.000000</td>\n",
       "      <td>4</td>\n",
       "    </tr>\n",
       "    <tr>\n",
       "      <th>13 Hours (2016)</th>\n",
       "      <td>3.300000</td>\n",
       "      <td>5</td>\n",
       "    </tr>\n",
       "    <tr>\n",
       "      <th>13 Sins (2014)</th>\n",
       "      <td>3.500000</td>\n",
       "      <td>1</td>\n",
       "    </tr>\n",
       "    <tr>\n",
       "      <th>13th (2016)</th>\n",
       "      <td>4.500000</td>\n",
       "      <td>2</td>\n",
       "    </tr>\n",
       "    <tr>\n",
       "      <th>2 Days in New York (2012)</th>\n",
       "      <td>2.500000</td>\n",
       "      <td>1</td>\n",
       "    </tr>\n",
       "    <tr>\n",
       "      <th>2 Guns (2013)</th>\n",
       "      <td>4.000000</td>\n",
       "      <td>3</td>\n",
       "    </tr>\n",
       "    <tr>\n",
       "      <th>20 Feet from Stardom (Twenty Feet from Stardom) (2013)</th>\n",
       "      <td>4.250000</td>\n",
       "      <td>2</td>\n",
       "    </tr>\n",
       "    <tr>\n",
       "      <th>20,000 Days on Earth (2014)</th>\n",
       "      <td>4.000000</td>\n",
       "      <td>1</td>\n",
       "    </tr>\n",
       "    <tr>\n",
       "      <th>2048: Nowhere to Run (2017)</th>\n",
       "      <td>3.500000</td>\n",
       "      <td>1</td>\n",
       "    </tr>\n",
       "    <tr>\n",
       "      <th>21 Jump Street (2012)</th>\n",
       "      <td>3.865385</td>\n",
       "      <td>26</td>\n",
       "    </tr>\n",
       "    <tr>\n",
       "      <th>21 and Over (2013)</th>\n",
       "      <td>3.625000</td>\n",
       "      <td>4</td>\n",
       "    </tr>\n",
       "    <tr>\n",
       "      <th>22 Jump Street (2014)</th>\n",
       "      <td>3.684211</td>\n",
       "      <td>19</td>\n",
       "    </tr>\n",
       "    <tr>\n",
       "      <th>3 Days to Kill (2014)</th>\n",
       "      <td>1.000000</td>\n",
       "      <td>2</td>\n",
       "    </tr>\n",
       "    <tr>\n",
       "      <th>30 Minutes or Less (2011)</th>\n",
       "      <td>2.666667</td>\n",
       "      <td>6</td>\n",
       "    </tr>\n",
       "    <tr>\n",
       "      <th>300: Rise of an Empire (2014)</th>\n",
       "      <td>2.125000</td>\n",
       "      <td>4</td>\n",
       "    </tr>\n",
       "    <tr>\n",
       "      <th>31 (2016)</th>\n",
       "      <td>3.500000</td>\n",
       "      <td>1</td>\n",
       "    </tr>\n",
       "    <tr>\n",
       "      <th>42 (2013)</th>\n",
       "      <td>4.000000</td>\n",
       "      <td>1</td>\n",
       "    </tr>\n",
       "    <tr>\n",
       "      <th>47 Ronin (2013)</th>\n",
       "      <td>2.642857</td>\n",
       "      <td>7</td>\n",
       "    </tr>\n",
       "    <tr>\n",
       "      <th>5 to 7 (2014)</th>\n",
       "      <td>2.500000</td>\n",
       "      <td>1</td>\n",
       "    </tr>\n",
       "    <tr>\n",
       "      <th>50/50 (2011)</th>\n",
       "      <td>3.631579</td>\n",
       "      <td>19</td>\n",
       "    </tr>\n",
       "    <tr>\n",
       "      <th>6 Days to Air: The Making of South Park (2011)</th>\n",
       "      <td>4.000000</td>\n",
       "      <td>1</td>\n",
       "    </tr>\n",
       "    <tr>\n",
       "      <th>7 Days in Hell (2015)</th>\n",
       "      <td>4.000000</td>\n",
       "      <td>2</td>\n",
       "    </tr>\n",
       "    <tr>\n",
       "      <th>...</th>\n",
       "      <td>...</td>\n",
       "      <td>...</td>\n",
       "    </tr>\n",
       "    <tr>\n",
       "      <th>Wrinkles (Arrugas) (2011)</th>\n",
       "      <td>4.000000</td>\n",
       "      <td>1</td>\n",
       "    </tr>\n",
       "    <tr>\n",
       "      <th>Wrong (2012)</th>\n",
       "      <td>4.000000</td>\n",
       "      <td>1</td>\n",
       "    </tr>\n",
       "    <tr>\n",
       "      <th>Wrong Cops (2013)</th>\n",
       "      <td>4.000000</td>\n",
       "      <td>1</td>\n",
       "    </tr>\n",
       "    <tr>\n",
       "      <th>Wyrmwood (2015)</th>\n",
       "      <td>3.500000</td>\n",
       "      <td>1</td>\n",
       "    </tr>\n",
       "    <tr>\n",
       "      <th>X-Men: Apocalypse (2016)</th>\n",
       "      <td>3.071429</td>\n",
       "      <td>14</td>\n",
       "    </tr>\n",
       "    <tr>\n",
       "      <th>X-Men: Days of Future Past (2014)</th>\n",
       "      <td>3.833333</td>\n",
       "      <td>30</td>\n",
       "    </tr>\n",
       "    <tr>\n",
       "      <th>X-Men: First Class (2011)</th>\n",
       "      <td>3.790698</td>\n",
       "      <td>43</td>\n",
       "    </tr>\n",
       "    <tr>\n",
       "      <th>Yellow Sea, The (a.k.a. The Murderer) (Hwanghae) (2010)</th>\n",
       "      <td>2.500000</td>\n",
       "      <td>1</td>\n",
       "    </tr>\n",
       "    <tr>\n",
       "      <th>Yogi Bear (2010)</th>\n",
       "      <td>1.166667</td>\n",
       "      <td>3</td>\n",
       "    </tr>\n",
       "    <tr>\n",
       "      <th>You Again (2010)</th>\n",
       "      <td>3.500000</td>\n",
       "      <td>1</td>\n",
       "    </tr>\n",
       "    <tr>\n",
       "      <th>You Are the Apple of My Eye (2011)</th>\n",
       "      <td>4.000000</td>\n",
       "      <td>1</td>\n",
       "    </tr>\n",
       "    <tr>\n",
       "      <th>You Will Meet a Tall Dark Stranger (2010)</th>\n",
       "      <td>3.500000</td>\n",
       "      <td>1</td>\n",
       "    </tr>\n",
       "    <tr>\n",
       "      <th>You're Next (2011)</th>\n",
       "      <td>3.750000</td>\n",
       "      <td>2</td>\n",
       "    </tr>\n",
       "    <tr>\n",
       "      <th>Young Adult (2011)</th>\n",
       "      <td>2.250000</td>\n",
       "      <td>2</td>\n",
       "    </tr>\n",
       "    <tr>\n",
       "      <th>Your Highness (2011)</th>\n",
       "      <td>3.111111</td>\n",
       "      <td>9</td>\n",
       "    </tr>\n",
       "    <tr>\n",
       "      <th>Your Name. (2016)</th>\n",
       "      <td>4.000000</td>\n",
       "      <td>3</td>\n",
       "    </tr>\n",
       "    <tr>\n",
       "      <th>Your Sister's Sister (2011)</th>\n",
       "      <td>4.000000</td>\n",
       "      <td>1</td>\n",
       "    </tr>\n",
       "    <tr>\n",
       "      <th>Youth (2015)</th>\n",
       "      <td>3.500000</td>\n",
       "      <td>4</td>\n",
       "    </tr>\n",
       "    <tr>\n",
       "      <th>Zeitgeist: Moving Forward (2011)</th>\n",
       "      <td>5.000000</td>\n",
       "      <td>1</td>\n",
       "    </tr>\n",
       "    <tr>\n",
       "      <th>Zero Dark Thirty (2012)</th>\n",
       "      <td>4.107143</td>\n",
       "      <td>14</td>\n",
       "    </tr>\n",
       "    <tr>\n",
       "      <th>Zero Theorem, The (2013)</th>\n",
       "      <td>3.000000</td>\n",
       "      <td>3</td>\n",
       "    </tr>\n",
       "    <tr>\n",
       "      <th>Zipper (2015)</th>\n",
       "      <td>2.000000</td>\n",
       "      <td>1</td>\n",
       "    </tr>\n",
       "    <tr>\n",
       "      <th>Zombeavers (2014)</th>\n",
       "      <td>2.500000</td>\n",
       "      <td>2</td>\n",
       "    </tr>\n",
       "    <tr>\n",
       "      <th>Zookeeper (2011)</th>\n",
       "      <td>2.750000</td>\n",
       "      <td>4</td>\n",
       "    </tr>\n",
       "    <tr>\n",
       "      <th>Zoolander 2 (2016)</th>\n",
       "      <td>2.500000</td>\n",
       "      <td>3</td>\n",
       "    </tr>\n",
       "    <tr>\n",
       "      <th>Zoom (2015)</th>\n",
       "      <td>2.500000</td>\n",
       "      <td>1</td>\n",
       "    </tr>\n",
       "    <tr>\n",
       "      <th>Zootopia (2016)</th>\n",
       "      <td>3.890625</td>\n",
       "      <td>32</td>\n",
       "    </tr>\n",
       "    <tr>\n",
       "      <th>Zulu (2013)</th>\n",
       "      <td>1.500000</td>\n",
       "      <td>1</td>\n",
       "    </tr>\n",
       "    <tr>\n",
       "      <th>[REC]³ 3 Génesis (2012)</th>\n",
       "      <td>3.000000</td>\n",
       "      <td>2</td>\n",
       "    </tr>\n",
       "    <tr>\n",
       "      <th>anohana: The Flower We Saw That Day - The Movie (2013)</th>\n",
       "      <td>3.000000</td>\n",
       "      <td>1</td>\n",
       "    </tr>\n",
       "  </tbody>\n",
       "</table>\n",
       "<p>1926 rows × 2 columns</p>\n",
       "</div>"
      ],
      "text/plain": [
       "                                                      rating  userId\n",
       "title                                                               \n",
       "'71 (2014)                                          4.000000       1\n",
       "'Tis the Season for Love (2015)                     1.500000       1\n",
       "10 Cent Pistol (2015)                               1.250000       2\n",
       "10 Cloverfield Lane (2016)                          3.678571      14\n",
       "10 Years (2011)                                     3.500000       1\n",
       "100 Streets (2016)                                  2.500000       1\n",
       "12 Years a Slave (2013)                             3.625000      16\n",
       "127 Hours (2010)                                    3.833333      18\n",
       "13 Assassins (Jûsan-nin no shikaku) (2010)          4.000000       4\n",
       "13 Hours (2016)                                     3.300000       5\n",
       "13 Sins (2014)                                      3.500000       1\n",
       "13th (2016)                                         4.500000       2\n",
       "2 Days in New York (2012)                           2.500000       1\n",
       "2 Guns (2013)                                       4.000000       3\n",
       "20 Feet from Stardom (Twenty Feet from Stardom)...  4.250000       2\n",
       "20,000 Days on Earth (2014)                         4.000000       1\n",
       "2048: Nowhere to Run (2017)                         3.500000       1\n",
       "21 Jump Street (2012)                               3.865385      26\n",
       "21 and Over (2013)                                  3.625000       4\n",
       "22 Jump Street (2014)                               3.684211      19\n",
       "3 Days to Kill (2014)                               1.000000       2\n",
       "30 Minutes or Less (2011)                           2.666667       6\n",
       "300: Rise of an Empire (2014)                       2.125000       4\n",
       "31 (2016)                                           3.500000       1\n",
       "42 (2013)                                           4.000000       1\n",
       "47 Ronin (2013)                                     2.642857       7\n",
       "5 to 7 (2014)                                       2.500000       1\n",
       "50/50 (2011)                                        3.631579      19\n",
       "6 Days to Air: The Making of South Park (2011)      4.000000       1\n",
       "7 Days in Hell (2015)                               4.000000       2\n",
       "...                                                      ...     ...\n",
       "Wrinkles (Arrugas) (2011)                           4.000000       1\n",
       "Wrong (2012)                                        4.000000       1\n",
       "Wrong Cops (2013)                                   4.000000       1\n",
       "Wyrmwood (2015)                                     3.500000       1\n",
       "X-Men: Apocalypse (2016)                            3.071429      14\n",
       "X-Men: Days of Future Past (2014)                   3.833333      30\n",
       "X-Men: First Class (2011)                           3.790698      43\n",
       "Yellow Sea, The (a.k.a. The Murderer) (Hwanghae...  2.500000       1\n",
       "Yogi Bear (2010)                                    1.166667       3\n",
       "You Again (2010)                                    3.500000       1\n",
       "You Are the Apple of My Eye (2011)                  4.000000       1\n",
       "You Will Meet a Tall Dark Stranger (2010)           3.500000       1\n",
       "You're Next (2011)                                  3.750000       2\n",
       "Young Adult (2011)                                  2.250000       2\n",
       "Your Highness (2011)                                3.111111       9\n",
       "Your Name. (2016)                                   4.000000       3\n",
       "Your Sister's Sister (2011)                         4.000000       1\n",
       "Youth (2015)                                        3.500000       4\n",
       "Zeitgeist: Moving Forward (2011)                    5.000000       1\n",
       "Zero Dark Thirty (2012)                             4.107143      14\n",
       "Zero Theorem, The (2013)                            3.000000       3\n",
       "Zipper (2015)                                       2.000000       1\n",
       "Zombeavers (2014)                                   2.500000       2\n",
       "Zookeeper (2011)                                    2.750000       4\n",
       "Zoolander 2 (2016)                                  2.500000       3\n",
       "Zoom (2015)                                         2.500000       1\n",
       "Zootopia (2016)                                     3.890625      32\n",
       "Zulu (2013)                                         1.500000       1\n",
       "[REC]³ 3 Génesis (2012)                             3.000000       2\n",
       "anohana: The Flower We Saw That Day - The Movie...  3.000000       1\n",
       "\n",
       "[1926 rows x 2 columns]"
      ]
     },
     "execution_count": 37,
     "metadata": {},
     "output_type": "execute_result"
    }
   ],
   "source": [
    "movies.groupby('title').agg({'rating':'mean',\n",
    "                            'userId':'nunique'})"
   ]
  },
  {
   "cell_type": "code",
   "execution_count": 38,
   "metadata": {
    "scrolled": true
   },
   "outputs": [],
   "source": [
    "ratings = movies.groupby('title').agg({'rating':'mean',\n",
    "                            'userId':'nunique'}).rename(columns={'rating':'rating_mean',\n",
    "                                                                'userId':'nb_rating'})"
   ]
  },
  {
   "cell_type": "code",
   "execution_count": 39,
   "metadata": {},
   "outputs": [
    {
     "data": {
      "text/html": [
       "<div>\n",
       "<style>\n",
       "    .dataframe thead tr:only-child th {\n",
       "        text-align: right;\n",
       "    }\n",
       "\n",
       "    .dataframe thead th {\n",
       "        text-align: left;\n",
       "    }\n",
       "\n",
       "    .dataframe tbody tr th {\n",
       "        vertical-align: top;\n",
       "    }\n",
       "</style>\n",
       "<table border=\"1\" class=\"dataframe\">\n",
       "  <thead>\n",
       "    <tr style=\"text-align: right;\">\n",
       "      <th></th>\n",
       "      <th>rating_mean</th>\n",
       "      <th>nb_rating</th>\n",
       "    </tr>\n",
       "    <tr>\n",
       "      <th>title</th>\n",
       "      <th></th>\n",
       "      <th></th>\n",
       "    </tr>\n",
       "  </thead>\n",
       "  <tbody>\n",
       "    <tr>\n",
       "      <th>Cosmic Scrat-tastrophe (2015)</th>\n",
       "      <td>5.0</td>\n",
       "      <td>1</td>\n",
       "    </tr>\n",
       "    <tr>\n",
       "      <th>Indignation (2016)</th>\n",
       "      <td>5.0</td>\n",
       "      <td>1</td>\n",
       "    </tr>\n",
       "    <tr>\n",
       "      <th>Ooops! Noah is Gone... (2015)</th>\n",
       "      <td>5.0</td>\n",
       "      <td>1</td>\n",
       "    </tr>\n",
       "    <tr>\n",
       "      <th>PK (2014)</th>\n",
       "      <td>5.0</td>\n",
       "      <td>1</td>\n",
       "    </tr>\n",
       "    <tr>\n",
       "      <th>Very Potter Sequel, A (2010)</th>\n",
       "      <td>5.0</td>\n",
       "      <td>1</td>\n",
       "    </tr>\n",
       "  </tbody>\n",
       "</table>\n",
       "</div>"
      ],
      "text/plain": [
       "                               rating_mean  nb_rating\n",
       "title                                                \n",
       "Cosmic Scrat-tastrophe (2015)          5.0          1\n",
       "Indignation (2016)                     5.0          1\n",
       "Ooops! Noah is Gone... (2015)          5.0          1\n",
       "PK (2014)                              5.0          1\n",
       "Very Potter Sequel, A (2010)           5.0          1"
      ]
     },
     "execution_count": 39,
     "metadata": {},
     "output_type": "execute_result"
    }
   ],
   "source": [
    "ratings.sort_values('rating_mean', ascending=False).head()"
   ]
  },
  {
   "cell_type": "markdown",
   "metadata": {},
   "source": [
    "### Plotting groups"
   ]
  },
  {
   "cell_type": "code",
   "execution_count": 40,
   "metadata": {
    "collapsed": true
   },
   "outputs": [],
   "source": [
    "%matplotlib inline"
   ]
  },
  {
   "cell_type": "code",
   "execution_count": 61,
   "metadata": {},
   "outputs": [],
   "source": [
    "ratings_by_genre = movies.groupby('genre')['rating'].mean()"
   ]
  },
  {
   "cell_type": "code",
   "execution_count": 62,
   "metadata": {},
   "outputs": [
    {
     "data": {
      "text/plain": [
       "<matplotlib.axes._subplots.AxesSubplot at 0x7f21aed87b00>"
      ]
     },
     "execution_count": 62,
     "metadata": {},
     "output_type": "execute_result"
    },
    {
     "data": {
      "image/png": "[encoded data removed]",
      "text/plain": [
       "<matplotlib.figure.Figure at 0x7f21aee37fd0>"
      ]
     },
     "metadata": {},
     "output_type": "display_data"
    }
   ],
   "source": [
    "ratings_by_genre.plot(kind='bar')"
   ]
  },
  {
   "cell_type": "code",
   "execution_count": 63,
   "metadata": {},
   "outputs": [
    {
     "data": {
      "text/plain": [
       "<matplotlib.axes._subplots.AxesSubplot at 0x7f21aecabb00>"
      ]
     },
     "execution_count": 63,
     "metadata": {},
     "output_type": "execute_result"
    },
    {
     "data": {
      "image/png": "[encoded data removed]",
      "text/plain": [
       "<matplotlib.figure.Figure at 0x7f21aeb74da0>"
      ]
     },
     "metadata": {},
     "output_type": "display_data"
    }
   ],
   "source": [
    "ratings_by_genre.sort_values().plot(kind='bar')"
   ]
  },
  {
   "cell_type": "code",
   "execution_count": 64,
   "metadata": {},
   "outputs": [
    {
     "data": {
      "text/plain": [
       "<matplotlib.axes._subplots.AxesSubplot at 0x7f21aeb38b00>"
      ]
     },
     "execution_count": 64,
     "metadata": {},
     "output_type": "execute_result"
    },
    {
     "data": {
      "image/png": "[encoded data removed]",
      "text/plain": [
       "<matplotlib.figure.Figure at 0x7f21aeaac470>"
      ]
     },
     "metadata": {},
     "output_type": "display_data"
    }
   ],
   "source": [
    "ratings_by_genre.sort_values().plot(kind='bar', title='Mean raging by genre')"
   ]
  },
  {
   "cell_type": "code",
   "execution_count": 65,
   "metadata": {},
   "outputs": [
    {
     "data": {
      "text/plain": [
       "<matplotlib.axes._subplots.AxesSubplot at 0x7f21aea2e1d0>"
      ]
     },
     "execution_count": 65,
     "metadata": {},
     "output_type": "execute_result"
    },
    {
     "data": {
      "image/png": "[encoded data removed]",
      "text/plain": [
       "<matplotlib.figure.Figure at 0x7f21aea34e48>"
      ]
     },
     "metadata": {},
     "output_type": "display_data"
    }
   ],
   "source": [
    "ratings_by_genre.sort_values().plot(kind='bar', title='Mean raging by genre', figsize=(14,4))"
   ]
  },
  {
   "cell_type": "code",
   "execution_count": 66,
   "metadata": {},
   "outputs": [
    {
     "data": {
      "text/plain": [
       "<matplotlib.axes._subplots.AxesSubplot at 0x7f21aebb9240>"
      ]
     },
     "execution_count": 66,
     "metadata": {},
     "output_type": "execute_result"
    },
    {
     "data": {
      "image/png": "[encoded data removed]",
      "text/plain": [
       "<matplotlib.figure.Figure at 0x7f21ae956358>"
      ]
     },
     "metadata": {},
     "output_type": "display_data"
    }
   ],
   "source": [
    "ratings_by_genre.sort_values().plot(kind='bar', title='Mean raging by genre', figsize=(14,4), color='lime')"
   ]
  },
  {
   "cell_type": "markdown",
   "metadata": {},
   "source": [
    "#### Plotting groups"
   ]
  },
  {
   "cell_type": "code",
   "execution_count": 67,
   "metadata": {},
   "outputs": [],
   "source": [
    "by_year_genre = movies.groupby(['year','genre'])['rating'].mean()"
   ]
  },
  {
   "cell_type": "code",
   "execution_count": 68,
   "metadata": {},
   "outputs": [
    {
     "data": {
      "text/plain": [
       "year    genre \n",
       "(2010)  Action    3.506512\n",
       "        Comedy    3.330677\n",
       "        Drama     3.772727\n",
       "(2011)  Action    3.411215\n",
       "        Comedy    3.478372\n",
       "Name: rating, dtype: float64"
      ]
     },
     "execution_count": 68,
     "metadata": {},
     "output_type": "execute_result"
    }
   ],
   "source": [
    "by_year_genre.head()"
   ]
  },
  {
   "cell_type": "code",
   "execution_count": 69,
   "metadata": {},
   "outputs": [],
   "source": [
    "by_year_genre = movies.groupby(['year','genre'])['rating'].mean().reset_index()"
   ]
  },
  {
   "cell_type": "code",
   "execution_count": 70,
   "metadata": {},
   "outputs": [
    {
     "data": {
      "text/html": [
       "<div>\n",
       "<style>\n",
       "    .dataframe thead tr:only-child th {\n",
       "        text-align: right;\n",
       "    }\n",
       "\n",
       "    .dataframe thead th {\n",
       "        text-align: left;\n",
       "    }\n",
       "\n",
       "    .dataframe tbody tr th {\n",
       "        vertical-align: top;\n",
       "    }\n",
       "</style>\n",
       "<table border=\"1\" class=\"dataframe\">\n",
       "  <thead>\n",
       "    <tr style=\"text-align: right;\">\n",
       "      <th></th>\n",
       "      <th>year</th>\n",
       "      <th>genre</th>\n",
       "      <th>rating</th>\n",
       "    </tr>\n",
       "  </thead>\n",
       "  <tbody>\n",
       "    <tr>\n",
       "      <th>0</th>\n",
       "      <td>(2010)</td>\n",
       "      <td>Action</td>\n",
       "      <td>3.506512</td>\n",
       "    </tr>\n",
       "    <tr>\n",
       "      <th>1</th>\n",
       "      <td>(2010)</td>\n",
       "      <td>Comedy</td>\n",
       "      <td>3.330677</td>\n",
       "    </tr>\n",
       "    <tr>\n",
       "      <th>2</th>\n",
       "      <td>(2010)</td>\n",
       "      <td>Drama</td>\n",
       "      <td>3.772727</td>\n",
       "    </tr>\n",
       "    <tr>\n",
       "      <th>3</th>\n",
       "      <td>(2011)</td>\n",
       "      <td>Action</td>\n",
       "      <td>3.411215</td>\n",
       "    </tr>\n",
       "    <tr>\n",
       "      <th>4</th>\n",
       "      <td>(2011)</td>\n",
       "      <td>Comedy</td>\n",
       "      <td>3.478372</td>\n",
       "    </tr>\n",
       "  </tbody>\n",
       "</table>\n",
       "</div>"
      ],
      "text/plain": [
       "     year   genre    rating\n",
       "0  (2010)  Action  3.506512\n",
       "1  (2010)  Comedy  3.330677\n",
       "2  (2010)   Drama  3.772727\n",
       "3  (2011)  Action  3.411215\n",
       "4  (2011)  Comedy  3.478372"
      ]
     },
     "execution_count": 70,
     "metadata": {},
     "output_type": "execute_result"
    }
   ],
   "source": [
    "by_year_genre.head()"
   ]
  },
  {
   "cell_type": "code",
   "execution_count": 71,
   "metadata": {},
   "outputs": [],
   "source": [
    "by_year_genre.sort_values('year', inplace=True)"
   ]
  },
  {
   "cell_type": "code",
   "execution_count": 72,
   "metadata": {
    "scrolled": true
   },
   "outputs": [
    {
     "data": {
      "text/html": [
       "<div>\n",
       "<style>\n",
       "    .dataframe thead tr:only-child th {\n",
       "        text-align: right;\n",
       "    }\n",
       "\n",
       "    .dataframe thead th {\n",
       "        text-align: left;\n",
       "    }\n",
       "\n",
       "    .dataframe tbody tr th {\n",
       "        vertical-align: top;\n",
       "    }\n",
       "</style>\n",
       "<table border=\"1\" class=\"dataframe\">\n",
       "  <thead>\n",
       "    <tr style=\"text-align: right;\">\n",
       "      <th></th>\n",
       "      <th>year</th>\n",
       "      <th>genre</th>\n",
       "      <th>rating</th>\n",
       "    </tr>\n",
       "  </thead>\n",
       "  <tbody>\n",
       "    <tr>\n",
       "      <th>0</th>\n",
       "      <td>(2010)</td>\n",
       "      <td>Action</td>\n",
       "      <td>3.506512</td>\n",
       "    </tr>\n",
       "    <tr>\n",
       "      <th>1</th>\n",
       "      <td>(2010)</td>\n",
       "      <td>Comedy</td>\n",
       "      <td>3.330677</td>\n",
       "    </tr>\n",
       "    <tr>\n",
       "      <th>2</th>\n",
       "      <td>(2010)</td>\n",
       "      <td>Drama</td>\n",
       "      <td>3.772727</td>\n",
       "    </tr>\n",
       "    <tr>\n",
       "      <th>3</th>\n",
       "      <td>(2011)</td>\n",
       "      <td>Action</td>\n",
       "      <td>3.411215</td>\n",
       "    </tr>\n",
       "    <tr>\n",
       "      <th>4</th>\n",
       "      <td>(2011)</td>\n",
       "      <td>Comedy</td>\n",
       "      <td>3.478372</td>\n",
       "    </tr>\n",
       "    <tr>\n",
       "      <th>5</th>\n",
       "      <td>(2011)</td>\n",
       "      <td>Drama</td>\n",
       "      <td>3.541667</td>\n",
       "    </tr>\n",
       "    <tr>\n",
       "      <th>6</th>\n",
       "      <td>(2012)</td>\n",
       "      <td>Action</td>\n",
       "      <td>3.546898</td>\n",
       "    </tr>\n",
       "    <tr>\n",
       "      <th>7</th>\n",
       "      <td>(2012)</td>\n",
       "      <td>Comedy</td>\n",
       "      <td>3.337413</td>\n",
       "    </tr>\n",
       "    <tr>\n",
       "      <th>8</th>\n",
       "      <td>(2012)</td>\n",
       "      <td>Drama</td>\n",
       "      <td>3.679739</td>\n",
       "    </tr>\n",
       "    <tr>\n",
       "      <th>9</th>\n",
       "      <td>(2013)</td>\n",
       "      <td>Action</td>\n",
       "      <td>3.336842</td>\n",
       "    </tr>\n",
       "    <tr>\n",
       "      <th>10</th>\n",
       "      <td>(2013)</td>\n",
       "      <td>Comedy</td>\n",
       "      <td>3.440574</td>\n",
       "    </tr>\n",
       "    <tr>\n",
       "      <th>11</th>\n",
       "      <td>(2013)</td>\n",
       "      <td>Drama</td>\n",
       "      <td>3.666667</td>\n",
       "    </tr>\n",
       "    <tr>\n",
       "      <th>14</th>\n",
       "      <td>(2014)</td>\n",
       "      <td>Drama</td>\n",
       "      <td>3.626033</td>\n",
       "    </tr>\n",
       "    <tr>\n",
       "      <th>13</th>\n",
       "      <td>(2014)</td>\n",
       "      <td>Comedy</td>\n",
       "      <td>3.358779</td>\n",
       "    </tr>\n",
       "    <tr>\n",
       "      <th>12</th>\n",
       "      <td>(2014)</td>\n",
       "      <td>Action</td>\n",
       "      <td>3.489544</td>\n",
       "    </tr>\n",
       "    <tr>\n",
       "      <th>15</th>\n",
       "      <td>(2015)</td>\n",
       "      <td>Action</td>\n",
       "      <td>3.353511</td>\n",
       "    </tr>\n",
       "    <tr>\n",
       "      <th>16</th>\n",
       "      <td>(2015)</td>\n",
       "      <td>Comedy</td>\n",
       "      <td>3.352778</td>\n",
       "    </tr>\n",
       "    <tr>\n",
       "      <th>17</th>\n",
       "      <td>(2015)</td>\n",
       "      <td>Drama</td>\n",
       "      <td>3.429448</td>\n",
       "    </tr>\n",
       "    <tr>\n",
       "      <th>18</th>\n",
       "      <td>(2016)</td>\n",
       "      <td>Action</td>\n",
       "      <td>3.390244</td>\n",
       "    </tr>\n",
       "    <tr>\n",
       "      <th>19</th>\n",
       "      <td>(2016)</td>\n",
       "      <td>Comedy</td>\n",
       "      <td>3.140351</td>\n",
       "    </tr>\n",
       "    <tr>\n",
       "      <th>20</th>\n",
       "      <td>(2016)</td>\n",
       "      <td>Drama</td>\n",
       "      <td>3.408163</td>\n",
       "    </tr>\n",
       "    <tr>\n",
       "      <th>21</th>\n",
       "      <td>(2017)</td>\n",
       "      <td>Action</td>\n",
       "      <td>3.614224</td>\n",
       "    </tr>\n",
       "    <tr>\n",
       "      <th>22</th>\n",
       "      <td>(2017)</td>\n",
       "      <td>Comedy</td>\n",
       "      <td>3.479167</td>\n",
       "    </tr>\n",
       "    <tr>\n",
       "      <th>23</th>\n",
       "      <td>(2017)</td>\n",
       "      <td>Drama</td>\n",
       "      <td>3.364583</td>\n",
       "    </tr>\n",
       "    <tr>\n",
       "      <th>24</th>\n",
       "      <td>(2018)</td>\n",
       "      <td>Action</td>\n",
       "      <td>3.592593</td>\n",
       "    </tr>\n",
       "    <tr>\n",
       "      <th>25</th>\n",
       "      <td>(2018)</td>\n",
       "      <td>Comedy</td>\n",
       "      <td>3.423077</td>\n",
       "    </tr>\n",
       "    <tr>\n",
       "      <th>26</th>\n",
       "      <td>(2018)</td>\n",
       "      <td>Drama</td>\n",
       "      <td>2.600000</td>\n",
       "    </tr>\n",
       "  </tbody>\n",
       "</table>\n",
       "</div>"
      ],
      "text/plain": [
       "      year   genre    rating\n",
       "0   (2010)  Action  3.506512\n",
       "1   (2010)  Comedy  3.330677\n",
       "2   (2010)   Drama  3.772727\n",
       "3   (2011)  Action  3.411215\n",
       "4   (2011)  Comedy  3.478372\n",
       "5   (2011)   Drama  3.541667\n",
       "6   (2012)  Action  3.546898\n",
       "7   (2012)  Comedy  3.337413\n",
       "8   (2012)   Drama  3.679739\n",
       "9   (2013)  Action  3.336842\n",
       "10  (2013)  Comedy  3.440574\n",
       "11  (2013)   Drama  3.666667\n",
       "14  (2014)   Drama  3.626033\n",
       "13  (2014)  Comedy  3.358779\n",
       "12  (2014)  Action  3.489544\n",
       "15  (2015)  Action  3.353511\n",
       "16  (2015)  Comedy  3.352778\n",
       "17  (2015)   Drama  3.429448\n",
       "18  (2016)  Action  3.390244\n",
       "19  (2016)  Comedy  3.140351\n",
       "20  (2016)   Drama  3.408163\n",
       "21  (2017)  Action  3.614224\n",
       "22  (2017)  Comedy  3.479167\n",
       "23  (2017)   Drama  3.364583\n",
       "24  (2018)  Action  3.592593\n",
       "25  (2018)  Comedy  3.423077\n",
       "26  (2018)   Drama  2.600000"
      ]
     },
     "execution_count": 72,
     "metadata": {},
     "output_type": "execute_result"
    }
   ],
   "source": [
    "by_year_genre"
   ]
  },
  {
   "cell_type": "code",
   "execution_count": 73,
   "metadata": {
    "collapsed": true
   },
   "outputs": [],
   "source": [
    "pivoted_df = by_year_genre.pivot(index='year', columns='genre', values='rating')"
   ]
  },
  {
   "cell_type": "code",
   "execution_count": 74,
   "metadata": {
    "scrolled": true
   },
   "outputs": [
    {
     "data": {
      "text/html": [
       "<div>\n",
       "<style>\n",
       "    .dataframe thead tr:only-child th {\n",
       "        text-align: right;\n",
       "    }\n",
       "\n",
       "    .dataframe thead th {\n",
       "        text-align: left;\n",
       "    }\n",
       "\n",
       "    .dataframe tbody tr th {\n",
       "        vertical-align: top;\n",
       "    }\n",
       "</style>\n",
       "<table border=\"1\" class=\"dataframe\">\n",
       "  <thead>\n",
       "    <tr style=\"text-align: right;\">\n",
       "      <th>genre</th>\n",
       "      <th>Action</th>\n",
       "      <th>Comedy</th>\n",
       "      <th>Drama</th>\n",
       "    </tr>\n",
       "    <tr>\n",
       "      <th>year</th>\n",
       "      <th></th>\n",
       "      <th></th>\n",
       "      <th></th>\n",
       "    </tr>\n",
       "  </thead>\n",
       "  <tbody>\n",
       "    <tr>\n",
       "      <th>(2010)</th>\n",
       "      <td>3.506512</td>\n",
       "      <td>3.330677</td>\n",
       "      <td>3.772727</td>\n",
       "    </tr>\n",
       "    <tr>\n",
       "      <th>(2011)</th>\n",
       "      <td>3.411215</td>\n",
       "      <td>3.478372</td>\n",
       "      <td>3.541667</td>\n",
       "    </tr>\n",
       "    <tr>\n",
       "      <th>(2012)</th>\n",
       "      <td>3.546898</td>\n",
       "      <td>3.337413</td>\n",
       "      <td>3.679739</td>\n",
       "    </tr>\n",
       "    <tr>\n",
       "      <th>(2013)</th>\n",
       "      <td>3.336842</td>\n",
       "      <td>3.440574</td>\n",
       "      <td>3.666667</td>\n",
       "    </tr>\n",
       "    <tr>\n",
       "      <th>(2014)</th>\n",
       "      <td>3.489544</td>\n",
       "      <td>3.358779</td>\n",
       "      <td>3.626033</td>\n",
       "    </tr>\n",
       "  </tbody>\n",
       "</table>\n",
       "</div>"
      ],
      "text/plain": [
       "genre     Action    Comedy     Drama\n",
       "year                                \n",
       "(2010)  3.506512  3.330677  3.772727\n",
       "(2011)  3.411215  3.478372  3.541667\n",
       "(2012)  3.546898  3.337413  3.679739\n",
       "(2013)  3.336842  3.440574  3.666667\n",
       "(2014)  3.489544  3.358779  3.626033"
      ]
     },
     "execution_count": 74,
     "metadata": {},
     "output_type": "execute_result"
    }
   ],
   "source": [
    "pivoted_df.head()"
   ]
  },
  {
   "cell_type": "code",
   "execution_count": 77,
   "metadata": {},
   "outputs": [
    {
     "data": {
      "text/plain": [
       "<matplotlib.axes._subplots.AxesSubplot at 0x7f21ae6ae940>"
      ]
     },
     "execution_count": 77,
     "metadata": {},
     "output_type": "execute_result"
    },
    {
     "data": {
      "image/png": "[encoded data removed]",
      "text/plain": [
       "<matplotlib.figure.Figure at 0x7f21ae642748>"
      ]
     },
     "metadata": {},
     "output_type": "display_data"
    }
   ],
   "source": [
    "pivoted_df.plot(kind='bar', figsize=(15,5), title='Average ratings by year of premiere and genre')"
   ]
  },
  {
   "cell_type": "code",
   "execution_count": 80,
   "metadata": {},
   "outputs": [
    {
     "data": {
      "text/plain": [
       "<matplotlib.axes._subplots.AxesSubplot at 0x7f21ae34c710>"
      ]
     },
     "execution_count": 80,
     "metadata": {},
     "output_type": "execute_result"
    },
    {
     "data": {
      "image/png": "[encoded data removed]",
      "text/plain": [
       "<matplotlib.figure.Figure at 0x7f21ae3960f0>"
      ]
     },
     "metadata": {},
     "output_type": "display_data"
    }
   ],
   "source": [
    "pivoted_df.plot(kind='bar', \n",
    "                figsize=(15,5), \n",
    "                title='Average ratings by year of premiere and genre',\n",
    "               colormap='winter')"
   ]
  },
  {
   "cell_type": "markdown",
   "metadata": {},
   "source": [
    "### Figures with multiple plots"
   ]
  },
  {
   "cell_type": "code",
   "execution_count": 89,
   "metadata": {
    "collapsed": true
   },
   "outputs": [],
   "source": [
    "import matplotlib.pyplot as plt"
   ]
  },
  {
   "cell_type": "code",
   "execution_count": 81,
   "metadata": {
    "scrolled": true
   },
   "outputs": [
    {
     "data": {
      "text/html": [
       "<div>\n",
       "<style>\n",
       "    .dataframe thead tr:only-child th {\n",
       "        text-align: right;\n",
       "    }\n",
       "\n",
       "    .dataframe thead th {\n",
       "        text-align: left;\n",
       "    }\n",
       "\n",
       "    .dataframe tbody tr th {\n",
       "        vertical-align: top;\n",
       "    }\n",
       "</style>\n",
       "<table border=\"1\" class=\"dataframe\">\n",
       "  <thead>\n",
       "    <tr style=\"text-align: right;\">\n",
       "      <th></th>\n",
       "      <th>year</th>\n",
       "      <th>genre</th>\n",
       "      <th>userId</th>\n",
       "    </tr>\n",
       "  </thead>\n",
       "  <tbody>\n",
       "    <tr>\n",
       "      <th>0</th>\n",
       "      <td>(2010)</td>\n",
       "      <td>Action</td>\n",
       "      <td>176</td>\n",
       "    </tr>\n",
       "    <tr>\n",
       "      <th>1</th>\n",
       "      <td>(2010)</td>\n",
       "      <td>Comedy</td>\n",
       "      <td>82</td>\n",
       "    </tr>\n",
       "    <tr>\n",
       "      <th>2</th>\n",
       "      <td>(2010)</td>\n",
       "      <td>Drama</td>\n",
       "      <td>136</td>\n",
       "    </tr>\n",
       "    <tr>\n",
       "      <th>3</th>\n",
       "      <td>(2011)</td>\n",
       "      <td>Action</td>\n",
       "      <td>113</td>\n",
       "    </tr>\n",
       "    <tr>\n",
       "      <th>4</th>\n",
       "      <td>(2011)</td>\n",
       "      <td>Comedy</td>\n",
       "      <td>99</td>\n",
       "    </tr>\n",
       "    <tr>\n",
       "      <th>5</th>\n",
       "      <td>(2011)</td>\n",
       "      <td>Drama</td>\n",
       "      <td>82</td>\n",
       "    </tr>\n",
       "    <tr>\n",
       "      <th>6</th>\n",
       "      <td>(2012)</td>\n",
       "      <td>Action</td>\n",
       "      <td>142</td>\n",
       "    </tr>\n",
       "    <tr>\n",
       "      <th>7</th>\n",
       "      <td>(2012)</td>\n",
       "      <td>Comedy</td>\n",
       "      <td>75</td>\n",
       "    </tr>\n",
       "    <tr>\n",
       "      <th>8</th>\n",
       "      <td>(2012)</td>\n",
       "      <td>Drama</td>\n",
       "      <td>71</td>\n",
       "    </tr>\n",
       "    <tr>\n",
       "      <th>9</th>\n",
       "      <td>(2013)</td>\n",
       "      <td>Action</td>\n",
       "      <td>85</td>\n",
       "    </tr>\n",
       "    <tr>\n",
       "      <th>10</th>\n",
       "      <td>(2013)</td>\n",
       "      <td>Comedy</td>\n",
       "      <td>77</td>\n",
       "    </tr>\n",
       "    <tr>\n",
       "      <th>11</th>\n",
       "      <td>(2013)</td>\n",
       "      <td>Drama</td>\n",
       "      <td>67</td>\n",
       "    </tr>\n",
       "    <tr>\n",
       "      <th>14</th>\n",
       "      <td>(2014)</td>\n",
       "      <td>Drama</td>\n",
       "      <td>87</td>\n",
       "    </tr>\n",
       "    <tr>\n",
       "      <th>13</th>\n",
       "      <td>(2014)</td>\n",
       "      <td>Comedy</td>\n",
       "      <td>75</td>\n",
       "    </tr>\n",
       "    <tr>\n",
       "      <th>12</th>\n",
       "      <td>(2014)</td>\n",
       "      <td>Action</td>\n",
       "      <td>99</td>\n",
       "    </tr>\n",
       "    <tr>\n",
       "      <th>15</th>\n",
       "      <td>(2015)</td>\n",
       "      <td>Action</td>\n",
       "      <td>86</td>\n",
       "    </tr>\n",
       "    <tr>\n",
       "      <th>16</th>\n",
       "      <td>(2015)</td>\n",
       "      <td>Comedy</td>\n",
       "      <td>46</td>\n",
       "    </tr>\n",
       "    <tr>\n",
       "      <th>17</th>\n",
       "      <td>(2015)</td>\n",
       "      <td>Drama</td>\n",
       "      <td>57</td>\n",
       "    </tr>\n",
       "    <tr>\n",
       "      <th>18</th>\n",
       "      <td>(2016)</td>\n",
       "      <td>Action</td>\n",
       "      <td>76</td>\n",
       "    </tr>\n",
       "    <tr>\n",
       "      <th>19</th>\n",
       "      <td>(2016)</td>\n",
       "      <td>Comedy</td>\n",
       "      <td>36</td>\n",
       "    </tr>\n",
       "    <tr>\n",
       "      <th>20</th>\n",
       "      <td>(2016)</td>\n",
       "      <td>Drama</td>\n",
       "      <td>37</td>\n",
       "    </tr>\n",
       "    <tr>\n",
       "      <th>21</th>\n",
       "      <td>(2017)</td>\n",
       "      <td>Action</td>\n",
       "      <td>48</td>\n",
       "    </tr>\n",
       "    <tr>\n",
       "      <th>22</th>\n",
       "      <td>(2017)</td>\n",
       "      <td>Comedy</td>\n",
       "      <td>15</td>\n",
       "    </tr>\n",
       "    <tr>\n",
       "      <th>23</th>\n",
       "      <td>(2017)</td>\n",
       "      <td>Drama</td>\n",
       "      <td>25</td>\n",
       "    </tr>\n",
       "    <tr>\n",
       "      <th>24</th>\n",
       "      <td>(2018)</td>\n",
       "      <td>Action</td>\n",
       "      <td>21</td>\n",
       "    </tr>\n",
       "    <tr>\n",
       "      <th>25</th>\n",
       "      <td>(2018)</td>\n",
       "      <td>Comedy</td>\n",
       "      <td>10</td>\n",
       "    </tr>\n",
       "    <tr>\n",
       "      <th>26</th>\n",
       "      <td>(2018)</td>\n",
       "      <td>Drama</td>\n",
       "      <td>4</td>\n",
       "    </tr>\n",
       "  </tbody>\n",
       "</table>\n",
       "</div>"
      ],
      "text/plain": [
       "      year   genre  userId\n",
       "0   (2010)  Action     176\n",
       "1   (2010)  Comedy      82\n",
       "2   (2010)   Drama     136\n",
       "3   (2011)  Action     113\n",
       "4   (2011)  Comedy      99\n",
       "5   (2011)   Drama      82\n",
       "6   (2012)  Action     142\n",
       "7   (2012)  Comedy      75\n",
       "8   (2012)   Drama      71\n",
       "9   (2013)  Action      85\n",
       "10  (2013)  Comedy      77\n",
       "11  (2013)   Drama      67\n",
       "14  (2014)   Drama      87\n",
       "13  (2014)  Comedy      75\n",
       "12  (2014)  Action      99\n",
       "15  (2015)  Action      86\n",
       "16  (2015)  Comedy      46\n",
       "17  (2015)   Drama      57\n",
       "18  (2016)  Action      76\n",
       "19  (2016)  Comedy      36\n",
       "20  (2016)   Drama      37\n",
       "21  (2017)  Action      48\n",
       "22  (2017)  Comedy      15\n",
       "23  (2017)   Drama      25\n",
       "24  (2018)  Action      21\n",
       "25  (2018)  Comedy      10\n",
       "26  (2018)   Drama       4"
      ]
     },
     "execution_count": 81,
     "metadata": {},
     "output_type": "execute_result"
    }
   ],
   "source": [
    "by_year_genre2 = movies.groupby(['year','genre'])['userId'].nunique().reset_index().sort_values('year')\n",
    "by_year_genre2"
   ]
  },
  {
   "cell_type": "code",
   "execution_count": 83,
   "metadata": {},
   "outputs": [
    {
     "data": {
      "text/html": [
       "<div>\n",
       "<style>\n",
       "    .dataframe thead tr:only-child th {\n",
       "        text-align: right;\n",
       "    }\n",
       "\n",
       "    .dataframe thead th {\n",
       "        text-align: left;\n",
       "    }\n",
       "\n",
       "    .dataframe tbody tr th {\n",
       "        vertical-align: top;\n",
       "    }\n",
       "</style>\n",
       "<table border=\"1\" class=\"dataframe\">\n",
       "  <thead>\n",
       "    <tr style=\"text-align: right;\">\n",
       "      <th>genre</th>\n",
       "      <th>Action</th>\n",
       "      <th>Comedy</th>\n",
       "      <th>Drama</th>\n",
       "    </tr>\n",
       "    <tr>\n",
       "      <th>year</th>\n",
       "      <th></th>\n",
       "      <th></th>\n",
       "      <th></th>\n",
       "    </tr>\n",
       "  </thead>\n",
       "  <tbody>\n",
       "    <tr>\n",
       "      <th>(2010)</th>\n",
       "      <td>176</td>\n",
       "      <td>82</td>\n",
       "      <td>136</td>\n",
       "    </tr>\n",
       "    <tr>\n",
       "      <th>(2011)</th>\n",
       "      <td>113</td>\n",
       "      <td>99</td>\n",
       "      <td>82</td>\n",
       "    </tr>\n",
       "    <tr>\n",
       "      <th>(2012)</th>\n",
       "      <td>142</td>\n",
       "      <td>75</td>\n",
       "      <td>71</td>\n",
       "    </tr>\n",
       "    <tr>\n",
       "      <th>(2013)</th>\n",
       "      <td>85</td>\n",
       "      <td>77</td>\n",
       "      <td>67</td>\n",
       "    </tr>\n",
       "    <tr>\n",
       "      <th>(2014)</th>\n",
       "      <td>99</td>\n",
       "      <td>75</td>\n",
       "      <td>87</td>\n",
       "    </tr>\n",
       "    <tr>\n",
       "      <th>(2015)</th>\n",
       "      <td>86</td>\n",
       "      <td>46</td>\n",
       "      <td>57</td>\n",
       "    </tr>\n",
       "    <tr>\n",
       "      <th>(2016)</th>\n",
       "      <td>76</td>\n",
       "      <td>36</td>\n",
       "      <td>37</td>\n",
       "    </tr>\n",
       "    <tr>\n",
       "      <th>(2017)</th>\n",
       "      <td>48</td>\n",
       "      <td>15</td>\n",
       "      <td>25</td>\n",
       "    </tr>\n",
       "    <tr>\n",
       "      <th>(2018)</th>\n",
       "      <td>21</td>\n",
       "      <td>10</td>\n",
       "      <td>4</td>\n",
       "    </tr>\n",
       "  </tbody>\n",
       "</table>\n",
       "</div>"
      ],
      "text/plain": [
       "genre   Action  Comedy  Drama\n",
       "year                         \n",
       "(2010)     176      82    136\n",
       "(2011)     113      99     82\n",
       "(2012)     142      75     71\n",
       "(2013)      85      77     67\n",
       "(2014)      99      75     87\n",
       "(2015)      86      46     57\n",
       "(2016)      76      36     37\n",
       "(2017)      48      15     25\n",
       "(2018)      21      10      4"
      ]
     },
     "execution_count": 83,
     "metadata": {},
     "output_type": "execute_result"
    }
   ],
   "source": [
    "pivoted_df2 = by_year_genre2.pivot(index='year', columns='genre', values='userId')\n",
    "pivoted_df2"
   ]
  },
  {
   "cell_type": "code",
   "execution_count": 93,
   "metadata": {},
   "outputs": [
    {
     "data": {
      "image/png": "[encoded data removed]",
      "text/plain": [
       "<matplotlib.figure.Figure at 0x7f21bc241dd8>"
      ]
     },
     "metadata": {},
     "output_type": "display_data"
    }
   ],
   "source": [
    "fig, axes = plt.subplots(nrows=1, ncols=2)\n",
    "fig.suptitle('Ratings by year of premiere and genre')\n",
    "pivoted_df.plot(kind='bar',  \n",
    "                title='Average',\n",
    "                colormap='winter',\n",
    "                ax=axes[0]\n",
    "                )\n",
    "pivoted_df2.plot(kind='bar', \n",
    "                figsize=(15,5), \n",
    "                title='Number',\n",
    "               colormap='summer',\n",
    "               ax=axes[1])\n",
    "plt.show()"
   ]
  },
  {
   "cell_type": "code",
   "execution_count": 96,
   "metadata": {},
   "outputs": [
    {
     "data": {
      "text/html": [
       "<div>\n",
       "<style>\n",
       "    .dataframe thead tr:only-child th {\n",
       "        text-align: right;\n",
       "    }\n",
       "\n",
       "    .dataframe thead th {\n",
       "        text-align: left;\n",
       "    }\n",
       "\n",
       "    .dataframe tbody tr th {\n",
       "        vertical-align: top;\n",
       "    }\n",
       "</style>\n",
       "<table border=\"1\" class=\"dataframe\">\n",
       "  <thead>\n",
       "    <tr style=\"text-align: right;\">\n",
       "      <th>genre</th>\n",
       "      <th>Action</th>\n",
       "      <th>Comedy</th>\n",
       "      <th>Drama</th>\n",
       "    </tr>\n",
       "    <tr>\n",
       "      <th>year</th>\n",
       "      <th></th>\n",
       "      <th></th>\n",
       "      <th></th>\n",
       "    </tr>\n",
       "  </thead>\n",
       "  <tbody>\n",
       "    <tr>\n",
       "      <th>(2010)</th>\n",
       "      <td>3.506512</td>\n",
       "      <td>3.330677</td>\n",
       "      <td>3.772727</td>\n",
       "    </tr>\n",
       "    <tr>\n",
       "      <th>(2011)</th>\n",
       "      <td>3.411215</td>\n",
       "      <td>3.478372</td>\n",
       "      <td>3.541667</td>\n",
       "    </tr>\n",
       "  </tbody>\n",
       "</table>\n",
       "</div>"
      ],
      "text/plain": [
       "genre     Action    Comedy     Drama\n",
       "year                                \n",
       "(2010)  3.506512  3.330677  3.772727\n",
       "(2011)  3.411215  3.478372  3.541667"
      ]
     },
     "execution_count": 96,
     "metadata": {},
     "output_type": "execute_result"
    }
   ],
   "source": [
    "pivoted_df[pivoted_df.index.isin(['(2010)', '(2011)'])]"
   ]
  },
  {
   "cell_type": "code",
   "execution_count": 105,
   "metadata": {},
   "outputs": [
    {
     "data": {
      "image/png": "[encoded data removed]",
      "text/plain": [
       "<matplotlib.figure.Figure at 0x7f21acd74ba8>"
      ]
     },
     "metadata": {},
     "output_type": "display_data"
    }
   ],
   "source": [
    "fig, axes = plt.subplots(nrows=2, ncols=2)\n",
    "fig.suptitle('Ratings by year of premiere and genre')\n",
    "pivoted_df[pivoted_df.index.isin(['(2010)', '(2011)'])].plot(kind='bar', \n",
    "                title='Average',\n",
    "                colormap='winter',\n",
    "                ax=axes[0,0]\n",
    "                )\n",
    "pivoted_df2[pivoted_df.index.isin(['(2010)', '(2011)'])].plot(kind='bar', \n",
    "                title='Number',\n",
    "               colormap='summer',\n",
    "               ax=axes[0,1])\n",
    "pivoted_df[~pivoted_df.index.isin(['(2010)', '(2011)'])].plot(kind='bar', \n",
    "                title='Average',\n",
    "                colormap='winter',\n",
    "                ax=axes[1,0]\n",
    "                )\n",
    "pivoted_df2[~pivoted_df.index.isin(['(2010)', '(2011)'])].plot(kind='bar', \n",
    "                figsize=(15,5), \n",
    "                title='Number',\n",
    "               colormap='summer',\n",
    "               ax=axes[1,1])\n",
    "plt.show()"
   ]
  },
  {
   "cell_type": "code",
   "execution_count": 102,
   "metadata": {},
   "outputs": [
    {
     "data": {
      "image/png": "[encoded data removed]",
      "text/plain": [
       "<matplotlib.figure.Figure at 0x7f21bc5bb668>"
      ]
     },
     "metadata": {},
     "output_type": "display_data"
    }
   ],
   "source": [
    "fig, axes = plt.subplots(nrows=2, ncols=2)\n",
    "fig.suptitle('Ratings by year of premiere and genre')\n",
    "pivoted_df[pivoted_df.index.isin(['(2010)', '(2011)'])].plot(kind='bar', \n",
    "                title='Average',\n",
    "                colormap='winter',\n",
    "                ax=axes[0,0]\n",
    "                )\n",
    "pivoted_df2[pivoted_df.index.isin(['(2010)', '(2011)'])].plot(kind='bar', \n",
    "                title='Number',\n",
    "               colormap='summer',\n",
    "                legend=False,\n",
    "               ax=axes[0,1])\n",
    "pivoted_df[~pivoted_df.index.isin(['(2010)', '(2011)'])].plot(kind='bar', \n",
    "                title='Average',\n",
    "                colormap='winter',\n",
    "                legend=False,\n",
    "                ax=axes[1,0]\n",
    "                )\n",
    "pivoted_df2[~pivoted_df.index.isin(['(2010)', '(2011)'])].plot(kind='bar', \n",
    "                figsize=(20,15), \n",
    "                title='Number',\n",
    "               colormap='summer',\n",
    "               ax=axes[1,1])\n",
    "plt.show()"
   ]
  },
  {
   "cell_type": "markdown",
   "metadata": {},
   "source": [
    "## Exercise\n",
    "\n",
    "#### Find out if there is a difference between Subscriber/Customer in daily routine"
   ]
  },
  {
   "cell_type": "markdown",
   "metadata": {},
   "source": [
    "### 1 - exercise\n",
    "\n",
    "Load the trip csv into a pandas dataframe. <br>\n",
    "In the trip dataframe create a new column called 'start_datetime'. These should contain the values from column 'Start Date' converted into datetime. "
   ]
  },
  {
   "cell_type": "code",
   "execution_count": 1,
   "metadata": {
    "collapsed": true
   },
   "outputs": [],
   "source": [
    "import pandas as pd"
   ]
  },
  {
   "cell_type": "code",
   "execution_count": 2,
   "metadata": {
    "collapsed": true
   },
   "outputs": [],
   "source": [
    "trip = pd.read_csv('trip_filled.csv')\n",
    "trip['start_date'] = pd.to_datetime(trip['Start Date'], format='%m/%d/%Y %H:%M')"
   ]
  },
  {
   "cell_type": "markdown",
   "metadata": {},
   "source": [
    "### 1 - check yourself"
   ]
  },
  {
   "cell_type": "code",
   "execution_count": 3,
   "metadata": {},
   "outputs": [
    {
     "name": "stdout",
     "output_type": "stream",
     "text": [
      "start_date column is successfully converted\n"
     ]
    }
   ],
   "source": [
    "if (trip['Start Date'] != trip['start_date'].dt.strftime('%-m/%-d/%Y %-H:%M')).sum() == 0:\n",
    "    print('start_date column is successfully converted')\n",
    "else:\n",
    "    print('start_date column is NOT successfully converted')"
   ]
  },
  {
   "cell_type": "markdown",
   "metadata": {},
   "source": [
    "### 2 - exercise\n",
    "Create new column called start_hour that contains the hour in which the trip started."
   ]
  },
  {
   "cell_type": "code",
   "execution_count": 4,
   "metadata": {
    "collapsed": true
   },
   "outputs": [],
   "source": [
    "trip['start_hour'] = trip['start_date'].dt.hour"
   ]
  },
  {
   "cell_type": "markdown",
   "metadata": {},
   "source": [
    "### 2 - check yourself"
   ]
  },
  {
   "cell_type": "code",
   "execution_count": 5,
   "metadata": {},
   "outputs": [
    {
     "name": "stdout",
     "output_type": "stream",
     "text": [
      "start_hour column is successfully converted\n"
     ]
    }
   ],
   "source": [
    "if trip['start_hour'].dtype == 'int64' and trip['start_hour'].min()==0 and trip['start_hour'].max()==23:\n",
    "    print('start_hour column is successfully converted')\n",
    "else:\n",
    "    print('start_hour column is NOT successfully converted')    "
   ]
  },
  {
   "cell_type": "markdown",
   "metadata": {},
   "source": [
    "### 3 - exercise\n",
    "First let's check if there is a daily pattern. Group the trip data by the start_hour column and get the size of each group. Assign it to a new variable called by_hour."
   ]
  },
  {
   "cell_type": "code",
   "execution_count": 6,
   "metadata": {
    "collapsed": true
   },
   "outputs": [],
   "source": [
    "by_hour = trip.groupby('start_hour').size()"
   ]
  },
  {
   "cell_type": "markdown",
   "metadata": {},
   "source": [
    "### 3 - check yourself"
   ]
  },
  {
   "cell_type": "code",
   "execution_count": 7,
   "metadata": {},
   "outputs": [
    {
     "name": "stdout",
     "output_type": "stream",
     "text": [
      "the grouping was successfull\n"
     ]
    }
   ],
   "source": [
    "if by_hour.index[0]==0 and by_hour[0] == 620:\n",
    "    print('the grouping was successfull')\n",
    "else:\n",
    "    print('the grouping was NOT successfull')    "
   ]
  },
  {
   "cell_type": "markdown",
   "metadata": {},
   "source": [
    "### 4 - exercise\n",
    "Make a bar plot from the by_hour data. \n",
    "- The x axis should be the hour and the y the number of trips. \n",
    "- The chart should have a title\n",
    "- The chart should be 10 inches wide and 5 inches tall\n",
    "- The color of the columns should set to something different from the default. (You can find named colors for example here: https://stackoverflow.com/questions/22408237/named-colors-in-matplotlib)"
   ]
  },
  {
   "cell_type": "code",
   "execution_count": 8,
   "metadata": {
    "collapsed": true
   },
   "outputs": [],
   "source": [
    "%matplotlib inline"
   ]
  },
  {
   "cell_type": "code",
   "execution_count": 9,
   "metadata": {},
   "outputs": [
    {
     "data": {
      "text/plain": [
       "<matplotlib.axes._subplots.AxesSubplot at 0x7eff56560e80>"
      ]
     },
     "execution_count": 9,
     "metadata": {},
     "output_type": "execute_result"
    },
    {
     "data": {
      "image/png": "[encoded data removed]",
      "text/plain": [
       "<matplotlib.figure.Figure at 0x7eff56560668>"
      ]
     },
     "metadata": {},
     "output_type": "display_data"
    }
   ],
   "source": [
    "by_hour.plot(kind='bar', title='Number of trips per hours', figsize=(10,5), color='deepskyblue')"
   ]
  },
  {
   "cell_type": "markdown",
   "metadata": {},
   "source": [
    "### 4 - check yourself\n",
    "Your chart should be similar to this:\n",
    "<img src=\"exc4_cahrt.png\">"
   ]
  },
  {
   "cell_type": "markdown",
   "metadata": {},
   "source": [
    "### 5 - exercise\n",
    "It looks like that the bikes are used most in the morning and in the afternoon. Let's check if this pattern is the same for Customers and Subscriebrs as well! <br>\n",
    "Group the trip dataframe by Subscription Type ahd start_hour and get the size of each group. Reset the index and assign it to a new dataframe called by_type_hour. <br>\n",
    "Rename the column with the group size to nb_trips."
   ]
  },
  {
   "cell_type": "code",
   "execution_count": 10,
   "metadata": {
    "collapsed": true
   },
   "outputs": [],
   "source": [
    "by_type_hour = trip.groupby(['Subscription Type','start_hour']).size().reset_index()"
   ]
  },
  {
   "cell_type": "code",
   "execution_count": 11,
   "metadata": {
    "collapsed": true
   },
   "outputs": [],
   "source": [
    "by_type_hour.rename(columns={0:'nb_trips'}, inplace=True)"
   ]
  },
  {
   "cell_type": "markdown",
   "metadata": {},
   "source": [
    "### 5 - check yourself"
   ]
  },
  {
   "cell_type": "code",
   "execution_count": 12,
   "metadata": {},
   "outputs": [
    {
     "name": "stdout",
     "output_type": "stream",
     "text": [
      "the grouping was successfull\n"
     ]
    }
   ],
   "source": [
    "if by_type_hour.columns[2] == 'nb_trips' and len(by_type_hour) == 48:\n",
    "    print('the grouping was successfull')\n",
    "else:\n",
    "    print('the grouping was NOT successfull')       "
   ]
  },
  {
   "cell_type": "markdown",
   "metadata": {},
   "source": [
    "### 6 - exercise\n",
    "Pivot the by_type_hour dataframe. The pivoted dataframe should be called by_type_hour_pivot. The indeces should be the hours, the columns the subscription types (Customer and Subscriber) and the values the number of trips."
   ]
  },
  {
   "cell_type": "code",
   "execution_count": 13,
   "metadata": {
    "collapsed": true
   },
   "outputs": [],
   "source": [
    "by_type_hour_pivot = by_type_hour.pivot(index='start_hour', columns='Subscription Type', values='nb_trips')"
   ]
  },
  {
   "cell_type": "markdown",
   "metadata": {},
   "source": [
    "### 6 - check yourself"
   ]
  },
  {
   "cell_type": "code",
   "execution_count": 14,
   "metadata": {},
   "outputs": [
    {
     "name": "stdout",
     "output_type": "stream",
     "text": [
      "the pivoting was successfull\n"
     ]
    }
   ],
   "source": [
    "if by_type_hour_pivot.columns.name == 'Subscription Type' and len(by_type_hour_pivot) == 24:\n",
    "    print('the pivoting was successfull')\n",
    "else:\n",
    "    print('the pivoting was NOT successfull')      "
   ]
  },
  {
   "cell_type": "markdown",
   "metadata": {},
   "source": [
    "### 7 - exercise\n",
    "\n",
    "Make a bar plot from the by_type_hour_pivot data.\n",
    "\n",
    "- The x axis should be the hour and the y the number of trips.\n",
    "- The chart should have a title\n",
    "- The chart should be 10 inches wide and 5 inches tall\n",
    "- The Customer and the Subscriber bars should have different colors from one colormap other than the default. (You can find named colormaps for example here: https://matplotlib.org/tutorials/colors/colormaps.html)"
   ]
  },
  {
   "cell_type": "code",
   "execution_count": 28,
   "metadata": {},
   "outputs": [
    {
     "data": {
      "text/plain": [
       "<matplotlib.axes._subplots.AxesSubplot at 0x7eff4cc56160>"
      ]
     },
     "execution_count": 28,
     "metadata": {},
     "output_type": "execute_result"
    },
    {
     "data": {
      "image/png": "[encoded data removed]",
      "text/plain": [
       "<matplotlib.figure.Figure at 0x7eff4ca39fd0>"
      ]
     },
     "metadata": {},
     "output_type": "display_data"
    }
   ],
   "source": [
    "by_type_hour_pivot.plot(kind='bar', title='Number of trips per hours in the two groups', figsize=(10,5),\n",
    "                        colormap='winter')"
   ]
  },
  {
   "cell_type": "markdown",
   "metadata": {
    "collapsed": true
   },
   "source": [
    "### 7 - check yourself\n",
    "Your chart should be similar to this:\n",
    "<img src=\"exc7_chart.png\">"
   ]
  },
  {
   "cell_type": "markdown",
   "metadata": {},
   "source": [
    "### 8 - exercise\n",
    "\n",
    "Ok, it looks like that Subscribers use the bikes for commuting while Customers use the bikes more during the day. Let's see if these patterns are different in the weekend and on weekdays! <br>\n",
    "As we are about to introduce a new grouping variable we can't use the aggregated data we created in the last tasks. So let's go back to the trip dataframe and create a new column called day_of_week with the name of the day of the start_date. Remember you can use the built-in methods of the .dt properties of the datetime like columns. "
   ]
  },
  {
   "cell_type": "code",
   "execution_count": 32,
   "metadata": {
    "collapsed": true
   },
   "outputs": [],
   "source": [
    "trip['day_of_week'] = trip['start_date'].dt.weekday_name"
   ]
  },
  {
   "cell_type": "markdown",
   "metadata": {},
   "source": [
    "### 8 - check yourself"
   ]
  },
  {
   "cell_type": "code",
   "execution_count": 38,
   "metadata": {},
   "outputs": [
    {
     "name": "stdout",
     "output_type": "stream",
     "text": [
      "the column creation was successfull\n"
     ]
    }
   ],
   "source": [
    "if sorted(trip['day_of_week'].unique()) == ['Friday', 'Monday', 'Saturday', 'Sunday', 'Thursday', 'Tuesday', 'Wednesday']:\n",
    "    print('the column creation was successfull')\n",
    "else:\n",
    "    print('the column creation was NOT successfull')      "
   ]
  },
  {
   "cell_type": "markdown",
   "metadata": {},
   "source": [
    "### 9 - exercise\n",
    "We know the name of the days of each date now. Let's crate a column called weekend. If the name of the day is Saturday or Sunday, the value of weekend should be True. Otherwise it should be False."
   ]
  },
  {
   "cell_type": "code",
   "execution_count": 39,
   "metadata": {
    "collapsed": true
   },
   "outputs": [],
   "source": [
    "trip['weekend'] = trip['day_of_week'].isin(['Saturday', 'Sunday'])"
   ]
  },
  {
   "cell_type": "markdown",
   "metadata": {},
   "source": [
    "### 9 - check yourself"
   ]
  },
  {
   "cell_type": "code",
   "execution_count": 43,
   "metadata": {},
   "outputs": [
    {
     "name": "stdout",
     "output_type": "stream",
     "text": [
      "the column creation was successfull\n"
     ]
    }
   ],
   "source": [
    "if trip['weekend'].sum() == 22980:\n",
    "    print('the column creation was successfull')\n",
    "else:\n",
    "    print('the column creation was NOT successfull')      "
   ]
  },
  {
   "cell_type": "markdown",
   "metadata": {},
   "source": [
    "### 10 - exercise\n",
    "Create a figure with two charts next to each others. \n",
    "- One should show the number of trips by hours for Customers and Subsribers on the weekends and the other on the weekdays. \n",
    "- Both charts should have a title and they should have a shared y axes. \n",
    "- There should be a shared title in the middle above the charts <br><br>\n",
    "For creating the charts you have to filter the trip data for weekend/weekday first and than pivot the new dataframe. <br><br>\n",
    "As an advanced task you can make a figure with 4 plots: in the first row the weekends and weekdays should be separate charts with differenc colored bars for Customers and Subscribers. In the second row, the columns should be for the weekends/weekdays on separate charts for Customers and Subscribers. The charts should share both axes and only the charts on the left should have the legend explanation box"
   ]
  },
  {
   "cell_type": "code",
   "execution_count": 71,
   "metadata": {},
   "outputs": [
    {
     "data": {
      "image/png": "[encoded data removed]",
      "text/plain": [
       "<matplotlib.figure.Figure at 0x7eff4ddff0f0>"
      ]
     },
     "metadata": {},
     "output_type": "display_data"
    }
   ],
   "source": [
    "import matplotlib.pyplot as plt\n",
    "fig, axes = plt.subplots(nrows=1, ncols=2, sharey=True)\n",
    "bytypehour_weekend = trip[trip['weekend']==True].groupby(['Subscription Type','start_hour']).size().reset_index()\n",
    "bytypehour_weekend.pivot(index='start_hour', columns='Subscription Type', values=0).plot(kind='bar',\n",
    "                                                                                         title='weekend',\n",
    "                                                                                         colormap = 'winter',\n",
    "                                                                                         ax=axes[0])\n",
    "bytypehour_weekday = trip[trip['weekend']==False].groupby(['Subscription Type','start_hour']).size().reset_index()\n",
    "bytypehour_weekday.pivot(index='start_hour', columns='Subscription Type', values=0).plot(kind='bar',\n",
    "                                                                                         figsize=(14,6),\n",
    "                                                                                         title='weekday',\n",
    "                                                                                         colormap = 'winter',\n",
    "                                                                                         ax=axes[1])\n",
    "\n",
    "fig.suptitle('Number of trips per hours in the two groups')\n",
    "plt.show()"
   ]
  },
  {
   "cell_type": "code",
   "execution_count": 72,
   "metadata": {},
   "outputs": [
    {
     "data": {
      "image/png": "[encoded data removed]",
      "text/plain": [
       "<matplotlib.figure.Figure at 0x7eff4d117668>"
      ]
     },
     "metadata": {},
     "output_type": "display_data"
    }
   ],
   "source": [
    "fig, axes = plt.subplots(nrows=2, ncols=2, sharey=True, sharex=True)\n",
    "bytypehour_weekend = trip[trip['weekend']==True].groupby(['Subscription Type','start_hour']).size().reset_index()\n",
    "bytypehour_weekend.pivot(index='start_hour', columns='Subscription Type', values=0).plot(kind='bar',\n",
    "                                                                                         title='weekend',\n",
    "                                                                                         colormap = 'winter',\n",
    "                                                                                         ax=axes[0,0])\n",
    "bytypehour_weekday = trip[trip['weekend']==False].groupby(['Subscription Type','start_hour']).size().reset_index()\n",
    "bytypehour_weekday.pivot(index='start_hour', columns='Subscription Type', values=0).plot(kind='bar',\n",
    "                                                                                         title='weekday',\n",
    "                                                                                         legend=None,\n",
    "                                                                                         colormap = 'winter',\n",
    "                                                                                         ax=axes[0,1])\n",
    "\n",
    "bytypehour_weekend = trip[trip['Subscription Type']=='Customer'].groupby(['weekend','start_hour']).size().reset_index()\n",
    "bytypehour_weekend.pivot(index='start_hour', columns='weekend', values=0).plot(kind='bar',\n",
    "                                                                                         title='Customer',\n",
    "                                                                                         colormap = 'rainbow',\n",
    "                                                                                         ax=axes[1,0])\n",
    "bytypehour_weekday = trip[trip['Subscription Type']=='Subscriber'].groupby(['weekend','start_hour']).size().reset_index()\n",
    "bytypehour_weekday.pivot(index='start_hour', columns='weekend', values=0).plot(kind='bar',\n",
    "                                                                                         figsize=(14,10),\n",
    "                                                                                         title='Subscriber',\n",
    "                                                                                         legend=None,\n",
    "                                                                                         colormap = 'rainbow',\n",
    "                                                                                         ax=axes[1,1])\n",
    "\n",
    "fig.suptitle('Number of trips per hours in the two groups')\n",
    "plt.show()"
   ]
  },
  {
   "cell_type": "markdown",
   "metadata": {},
   "source": [
    "### 7 - check yourself\n",
    "Your chart should be similar to this:\n",
    "<img src=\"exc10_chart.png\">\n",
    "<br><br>Or to this if you chose the advanced task:\n",
    "<img src=\"exc10_chart_advance.png\">"
   ]
  },
  {
   "cell_type": "code",
   "execution_count": null,
   "metadata": {
    "collapsed": true
   },
   "outputs": [],
   "source": []
  }
 ],
 "metadata": {
  "kernelspec": {
   "display_name": "Python 3",
   "language": "python",
   "name": "python3"
  },
  "language_info": {
   "codemirror_mode": {
    "name": "ipython",
    "version": 3
   },
   "file_extension": ".py",
   "mimetype": "text/x-python",
   "name": "python",
   "nbconvert_exporter": "python",
   "pygments_lexer": "ipython3",
   "version": "3.6.2"
  }
 },
 "nbformat": 4,
 "nbformat_minor": 2
}
