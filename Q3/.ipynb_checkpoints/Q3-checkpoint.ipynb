{
 "cells": [
  {
   "cell_type": "code",
   "execution_count": null,
   "metadata": {
    "collapsed": true
   },
   "outputs": [],
   "source": [
    "# TODO: \n",
    "# correct clayat bay station name (in the csv, before class)\n",
    "# computer duration\n",
    "# gridsearch (???) to KMeans\n",
    "# for different method/num_clusters see shiluette/elbow\n",
    "# scatter plot for ertelmezes\n",
    "\n",
    "\n",
    "## functions!!!\n",
    "# distance calculation with function for speed\n",
    "# ratio calculation"
   ]
  },
  {
   "cell_type": "code",
   "execution_count": 1,
   "metadata": {
    "collapsed": true
   },
   "outputs": [],
   "source": [
    "import pandas as pd\n",
    "import matplotlib.pyplot as plt\n",
    "%matplotlib inline"
   ]
  },
  {
   "cell_type": "code",
   "execution_count": 12,
   "metadata": {
    "collapsed": true
   },
   "outputs": [],
   "source": [
    "import os\n",
    "import pandas as pd\n",
    "import numpy as np\n",
    "%matplotlib inline\n",
    "import matplotlib\n",
    "import matplotlib.pyplot as plt\n",
    "matplotlib.style.use('ggplot')\n",
    "matplotlib.pyplot.rcParams['figure.figsize'] = (15, 3)\n",
    "matplotlib.pyplot.rcParams['font.family'] = 'sans-serif'\n",
    "import pickle\n",
    "from sklearn.preprocessing import scale\n",
    "from sklearn.cluster import KMeans\n",
    "from sklearn import metrics\n",
    "from sklearn.decomposition import PCA"
   ]
  },
  {
   "cell_type": "code",
   "execution_count": null,
   "metadata": {
    "collapsed": true
   },
   "outputs": [],
   "source": [
    "from collections import Counter"
   ]
  },
  {
   "cell_type": "code",
   "execution_count": 3,
   "metadata": {},
   "outputs": [],
   "source": [
    "trip = pd.read_csv('/home/esztersomos/Documents/CEU/winter_2019/merging/trip.csv')\n",
    "station = pd.read_csv('/home/esztersomos/Documents/CEU/winter_2019/merging/station.csv')\n",
    "weather = pd.read_csv('/home/esztersomos/Documents/CEU/winter_2019/merging/weather.csv')"
   ]
  },
  {
   "cell_type": "code",
   "execution_count": 68,
   "metadata": {
    "collapsed": true
   },
   "outputs": [],
   "source": [
    "trip['duration'] = (pd.to_datetime(trip['end_date']) - pd.to_datetime(trip['start_date'])).astype('timedelta64[m]')\n",
    "trip['Start Station'] = trip['Start Station'].apply(lambda x: x.replace('Clayat','Clay at'))"
   ]
  },
  {
   "cell_type": "code",
   "execution_count": 105,
   "metadata": {},
   "outputs": [
    {
     "data": {
      "text/plain": [
       "<matplotlib.axes._subplots.AxesSubplot at 0x7f310487cfd0>"
      ]
     },
     "execution_count": 105,
     "metadata": {},
     "output_type": "execute_result"
    },
    {
     "data": {
      "image/png": "[encoded data removed]",
      "text/plain": [
       "<matplotlib.figure.Figure at 0x7f31050a1cf8>"
      ]
     },
     "metadata": {},
     "output_type": "display_data"
    }
   ],
   "source": [
    "trip['duration'].hist(bins=200)"
   ]
  },
  {
   "cell_type": "code",
   "execution_count": 95,
   "metadata": {
    "collapsed": true
   },
   "outputs": [],
   "source": [
    "trip['duration'] = np.where(trip['duration'] > 300, np.nan, trip['duration'])"
   ]
  },
  {
   "cell_type": "code",
   "execution_count": 96,
   "metadata": {
    "scrolled": true
   },
   "outputs": [],
   "source": [
    "dist_df = pd.merge(trip[['Start Station','End Station','duration']], station[['name','lat','long']], how='left', left_on='Start Station',\n",
    "                  right_on='name').drop('name',axis=1)\n",
    "dist_df.columns = ['Start Station','End Station','duration','lat1','lon1']\n",
    "dist_df = pd.merge(dist_df, station[['name','lat','long']], how='left', left_on='End Station',\n",
    "                  right_on='name').drop('name',axis=1)\n",
    "dist_df.columns = ['Start Station','End Station','duration','lat1','lon1','lat2','lon2']"
   ]
  },
  {
   "cell_type": "code",
   "execution_count": 97,
   "metadata": {
    "collapsed": true
   },
   "outputs": [],
   "source": [
    "from math import sin, cos, sqrt, atan2, radians\n",
    "def dist_calc(row):\n",
    "    R = 6373.0\n",
    "\n",
    "    lat1 = radians(row.lat1)\n",
    "    lon1 = radians(row.lon1)\n",
    "    lat2 = radians(row.lat2)\n",
    "    lon2 = radians(row.lon2)\n",
    "\n",
    "    dlon = lon2 - lon1\n",
    "    dlat = lat2 - lat1\n",
    "\n",
    "    a = sin(dlat / 2)**2 + cos(lat1) * cos(lat2) * sin(dlon / 2)**2\n",
    "    c = 2 * atan2(sqrt(a), sqrt(1 - a))\n",
    "\n",
    "    distance = R * c\n",
    "    return distance"
   ]
  },
  {
   "cell_type": "code",
   "execution_count": 98,
   "metadata": {
    "collapsed": true
   },
   "outputs": [],
   "source": [
    "dist_df['dist'] = dist_df.apply(lambda x: dist_calc(x), axis=1)"
   ]
  },
  {
   "cell_type": "code",
   "execution_count": 99,
   "metadata": {
    "scrolled": true
   },
   "outputs": [],
   "source": [
    "dist_df['speed'] = dist_df['dist']/dist_df['duration']"
   ]
  },
  {
   "cell_type": "code",
   "execution_count": 100,
   "metadata": {},
   "outputs": [
    {
     "data": {
      "text/plain": [
       "<matplotlib.axes._subplots.AxesSubplot at 0x7f31053b33c8>"
      ]
     },
     "execution_count": 100,
     "metadata": {},
     "output_type": "execute_result"
    },
    {
     "data": {
      "image/png": "[encoded data removed]",
      "text/plain": [
       "<matplotlib.figure.Figure at 0x7f310541bd68>"
      ]
     },
     "metadata": {},
     "output_type": "display_data"
    }
   ],
   "source": [
    "dist_df.speed.hist(bins=200)"
   ]
  },
  {
   "cell_type": "code",
   "execution_count": 101,
   "metadata": {},
   "outputs": [],
   "source": [
    "dist_df = dist_df[dist_df.speed<1]"
   ]
  },
  {
   "cell_type": "code",
   "execution_count": 102,
   "metadata": {
    "scrolled": true
   },
   "outputs": [
    {
     "data": {
      "text/plain": [
       "<matplotlib.axes._subplots.AxesSubplot at 0x7f31050a1e48>"
      ]
     },
     "execution_count": 102,
     "metadata": {},
     "output_type": "execute_result"
    },
    {
     "data": {
      "image/png": "[encoded data removed]",
      "text/plain": [
       "<matplotlib.figure.Figure at 0x7f310554fa90>"
      ]
     },
     "metadata": {},
     "output_type": "display_data"
    }
   ],
   "source": [
    "dist_df.speed.hist(bins=200)"
   ]
  },
  {
   "cell_type": "code",
   "execution_count": 103,
   "metadata": {},
   "outputs": [],
   "source": [
    "dist_df['speed'] = dist_df['speed'].replace(0,np.nan)"
   ]
  },
  {
   "cell_type": "code",
   "execution_count": 104,
   "metadata": {},
   "outputs": [
    {
     "data": {
      "text/plain": [
       "<matplotlib.axes._subplots.AxesSubplot at 0x7f310554f470>"
      ]
     },
     "execution_count": 104,
     "metadata": {},
     "output_type": "execute_result"
    },
    {
     "data": {
      "image/png": "[encoded data removed]",
      "text/plain": [
       "<matplotlib.figure.Figure at 0x7f3104d01dd8>"
      ]
     },
     "metadata": {},
     "output_type": "display_data"
    }
   ],
   "source": [
    "dist_df.speed.hist(bins=200)"
   ]
  },
  {
   "cell_type": "code",
   "execution_count": 106,
   "metadata": {
    "scrolled": true
   },
   "outputs": [],
   "source": [
    "dist_df_bystation = dist_df.groupby('Start Station').agg({\n",
    "    'duration':'mean',\n",
    "    'speed':'mean',\n",
    "}).reset_index()"
   ]
  },
  {
   "cell_type": "code",
   "execution_count": 148,
   "metadata": {
    "collapsed": true
   },
   "outputs": [],
   "source": [
    "def calc_ratio(df,group_col,ratio_col):\n",
    "    ratio_df = df.groupby([group_col, ratio_col]).size().reset_index()\n",
    "    \n",
    "    pivot_df = ratio_df.pivot(index=group_col, columns=ratio_col, values=0)\n",
    "    pivot_df.fillna(0, inplace=True)\n",
    "    colnames = pivot_df.columns\n",
    "\n",
    "    pivot_df[colnames[0] + '_per_' + colnames[1]] = pivot_df[colnames[0]]/pivot_df[colnames[1]]\n",
    "    return pivot_df[[colnames[0] + '_per_' + colnames[1]]].reset_index()"
   ]
  },
  {
   "cell_type": "code",
   "execution_count": 119,
   "metadata": {},
   "outputs": [],
   "source": [
    "trip['circle'] = np.where(trip['Start Station'] == trip['End Station'],'circle','not_circle')"
   ]
  },
  {
   "cell_type": "code",
   "execution_count": 149,
   "metadata": {},
   "outputs": [],
   "source": [
    "circle_ratio = calc_ratio(trip, 'Start Station', 'circle')"
   ]
  },
  {
   "cell_type": "code",
   "execution_count": 150,
   "metadata": {
    "collapsed": true
   },
   "outputs": [],
   "source": [
    "subs_ratio = calc_ratio(trip, 'Start Station', 'Subscription Type')"
   ]
  },
  {
   "cell_type": "code",
   "execution_count": 124,
   "metadata": {
    "collapsed": true
   },
   "outputs": [],
   "source": [
    "num_trips = trip.groupby('Start Station').size().reset_index()\n",
    "num_trips.columns = ['Start Station','trip_num']"
   ]
  },
  {
   "cell_type": "code",
   "execution_count": 151,
   "metadata": {
    "scrolled": true
   },
   "outputs": [],
   "source": [
    "features_df = pd.merge(station[['name','dockcount']], dist_df_bystation, how='left',\n",
    "                      left_on = 'name', right_on = 'Start Station').drop('name',axis=1)\n",
    "\n",
    "features_df = pd.merge(features_df, num_trips, how='left')\n",
    "\n",
    "features_df = pd.merge(features_df, circle_ratio, how='left')\n",
    "features_df = pd.merge(features_df, subs_ratio, how='left')"
   ]
  },
  {
   "cell_type": "code",
   "execution_count": 153,
   "metadata": {},
   "outputs": [],
   "source": [
    "data = scale(features_df.drop('Start Station', axis=1))"
   ]
  },
  {
   "cell_type": "code",
   "execution_count": 187,
   "metadata": {
    "scrolled": true
   },
   "outputs": [
    {
     "name": "stdout",
     "output_type": "stream",
     "text": [
      "k cluster sizes:  Counter({0: 68, 1: 1})\n",
      "shiluette score:  0.742360821155\n",
      "random cluster sizes: Counter({0: 60, 1: 9})\n",
      "shiluette score:  0.403410855397\n",
      "pca cluster sizes: Counter({0: 38, 1: 31})\n",
      "shiluette score:  0.213146063901\n",
      "k cluster sizes:  Counter({0: 39, 2: 29, 1: 1})\n",
      "shiluette score:  0.231995612246\n",
      "random cluster sizes: Counter({2: 39, 0: 29, 1: 1})\n",
      "shiluette score:  0.231995612246\n",
      "pca cluster sizes: Counter({2: 31, 1: 30, 0: 8})\n",
      "shiluette score:  0.219304773287\n",
      "k cluster sizes:  Counter({1: 31, 0: 28, 3: 9, 2: 1})\n",
      "shiluette score:  0.250494216858\n",
      "random cluster sizes: Counter({3: 29, 2: 28, 0: 11, 1: 1})\n",
      "shiluette score:  0.243109944871\n",
      "pca cluster sizes: Counter({2: 24, 3: 23, 1: 14, 0: 8})\n",
      "shiluette score:  0.182712535736\n",
      "k cluster sizes:  Counter({0: 29, 4: 22, 3: 12, 2: 5, 1: 1})\n",
      "shiluette score:  0.236712367012\n",
      "random cluster sizes: Counter({4: 28, 1: 20, 2: 15, 0: 5, 3: 1})\n",
      "shiluette score:  0.219391854746\n",
      "pca cluster sizes: Counter({4: 22, 3: 20, 1: 13, 0: 7, 2: 7})\n",
      "shiluette score:  0.200802102545\n",
      "k cluster sizes:  Counter({3: 23, 2: 21, 5: 11, 0: 9, 4: 4, 1: 1})\n",
      "shiluette score:  0.234238830238\n",
      "random cluster sizes: Counter({3: 22, 0: 20, 4: 11, 5: 10, 2: 5, 1: 1})\n",
      "shiluette score:  0.206582820462\n",
      "pca cluster sizes: Counter({5: 20, 3: 18, 1: 14, 4: 12, 2: 4, 0: 1})\n",
      "shiluette score:  0.221292154849\n"
     ]
    },
    {
     "name": "stderr",
     "output_type": "stream",
     "text": [
      "/home/esztersomos/anaconda3/lib/python3.6/site-packages/sklearn/cluster/k_means_.py:893: RuntimeWarning: Explicit initial center position passed: performing only one init in k-means instead of n_init=10\n",
      "  return_n_iter=True)\n"
     ]
    }
   ],
   "source": [
    "sq_dists = []\n",
    "for i in range(2,7):\n",
    "    pca = PCA(n_components=i).fit(data)\n",
    "    # building and comparing the models\n",
    "    estimator = KMeans(init='k-means++', n_clusters=i)\n",
    "    estimator_rand = KMeans(init='random', n_clusters=i)\n",
    "    estimator_pca = KMeans(init=pca.components_, n_clusters=i)\n",
    "                       \n",
    "    estimator.fit(data)\n",
    "    estimator_rand.fit(data)\n",
    "    estimator_pca.fit(data)  \n",
    "                       \n",
    "    \n",
    "    print('k: ',Counter(estimator.labels_))\n",
    "    print('shiluette score: ',metrics.silhouette_score(data, estimator.labels_))                  \n",
    "    print('random cluster sizes:',Counter(estimator_rand.labels_))\n",
    "    print('shiluette score: ',metrics.silhouette_score(data, estimator_rand.labels_))  \n",
    "    print('pca cluster sizes:',Counter(estimator_pca.labels_))\n",
    "    print('shiluette score: ',metrics.silhouette_score(data, estimator_pca.labels_))   \n",
    "    \n",
    "    sq_dists.append(estimator.inertia_)"
   ]
  },
  {
   "cell_type": "code",
   "execution_count": 190,
   "metadata": {},
   "outputs": [
    {
     "data": {
      "text/plain": [
       "<matplotlib.axes._subplots.AxesSubplot at 0x7f30fe73c2e8>"
      ]
     },
     "execution_count": 190,
     "metadata": {},
     "output_type": "execute_result"
    },
    {
     "data": {
      "image/png": "[encoded data removed]",
      "text/plain": [
       "<matplotlib.figure.Figure at 0x7f3104464a20>"
      ]
     },
     "metadata": {},
     "output_type": "display_data"
    }
   ],
   "source": [
    "pd.DataFrame({'cluster_num':list(range(2,7)),'k':sq_dists}).plot(x='cluster_num', y='k')"
   ]
  },
  {
   "cell_type": "code",
   "execution_count": 165,
   "metadata": {},
   "outputs": [
    {
     "name": "stdout",
     "output_type": "stream",
     "text": [
      "Index(['dockcount', 'duration', 'speed', 'trip_num', 'circle_per_not_circle',\n",
      "       'Customer_per_Subscriber'],\n",
      "      dtype='object')\n",
      "[[-0.79941693  2.02013976 -0.28189312 -0.89134471  1.7460173   1.58862281]\n",
      " [ 0.84328516 -0.25845078  0.21991836  0.76097413 -0.32972722 -0.31419359]\n",
      " [-0.60978127 -0.27121273 -0.1400776  -0.50640213 -0.13149425 -0.10590886]]\n"
     ]
    }
   ],
   "source": [
    "print(features_df.drop('Start Station', axis=1).columns)\n",
    "print (estimator_pca.cluster_centers_)"
   ]
  },
  {
   "cell_type": "code",
   "execution_count": 167,
   "metadata": {},
   "outputs": [],
   "source": [
    "bystation['cluster'] = estimator_pca.labels_"
   ]
  },
  {
   "cell_type": "code",
   "execution_count": 168,
   "metadata": {},
   "outputs": [
    {
     "data": {
      "text/plain": [
       "<matplotlib.axes._subplots.AxesSubplot at 0x7f30fe5d9f28>"
      ]
     },
     "execution_count": 168,
     "metadata": {},
     "output_type": "execute_result"
    },
    {
     "data": {
      "image/png": "[encoded data removed]",
      "text/plain": [
       "<matplotlib.figure.Figure at 0x7f30fe76fc88>"
      ]
     },
     "metadata": {},
     "output_type": "display_data"
    }
   ],
   "source": [
    "ax = bystation[bystation.cluster==0].plot.scatter(x='duration',y='customer_ration')\n",
    "ax = bystation[bystation.cluster==1].plot.scatter(x='duration',y='customer_ration', ax=ax, color='g')\n",
    "bystation[bystation.cluster==2].plot.scatter(x='duration',y='customer_ration',ax=ax, color='r')"
   ]
  },
  {
   "cell_type": "code",
   "execution_count": 45,
   "metadata": {},
   "outputs": [
    {
     "data": {
      "text/plain": [
       "0.32449650520785195"
      ]
     },
     "execution_count": 45,
     "metadata": {},
     "output_type": "execute_result"
    }
   ],
   "source": [
    "metrics.silhouette_score(data, estimator_rand.labels_, metric='euclidean')"
   ]
  },
  {
   "cell_type": "code",
   "execution_count": 47,
   "metadata": {},
   "outputs": [
    {
     "data": {
      "text/plain": [
       "0.31445653465386358"
      ]
     },
     "execution_count": 47,
     "metadata": {},
     "output_type": "execute_result"
    }
   ],
   "source": [
    "metrics.silhouette_score(data, estimator_pca.labels_, metric='euclidean')"
   ]
  },
  {
   "cell_type": "code",
   "execution_count": 49,
   "metadata": {},
   "outputs": [
    {
     "data": {
      "text/plain": [
       "34.597811427480245"
      ]
     },
     "execution_count": 49,
     "metadata": {},
     "output_type": "execute_result"
    }
   ],
   "source": [
    "metrics.calinski_harabaz_score(data, estimator_rand.labels_)  "
   ]
  },
  {
   "cell_type": "code",
   "execution_count": 50,
   "metadata": {},
   "outputs": [
    {
     "data": {
      "text/plain": [
       "33.486767946139338"
      ]
     },
     "execution_count": 50,
     "metadata": {},
     "output_type": "execute_result"
    }
   ],
   "source": [
    "metrics.calinski_harabaz_score(data, estimator_pca.labels_)  "
   ]
  },
  {
   "cell_type": "code",
   "execution_count": null,
   "metadata": {
    "collapsed": true
   },
   "outputs": [],
   "source": []
  }
 ],
 "metadata": {
  "kernelspec": {
   "display_name": "Python 3",
   "language": "python",
   "name": "python3"
  },
  "language_info": {
   "codemirror_mode": {
    "name": "ipython",
    "version": 3
   },
   "file_extension": ".py",
   "mimetype": "text/x-python",
   "name": "python",
   "nbconvert_exporter": "python",
   "pygments_lexer": "ipython3",
   "version": "3.6.2"
  }
 },
 "nbformat": 4,
 "nbformat_minor": 2
}
