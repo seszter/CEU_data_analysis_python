{
 "cells": [
  {
   "cell_type": "code",
   "execution_count": 2,
   "metadata": {
    "collapsed": true
   },
   "outputs": [],
   "source": [
    "import pandas as pd\n",
    "import os\n",
    "import numpy as np"
   ]
  },
  {
   "cell_type": "code",
   "execution_count": 3,
   "metadata": {},
   "outputs": [
    {
     "data": {
      "text/plain": [
       "'/home/esztersomos/Documents/CEU/winter_2019/behind_the_scenes'"
      ]
     },
     "execution_count": 3,
     "metadata": {},
     "output_type": "execute_result"
    }
   ],
   "source": [
    "os.getcwd()"
   ]
  },
  {
   "cell_type": "code",
   "execution_count": 4,
   "metadata": {},
   "outputs": [],
   "source": [
    "trip = pd.read_csv('trip.csv')\n",
    "station = pd.read_csv('station.csv')\n",
    "weather = pd.read_csv('weather.csv')"
   ]
  },
  {
   "cell_type": "code",
   "execution_count": 70,
   "metadata": {
    "collapsed": true
   },
   "outputs": [],
   "source": [
    "weather = pd.concat([weather.iloc[:30], weather.iloc[22:30], weather.iloc[30:]])\n",
    "\n",
    "weather.iloc[100,3] = 46000\n",
    "\n",
    "weather.iloc[99,1] = 0\n",
    "\n",
    "weather.iloc[101:104,1:4] = None\n"
   ]
  },
  {
   "cell_type": "code",
   "execution_count": 5,
   "metadata": {
    "collapsed": true
   },
   "outputs": [],
   "source": [
    "trip = trip.drop('Duration', axis=1)\n",
    "\n",
    "trip = pd.concat([trip.iloc[:1000], trip.iloc[900:1000], trip.iloc[1000:]])\n",
    "\n",
    "\n",
    "trip.iloc[10000:10010,8] = None\n",
    "\n",
    "trip.iloc[120000:120020,1] = '8/29/2023 14:13'\n",
    "\n",
    "trip['Start Station'] = np.where(((trip['Subscription Type'] == 'Customer') & \n",
    "                                (trip['Start Station'] == 'Clay at Battery')), 'Clayat Battery', trip['Start Station'])"
   ]
  },
  {
   "cell_type": "code",
   "execution_count": 6,
   "metadata": {},
   "outputs": [
    {
     "data": {
      "text/plain": [
       "(144115, 69, 920)"
      ]
     },
     "execution_count": 6,
     "metadata": {},
     "output_type": "execute_result"
    }
   ],
   "source": [
    "len(trip), len(station), len(weather)"
   ]
  },
  {
   "cell_type": "code",
   "execution_count": 83,
   "metadata": {
    "collapsed": true
   },
   "outputs": [],
   "source": [
    "i = 0\n",
    "j = 1\n",
    "while True:\n",
    "    if i+50>=len(station):\n",
    "        station.iloc[i:].to_csv('/home/esztersomos/Documents/CEU/winter_2019/load_data/station_'+str(j)+'.csv', index=False)\n",
    "        break\n",
    "    else:\n",
    "        station.iloc[i:i+50].to_csv('/home/esztersomos/Documents/CEU/winter_2019/load_data/station_'+str(j)+'.csv', index=False)\n",
    "    i += 50\n",
    "    j += 1"
   ]
  },
  {
   "cell_type": "code",
   "execution_count": 84,
   "metadata": {
    "collapsed": true
   },
   "outputs": [],
   "source": [
    "i = 0\n",
    "j = 1\n",
    "while True:\n",
    "    if i+50>=len(weather):\n",
    "        weather.iloc[i:].to_csv('/home/esztersomos/Documents/CEU/winter_2019/load_data/weather_'+str(j)+'.csv', index=False)\n",
    "        break\n",
    "    else:\n",
    "        weather.iloc[i:i+50].to_csv('/home/esztersomos/Documents/CEU/winter_2019/load_data/weather_'+str(j)+'.csv', index=False)\n",
    "    i += 50\n",
    "    j += 1"
   ]
  },
  {
   "cell_type": "code",
   "execution_count": 14,
   "metadata": {
    "collapsed": true
   },
   "outputs": [],
   "source": [
    "i = 0\n",
    "j = 1\n",
    "while True:\n",
    "    if i+1000>=len(trip):\n",
    "        trip.iloc[i:].to_csv('/home/esztersomos/Documents/CEU/winter_2019/load_data/trip_'+str(j)+'.csv', index=False)\n",
    "        break\n",
    "    else:\n",
    "        trip.iloc[i:i+1000].to_csv('/home/esztersomos/Documents/CEU/winter_2019/load_data/trip_'+str(j)+'.csv', index=False)\n",
    "    i += 1000\n",
    "    j += 1"
   ]
  },
  {
   "cell_type": "code",
   "execution_count": 40,
   "metadata": {
    "collapsed": true
   },
   "outputs": [],
   "source": [
    "a = pd.DataFrame({'a':[1,2,3,4,5,6], 'aa':['a','b','c','d','e','f']})\n",
    "j = 0\n",
    "for i in range(1,4):\n",
    "    a.iloc[j:j+2].to_csv('/home/esztersomos/Documents/CEU/winter_2019/load_data/example_data_structure_folder/a_' \\\n",
    "                         + str(i) + '.csv', index=False)\n",
    "    j += 2"
   ]
  },
  {
   "cell_type": "code",
   "execution_count": 41,
   "metadata": {
    "collapsed": true
   },
   "outputs": [],
   "source": [
    "a = pd.DataFrame({'b':[10,20,30,40,50,60], 'bb':['aa','bb','cc','dd','ee','ff']})\n",
    "j = 0\n",
    "for i in range(1,4):\n",
    "    a.iloc[j:j+2].to_csv('/home/esztersomos/Documents/CEU/winter_2019/load_data/example_data_structure_folder/b_' \\\n",
    "                         + str(i) + '.csv', index=False)\n",
    "    j += 2"
   ]
  },
  {
   "cell_type": "code",
   "execution_count": 36,
   "metadata": {},
   "outputs": [
    {
     "data": {
      "text/html": [
       "<script>\n",
       "code_show=false; \n",
       "function code_toggle() {\n",
       "    if (code_show){\n",
       "        $('div.cell.code_cell.rendered.selected div.input').hide();\n",
       "    } else {\n",
       "        $('div.cell.code_cell.rendered.selected div.input').show();\n",
       "    }\n",
       "    code_show = !code_show\n",
       "} \n",
       "$( document ).ready(code_toggle);\n",
       "</script>\n",
       "To show/hide this cell's raw code input, click <a href=\"javascript:code_toggle()\">here</a>."
      ],
      "text/plain": [
       "<IPython.core.display.HTML object>"
      ]
     },
     "metadata": {},
     "output_type": "display_data"
    },
    {
     "name": "stdout",
     "output_type": "stream",
     "text": [
      "a\n"
     ]
    }
   ],
   "source": [
    "from IPython.display import HTML\n",
    "from IPython.display import display\n",
    "\n",
    "# Taken from https://stackoverflow.com/questions/31517194/how-to-hide-one-specific-cell-input-or-output-in-ipython-notebook\n",
    "tag = HTML('''<script>\n",
    "code_show=false; \n",
    "function code_toggle() {\n",
    "    if (code_show){\n",
    "        $('div.cell.code_cell.rendered.selected div.input').hide();\n",
    "    } else {\n",
    "        $('div.cell.code_cell.rendered.selected div.input').show();\n",
    "    }\n",
    "    code_show = !code_show\n",
    "} \n",
    "$( document ).ready(code_toggle);\n",
    "</script>\n",
    "To show/hide this cell's raw code input, click <a href=\"javascript:code_toggle()\">here</a>.''')\n",
    "display(tag)\n",
    "a = 'a'\n",
    "print(a)"
   ]
  },
  {
   "cell_type": "code",
   "execution_count": 38,
   "metadata": {},
   "outputs": [
    {
     "name": "stdout",
     "output_type": "stream",
     "text": [
      "a\n"
     ]
    }
   ],
   "source": [
    "tag = HTML('''<script>\n",
    "$('div.cell.code_cell.rendered.selected div.input').hide();\n",
    "</script>''')\n",
    "print(a)"
   ]
  },
  {
   "cell_type": "code",
   "execution_count": 3,
   "metadata": {
    "collapsed": true
   },
   "outputs": [],
   "source": [
    "a = pd.DataFrame({'a':[1,2,3,4,5,6], 'aa':['a','b','c','d','e','f']})"
   ]
  },
  {
   "cell_type": "code",
   "execution_count": 4,
   "metadata": {},
   "outputs": [
    {
     "data": {
      "text/html": [
       "<div>\n",
       "<style>\n",
       "    .dataframe thead tr:only-child th {\n",
       "        text-align: right;\n",
       "    }\n",
       "\n",
       "    .dataframe thead th {\n",
       "        text-align: left;\n",
       "    }\n",
       "\n",
       "    .dataframe tbody tr th {\n",
       "        vertical-align: top;\n",
       "    }\n",
       "</style>\n",
       "<table border=\"1\" class=\"dataframe\">\n",
       "  <thead>\n",
       "    <tr style=\"text-align: right;\">\n",
       "      <th></th>\n",
       "      <th>a</th>\n",
       "      <th>aa</th>\n",
       "    </tr>\n",
       "  </thead>\n",
       "  <tbody>\n",
       "    <tr>\n",
       "      <th>0</th>\n",
       "      <td>1</td>\n",
       "      <td>a</td>\n",
       "    </tr>\n",
       "    <tr>\n",
       "      <th>1</th>\n",
       "      <td>2</td>\n",
       "      <td>b</td>\n",
       "    </tr>\n",
       "    <tr>\n",
       "      <th>2</th>\n",
       "      <td>3</td>\n",
       "      <td>c</td>\n",
       "    </tr>\n",
       "    <tr>\n",
       "      <th>3</th>\n",
       "      <td>4</td>\n",
       "      <td>d</td>\n",
       "    </tr>\n",
       "    <tr>\n",
       "      <th>4</th>\n",
       "      <td>5</td>\n",
       "      <td>e</td>\n",
       "    </tr>\n",
       "    <tr>\n",
       "      <th>5</th>\n",
       "      <td>6</td>\n",
       "      <td>f</td>\n",
       "    </tr>\n",
       "  </tbody>\n",
       "</table>\n",
       "</div>"
      ],
      "text/plain": [
       "   a aa\n",
       "0  1  a\n",
       "1  2  b\n",
       "2  3  c\n",
       "3  4  d\n",
       "4  5  e\n",
       "5  6  f"
      ]
     },
     "metadata": {},
     "output_type": "display_data"
    }
   ],
   "source": [
    "display(a)"
   ]
  },
  {
   "cell_type": "code",
   "execution_count": 11,
   "metadata": {},
   "outputs": [
    {
     "name": "stderr",
     "output_type": "stream",
     "text": [
      "/home/esztersomos/anaconda3/lib/python3.6/site-packages/IPython/core/interactiveshell.py:2698: DtypeWarning: Columns (17) have mixed types. Specify dtype option on import or set low_memory=False.\n",
      "  interactivity=interactivity, compiler=compiler, result=result)\n"
     ]
    }
   ],
   "source": [
    "## https://www.kaggle.com/new-york-city/ny-bus-breakdown-and-delays#bus-breakdown-and-delays.csv\n",
    "bus = pd.read_csv('/home/esztersomos/Downloads/bus-breakdown-and-delays.csv')"
   ]
  },
  {
   "cell_type": "code",
   "execution_count": null,
   "metadata": {
    "collapsed": true
   },
   "outputs": [],
   "source": [
    "School_YearIndicates the school year the record refers to. The DOE school year starts in September every year.\n",
    "Busbreakdown_IDUnique ID of each record.\n",
    "Run_TypeDesignates whether a breakdown or delay occurred on a specific category of busing service. The categories are: • General Ed AM Run - stop-to-school service in the morning with pick-ups at bus stops and drops-offs at school(s). • General Ed PM Run - stop-to-school service in the afternoon with pick-ups at school(s) and drop-offs at bus stops. • General Ed Field Trip - refers to any mid-day bus trip that does not involve at least one student with an IEP for busing. For OPT, the term \"field trip\" is a contract term referring to any mid-day trip, including work programs as well as traditional field trips to the museum. • Special Ed AM Run – curb-to-curb service in the morning with pick-ups at residences and drop-offs at school(s). • Special Ed PM Run - curb-to-curb service in the afternoon with pick-ups at school(s) and drop-offs at residences. • Special Ed Field Trip - refers to any mid-day bus trip that includes at least one student with an IEP for busing. For OPT, the term \"field trip\" is a contract term referring to any mid-day trip, including work programs as well as traditional field trips to the museum. • Pre-K/EI - Pre-Kindergarten or Early Intervention program curb-to-curb run. Pre-K/EI service has different service levels and contract terms from OPT's school aged service. OPT provides curb-to-curb busing to Pre-K students with an Individualized Education Program (IEP) for busing and selected children in the Dept. of Health and Mental Hygiene’s Early Intervention program. • Project Read PM Run – curb-to-curb busing service for special education students enrolled in late-day programs. As a rule, bus service is only available to schools or sites that dismiss students before 4:30 PM. There are a small number of approved programs that dismiss students after 4:30 PM.\n",
    "Bus_NoThe bus number is assigned by the bus vendor. The numbers are not unique identifiers and may be repeated across vendors. For example, many bus vendors may have a Bus number1. Each bus vendor may have their own numbering convention.\n",
    "Route_NumberThis refers to the unique identifier four (1 alpha + 3 numeric) character route numbers indicate curb-to-curb service while five (1 alpha + 4 numeric) indicates stop-to-school service. Pre-K/EI routes may have any value in the Route Number field; bus vendors are not required to follow any naming convention for those routes.\n",
    "ReasonReason for delay as entered by staff employed by reporting bus vendor. User chooses from the following categories: • Accident - to be selected if any accident that delays the bus is recorded. The bus can be delayed by an accident that the bus itself is not actually involved in. • Delayed by School - to be selected by reporting bus vendors when schools have delays ushering students to or from the bus. • Flat Tire - to be selected by reporting bus vendors for any flat tire that requires the bus to stop and wait for assistance • Heavy Traffic - to be selected by the reporting bus vendor when heavy traffic conditions delay the scheduled service. • Mechanical Problem - to be selected by reporting bus vendors for any type of mechanical problem other than 'Flat Tire' or 'Won't Start' • Other - to be selected by the reporting bus vendor when the delay cannot be classified within the available categories • Problem Run - Some routes may be late to a destination because the bus vendor believes the route has too many stops or is too long. There is a process for bus vendors to submit these Problem Runs to OPT staff for research and resolution. While that work is being done, bus vendors can record routes as being delayed by selecting the Problem Run category. • Weather Conditions - to be selected by the reporting bus vendor when weather conditions delay the scheduled service. • Won't Start - to be selected by the reporting bus vendor when a bus that has already left the bus yard won't start. There is usually a delay while a replacement bus is dispatched to the out-of-service bus's location\n",
    "Schools_ServicedOPT Codes of all transportation sites on the route. If there is more than one site, each site code will be separated by a comma. If the incident occurred on a bus used for Pre-K/EI service, the code will have one alpha, three numeric and sometimes one additional alpha character. If the incident occurred on a bus used for school-aged service, the code will have five text formatted numerals and may include a leading zero.\n",
    "Occurred_OnTime/date the incident occurred, as entered by the staff employed by the reporting bus vendor\n",
    "Created_OnTime/date the record was created in the OPT Breakdown and Delay system.\n",
    "BoroBorough, county or state in which the delay occurred, as entered by the staff employed by the reporting bus vendor.\n",
    "Bus_Company_NameBus vendor name of the reporting bus vendor.\n",
    "How_Long_DelayedLength of delay as estimated by the staff employed by the reporting bus vendor. OPT does not systematically monitor the contents of this field in real time.\n",
    "Number_Of_Students_On_The_BusNumber of students on the bus at the time of the incident as estimated by the staff employed by the reporting bus vendor. OPT does not systematically monitor the contents of this field in real time.\n",
    "Has_Contractor_Notified_SchoolsIndicator status as reported by the staff employed by the reporting bus vendor. OPT does not systematically monitor the contents of this field in real time.\n",
    "Has_Contractor_Notified_ParentsIndicator status as reported by the staff employed by the reporting bus vendor. OPT does not systematically monitor the contents of this field in real time.\n",
    "Have_You_Alerted_OPTIndicator status as reported by the staff employed by the reporting bus vendor. OPT does not systematically monitor the contents of this field in real time.\n",
    "Informed_OnDate on which the school, parents or OPT was notified, as reported by the bus vendor.\n",
    "Incident_NumberSome reports of bus breakdowns or delays originate from calls to the OPT Customer Service line who records incidents. When this happens, the record will have the Incident reference number.\n",
    "Last_Updated_OnTime/date the record was last edited in the OPT Breakdown and Delay system.\n",
    "Breakdown_or_Running_LateIndicator status as reported by the staff employed by the reporting bus vendor. OPT does not edit this field. Designates whether a bus has broken down (and requires another vehicle to be dispatched to finish the route) or is delayed (and may not require another vehicle).\n",
    "School_Age_or_PreKIndicator of whether the route serves the school-age or Pre-K/EI population. These two busing types have very different contract terms. OPT does not perform route planning for Pre-K service and doesn't assign route numbers."
   ]
  },
  {
   "cell_type": "code",
   "execution_count": 13,
   "metadata": {},
   "outputs": [
    {
     "data": {
      "text/plain": [
       "265358"
      ]
     },
     "execution_count": 13,
     "metadata": {},
     "output_type": "execute_result"
    }
   ],
   "source": [
    "len(bus)"
   ]
  },
  {
   "cell_type": "code",
   "execution_count": 14,
   "metadata": {},
   "outputs": [
    {
     "data": {
      "text/plain": [
       "Index(['School_Year', 'Busbreakdown_ID', 'Run_Type', 'Bus_No', 'Route_Number',\n",
       "       'Reason', 'Schools_Serviced', 'Occurred_On', 'Created_On', 'Boro',\n",
       "       'Bus_Company_Name', 'How_Long_Delayed', 'Number_Of_Students_On_The_Bus',\n",
       "       'Has_Contractor_Notified_Schools', 'Has_Contractor_Notified_Parents',\n",
       "       'Have_You_Alerted_OPT', 'Informed_On', 'Incident_Number',\n",
       "       'Last_Updated_On', 'Breakdown_or_Running_Late', 'School_Age_or_PreK'],\n",
       "      dtype='object')"
      ]
     },
     "execution_count": 14,
     "metadata": {},
     "output_type": "execute_result"
    }
   ],
   "source": [
    "bus.columns"
   ]
  },
  {
   "cell_type": "code",
   "execution_count": 15,
   "metadata": {},
   "outputs": [
    {
     "data": {
      "text/html": [
       "<div>\n",
       "<style>\n",
       "    .dataframe thead tr:only-child th {\n",
       "        text-align: right;\n",
       "    }\n",
       "\n",
       "    .dataframe thead th {\n",
       "        text-align: left;\n",
       "    }\n",
       "\n",
       "    .dataframe tbody tr th {\n",
       "        vertical-align: top;\n",
       "    }\n",
       "</style>\n",
       "<table border=\"1\" class=\"dataframe\">\n",
       "  <thead>\n",
       "    <tr style=\"text-align: right;\">\n",
       "      <th></th>\n",
       "      <th>Busbreakdown_ID</th>\n",
       "      <th>Number_Of_Students_On_The_Bus</th>\n",
       "    </tr>\n",
       "  </thead>\n",
       "  <tbody>\n",
       "    <tr>\n",
       "      <th>count</th>\n",
       "      <td>2.653580e+05</td>\n",
       "      <td>265358.000000</td>\n",
       "    </tr>\n",
       "    <tr>\n",
       "      <th>mean</th>\n",
       "      <td>1.347759e+06</td>\n",
       "      <td>3.294089</td>\n",
       "    </tr>\n",
       "    <tr>\n",
       "      <th>std</th>\n",
       "      <td>7.839150e+04</td>\n",
       "      <td>59.432401</td>\n",
       "    </tr>\n",
       "    <tr>\n",
       "      <th>min</th>\n",
       "      <td>1.212681e+06</td>\n",
       "      <td>0.000000</td>\n",
       "    </tr>\n",
       "    <tr>\n",
       "      <th>25%</th>\n",
       "      <td>1.280131e+06</td>\n",
       "      <td>0.000000</td>\n",
       "    </tr>\n",
       "    <tr>\n",
       "      <th>50%</th>\n",
       "      <td>1.347156e+06</td>\n",
       "      <td>0.000000</td>\n",
       "    </tr>\n",
       "    <tr>\n",
       "      <th>75%</th>\n",
       "      <td>1.414884e+06</td>\n",
       "      <td>3.000000</td>\n",
       "    </tr>\n",
       "    <tr>\n",
       "      <th>max</th>\n",
       "      <td>1.485860e+06</td>\n",
       "      <td>9052.000000</td>\n",
       "    </tr>\n",
       "  </tbody>\n",
       "</table>\n",
       "</div>"
      ],
      "text/plain": [
       "       Busbreakdown_ID  Number_Of_Students_On_The_Bus\n",
       "count     2.653580e+05                  265358.000000\n",
       "mean      1.347759e+06                       3.294089\n",
       "std       7.839150e+04                      59.432401\n",
       "min       1.212681e+06                       0.000000\n",
       "25%       1.280131e+06                       0.000000\n",
       "50%       1.347156e+06                       0.000000\n",
       "75%       1.414884e+06                       3.000000\n",
       "max       1.485860e+06                    9052.000000"
      ]
     },
     "execution_count": 15,
     "metadata": {},
     "output_type": "execute_result"
    }
   ],
   "source": [
    "bus.describe()"
   ]
  },
  {
   "cell_type": "code",
   "execution_count": null,
   "metadata": {
    "collapsed": true
   },
   "outputs": [],
   "source": []
  }
 ],
 "metadata": {
  "kernelspec": {
   "display_name": "Python 3",
   "language": "python",
   "name": "python3"
  },
  "language_info": {
   "codemirror_mode": {
    "name": "ipython",
    "version": 3
   },
   "file_extension": ".py",
   "mimetype": "text/x-python",
   "name": "python",
   "nbconvert_exporter": "python",
   "pygments_lexer": "ipython3",
   "version": "3.6.2"
  }
 },
 "nbformat": 4,
 "nbformat_minor": 2
}
